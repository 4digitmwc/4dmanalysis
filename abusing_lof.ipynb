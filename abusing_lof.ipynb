{
 "cells": [
  {
   "cell_type": "code",
   "execution_count": 1,
   "metadata": {},
   "outputs": [],
   "source": [
    "import pandas as pd\n",
    "import matplotlib.pyplot as plt\n",
    "import numpy as np"
   ]
  },
  {
   "cell_type": "code",
   "execution_count": 2,
   "metadata": {},
   "outputs": [],
   "source": [
    "from utils.lof import LOF\n",
    "from utils.metrics import euclidean, elastic_euclidean, _4dm_euclidean\n",
    "from utils import get_table_players"
   ]
  },
  {
   "cell_type": "code",
   "execution_count": 3,
   "metadata": {},
   "outputs": [],
   "source": [
    "from utils import Dataset"
   ]
  },
  {
   "cell_type": "code",
   "execution_count": 4,
   "metadata": {},
   "outputs": [],
   "source": [
    "euclidean_regularized = elastic_euclidean(1, 0.3, 0.7)\n",
    "fourdm_euclidean = _4dm_euclidean(1, 1)"
   ]
  },
  {
   "cell_type": "code",
   "execution_count": 5,
   "metadata": {},
   "outputs": [],
   "source": [
    "_4dm4_impute = Dataset('4dm4_impute.db')"
   ]
  },
  {
   "cell_type": "code",
   "execution_count": 6,
   "metadata": {},
   "outputs": [],
   "source": [
    "_4dm4_data = _4dm4_impute.select('scores', columns=['player_name', 'round', 'beatmap_type', 'beatmap_tag', 'score'], where={\n",
    "    'beatmap_type': '\\\"LN\\\"'\n",
    "})"
   ]
  },
  {
   "cell_type": "code",
   "execution_count": 7,
   "metadata": {},
   "outputs": [],
   "source": [
    "_4dm4_data['score_logit'] = _4dm4_data['score'].apply(lambda x: np.log(x / (1e6 - x)))"
   ]
  },
  {
   "cell_type": "code",
   "execution_count": 8,
   "metadata": {},
   "outputs": [
    {
     "data": {
      "text/html": [
       "<div>\n",
       "<style scoped>\n",
       "    .dataframe tbody tr th:only-of-type {\n",
       "        vertical-align: middle;\n",
       "    }\n",
       "\n",
       "    .dataframe tbody tr th {\n",
       "        vertical-align: top;\n",
       "    }\n",
       "\n",
       "    .dataframe thead th {\n",
       "        text-align: right;\n",
       "    }\n",
       "</style>\n",
       "<table border=\"1\" class=\"dataframe\">\n",
       "  <thead>\n",
       "    <tr style=\"text-align: right;\">\n",
       "      <th></th>\n",
       "      <th>player_name</th>\n",
       "      <th>round</th>\n",
       "      <th>beatmap_type</th>\n",
       "      <th>beatmap_tag</th>\n",
       "      <th>score_logit</th>\n",
       "    </tr>\n",
       "  </thead>\n",
       "  <tbody>\n",
       "    <tr>\n",
       "      <th>0</th>\n",
       "      <td>drag_</td>\n",
       "      <td>Q</td>\n",
       "      <td>LN</td>\n",
       "      <td>1</td>\n",
       "      <td>3.310021</td>\n",
       "    </tr>\n",
       "    <tr>\n",
       "      <th>1</th>\n",
       "      <td>JPBenedictGame</td>\n",
       "      <td>Q</td>\n",
       "      <td>LN</td>\n",
       "      <td>1</td>\n",
       "      <td>3.143908</td>\n",
       "    </tr>\n",
       "    <tr>\n",
       "      <th>2</th>\n",
       "      <td>iVALORUS</td>\n",
       "      <td>Q</td>\n",
       "      <td>LN</td>\n",
       "      <td>1</td>\n",
       "      <td>1.976354</td>\n",
       "    </tr>\n",
       "    <tr>\n",
       "      <th>3</th>\n",
       "      <td>BL5</td>\n",
       "      <td>Q</td>\n",
       "      <td>LN</td>\n",
       "      <td>1</td>\n",
       "      <td>3.635748</td>\n",
       "    </tr>\n",
       "    <tr>\n",
       "      <th>4</th>\n",
       "      <td>-Tebo-</td>\n",
       "      <td>Q</td>\n",
       "      <td>LN</td>\n",
       "      <td>1</td>\n",
       "      <td>3.915976</td>\n",
       "    </tr>\n",
       "  </tbody>\n",
       "</table>\n",
       "</div>"
      ],
      "text/plain": [
       "      player_name round beatmap_type  beatmap_tag  score_logit\n",
       "0           drag_     Q           LN            1     3.310021\n",
       "1  JPBenedictGame     Q           LN            1     3.143908\n",
       "2        iVALORUS     Q           LN            1     1.976354\n",
       "3             BL5     Q           LN            1     3.635748\n",
       "4          -Tebo-     Q           LN            1     3.915976"
      ]
     },
     "execution_count": 8,
     "metadata": {},
     "output_type": "execute_result"
    }
   ],
   "source": [
    "_4dm4_data = _4dm4_data.drop('score', axis=1)\n",
    "\n",
    "_4dm4_data.head()"
   ]
  },
  {
   "cell_type": "code",
   "execution_count": 9,
   "metadata": {},
   "outputs": [],
   "source": [
    "_4dm4_table = get_table_players(_4dm4_data)"
   ]
  },
  {
   "cell_type": "code",
   "execution_count": 10,
   "metadata": {},
   "outputs": [],
   "source": [
    "standardized_4dm = pd.DataFrame(index=_4dm4_table.index)"
   ]
  },
  {
   "cell_type": "code",
   "execution_count": 11,
   "metadata": {},
   "outputs": [],
   "source": [
    "for col in _4dm4_table.columns:\n",
    "    mu = np.mean(_4dm4_table[col]); sig = np.std(_4dm4_table[col], ddof=1)\n",
    "    standardized_4dm[col] = _4dm4_table[col].apply(lambda x: (x - mu) / sig)"
   ]
  },
  {
   "cell_type": "code",
   "execution_count": 12,
   "metadata": {},
   "outputs": [
    {
     "data": {
      "text/html": [
       "<div>\n",
       "<style scoped>\n",
       "    .dataframe tbody tr th:only-of-type {\n",
       "        vertical-align: middle;\n",
       "    }\n",
       "\n",
       "    .dataframe tbody tr th {\n",
       "        vertical-align: top;\n",
       "    }\n",
       "\n",
       "    .dataframe thead th {\n",
       "        text-align: right;\n",
       "    }\n",
       "</style>\n",
       "<table border=\"1\" class=\"dataframe\">\n",
       "  <thead>\n",
       "    <tr style=\"text-align: right;\">\n",
       "      <th></th>\n",
       "      <th>Q_LN_1</th>\n",
       "      <th>RO32_LN_1</th>\n",
       "      <th>RO32_LN_2</th>\n",
       "      <th>RO32_LN_3</th>\n",
       "      <th>RO16_LN_1</th>\n",
       "      <th>RO16_LN_2</th>\n",
       "      <th>RO16_LN_3</th>\n",
       "      <th>QF_LN_1</th>\n",
       "      <th>QF_LN_2</th>\n",
       "      <th>QF_LN_3</th>\n",
       "      <th>SF_LN_1</th>\n",
       "      <th>SF_LN_2</th>\n",
       "      <th>SF_LN_3</th>\n",
       "      <th>F_LN_1</th>\n",
       "      <th>F_LN_2</th>\n",
       "      <th>F_LN_3</th>\n",
       "      <th>GF_LN_2</th>\n",
       "      <th>GF_LN_3</th>\n",
       "      <th>GF_LN_4</th>\n",
       "    </tr>\n",
       "  </thead>\n",
       "  <tbody>\n",
       "    <tr>\n",
       "      <th>drag_</th>\n",
       "      <td>-0.382330</td>\n",
       "      <td>-1.300925</td>\n",
       "      <td>0.206909</td>\n",
       "      <td>-0.604581</td>\n",
       "      <td>-0.848575</td>\n",
       "      <td>-0.261085</td>\n",
       "      <td>-0.465997</td>\n",
       "      <td>-0.090186</td>\n",
       "      <td>-0.486272</td>\n",
       "      <td>-0.134528</td>\n",
       "      <td>-0.327734</td>\n",
       "      <td>-0.136475</td>\n",
       "      <td>-0.539713</td>\n",
       "      <td>-0.581798</td>\n",
       "      <td>-0.915829</td>\n",
       "      <td>-0.737081</td>\n",
       "      <td>-0.150882</td>\n",
       "      <td>-1.008905</td>\n",
       "      <td>-0.013753</td>\n",
       "    </tr>\n",
       "    <tr>\n",
       "      <th>JPBenedictGame</th>\n",
       "      <td>-0.603208</td>\n",
       "      <td>0.046728</td>\n",
       "      <td>-0.671629</td>\n",
       "      <td>-0.194652</td>\n",
       "      <td>-0.763800</td>\n",
       "      <td>-1.300649</td>\n",
       "      <td>-0.406536</td>\n",
       "      <td>-0.721721</td>\n",
       "      <td>0.389262</td>\n",
       "      <td>0.395112</td>\n",
       "      <td>-0.563624</td>\n",
       "      <td>-0.673075</td>\n",
       "      <td>-0.392264</td>\n",
       "      <td>-0.014715</td>\n",
       "      <td>-0.356454</td>\n",
       "      <td>-0.500414</td>\n",
       "      <td>-1.191343</td>\n",
       "      <td>-0.832129</td>\n",
       "      <td>-1.216027</td>\n",
       "    </tr>\n",
       "    <tr>\n",
       "      <th>iVALORUS</th>\n",
       "      <td>-2.155685</td>\n",
       "      <td>-1.622395</td>\n",
       "      <td>-1.877080</td>\n",
       "      <td>-1.268404</td>\n",
       "      <td>-2.217579</td>\n",
       "      <td>-2.391927</td>\n",
       "      <td>-1.424699</td>\n",
       "      <td>-1.462251</td>\n",
       "      <td>-1.364542</td>\n",
       "      <td>-2.086458</td>\n",
       "      <td>-1.871982</td>\n",
       "      <td>-2.071781</td>\n",
       "      <td>-2.582134</td>\n",
       "      <td>-1.925363</td>\n",
       "      <td>-2.117740</td>\n",
       "      <td>-2.115094</td>\n",
       "      <td>-1.632326</td>\n",
       "      <td>-1.403306</td>\n",
       "      <td>-1.762647</td>\n",
       "    </tr>\n",
       "    <tr>\n",
       "      <th>BL5</th>\n",
       "      <td>0.050783</td>\n",
       "      <td>-0.963618</td>\n",
       "      <td>0.688904</td>\n",
       "      <td>0.159091</td>\n",
       "      <td>0.246457</td>\n",
       "      <td>0.142597</td>\n",
       "      <td>0.142878</td>\n",
       "      <td>-0.158247</td>\n",
       "      <td>-0.389706</td>\n",
       "      <td>0.329919</td>\n",
       "      <td>-0.242365</td>\n",
       "      <td>-0.356498</td>\n",
       "      <td>0.158159</td>\n",
       "      <td>0.398619</td>\n",
       "      <td>-0.435489</td>\n",
       "      <td>-0.401048</td>\n",
       "      <td>-0.313025</td>\n",
       "      <td>-0.185097</td>\n",
       "      <td>-0.247861</td>\n",
       "    </tr>\n",
       "    <tr>\n",
       "      <th>-Tebo-</th>\n",
       "      <td>0.423398</td>\n",
       "      <td>0.112483</td>\n",
       "      <td>0.729382</td>\n",
       "      <td>0.311170</td>\n",
       "      <td>0.005301</td>\n",
       "      <td>0.368200</td>\n",
       "      <td>-0.471235</td>\n",
       "      <td>0.332999</td>\n",
       "      <td>0.820314</td>\n",
       "      <td>0.397010</td>\n",
       "      <td>0.137734</td>\n",
       "      <td>0.231068</td>\n",
       "      <td>0.672269</td>\n",
       "      <td>0.810095</td>\n",
       "      <td>0.770611</td>\n",
       "      <td>0.665358</td>\n",
       "      <td>-0.174240</td>\n",
       "      <td>0.280344</td>\n",
       "      <td>-0.223886</td>\n",
       "    </tr>\n",
       "  </tbody>\n",
       "</table>\n",
       "</div>"
      ],
      "text/plain": [
       "                  Q_LN_1  RO32_LN_1  RO32_LN_2  RO32_LN_3  RO16_LN_1  \\\n",
       "drag_          -0.382330  -1.300925   0.206909  -0.604581  -0.848575   \n",
       "JPBenedictGame -0.603208   0.046728  -0.671629  -0.194652  -0.763800   \n",
       "iVALORUS       -2.155685  -1.622395  -1.877080  -1.268404  -2.217579   \n",
       "BL5             0.050783  -0.963618   0.688904   0.159091   0.246457   \n",
       "-Tebo-          0.423398   0.112483   0.729382   0.311170   0.005301   \n",
       "\n",
       "                RO16_LN_2  RO16_LN_3   QF_LN_1   QF_LN_2   QF_LN_3   SF_LN_1  \\\n",
       "drag_           -0.261085  -0.465997 -0.090186 -0.486272 -0.134528 -0.327734   \n",
       "JPBenedictGame  -1.300649  -0.406536 -0.721721  0.389262  0.395112 -0.563624   \n",
       "iVALORUS        -2.391927  -1.424699 -1.462251 -1.364542 -2.086458 -1.871982   \n",
       "BL5              0.142597   0.142878 -0.158247 -0.389706  0.329919 -0.242365   \n",
       "-Tebo-           0.368200  -0.471235  0.332999  0.820314  0.397010  0.137734   \n",
       "\n",
       "                 SF_LN_2   SF_LN_3    F_LN_1    F_LN_2    F_LN_3   GF_LN_2  \\\n",
       "drag_          -0.136475 -0.539713 -0.581798 -0.915829 -0.737081 -0.150882   \n",
       "JPBenedictGame -0.673075 -0.392264 -0.014715 -0.356454 -0.500414 -1.191343   \n",
       "iVALORUS       -2.071781 -2.582134 -1.925363 -2.117740 -2.115094 -1.632326   \n",
       "BL5            -0.356498  0.158159  0.398619 -0.435489 -0.401048 -0.313025   \n",
       "-Tebo-          0.231068  0.672269  0.810095  0.770611  0.665358 -0.174240   \n",
       "\n",
       "                 GF_LN_3   GF_LN_4  \n",
       "drag_          -1.008905 -0.013753  \n",
       "JPBenedictGame -0.832129 -1.216027  \n",
       "iVALORUS       -1.403306 -1.762647  \n",
       "BL5            -0.185097 -0.247861  \n",
       "-Tebo-          0.280344 -0.223886  "
      ]
     },
     "execution_count": 12,
     "metadata": {},
     "output_type": "execute_result"
    }
   ],
   "source": [
    "standardized_4dm.head()"
   ]
  },
  {
   "cell_type": "code",
   "execution_count": 13,
   "metadata": {},
   "outputs": [],
   "source": [
    "lof_euclid = LOF(2, euclidean_regularized)"
   ]
  },
  {
   "cell_type": "code",
   "execution_count": 14,
   "metadata": {},
   "outputs": [],
   "source": [
    "lof_values = lof_euclid.fit_predict(standardized_4dm.values)"
   ]
  },
  {
   "cell_type": "code",
   "execution_count": 15,
   "metadata": {},
   "outputs": [],
   "source": [
    "lof_4dm = pd.DataFrame(index=standardized_4dm.index)\n",
    "\n",
    "lof_4dm['lof'] = lof_values"
   ]
  },
  {
   "cell_type": "code",
   "execution_count": 16,
   "metadata": {},
   "outputs": [
    {
     "data": {
      "text/plain": [
       "lof    0.927266\n",
       "Name: shokoha, dtype: float64"
      ]
     },
     "execution_count": 16,
     "metadata": {},
     "output_type": "execute_result"
    }
   ],
   "source": [
    "lof_4dm.loc['shokoha']"
   ]
  },
  {
   "cell_type": "code",
   "execution_count": 17,
   "metadata": {},
   "outputs": [
    {
     "data": {
      "text/plain": [
       "lof    0.993247\n",
       "Name: Ricizus, dtype: float64"
      ]
     },
     "execution_count": 17,
     "metadata": {},
     "output_type": "execute_result"
    }
   ],
   "source": [
    "lof_4dm.loc['Ricizus']"
   ]
  },
  {
   "cell_type": "code",
   "execution_count": 18,
   "metadata": {},
   "outputs": [
    {
     "data": {
      "text/html": [
       "<div>\n",
       "<style scoped>\n",
       "    .dataframe tbody tr th:only-of-type {\n",
       "        vertical-align: middle;\n",
       "    }\n",
       "\n",
       "    .dataframe tbody tr th {\n",
       "        vertical-align: top;\n",
       "    }\n",
       "\n",
       "    .dataframe thead th {\n",
       "        text-align: right;\n",
       "    }\n",
       "</style>\n",
       "<table border=\"1\" class=\"dataframe\">\n",
       "  <thead>\n",
       "    <tr style=\"text-align: right;\">\n",
       "      <th></th>\n",
       "      <th>lof</th>\n",
       "    </tr>\n",
       "  </thead>\n",
       "  <tbody>\n",
       "    <tr>\n",
       "      <th>dsdsdd</th>\n",
       "      <td>1.874758</td>\n",
       "    </tr>\n",
       "    <tr>\n",
       "      <th>oliverq</th>\n",
       "      <td>1.725567</td>\n",
       "    </tr>\n",
       "    <tr>\n",
       "      <th>Maykee kee</th>\n",
       "      <td>1.628798</td>\n",
       "    </tr>\n",
       "    <tr>\n",
       "      <th>diamondBIaze</th>\n",
       "      <td>1.619234</td>\n",
       "    </tr>\n",
       "    <tr>\n",
       "      <th>Doryoku</th>\n",
       "      <td>1.545020</td>\n",
       "    </tr>\n",
       "    <tr>\n",
       "      <th>SimoHero</th>\n",
       "      <td>1.513760</td>\n",
       "    </tr>\n",
       "    <tr>\n",
       "      <th>StayHighKids</th>\n",
       "      <td>1.503549</td>\n",
       "    </tr>\n",
       "    <tr>\n",
       "      <th>Zergh</th>\n",
       "      <td>1.472578</td>\n",
       "    </tr>\n",
       "    <tr>\n",
       "      <th>wolfpup08</th>\n",
       "      <td>1.430626</td>\n",
       "    </tr>\n",
       "    <tr>\n",
       "      <th>[LS]Byte</th>\n",
       "      <td>1.407652</td>\n",
       "    </tr>\n",
       "    <tr>\n",
       "      <th>TheFunk</th>\n",
       "      <td>1.404901</td>\n",
       "    </tr>\n",
       "    <tr>\n",
       "      <th>ERA Klarion</th>\n",
       "      <td>1.404043</td>\n",
       "    </tr>\n",
       "    <tr>\n",
       "      <th>[ -Asriel- ]</th>\n",
       "      <td>1.396258</td>\n",
       "    </tr>\n",
       "    <tr>\n",
       "      <th>Haveaffald</th>\n",
       "      <td>1.384964</td>\n",
       "    </tr>\n",
       "    <tr>\n",
       "      <th>Lazereed</th>\n",
       "      <td>1.382813</td>\n",
       "    </tr>\n",
       "    <tr>\n",
       "      <th>MaxJunior</th>\n",
       "      <td>1.382281</td>\n",
       "    </tr>\n",
       "  </tbody>\n",
       "</table>\n",
       "</div>"
      ],
      "text/plain": [
       "                   lof\n",
       "dsdsdd        1.874758\n",
       "oliverq       1.725567\n",
       "Maykee kee    1.628798\n",
       "diamondBIaze  1.619234\n",
       "Doryoku       1.545020\n",
       "SimoHero      1.513760\n",
       "StayHighKids  1.503549\n",
       "Zergh         1.472578\n",
       "wolfpup08     1.430626\n",
       "[LS]Byte      1.407652\n",
       "TheFunk       1.404901\n",
       "ERA Klarion   1.404043\n",
       "[ -Asriel- ]  1.396258\n",
       "Haveaffald    1.384964\n",
       "Lazereed      1.382813\n",
       "MaxJunior     1.382281"
      ]
     },
     "execution_count": 18,
     "metadata": {},
     "output_type": "execute_result"
    }
   ],
   "source": [
    "lof_4dm.sort_values(ascending=False, by=\"lof\").head(16)"
   ]
  },
  {
   "cell_type": "code",
   "execution_count": null,
   "metadata": {},
   "outputs": [],
   "source": []
  }
 ],
 "metadata": {
  "kernelspec": {
   "display_name": "Python 3.10.4 64-bit",
   "language": "python",
   "name": "python3"
  },
  "language_info": {
   "codemirror_mode": {
    "name": "ipython",
    "version": 3
   },
   "file_extension": ".py",
   "mimetype": "text/x-python",
   "name": "python",
   "nbconvert_exporter": "python",
   "pygments_lexer": "ipython3",
   "version": "3.10.4"
  },
  "orig_nbformat": 4,
  "vscode": {
   "interpreter": {
    "hash": "a9cff5a362bc38ef45d817ae74b1af54d6a076e3d773891282bce078b815ba34"
   }
  }
 },
 "nbformat": 4,
 "nbformat_minor": 2
}
