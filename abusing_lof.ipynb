{
 "cells": [
  {
   "cell_type": "code",
   "execution_count": 1,
   "metadata": {},
   "outputs": [],
   "source": [
    "import pandas as pd\n",
    "import matplotlib.pyplot as plt\n",
    "import numpy as np\n",
    "from scipy.stats import boxcox"
   ]
  },
  {
   "cell_type": "code",
   "execution_count": 2,
   "metadata": {},
   "outputs": [],
   "source": [
    "from utils.lof import LOF\n",
    "from utils.metrics import nan_euclidean, elastic_nan_euclidean\n",
    "from utils import get_table_players"
   ]
  },
  {
   "cell_type": "code",
   "execution_count": 3,
   "metadata": {},
   "outputs": [],
   "source": [
    "from utils import Dataset"
   ]
  },
  {
   "cell_type": "code",
   "execution_count": 4,
   "metadata": {},
   "outputs": [],
   "source": [
    "euclidean_regularized = elastic_nan_euclidean(1, 0, 0)"
   ]
  },
  {
   "cell_type": "code",
   "execution_count": 5,
   "metadata": {},
   "outputs": [],
   "source": [
    "_4dm4_impute = Dataset('4dm4.db')"
   ]
  },
  {
   "cell_type": "code",
   "execution_count": 6,
   "metadata": {},
   "outputs": [],
   "source": [
    "_4dm4_data = _4dm4_impute.select('scores', columns=['player_name', 'round', 'beatmap_type', 'beatmap_tag', 'score_logit'], where={\n",
    "    'beatmap_type': ['LN', 'RC', 'HB'],\n",
    "})"
   ]
  },
  {
   "cell_type": "code",
   "execution_count": 7,
   "metadata": {},
   "outputs": [],
   "source": [
    "_4dm4_table = get_table_players(_4dm4_data)"
   ]
  },
  {
   "cell_type": "code",
   "execution_count": 8,
   "metadata": {},
   "outputs": [],
   "source": [
    "standardized_4dm = pd.DataFrame(index=_4dm4_table.index)"
   ]
  },
  {
   "cell_type": "code",
   "execution_count": 9,
   "metadata": {},
   "outputs": [],
   "source": [
    "for col in _4dm4_table.columns:\n",
    "    mu = np.nanmean(_4dm4_table[col]); sigma = np.nanstd(_4dm4_table[col], ddof=1)\n",
    "    standardized_4dm[col] = _4dm4_table[col].apply(lambda x: (x - mu) / sigma)"
   ]
  },
  {
   "cell_type": "code",
   "execution_count": 10,
   "metadata": {},
   "outputs": [
    {
     "data": {
      "text/html": [
       "<div>\n",
       "<style scoped>\n",
       "    .dataframe tbody tr th:only-of-type {\n",
       "        vertical-align: middle;\n",
       "    }\n",
       "\n",
       "    .dataframe tbody tr th {\n",
       "        vertical-align: top;\n",
       "    }\n",
       "\n",
       "    .dataframe thead th {\n",
       "        text-align: right;\n",
       "    }\n",
       "</style>\n",
       "<table border=\"1\" class=\"dataframe\">\n",
       "  <thead>\n",
       "    <tr style=\"text-align: right;\">\n",
       "      <th></th>\n",
       "      <th>Q_RC_1</th>\n",
       "      <th>Q_RC_2</th>\n",
       "      <th>Q_LN_1</th>\n",
       "      <th>Q_HB_1</th>\n",
       "      <th>RO32_RC_1</th>\n",
       "      <th>RO32_RC_4</th>\n",
       "      <th>RO32_RC_5</th>\n",
       "      <th>RO32_LN_3</th>\n",
       "      <th>RO32_HB_1</th>\n",
       "      <th>RO16_RC_1</th>\n",
       "      <th>...</th>\n",
       "      <th>GF_RC_7</th>\n",
       "      <th>GF_LN_2</th>\n",
       "      <th>GF_LN_3</th>\n",
       "      <th>GF_LN_4</th>\n",
       "      <th>GF_HB_1</th>\n",
       "      <th>GF_HB_2</th>\n",
       "      <th>GF_HB_3</th>\n",
       "      <th>SF_RC_2</th>\n",
       "      <th>SF_HB_3</th>\n",
       "      <th>GF_RC_3</th>\n",
       "    </tr>\n",
       "  </thead>\n",
       "  <tbody>\n",
       "    <tr>\n",
       "      <th>drag_</th>\n",
       "      <td>-1.271311</td>\n",
       "      <td>-0.888601</td>\n",
       "      <td>-0.288915</td>\n",
       "      <td>NaN</td>\n",
       "      <td>NaN</td>\n",
       "      <td>NaN</td>\n",
       "      <td>NaN</td>\n",
       "      <td>NaN</td>\n",
       "      <td>NaN</td>\n",
       "      <td>NaN</td>\n",
       "      <td>...</td>\n",
       "      <td>NaN</td>\n",
       "      <td>NaN</td>\n",
       "      <td>NaN</td>\n",
       "      <td>NaN</td>\n",
       "      <td>NaN</td>\n",
       "      <td>NaN</td>\n",
       "      <td>NaN</td>\n",
       "      <td>NaN</td>\n",
       "      <td>NaN</td>\n",
       "      <td>NaN</td>\n",
       "    </tr>\n",
       "    <tr>\n",
       "      <th>JPBenedictGame</th>\n",
       "      <td>-0.133422</td>\n",
       "      <td>0.052810</td>\n",
       "      <td>-0.519245</td>\n",
       "      <td>-0.407806</td>\n",
       "      <td>NaN</td>\n",
       "      <td>NaN</td>\n",
       "      <td>NaN</td>\n",
       "      <td>NaN</td>\n",
       "      <td>NaN</td>\n",
       "      <td>NaN</td>\n",
       "      <td>...</td>\n",
       "      <td>NaN</td>\n",
       "      <td>NaN</td>\n",
       "      <td>NaN</td>\n",
       "      <td>NaN</td>\n",
       "      <td>NaN</td>\n",
       "      <td>NaN</td>\n",
       "      <td>NaN</td>\n",
       "      <td>NaN</td>\n",
       "      <td>NaN</td>\n",
       "      <td>NaN</td>\n",
       "    </tr>\n",
       "    <tr>\n",
       "      <th>iVALORUS</th>\n",
       "      <td>-2.538866</td>\n",
       "      <td>-1.609407</td>\n",
       "      <td>-2.138151</td>\n",
       "      <td>-1.485972</td>\n",
       "      <td>NaN</td>\n",
       "      <td>NaN</td>\n",
       "      <td>NaN</td>\n",
       "      <td>NaN</td>\n",
       "      <td>NaN</td>\n",
       "      <td>NaN</td>\n",
       "      <td>...</td>\n",
       "      <td>NaN</td>\n",
       "      <td>NaN</td>\n",
       "      <td>NaN</td>\n",
       "      <td>NaN</td>\n",
       "      <td>NaN</td>\n",
       "      <td>NaN</td>\n",
       "      <td>NaN</td>\n",
       "      <td>NaN</td>\n",
       "      <td>NaN</td>\n",
       "      <td>NaN</td>\n",
       "    </tr>\n",
       "    <tr>\n",
       "      <th>BL5</th>\n",
       "      <td>0.293309</td>\n",
       "      <td>-0.947536</td>\n",
       "      <td>0.162731</td>\n",
       "      <td>0.073857</td>\n",
       "      <td>-1.536132</td>\n",
       "      <td>-1.589838</td>\n",
       "      <td>-0.170574</td>\n",
       "      <td>-0.071868</td>\n",
       "      <td>NaN</td>\n",
       "      <td>NaN</td>\n",
       "      <td>...</td>\n",
       "      <td>NaN</td>\n",
       "      <td>NaN</td>\n",
       "      <td>NaN</td>\n",
       "      <td>NaN</td>\n",
       "      <td>NaN</td>\n",
       "      <td>NaN</td>\n",
       "      <td>NaN</td>\n",
       "      <td>NaN</td>\n",
       "      <td>NaN</td>\n",
       "      <td>NaN</td>\n",
       "    </tr>\n",
       "    <tr>\n",
       "      <th>-Tebo-</th>\n",
       "      <td>0.427527</td>\n",
       "      <td>-0.009594</td>\n",
       "      <td>0.551290</td>\n",
       "      <td>-0.779546</td>\n",
       "      <td>0.079211</td>\n",
       "      <td>1.000453</td>\n",
       "      <td>0.577630</td>\n",
       "      <td>0.090251</td>\n",
       "      <td>0.900541</td>\n",
       "      <td>0.542193</td>\n",
       "      <td>...</td>\n",
       "      <td>NaN</td>\n",
       "      <td>NaN</td>\n",
       "      <td>NaN</td>\n",
       "      <td>NaN</td>\n",
       "      <td>NaN</td>\n",
       "      <td>NaN</td>\n",
       "      <td>NaN</td>\n",
       "      <td>NaN</td>\n",
       "      <td>NaN</td>\n",
       "      <td>NaN</td>\n",
       "    </tr>\n",
       "  </tbody>\n",
       "</table>\n",
       "<p>5 rows × 73 columns</p>\n",
       "</div>"
      ],
      "text/plain": [
       "                  Q_RC_1    Q_RC_2    Q_LN_1    Q_HB_1  RO32_RC_1  RO32_RC_4  \\\n",
       "drag_          -1.271311 -0.888601 -0.288915       NaN        NaN        NaN   \n",
       "JPBenedictGame -0.133422  0.052810 -0.519245 -0.407806        NaN        NaN   \n",
       "iVALORUS       -2.538866 -1.609407 -2.138151 -1.485972        NaN        NaN   \n",
       "BL5             0.293309 -0.947536  0.162731  0.073857  -1.536132  -1.589838   \n",
       "-Tebo-          0.427527 -0.009594  0.551290 -0.779546   0.079211   1.000453   \n",
       "\n",
       "                RO32_RC_5  RO32_LN_3  RO32_HB_1  RO16_RC_1  ...  GF_RC_7  \\\n",
       "drag_                 NaN        NaN        NaN        NaN  ...      NaN   \n",
       "JPBenedictGame        NaN        NaN        NaN        NaN  ...      NaN   \n",
       "iVALORUS              NaN        NaN        NaN        NaN  ...      NaN   \n",
       "BL5             -0.170574  -0.071868        NaN        NaN  ...      NaN   \n",
       "-Tebo-           0.577630   0.090251   0.900541   0.542193  ...      NaN   \n",
       "\n",
       "                GF_LN_2  GF_LN_3  GF_LN_4  GF_HB_1  GF_HB_2  GF_HB_3  SF_RC_2  \\\n",
       "drag_               NaN      NaN      NaN      NaN      NaN      NaN      NaN   \n",
       "JPBenedictGame      NaN      NaN      NaN      NaN      NaN      NaN      NaN   \n",
       "iVALORUS            NaN      NaN      NaN      NaN      NaN      NaN      NaN   \n",
       "BL5                 NaN      NaN      NaN      NaN      NaN      NaN      NaN   \n",
       "-Tebo-              NaN      NaN      NaN      NaN      NaN      NaN      NaN   \n",
       "\n",
       "                SF_HB_3  GF_RC_3  \n",
       "drag_               NaN      NaN  \n",
       "JPBenedictGame      NaN      NaN  \n",
       "iVALORUS            NaN      NaN  \n",
       "BL5                 NaN      NaN  \n",
       "-Tebo-              NaN      NaN  \n",
       "\n",
       "[5 rows x 73 columns]"
      ]
     },
     "execution_count": 10,
     "metadata": {},
     "output_type": "execute_result"
    }
   ],
   "source": [
    "standardized_4dm.head()"
   ]
  },
  {
   "cell_type": "code",
   "execution_count": 11,
   "metadata": {},
   "outputs": [],
   "source": [
    "lof_euclid = LOF(5, euclidean_regularized)"
   ]
  },
  {
   "cell_type": "code",
   "execution_count": 12,
   "metadata": {},
   "outputs": [],
   "source": [
    "lof_values = lof_euclid.fit_predict(standardized_4dm.values)"
   ]
  },
  {
   "cell_type": "code",
   "execution_count": 13,
   "metadata": {},
   "outputs": [],
   "source": [
    "lof_4dm = pd.DataFrame(index=standardized_4dm.index)\n",
    "\n",
    "lof_4dm['lof'] = lof_values"
   ]
  },
  {
   "cell_type": "code",
   "execution_count": 14,
   "metadata": {},
   "outputs": [
    {
     "data": {
      "text/plain": [
       "lof    3.555918\n",
       "Name: shokoha, dtype: float64"
      ]
     },
     "execution_count": 14,
     "metadata": {},
     "output_type": "execute_result"
    }
   ],
   "source": [
    "lof_4dm.loc['shokoha']"
   ]
  },
  {
   "cell_type": "code",
   "execution_count": 15,
   "metadata": {},
   "outputs": [
    {
     "data": {
      "text/html": [
       "<div>\n",
       "<style scoped>\n",
       "    .dataframe tbody tr th:only-of-type {\n",
       "        vertical-align: middle;\n",
       "    }\n",
       "\n",
       "    .dataframe tbody tr th {\n",
       "        vertical-align: top;\n",
       "    }\n",
       "\n",
       "    .dataframe thead th {\n",
       "        text-align: right;\n",
       "    }\n",
       "</style>\n",
       "<table border=\"1\" class=\"dataframe\">\n",
       "  <thead>\n",
       "    <tr style=\"text-align: right;\">\n",
       "      <th></th>\n",
       "      <th>lof</th>\n",
       "    </tr>\n",
       "  </thead>\n",
       "  <tbody>\n",
       "    <tr>\n",
       "      <th>dsdsdd</th>\n",
       "      <td>7.938778</td>\n",
       "    </tr>\n",
       "    <tr>\n",
       "      <th>Lazereed</th>\n",
       "      <td>6.597912</td>\n",
       "    </tr>\n",
       "    <tr>\n",
       "      <th>Ricizus</th>\n",
       "      <td>6.485866</td>\n",
       "    </tr>\n",
       "    <tr>\n",
       "      <th>samuelhklumpers</th>\n",
       "      <td>4.822352</td>\n",
       "    </tr>\n",
       "    <tr>\n",
       "      <th>MSKFA kemi</th>\n",
       "      <td>4.202919</td>\n",
       "    </tr>\n",
       "    <tr>\n",
       "      <th>HD_AdreNaline</th>\n",
       "      <td>4.015217</td>\n",
       "    </tr>\n",
       "    <tr>\n",
       "      <th>Keskidi</th>\n",
       "      <td>3.911713</td>\n",
       "    </tr>\n",
       "    <tr>\n",
       "      <th>Mr_adamello</th>\n",
       "      <td>3.586572</td>\n",
       "    </tr>\n",
       "    <tr>\n",
       "      <th>shokoha</th>\n",
       "      <td>3.555918</td>\n",
       "    </tr>\n",
       "    <tr>\n",
       "      <th>Enthalpy</th>\n",
       "      <td>3.545404</td>\n",
       "    </tr>\n",
       "    <tr>\n",
       "      <th>Edvo</th>\n",
       "      <td>3.501799</td>\n",
       "    </tr>\n",
       "    <tr>\n",
       "      <th>MisteurFR</th>\n",
       "      <td>3.164264</td>\n",
       "    </tr>\n",
       "    <tr>\n",
       "      <th>H1Pur</th>\n",
       "      <td>3.139504</td>\n",
       "    </tr>\n",
       "    <tr>\n",
       "      <th>Kamikho</th>\n",
       "      <td>2.956786</td>\n",
       "    </tr>\n",
       "    <tr>\n",
       "      <th>NifloX_</th>\n",
       "      <td>2.850070</td>\n",
       "    </tr>\n",
       "    <tr>\n",
       "      <th>Auxesiaa</th>\n",
       "      <td>2.848373</td>\n",
       "    </tr>\n",
       "  </tbody>\n",
       "</table>\n",
       "</div>"
      ],
      "text/plain": [
       "                      lof\n",
       "dsdsdd           7.938778\n",
       "Lazereed         6.597912\n",
       "Ricizus          6.485866\n",
       "samuelhklumpers  4.822352\n",
       "MSKFA kemi       4.202919\n",
       "HD_AdreNaline    4.015217\n",
       "Keskidi          3.911713\n",
       "Mr_adamello      3.586572\n",
       "shokoha          3.555918\n",
       "Enthalpy         3.545404\n",
       "Edvo             3.501799\n",
       "MisteurFR        3.164264\n",
       "H1Pur            3.139504\n",
       "Kamikho          2.956786\n",
       "NifloX_          2.850070\n",
       "Auxesiaa         2.848373"
      ]
     },
     "execution_count": 15,
     "metadata": {},
     "output_type": "execute_result"
    }
   ],
   "source": [
    "lof_4dm.sort_values(by='lof', ascending=False).head(16)"
   ]
  },
  {
   "cell_type": "code",
   "execution_count": 16,
   "metadata": {},
   "outputs": [
    {
     "data": {
      "text/plain": [
       "(array([89., 61., 31.,  8.,  6.,  2.,  0.,  0.,  2.,  1.]),\n",
       " array([0.42280728, 1.17440432, 1.92600136, 2.6775984 , 3.42919544,\n",
       "        4.18079248, 4.93238952, 5.68398656, 6.4355836 , 7.18718064,\n",
       "        7.93877768]),\n",
       " <BarContainer object of 10 artists>)"
      ]
     },
     "execution_count": 16,
     "metadata": {},
     "output_type": "execute_result"
    },
    {
     "data": {
      "image/png": "[encoded data removed]",
      "text/plain": [
       "<Figure size 432x288 with 1 Axes>"
      ]
     },
     "metadata": {
      "needs_background": "light"
     },
     "output_type": "display_data"
    }
   ],
   "source": [
    "plt.hist(lof_4dm['lof'].values)"
   ]
  },
  {
   "cell_type": "code",
   "execution_count": 17,
   "metadata": {},
   "outputs": [
    {
     "data": {
      "text/plain": [
       "0.9988460129491807"
      ]
     },
     "execution_count": 17,
     "metadata": {},
     "output_type": "execute_result"
    }
   ],
   "source": [
    "lof_4dm['lof'].quantile(0.25)"
   ]
  },
  {
   "cell_type": "code",
   "execution_count": 18,
   "metadata": {},
   "outputs": [
    {
     "data": {
      "text/plain": [
       "1.9214571686556137"
      ]
     },
     "execution_count": 18,
     "metadata": {},
     "output_type": "execute_result"
    }
   ],
   "source": [
    "lof_4dm['lof'].quantile(0.75)"
   ]
  },
  {
   "cell_type": "code",
   "execution_count": 19,
   "metadata": {},
   "outputs": [
    {
     "data": {
      "text/plain": [
       "3.5039790143688365"
      ]
     },
     "execution_count": 19,
     "metadata": {},
     "output_type": "execute_result"
    }
   ],
   "source": [
    "lof_4dm['lof'].quantile(0.95)"
   ]
  },
  {
   "cell_type": "code",
   "execution_count": 20,
   "metadata": {},
   "outputs": [
    {
     "data": {
      "text/plain": [
       "4.0199092446233955"
      ]
     },
     "execution_count": 20,
     "metadata": {},
     "output_type": "execute_result"
    }
   ],
   "source": [
    "lof_4dm['lof'].quantile(0.975)"
   ]
  },
  {
   "cell_type": "code",
   "execution_count": null,
   "metadata": {},
   "outputs": [],
   "source": []
  }
 ],
 "metadata": {
  "kernelspec": {
   "display_name": "Python 3.10.4 64-bit",
   "language": "python",
   "name": "python3"
  },
  "language_info": {
   "codemirror_mode": {
    "name": "ipython",
    "version": 3
   },
   "file_extension": ".py",
   "mimetype": "text/x-python",
   "name": "python",
   "nbconvert_exporter": "python",
   "pygments_lexer": "ipython3",
   "version": "3.10.4"
  },
  "orig_nbformat": 4,
  "vscode": {
   "interpreter": {
    "hash": "a9cff5a362bc38ef45d817ae74b1af54d6a076e3d773891282bce078b815ba34"
   }
  }
 },
 "nbformat": 4,
 "nbformat_minor": 2
}
