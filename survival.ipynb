{
 "cells": [
  {
   "cell_type": "markdown",
   "metadata": {},
   "source": [
    "# Survival Analysis of 4dm4 Data"
   ]
  },
  {
   "cell_type": "markdown",
   "metadata": {},
   "source": [
    "## Description\n",
    "\n",
    "This notebook is for the Survival Analysis of 4dm4 Data based on Qualifiers Scores of Each team"
   ]
  },
  {
   "cell_type": "markdown",
   "metadata": {},
   "source": [
    "## Initialization"
   ]
  },
  {
   "cell_type": "markdown",
   "metadata": {},
   "source": [
    "### Import the modules"
   ]
  },
  {
   "cell_type": "code",
   "execution_count": 38,
   "metadata": {},
   "outputs": [],
   "source": [
    "import matplotlib.pyplot as plt\n",
    "import pandas as pd\n",
    "from utils import Dataset\n",
    "from lifelines import KaplanMeierFitter, CoxPHFitter\n",
    "from utils import get_table"
   ]
  },
  {
   "cell_type": "markdown",
   "metadata": {},
   "source": [
    "### Defining Constants\n",
    "\n",
    "In this case, we use **rounds** from `RO16` to `GF`"
   ]
  },
  {
   "cell_type": "code",
   "execution_count": 39,
   "metadata": {},
   "outputs": [],
   "source": [
    "rounds = ['RO16', 'QF', 'SF', 'F', 'GF']"
   ]
  },
  {
   "cell_type": "markdown",
   "metadata": {},
   "source": [
    "### Defining Table Names\n",
    "\n",
    "In this study, we will use `team_data` and `team_scores` table"
   ]
  },
  {
   "cell_type": "code",
   "execution_count": 40,
   "metadata": {},
   "outputs": [],
   "source": [
    "TEAM_DATA = 'team_data'\n",
    "TEAM_SCORES = 'team_scores'"
   ]
  },
  {
   "cell_type": "markdown",
   "metadata": {},
   "source": [
    "## Importing Dataset\n",
    "\n",
    "We use the downloaded data `4dm4.db` for this study, which is the spreadsheet data transformed into `sqlite Database` "
   ]
  },
  {
   "cell_type": "code",
   "execution_count": 41,
   "metadata": {},
   "outputs": [],
   "source": [
    "_4dm4_teams = Dataset('4dm4.db')"
   ]
  },
  {
   "cell_type": "markdown",
   "metadata": {},
   "source": [
    "### Querying the Data\n",
    "\n",
    "for Qualifiers Scores, we query the qualifiers score where the following teams are qualified from Qualification Procedure\n",
    "\n",
    "for Survival Round, we query the last_round where the following teams are qualified from Qualification Procedure"
   ]
  },
  {
   "cell_type": "code",
   "execution_count": 42,
   "metadata": {},
   "outputs": [],
   "source": [
    "# Qualifiers Score\n",
    "_4dm4_teams_qualifier_score = _4dm4_teams.query(\"\"\"\n",
    "select team_scores.country_name, team_scores.round, team_scores.beatmap_type, team_scores.beatmap_tag, team_scores.score_logit \n",
    "from team_scores left join team_data on team_scores.country_name = team_data.country_name \n",
    "where round=\"Q\" and team_data.last_round != \"Q\"\n",
    "\"\"\")\n",
    "# Survive\n",
    "_4dm4_teams_round_survive = _4dm4_teams.select(TEAM_DATA, ['country_name', 'last_round'], {'last_round': \"!= \\\"Q\\\"\"})"
   ]
  },
  {
   "cell_type": "code",
   "execution_count": 43,
   "metadata": {},
   "outputs": [
    {
     "data": {
      "text/html": [
       "<div>\n",
       "<style scoped>\n",
       "    .dataframe tbody tr th:only-of-type {\n",
       "        vertical-align: middle;\n",
       "    }\n",
       "\n",
       "    .dataframe tbody tr th {\n",
       "        vertical-align: top;\n",
       "    }\n",
       "\n",
       "    .dataframe thead th {\n",
       "        text-align: right;\n",
       "    }\n",
       "</style>\n",
       "<table border=\"1\" class=\"dataframe\">\n",
       "  <thead>\n",
       "    <tr style=\"text-align: right;\">\n",
       "      <th></th>\n",
       "      <th>country_name</th>\n",
       "      <th>round</th>\n",
       "      <th>beatmap_type</th>\n",
       "      <th>beatmap_tag</th>\n",
       "      <th>score_logit</th>\n",
       "    </tr>\n",
       "  </thead>\n",
       "  <tbody>\n",
       "    <tr>\n",
       "      <th>0</th>\n",
       "      <td>Argentina</td>\n",
       "      <td>Q</td>\n",
       "      <td>SV</td>\n",
       "      <td>1</td>\n",
       "      <td>3.028246</td>\n",
       "    </tr>\n",
       "    <tr>\n",
       "      <th>1</th>\n",
       "      <td>Argentina</td>\n",
       "      <td>Q</td>\n",
       "      <td>RC</td>\n",
       "      <td>1</td>\n",
       "      <td>4.770848</td>\n",
       "    </tr>\n",
       "    <tr>\n",
       "      <th>2</th>\n",
       "      <td>Argentina</td>\n",
       "      <td>Q</td>\n",
       "      <td>LN</td>\n",
       "      <td>1</td>\n",
       "      <td>3.517585</td>\n",
       "    </tr>\n",
       "    <tr>\n",
       "      <th>3</th>\n",
       "      <td>Argentina</td>\n",
       "      <td>Q</td>\n",
       "      <td>RC</td>\n",
       "      <td>2</td>\n",
       "      <td>3.090239</td>\n",
       "    </tr>\n",
       "    <tr>\n",
       "      <th>4</th>\n",
       "      <td>Argentina</td>\n",
       "      <td>Q</td>\n",
       "      <td>HB</td>\n",
       "      <td>1</td>\n",
       "      <td>3.044389</td>\n",
       "    </tr>\n",
       "  </tbody>\n",
       "</table>\n",
       "</div>"
      ],
      "text/plain": [
       "  country_name round beatmap_type  beatmap_tag  score_logit\n",
       "0    Argentina     Q           SV            1     3.028246\n",
       "1    Argentina     Q           RC            1     4.770848\n",
       "2    Argentina     Q           LN            1     3.517585\n",
       "3    Argentina     Q           RC            2     3.090239\n",
       "4    Argentina     Q           HB            1     3.044389"
      ]
     },
     "execution_count": 43,
     "metadata": {},
     "output_type": "execute_result"
    }
   ],
   "source": [
    "_4dm4_teams_qualifier_score.head()"
   ]
  },
  {
   "cell_type": "code",
   "execution_count": 44,
   "metadata": {},
   "outputs": [
    {
     "data": {
      "text/html": [
       "<div>\n",
       "<style scoped>\n",
       "    .dataframe tbody tr th:only-of-type {\n",
       "        vertical-align: middle;\n",
       "    }\n",
       "\n",
       "    .dataframe tbody tr th {\n",
       "        vertical-align: top;\n",
       "    }\n",
       "\n",
       "    .dataframe thead th {\n",
       "        text-align: right;\n",
       "    }\n",
       "</style>\n",
       "<table border=\"1\" class=\"dataframe\">\n",
       "  <thead>\n",
       "    <tr style=\"text-align: right;\">\n",
       "      <th></th>\n",
       "      <th>country_name</th>\n",
       "      <th>last_round</th>\n",
       "    </tr>\n",
       "  </thead>\n",
       "  <tbody>\n",
       "    <tr>\n",
       "      <th>0</th>\n",
       "      <td>Argentina</td>\n",
       "      <td>RO16</td>\n",
       "    </tr>\n",
       "    <tr>\n",
       "      <th>1</th>\n",
       "      <td>Australia</td>\n",
       "      <td>QF</td>\n",
       "    </tr>\n",
       "    <tr>\n",
       "      <th>2</th>\n",
       "      <td>Belgium</td>\n",
       "      <td>RO16</td>\n",
       "    </tr>\n",
       "    <tr>\n",
       "      <th>3</th>\n",
       "      <td>Brazil</td>\n",
       "      <td>F</td>\n",
       "    </tr>\n",
       "    <tr>\n",
       "      <th>4</th>\n",
       "      <td>Canada</td>\n",
       "      <td>F</td>\n",
       "    </tr>\n",
       "  </tbody>\n",
       "</table>\n",
       "</div>"
      ],
      "text/plain": [
       "  country_name last_round\n",
       "0    Argentina       RO16\n",
       "1    Australia         QF\n",
       "2      Belgium       RO16\n",
       "3       Brazil          F\n",
       "4       Canada          F"
      ]
     },
     "execution_count": 44,
     "metadata": {},
     "output_type": "execute_result"
    }
   ],
   "source": [
    "_4dm4_teams_round_survive.head()"
   ]
  },
  {
   "cell_type": "markdown",
   "metadata": {},
   "source": [
    "### Defining Functions to Translate Data"
   ]
  },
  {
   "cell_type": "markdown",
   "metadata": {},
   "source": [
    "- `last_round_to_time` is a function to translate the last round that the team survived to time from 1 to 6 ordered from RO16 to GF\n",
    "- `die` ~~idk what am i thinking when trying to name a function~~ is a function to tell whether the team is Eliminated. All teams are Eliminated (1) except `France` (4dm4 Champion) so we will mark them as `Censored` which is 0"
   ]
  },
  {
   "cell_type": "code",
   "execution_count": 45,
   "metadata": {},
   "outputs": [],
   "source": [
    "def last_round_to_time(survive_round):\n",
    "    return {v:k+1 for k, v in enumerate(rounds)}[survive_round]\n",
    "\n",
    "def die(country):\n",
    "    if country == \"France\":\n",
    "        return 0\n",
    "    return 1"
   ]
  },
  {
   "cell_type": "markdown",
   "metadata": {},
   "source": [
    "### Translate Data"
   ]
  },
  {
   "cell_type": "markdown",
   "metadata": {},
   "source": [
    "In this procedure, we transform the Qualifiers Scores into a table which is usable by the module and translate the Survive Data using the function defined above."
   ]
  },
  {
   "cell_type": "code",
   "execution_count": 46,
   "metadata": {},
   "outputs": [],
   "source": [
    "# translate qualifiers data into tables\n",
    "\n",
    "_4dm4_teams_qualifiers_table = get_table(_4dm4_teams_qualifier_score)\n",
    "\n",
    "# Translate the survival data\n",
    "\n",
    "_4dm4_teams_round_survive.index = _4dm4_teams_round_survive['country_name']\n",
    "_4dm4_teams_round_survive['time'] = _4dm4_teams_round_survive['last_round'].apply(last_round_to_time)\n",
    "_4dm4_teams_round_survive['status'] = _4dm4_teams_round_survive['country_name'].apply(die)\n",
    "_4dm4_teams_round_survive = _4dm4_teams_round_survive.drop('last_round', axis=1)"
   ]
  },
  {
   "cell_type": "code",
   "execution_count": 47,
   "metadata": {},
   "outputs": [
    {
     "data": {
      "text/html": [
       "<div>\n",
       "<style scoped>\n",
       "    .dataframe tbody tr th:only-of-type {\n",
       "        vertical-align: middle;\n",
       "    }\n",
       "\n",
       "    .dataframe tbody tr th {\n",
       "        vertical-align: top;\n",
       "    }\n",
       "\n",
       "    .dataframe thead th {\n",
       "        text-align: right;\n",
       "    }\n",
       "</style>\n",
       "<table border=\"1\" class=\"dataframe\">\n",
       "  <thead>\n",
       "    <tr style=\"text-align: right;\">\n",
       "      <th></th>\n",
       "      <th>Q_SV_1</th>\n",
       "      <th>Q_RC_1</th>\n",
       "      <th>Q_RC_2</th>\n",
       "      <th>Q_LN_1</th>\n",
       "      <th>Q_HB_1</th>\n",
       "    </tr>\n",
       "  </thead>\n",
       "  <tbody>\n",
       "    <tr>\n",
       "      <th>Argentina</th>\n",
       "      <td>3.028246</td>\n",
       "      <td>4.770848</td>\n",
       "      <td>3.090239</td>\n",
       "      <td>3.517585</td>\n",
       "      <td>3.044389</td>\n",
       "    </tr>\n",
       "    <tr>\n",
       "      <th>Australia</th>\n",
       "      <td>3.175020</td>\n",
       "      <td>5.106518</td>\n",
       "      <td>3.094911</td>\n",
       "      <td>4.177576</td>\n",
       "      <td>3.840033</td>\n",
       "    </tr>\n",
       "    <tr>\n",
       "      <th>Belgium</th>\n",
       "      <td>2.307533</td>\n",
       "      <td>4.962088</td>\n",
       "      <td>3.183179</td>\n",
       "      <td>3.572762</td>\n",
       "      <td>3.376469</td>\n",
       "    </tr>\n",
       "    <tr>\n",
       "      <th>Brazil</th>\n",
       "      <td>3.749022</td>\n",
       "      <td>5.203850</td>\n",
       "      <td>3.863981</td>\n",
       "      <td>3.768713</td>\n",
       "      <td>3.653680</td>\n",
       "    </tr>\n",
       "    <tr>\n",
       "      <th>Canada</th>\n",
       "      <td>3.767656</td>\n",
       "      <td>5.235430</td>\n",
       "      <td>4.157253</td>\n",
       "      <td>3.866833</td>\n",
       "      <td>3.524540</td>\n",
       "    </tr>\n",
       "  </tbody>\n",
       "</table>\n",
       "</div>"
      ],
      "text/plain": [
       "             Q_SV_1    Q_RC_1    Q_RC_2    Q_LN_1    Q_HB_1\n",
       "Argentina  3.028246  4.770848  3.090239  3.517585  3.044389\n",
       "Australia  3.175020  5.106518  3.094911  4.177576  3.840033\n",
       "Belgium    2.307533  4.962088  3.183179  3.572762  3.376469\n",
       "Brazil     3.749022  5.203850  3.863981  3.768713  3.653680\n",
       "Canada     3.767656  5.235430  4.157253  3.866833  3.524540"
      ]
     },
     "execution_count": 47,
     "metadata": {},
     "output_type": "execute_result"
    }
   ],
   "source": [
    "_4dm4_teams_qualifiers_table.head()"
   ]
  },
  {
   "cell_type": "code",
   "execution_count": 48,
   "metadata": {},
   "outputs": [
    {
     "data": {
      "text/html": [
       "<div>\n",
       "<style scoped>\n",
       "    .dataframe tbody tr th:only-of-type {\n",
       "        vertical-align: middle;\n",
       "    }\n",
       "\n",
       "    .dataframe tbody tr th {\n",
       "        vertical-align: top;\n",
       "    }\n",
       "\n",
       "    .dataframe thead th {\n",
       "        text-align: right;\n",
       "    }\n",
       "</style>\n",
       "<table border=\"1\" class=\"dataframe\">\n",
       "  <thead>\n",
       "    <tr style=\"text-align: right;\">\n",
       "      <th></th>\n",
       "      <th>country_name</th>\n",
       "      <th>time</th>\n",
       "      <th>status</th>\n",
       "    </tr>\n",
       "    <tr>\n",
       "      <th>country_name</th>\n",
       "      <th></th>\n",
       "      <th></th>\n",
       "      <th></th>\n",
       "    </tr>\n",
       "  </thead>\n",
       "  <tbody>\n",
       "    <tr>\n",
       "      <th>Argentina</th>\n",
       "      <td>Argentina</td>\n",
       "      <td>1</td>\n",
       "      <td>1</td>\n",
       "    </tr>\n",
       "    <tr>\n",
       "      <th>Australia</th>\n",
       "      <td>Australia</td>\n",
       "      <td>2</td>\n",
       "      <td>1</td>\n",
       "    </tr>\n",
       "    <tr>\n",
       "      <th>Belgium</th>\n",
       "      <td>Belgium</td>\n",
       "      <td>1</td>\n",
       "      <td>1</td>\n",
       "    </tr>\n",
       "    <tr>\n",
       "      <th>Brazil</th>\n",
       "      <td>Brazil</td>\n",
       "      <td>4</td>\n",
       "      <td>1</td>\n",
       "    </tr>\n",
       "    <tr>\n",
       "      <th>Canada</th>\n",
       "      <td>Canada</td>\n",
       "      <td>4</td>\n",
       "      <td>1</td>\n",
       "    </tr>\n",
       "  </tbody>\n",
       "</table>\n",
       "</div>"
      ],
      "text/plain": [
       "             country_name  time  status\n",
       "country_name                           \n",
       "Argentina       Argentina     1       1\n",
       "Australia       Australia     2       1\n",
       "Belgium           Belgium     1       1\n",
       "Brazil             Brazil     4       1\n",
       "Canada             Canada     4       1"
      ]
     },
     "execution_count": 48,
     "metadata": {},
     "output_type": "execute_result"
    }
   ],
   "source": [
    "_4dm4_teams_round_survive.head()"
   ]
  },
  {
   "cell_type": "markdown",
   "metadata": {},
   "source": [
    "## Exploratory Data Analysis"
   ]
  },
  {
   "cell_type": "markdown",
   "metadata": {},
   "source": [
    "### Survival Histogram\n",
    "\n",
    "We start by plotting the Survival Distribution of teams"
   ]
  },
  {
   "cell_type": "code",
   "execution_count": 49,
   "metadata": {},
   "outputs": [],
   "source": [
    "T = _4dm4_teams_round_survive['time']\n",
    "E = _4dm4_teams_round_survive['status']"
   ]
  },
  {
   "cell_type": "code",
   "execution_count": 50,
   "metadata": {},
   "outputs": [
    {
     "data": {
      "text/plain": [
       "(array([ 8.,  0., 12.,  0.,  0.,  6.,  0.,  3.,  0.,  3.]),\n",
       " array([1. , 1.4, 1.8, 2.2, 2.6, 3. , 3.4, 3.8, 4.2, 4.6, 5. ]),\n",
       " <BarContainer object of 10 artists>)"
      ]
     },
     "execution_count": 50,
     "metadata": {},
     "output_type": "execute_result"
    },
    {
     "data": {
      "image/png": "[encoded data removed]",
      "text/plain": [
       "<Figure size 432x288 with 1 Axes>"
      ]
     },
     "metadata": {
      "needs_background": "light"
     },
     "output_type": "display_data"
    }
   ],
   "source": [
    "plt.hist(T)"
   ]
  },
  {
   "cell_type": "markdown",
   "metadata": {},
   "source": [
    "### Kaplan-Meier Model\n",
    "\n",
    "This model tells the Discrete `Survival Probability` over `time` with some confidence interval as shown in this code."
   ]
  },
  {
   "cell_type": "code",
   "execution_count": 51,
   "metadata": {},
   "outputs": [
    {
     "data": {
      "text/plain": [
       "<AxesSubplot:xlabel='timeline'>"
      ]
     },
     "execution_count": 51,
     "metadata": {},
     "output_type": "execute_result"
    },
    {
     "data": {
      "image/png": "[encoded data removed]",
      "text/plain": [
       "<Figure size 432x288 with 1 Axes>"
      ]
     },
     "metadata": {
      "needs_background": "light"
     },
     "output_type": "display_data"
    }
   ],
   "source": [
    "kmf = KaplanMeierFitter()\n",
    "kmf.fit(durations = T, event_observed = E)\n",
    "kmf.plot_survival_function()"
   ]
  },
  {
   "cell_type": "markdown",
   "metadata": {},
   "source": [
    "Here, we use the model to plot the cumulative density. In other words, cumulative relative frequency of teams who are ~~dead~~ eliminated"
   ]
  },
  {
   "cell_type": "code",
   "execution_count": 52,
   "metadata": {},
   "outputs": [
    {
     "data": {
      "text/plain": [
       "<AxesSubplot:xlabel='timeline'>"
      ]
     },
     "execution_count": 52,
     "metadata": {},
     "output_type": "execute_result"
    },
    {
     "data": {
      "image/png": "[encoded data removed]",
      "text/plain": [
       "<Figure size 432x288 with 1 Axes>"
      ]
     },
     "metadata": {
      "needs_background": "light"
     },
     "output_type": "display_data"
    }
   ],
   "source": [
    "kmf.plot_cumulative_density()"
   ]
  },
  {
   "cell_type": "markdown",
   "metadata": {},
   "source": [
    "### Calculating Median Survival Times using Kaplan-Meier Model\n",
    "\n",
    "Median Survival Times is the middle value of the survival times, we calculate the median and confidence interval of them."
   ]
  },
  {
   "cell_type": "code",
   "execution_count": 53,
   "metadata": {},
   "outputs": [
    {
     "data": {
      "text/plain": [
       "2.0"
      ]
     },
     "execution_count": 53,
     "metadata": {},
     "output_type": "execute_result"
    }
   ],
   "source": [
    "from lifelines.utils import median_survival_times\n",
    "median_ = kmf.median_survival_time_\n",
    "median_confidence_interval_ = median_survival_times(kmf.confidence_interval_)\n",
    "\n",
    "median_"
   ]
  },
  {
   "cell_type": "code",
   "execution_count": 54,
   "metadata": {},
   "outputs": [
    {
     "data": {
      "text/html": [
       "<div>\n",
       "<style scoped>\n",
       "    .dataframe tbody tr th:only-of-type {\n",
       "        vertical-align: middle;\n",
       "    }\n",
       "\n",
       "    .dataframe tbody tr th {\n",
       "        vertical-align: top;\n",
       "    }\n",
       "\n",
       "    .dataframe thead th {\n",
       "        text-align: right;\n",
       "    }\n",
       "</style>\n",
       "<table border=\"1\" class=\"dataframe\">\n",
       "  <thead>\n",
       "    <tr style=\"text-align: right;\">\n",
       "      <th></th>\n",
       "      <th>KM_estimate_lower_0.95</th>\n",
       "      <th>KM_estimate_upper_0.95</th>\n",
       "    </tr>\n",
       "  </thead>\n",
       "  <tbody>\n",
       "    <tr>\n",
       "      <th>0.5</th>\n",
       "      <td>2.0</td>\n",
       "      <td>3.0</td>\n",
       "    </tr>\n",
       "  </tbody>\n",
       "</table>\n",
       "</div>"
      ],
      "text/plain": [
       "     KM_estimate_lower_0.95  KM_estimate_upper_0.95\n",
       "0.5                     2.0                     3.0"
      ]
     },
     "execution_count": 54,
     "metadata": {},
     "output_type": "execute_result"
    }
   ],
   "source": [
    "median_confidence_interval_"
   ]
  },
  {
   "cell_type": "markdown",
   "metadata": {},
   "source": [
    "## Data Preprocessing\n",
    "\n",
    "In this process, we only concatenate `Qualifiers Score` and `Survival Time` and `Status` together."
   ]
  },
  {
   "cell_type": "code",
   "execution_count": 55,
   "metadata": {},
   "outputs": [
    {
     "data": {
      "text/html": [
       "<div>\n",
       "<style scoped>\n",
       "    .dataframe tbody tr th:only-of-type {\n",
       "        vertical-align: middle;\n",
       "    }\n",
       "\n",
       "    .dataframe tbody tr th {\n",
       "        vertical-align: top;\n",
       "    }\n",
       "\n",
       "    .dataframe thead th {\n",
       "        text-align: right;\n",
       "    }\n",
       "</style>\n",
       "<table border=\"1\" class=\"dataframe\">\n",
       "  <thead>\n",
       "    <tr style=\"text-align: right;\">\n",
       "      <th></th>\n",
       "      <th>Q_SV_1</th>\n",
       "      <th>Q_RC_1</th>\n",
       "      <th>Q_RC_2</th>\n",
       "      <th>Q_LN_1</th>\n",
       "      <th>Q_HB_1</th>\n",
       "      <th>time</th>\n",
       "      <th>status</th>\n",
       "    </tr>\n",
       "  </thead>\n",
       "  <tbody>\n",
       "    <tr>\n",
       "      <th>Argentina</th>\n",
       "      <td>3.028246</td>\n",
       "      <td>4.770848</td>\n",
       "      <td>3.090239</td>\n",
       "      <td>3.517585</td>\n",
       "      <td>3.044389</td>\n",
       "      <td>1</td>\n",
       "      <td>1</td>\n",
       "    </tr>\n",
       "    <tr>\n",
       "      <th>Australia</th>\n",
       "      <td>3.175020</td>\n",
       "      <td>5.106518</td>\n",
       "      <td>3.094911</td>\n",
       "      <td>4.177576</td>\n",
       "      <td>3.840033</td>\n",
       "      <td>2</td>\n",
       "      <td>1</td>\n",
       "    </tr>\n",
       "    <tr>\n",
       "      <th>Belgium</th>\n",
       "      <td>2.307533</td>\n",
       "      <td>4.962088</td>\n",
       "      <td>3.183179</td>\n",
       "      <td>3.572762</td>\n",
       "      <td>3.376469</td>\n",
       "      <td>1</td>\n",
       "      <td>1</td>\n",
       "    </tr>\n",
       "    <tr>\n",
       "      <th>Brazil</th>\n",
       "      <td>3.749022</td>\n",
       "      <td>5.203850</td>\n",
       "      <td>3.863981</td>\n",
       "      <td>3.768713</td>\n",
       "      <td>3.653680</td>\n",
       "      <td>4</td>\n",
       "      <td>1</td>\n",
       "    </tr>\n",
       "    <tr>\n",
       "      <th>Canada</th>\n",
       "      <td>3.767656</td>\n",
       "      <td>5.235430</td>\n",
       "      <td>4.157253</td>\n",
       "      <td>3.866833</td>\n",
       "      <td>3.524540</td>\n",
       "      <td>4</td>\n",
       "      <td>1</td>\n",
       "    </tr>\n",
       "  </tbody>\n",
       "</table>\n",
       "</div>"
      ],
      "text/plain": [
       "             Q_SV_1    Q_RC_1    Q_RC_2    Q_LN_1    Q_HB_1  time  status\n",
       "Argentina  3.028246  4.770848  3.090239  3.517585  3.044389     1       1\n",
       "Australia  3.175020  5.106518  3.094911  4.177576  3.840033     2       1\n",
       "Belgium    2.307533  4.962088  3.183179  3.572762  3.376469     1       1\n",
       "Brazil     3.749022  5.203850  3.863981  3.768713  3.653680     4       1\n",
       "Canada     3.767656  5.235430  4.157253  3.866833  3.524540     4       1"
      ]
     },
     "execution_count": 55,
     "metadata": {},
     "output_type": "execute_result"
    }
   ],
   "source": [
    "data = _4dm4_teams_qualifiers_table\n",
    "\n",
    "data['time'] = _4dm4_teams_round_survive['time']\n",
    "data['status'] = _4dm4_teams_round_survive['status']\n",
    "\n",
    "data.head()"
   ]
  },
  {
   "cell_type": "markdown",
   "metadata": {},
   "source": [
    "## Survival Analysis Models\n",
    "\n"
   ]
  },
  {
   "cell_type": "markdown",
   "metadata": {},
   "source": [
    "### Cox-Proportional Hazard Model\n",
    "\n",
    "Cox-Proportional Hazard Model is used to find the odds ratio of the parameters, namely \"How the variable changes affect the survival chance\". This model is implemented by using non-parametric method with the exponential model and some complicated stuff under the assumption that the odds ratio is a constant. We use this model to observe how the changes in qualifiers scores of each stage affect the chance of being qualified. "
   ]
  },
  {
   "cell_type": "markdown",
   "metadata": {},
   "source": [
    "#### Model Fitting and Summary"
   ]
  },
  {
   "cell_type": "code",
   "execution_count": 56,
   "metadata": {},
   "outputs": [],
   "source": [
    "coxph = CoxPHFitter()"
   ]
  },
  {
   "cell_type": "code",
   "execution_count": 57,
   "metadata": {},
   "outputs": [
    {
     "data": {
      "text/plain": [
       "<lifelines.CoxPHFitter: fitted with 32 total observations, 1 right-censored observations>"
      ]
     },
     "execution_count": 57,
     "metadata": {},
     "output_type": "execute_result"
    }
   ],
   "source": [
    "coxph.fit(data, duration_col='time', event_col='status')"
   ]
  },
  {
   "cell_type": "code",
   "execution_count": 58,
   "metadata": {},
   "outputs": [
    {
     "name": "stderr",
     "output_type": "stream",
     "text": [
      "c:\\Users\\HP\\AppData\\Local\\Programs\\Python\\Python310\\lib\\site-packages\\lifelines\\utils\\printer.py:62: FutureWarning: In future versions `DataFrame.to_latex` is expected to utilise the base implementation of `Styler.to_latex` for formatting and rendering. The arguments signature may therefore change. It is recommended instead to use `DataFrame.style.to_latex` which also contains additional functionality.\n",
      "  return summary_df[columns].to_latex(float_format=\"%.\" + str(self.decimals) + \"f\")\n"
     ]
    },
    {
     "data": {
      "text/html": [
       "<div>\n",
       "<style scoped>\n",
       "    .dataframe tbody tr th:only-of-type {\n",
       "        vertical-align: middle;\n",
       "    }\n",
       "\n",
       "    .dataframe tbody tr th {\n",
       "        vertical-align: top;\n",
       "    }\n",
       "\n",
       "    .dataframe thead th {\n",
       "        text-align: right;\n",
       "    }\n",
       "</style>\n",
       "<table border=\"1\" class=\"dataframe\">\n",
       "  <tbody>\n",
       "    <tr>\n",
       "      <th>model</th>\n",
       "      <td>lifelines.CoxPHFitter</td>\n",
       "    </tr>\n",
       "    <tr>\n",
       "      <th>duration col</th>\n",
       "      <td>'time'</td>\n",
       "    </tr>\n",
       "    <tr>\n",
       "      <th>event col</th>\n",
       "      <td>'status'</td>\n",
       "    </tr>\n",
       "    <tr>\n",
       "      <th>baseline estimation</th>\n",
       "      <td>breslow</td>\n",
       "    </tr>\n",
       "    <tr>\n",
       "      <th>number of observations</th>\n",
       "      <td>32</td>\n",
       "    </tr>\n",
       "    <tr>\n",
       "      <th>number of events observed</th>\n",
       "      <td>31</td>\n",
       "    </tr>\n",
       "    <tr>\n",
       "      <th>partial log-likelihood</th>\n",
       "      <td>-63.193</td>\n",
       "    </tr>\n",
       "    <tr>\n",
       "      <th>time fit was run</th>\n",
       "      <td>2022-06-10 03:44:19 UTC</td>\n",
       "    </tr>\n",
       "  </tbody>\n",
       "</table>\n",
       "</div><table border=\"1\" class=\"dataframe\">\n",
       "  <thead>\n",
       "    <tr style=\"text-align: right;\">\n",
       "      <th style=\"min-width: 12px;\"></th>\n",
       "      <th style=\"min-width: 12px;\">coef</th>\n",
       "      <th style=\"min-width: 12px;\">exp(coef)</th>\n",
       "      <th style=\"min-width: 12px;\">se(coef)</th>\n",
       "      <th style=\"min-width: 12px;\">coef lower 95%</th>\n",
       "      <th style=\"min-width: 12px;\">coef upper 95%</th>\n",
       "      <th style=\"min-width: 12px;\">exp(coef) lower 95%</th>\n",
       "      <th style=\"min-width: 12px;\">exp(coef) upper 95%</th>\n",
       "      <th style=\"min-width: 12px;\">cmp to</th>\n",
       "      <th style=\"min-width: 12px;\">z</th>\n",
       "      <th style=\"min-width: 12px;\">p</th>\n",
       "      <th style=\"min-width: 12px;\">-log2(p)</th>\n",
       "    </tr>\n",
       "  </thead>\n",
       "  <tbody>\n",
       "    <tr>\n",
       "      <th>Q_SV_1</th>\n",
       "      <td>-0.637</td>\n",
       "      <td>0.529</td>\n",
       "      <td>0.359</td>\n",
       "      <td>-1.341</td>\n",
       "      <td>0.067</td>\n",
       "      <td>0.262</td>\n",
       "      <td>1.069</td>\n",
       "      <td>0.000</td>\n",
       "      <td>-1.774</td>\n",
       "      <td>0.076</td>\n",
       "      <td>3.717</td>\n",
       "    </tr>\n",
       "    <tr>\n",
       "      <th>Q_RC_1</th>\n",
       "      <td>0.112</td>\n",
       "      <td>1.118</td>\n",
       "      <td>0.715</td>\n",
       "      <td>-1.290</td>\n",
       "      <td>1.513</td>\n",
       "      <td>0.275</td>\n",
       "      <td>4.541</td>\n",
       "      <td>0.000</td>\n",
       "      <td>0.156</td>\n",
       "      <td>0.876</td>\n",
       "      <td>0.191</td>\n",
       "    </tr>\n",
       "    <tr>\n",
       "      <th>Q_RC_2</th>\n",
       "      <td>-1.701</td>\n",
       "      <td>0.182</td>\n",
       "      <td>0.691</td>\n",
       "      <td>-3.055</td>\n",
       "      <td>-0.347</td>\n",
       "      <td>0.047</td>\n",
       "      <td>0.707</td>\n",
       "      <td>0.000</td>\n",
       "      <td>-2.462</td>\n",
       "      <td>0.014</td>\n",
       "      <td>6.179</td>\n",
       "    </tr>\n",
       "    <tr>\n",
       "      <th>Q_LN_1</th>\n",
       "      <td>-1.134</td>\n",
       "      <td>0.322</td>\n",
       "      <td>0.859</td>\n",
       "      <td>-2.817</td>\n",
       "      <td>0.549</td>\n",
       "      <td>0.060</td>\n",
       "      <td>1.732</td>\n",
       "      <td>0.000</td>\n",
       "      <td>-1.320</td>\n",
       "      <td>0.187</td>\n",
       "      <td>2.421</td>\n",
       "    </tr>\n",
       "    <tr>\n",
       "      <th>Q_HB_1</th>\n",
       "      <td>-1.043</td>\n",
       "      <td>0.352</td>\n",
       "      <td>1.007</td>\n",
       "      <td>-3.017</td>\n",
       "      <td>0.931</td>\n",
       "      <td>0.049</td>\n",
       "      <td>2.537</td>\n",
       "      <td>0.000</td>\n",
       "      <td>-1.036</td>\n",
       "      <td>0.300</td>\n",
       "      <td>1.735</td>\n",
       "    </tr>\n",
       "  </tbody>\n",
       "</table><br><div>\n",
       "<style scoped>\n",
       "    .dataframe tbody tr th:only-of-type {\n",
       "        vertical-align: middle;\n",
       "    }\n",
       "\n",
       "    .dataframe tbody tr th {\n",
       "        vertical-align: top;\n",
       "    }\n",
       "\n",
       "    .dataframe thead th {\n",
       "        text-align: right;\n",
       "    }\n",
       "</style>\n",
       "<table border=\"1\" class=\"dataframe\">\n",
       "  <tbody>\n",
       "    <tr>\n",
       "      <th>Concordance</th>\n",
       "      <td>0.930</td>\n",
       "    </tr>\n",
       "    <tr>\n",
       "      <th>Partial AIC</th>\n",
       "      <td>136.386</td>\n",
       "    </tr>\n",
       "    <tr>\n",
       "      <th>log-likelihood ratio test</th>\n",
       "      <td>36.730 on 5 df</td>\n",
       "    </tr>\n",
       "    <tr>\n",
       "      <th>-log2(p) of ll-ratio test</th>\n",
       "      <td>20.491</td>\n",
       "    </tr>\n",
       "  </tbody>\n",
       "</table>\n",
       "</div>"
      ],
      "text/latex": [
       "\\begin{tabular}{lrrrrrrrrrrr}\n",
       "\\toprule\n",
       "{} &   coef &  exp(coef) &  se(coef) &  coef lower 95\\% &  coef upper 95\\% &  exp(coef) lower 95\\% &  exp(coef) upper 95\\% &  cmp to &      z &     p &  -log2(p) \\\\\n",
       "covariate &        &            &           &                 &                 &                      &                      &         &        &       &           \\\\\n",
       "\\midrule\n",
       "Q\\_SV\\_1    & -0.637 &      0.529 &     0.359 &          -1.341 &           0.067 &                0.262 &                1.069 &   0.000 & -1.774 & 0.076 &     3.717 \\\\\n",
       "Q\\_RC\\_1    &  0.112 &      1.118 &     0.715 &          -1.290 &           1.513 &                0.275 &                4.541 &   0.000 &  0.156 & 0.876 &     0.191 \\\\\n",
       "Q\\_RC\\_2    & -1.701 &      0.182 &     0.691 &          -3.055 &          -0.347 &                0.047 &                0.707 &   0.000 & -2.462 & 0.014 &     6.179 \\\\\n",
       "Q\\_LN\\_1    & -1.134 &      0.322 &     0.859 &          -2.817 &           0.549 &                0.060 &                1.732 &   0.000 & -1.320 & 0.187 &     2.421 \\\\\n",
       "Q\\_HB\\_1    & -1.043 &      0.352 &     1.007 &          -3.017 &           0.931 &                0.049 &                2.537 &   0.000 & -1.036 & 0.300 &     1.735 \\\\\n",
       "\\bottomrule\n",
       "\\end{tabular}\n"
      ],
      "text/plain": [
       "<lifelines.CoxPHFitter: fitted with 32 total observations, 1 right-censored observations>\n",
       "             duration col = 'time'\n",
       "                event col = 'status'\n",
       "      baseline estimation = breslow\n",
       "   number of observations = 32\n",
       "number of events observed = 31\n",
       "   partial log-likelihood = -63.193\n",
       "         time fit was run = 2022-06-10 03:44:19 UTC\n",
       "\n",
       "---\n",
       "            coef  exp(coef)   se(coef)   coef lower 95%   coef upper 95%  exp(coef) lower 95%  exp(coef) upper 95%\n",
       "covariate                                                                                                         \n",
       "Q_SV_1    -0.637      0.529      0.359           -1.341            0.067                0.262                1.069\n",
       "Q_RC_1     0.112      1.118      0.715           -1.290            1.513                0.275                4.541\n",
       "Q_RC_2    -1.701      0.182      0.691           -3.055           -0.347                0.047                0.707\n",
       "Q_LN_1    -1.134      0.322      0.859           -2.817            0.549                0.060                1.732\n",
       "Q_HB_1    -1.043      0.352      1.007           -3.017            0.931                0.049                2.537\n",
       "\n",
       "            cmp to      z     p   -log2(p)\n",
       "covariate                                 \n",
       "Q_SV_1       0.000 -1.774 0.076      3.717\n",
       "Q_RC_1       0.000  0.156 0.876      0.191\n",
       "Q_RC_2       0.000 -2.462 0.014      6.179\n",
       "Q_LN_1       0.000 -1.320 0.187      2.421\n",
       "Q_HB_1       0.000 -1.036 0.300      1.735\n",
       "---\n",
       "Concordance = 0.930\n",
       "Partial AIC = 136.386\n",
       "log-likelihood ratio test = 36.730 on 5 df\n",
       "-log2(p) of ll-ratio test = 20.491"
      ]
     },
     "metadata": {},
     "output_type": "display_data"
    }
   ],
   "source": [
    "coxph.print_summary(decimals=3)"
   ]
  },
  {
   "cell_type": "markdown",
   "metadata": {},
   "source": [
    "From the summary of the **Cox-Proportional Hazard Model** we can see that \n",
    "\n",
    "- **Q_RC_2** or [**Fleshgod Apocalypse - Fury**](https://osu.ppy.sh/beatmapsets/1665436#mania/3399979) affects the chance of survival the most by reducing the odds of elimination by approximately **82%** if the **score_logit** is increased by 1. With the **p-value** equals to 0.014, the result is significant according to the significance level of 0.05.\n",
    "\n",
    "- **Q_SV_1** or [**she - Music Like This**](https://osu.ppy.sh/beatmapsets/1665415#mania/3399945) marginally affects the chance of survival by reducing the odds of elimination by approximately **47%** if the **score_logit** is increased by 1.\n",
    "\n",
    "- **Q_RC_1** or [**Fractal Dreamers - Defiance**](https://osu.ppy.sh/beatmapsets/1665424#mania/3399962) has no effect to the chance of surviving according to **p-value**. However according to the exponentiated coefficients, if the **score_logit** is increased by 1, the odds of elimination is increased by approximately **12%**"
   ]
  },
  {
   "cell_type": "markdown",
   "metadata": {},
   "source": [
    "#### Partial Effects Visualization"
   ]
  },
  {
   "cell_type": "markdown",
   "metadata": {},
   "source": [
    "This part of the analysis is about visualizing how score of each stage affects the survival rate of each round\n",
    "\n",
    "We will have 3 graphs to visualize the partial effects\n",
    "- **[ROUND_CATEGORY_TAG] = 3** : Simulating the situation where the average team score is 952574 (approx 950k) or the total score is approximately 2850000 or `logit(score) = 3`\n",
    "- **[ROUND_CATEGORY_TAG] = 5** : Simulating the situation where the average team score is 993307 (approx 993k) or the total score is approximately 2979000 or `logit(score) = 5`\n",
    "- **Baseline** : The Kaplan-Meier plotting of the survival chance"
   ]
  },
  {
   "cell_type": "markdown",
   "metadata": {},
   "source": [
    "##### Qualifiers RC2 / Stage 4 (Fury)"
   ]
  },
  {
   "cell_type": "code",
   "execution_count": 59,
   "metadata": {},
   "outputs": [
    {
     "data": {
      "text/plain": [
       "<AxesSubplot:>"
      ]
     },
     "execution_count": 59,
     "metadata": {},
     "output_type": "execute_result"
    },
    {
     "data": {
      "image/png": "[encoded data removed]",
      "text/plain": [
       "<Figure size 432x288 with 1 Axes>"
      ]
     },
     "metadata": {
      "needs_background": "light"
     },
     "output_type": "display_data"
    }
   ],
   "source": [
    "coxph.plot_partial_effects_on_outcome(covariates = 'Q_RC_2', values = [3,5], cmap = 'coolwarm')"
   ]
  },
  {
   "cell_type": "markdown",
   "metadata": {},
   "source": [
    "According to the simulation\n",
    "\n",
    "- The chance of survival at the Quarterfinals round dropped drastically if the average team score of Fury is approximately 950k\n",
    "- The chance of survival of the team that has the average score of Fury approximated to 993k is higher than 0.5 until the Grand Finals round\n",
    "- There is a significant difference between a team with average 950k and a team with average 993k on Fury"
   ]
  },
  {
   "cell_type": "markdown",
   "metadata": {},
   "source": [
    "##### Qualifiers RC1 / Stage 2 (Defiance)"
   ]
  },
  {
   "cell_type": "code",
   "execution_count": 60,
   "metadata": {},
   "outputs": [
    {
     "data": {
      "text/plain": [
       "<AxesSubplot:>"
      ]
     },
     "execution_count": 60,
     "metadata": {},
     "output_type": "execute_result"
    },
    {
     "data": {
      "image/png": "[encoded data removed]",
      "text/plain": [
       "<Figure size 432x288 with 1 Axes>"
      ]
     },
     "metadata": {
      "needs_background": "light"
     },
     "output_type": "display_data"
    }
   ],
   "source": [
    "coxph.plot_partial_effects_on_outcome(covariates = 'Q_RC_1', values = [3,5], cmap = 'coolwarm')"
   ]
  },
  {
   "cell_type": "markdown",
   "metadata": {},
   "source": [
    "According to the simulation\n",
    "\n",
    "- There is no significant difference between a team with average 950k and a team with average 993k on Defiance"
   ]
  },
  {
   "cell_type": "markdown",
   "metadata": {},
   "source": [
    "##### Qualifiers LN1 / Stage 3 (Transform)"
   ]
  },
  {
   "cell_type": "code",
   "execution_count": 61,
   "metadata": {},
   "outputs": [
    {
     "data": {
      "text/plain": [
       "<AxesSubplot:>"
      ]
     },
     "execution_count": 61,
     "metadata": {},
     "output_type": "execute_result"
    },
    {
     "data": {
      "image/png": "[encoded data removed]",
      "text/plain": [
       "<Figure size 432x288 with 1 Axes>"
      ]
     },
     "metadata": {
      "needs_background": "light"
     },
     "output_type": "display_data"
    }
   ],
   "source": [
    "coxph.plot_partial_effects_on_outcome(covariates = 'Q_LN_1', values = [3,5], cmap = 'coolwarm')"
   ]
  },
  {
   "cell_type": "markdown",
   "metadata": {},
   "source": [
    "According to the simulation\n",
    "\n",
    "- The chance of survival at the Quarterfinals round dropped drastically if the average team score of Transform is approximately 950k\n",
    "- The team with the average score 993k maintains the consistency of the chance of getting eliminated until Grand Finals"
   ]
  },
  {
   "cell_type": "markdown",
   "metadata": {},
   "source": [
    "##### Qualifiers HB1 / Stage 5 (HIVEMIND)"
   ]
  },
  {
   "cell_type": "code",
   "execution_count": 62,
   "metadata": {},
   "outputs": [
    {
     "data": {
      "text/plain": [
       "<AxesSubplot:>"
      ]
     },
     "execution_count": 62,
     "metadata": {},
     "output_type": "execute_result"
    },
    {
     "data": {
      "image/png": "[encoded data removed]",
      "text/plain": [
       "<Figure size 432x288 with 1 Axes>"
      ]
     },
     "metadata": {
      "needs_background": "light"
     },
     "output_type": "display_data"
    }
   ],
   "source": [
    "coxph.plot_partial_effects_on_outcome(covariates = 'Q_HB_1', values = [3,5], cmap = 'coolwarm')"
   ]
  },
  {
   "cell_type": "markdown",
   "metadata": {},
   "source": [
    "According to the simulation\n",
    "\n",
    "- The chance of survival at the Quarterfinals round dropped drastically if the average team score of HIVEMIND is approximately 950k\n",
    "- The team with the average score 993k maintains the consistency of the chance of getting eliminated until Grand Finals"
   ]
  },
  {
   "cell_type": "markdown",
   "metadata": {},
   "source": [
    "#### Cox-Proportional Hazard Model Assumptions Checking\n",
    "\n",
    "To ensure the model shows the accurate result, we need to check the assumptions of the model"
   ]
  },
  {
   "cell_type": "code",
   "execution_count": 63,
   "metadata": {},
   "outputs": [
    {
     "name": "stdout",
     "output_type": "stream",
     "text": [
      "Proportional hazard assumption looks okay.\n"
     ]
    },
    {
     "name": "stderr",
     "output_type": "stream",
     "text": [
      "c:\\Users\\HP\\AppData\\Local\\Programs\\Python\\Python310\\lib\\site-packages\\lifelines\\fitters\\mixins.py:108: FutureWarning: Index.__and__ operating as a set operation is deprecated, in the future this will be a logical operation matching Series.__and__.  Use index.intersection(other) instead.\n",
      "  for variable in self.params_.index & (columns or self.params_.index):\n"
     ]
    },
    {
     "data": {
      "text/plain": [
       "[]"
      ]
     },
     "execution_count": 63,
     "metadata": {},
     "output_type": "execute_result"
    }
   ],
   "source": [
    "coxph.check_assumptions(data, p_value_threshold = 0.05)"
   ]
  },
  {
   "cell_type": "markdown",
   "metadata": {},
   "source": [
    "According to the result of assumptions checking, it is okay to use Cox-Proportional Hazard Model."
   ]
  },
  {
   "cell_type": "markdown",
   "metadata": {},
   "source": [
    "### Parametric Models for Survival Analysis\n",
    "\n",
    "Here we are going to use the Parametric Models to analyze the survival chance further. We considered four models\n",
    "- Weibull\n",
    "- Exponential\n",
    "- Log Normal\n",
    "- Log Logistic\n",
    "\n",
    "So basically what these models do is trying to fit our survival dataset (time and event) into their survival distributions (namely Right-Tail Cumulative Distribution of each PDF) to find the best distribution that fits our bracket stage elimination process, then we will add Qualifiers Scores parameters in the next step."
   ]
  },
  {
   "cell_type": "markdown",
   "metadata": {},
   "source": [
    "However, we use the **Akaike information criterion (AIC)** to select the best model according to the `time` parameter"
   ]
  },
  {
   "cell_type": "code",
   "execution_count": 64,
   "metadata": {},
   "outputs": [
    {
     "name": "stdout",
     "output_type": "stream",
     "text": [
      "The AIC value for WeibullFitter is 103.48354737732211\n",
      "The AIC value for ExponentialFitter is 120.40872947684932\n",
      "The AIC value for LogNormalFitter is 100.41051503304567\n",
      "The AIC value for LogLogisticFitter is 102.08847402953668\n"
     ]
    }
   ],
   "source": [
    "from lifelines import WeibullFitter,\\\n",
    "                      ExponentialFitter,\\\n",
    "                      LogNormalFitter,\\\n",
    "                      LogLogisticFitter\n",
    "# Instantiate each fitter\n",
    "wb = WeibullFitter()\n",
    "ex = ExponentialFitter()\n",
    "log = LogNormalFitter()\n",
    "loglogis = LogLogisticFitter()\n",
    "# Fit to data\n",
    "for model in [wb, ex, log, loglogis]:\n",
    "    model.fit(durations = data[\"time\"], event_observed = data[\"status\"])\n",
    "    print(\"The AIC value for\", model.__class__.__name__, \"is\",  model.AIC_)"
   ]
  },
  {
   "cell_type": "markdown",
   "metadata": {},
   "source": [
    "We can see that the **Log Normal Survival Model** has the lowest AIC, so we will use Log-Normal for the further Observation"
   ]
  },
  {
   "cell_type": "markdown",
   "metadata": {},
   "source": [
    "#### Accelerated Failure Time Model"
   ]
  },
  {
   "cell_type": "markdown",
   "metadata": {},
   "source": [
    "We can put the parametric model on steroid by using **Accelerated Failure Time Model (AFT)** which will consider the external parameters (example, Qualifiers Scores) into the consideration of our survival model. The interpretation of AFT is similar to Cox-Proportional Hazard Model and these models are more accurate than Cox-Proportional Hazard Model (and we can use them to predict the survival function if I remember correctly)."
   ]
  },
  {
   "cell_type": "markdown",
   "metadata": {},
   "source": [
    "#### Model Fitting and Summary"
   ]
  },
  {
   "cell_type": "code",
   "execution_count": 65,
   "metadata": {},
   "outputs": [],
   "source": [
    "from lifelines import LogNormalAFTFitter"
   ]
  },
  {
   "cell_type": "code",
   "execution_count": 66,
   "metadata": {},
   "outputs": [],
   "source": [
    "lognormal_aft = LogNormalAFTFitter()"
   ]
  },
  {
   "cell_type": "code",
   "execution_count": 67,
   "metadata": {},
   "outputs": [
    {
     "data": {
      "text/plain": [
       "<lifelines.LogNormalAFTFitter: fitted with 32 total observations, 1 right-censored observations>"
      ]
     },
     "execution_count": 67,
     "metadata": {},
     "output_type": "execute_result"
    }
   ],
   "source": [
    "lognormal_aft.fit(data, duration_col='time', event_col='status')"
   ]
  },
  {
   "cell_type": "code",
   "execution_count": 68,
   "metadata": {},
   "outputs": [
    {
     "name": "stderr",
     "output_type": "stream",
     "text": [
      "c:\\Users\\HP\\AppData\\Local\\Programs\\Python\\Python310\\lib\\site-packages\\lifelines\\utils\\printer.py:62: FutureWarning: In future versions `DataFrame.to_latex` is expected to utilise the base implementation of `Styler.to_latex` for formatting and rendering. The arguments signature may therefore change. It is recommended instead to use `DataFrame.style.to_latex` which also contains additional functionality.\n",
      "  return summary_df[columns].to_latex(float_format=\"%.\" + str(self.decimals) + \"f\")\n"
     ]
    },
    {
     "data": {
      "text/html": [
       "<div>\n",
       "<style scoped>\n",
       "    .dataframe tbody tr th:only-of-type {\n",
       "        vertical-align: middle;\n",
       "    }\n",
       "\n",
       "    .dataframe tbody tr th {\n",
       "        vertical-align: top;\n",
       "    }\n",
       "\n",
       "    .dataframe thead th {\n",
       "        text-align: right;\n",
       "    }\n",
       "</style>\n",
       "<table border=\"1\" class=\"dataframe\">\n",
       "  <tbody>\n",
       "    <tr>\n",
       "      <th>model</th>\n",
       "      <td>lifelines.LogNormalAFTFitter</td>\n",
       "    </tr>\n",
       "    <tr>\n",
       "      <th>duration col</th>\n",
       "      <td>'time'</td>\n",
       "    </tr>\n",
       "    <tr>\n",
       "      <th>event col</th>\n",
       "      <td>'status'</td>\n",
       "    </tr>\n",
       "    <tr>\n",
       "      <th>number of observations</th>\n",
       "      <td>32</td>\n",
       "    </tr>\n",
       "    <tr>\n",
       "      <th>number of events observed</th>\n",
       "      <td>31</td>\n",
       "    </tr>\n",
       "    <tr>\n",
       "      <th>log-likelihood</th>\n",
       "      <td>-23.852</td>\n",
       "    </tr>\n",
       "    <tr>\n",
       "      <th>time fit was run</th>\n",
       "      <td>2022-06-10 03:44:21 UTC</td>\n",
       "    </tr>\n",
       "  </tbody>\n",
       "</table>\n",
       "</div><table border=\"1\" class=\"dataframe\">\n",
       "  <thead>\n",
       "    <tr style=\"text-align: right;\">\n",
       "      <th style=\"min-width: 12px;\"></th>\n",
       "      <th style=\"min-width: 12px;\"></th>\n",
       "      <th style=\"min-width: 12px;\">coef</th>\n",
       "      <th style=\"min-width: 12px;\">exp(coef)</th>\n",
       "      <th style=\"min-width: 12px;\">se(coef)</th>\n",
       "      <th style=\"min-width: 12px;\">coef lower 95%</th>\n",
       "      <th style=\"min-width: 12px;\">coef upper 95%</th>\n",
       "      <th style=\"min-width: 12px;\">exp(coef) lower 95%</th>\n",
       "      <th style=\"min-width: 12px;\">exp(coef) upper 95%</th>\n",
       "      <th style=\"min-width: 12px;\">cmp to</th>\n",
       "      <th style=\"min-width: 12px;\">z</th>\n",
       "      <th style=\"min-width: 12px;\">p</th>\n",
       "      <th style=\"min-width: 12px;\">-log2(p)</th>\n",
       "    </tr>\n",
       "  </thead>\n",
       "  <tbody>\n",
       "    <tr>\n",
       "      <th rowspan=\"6\" valign=\"top\">mu_</th>\n",
       "      <th>Q_HB_1</th>\n",
       "      <td>0.393</td>\n",
       "      <td>1.481</td>\n",
       "      <td>0.206</td>\n",
       "      <td>-0.011</td>\n",
       "      <td>0.797</td>\n",
       "      <td>0.989</td>\n",
       "      <td>2.219</td>\n",
       "      <td>0.000</td>\n",
       "      <td>1.905</td>\n",
       "      <td>0.057</td>\n",
       "      <td>4.137</td>\n",
       "    </tr>\n",
       "    <tr>\n",
       "      <th>Q_LN_1</th>\n",
       "      <td>0.309</td>\n",
       "      <td>1.362</td>\n",
       "      <td>0.170</td>\n",
       "      <td>-0.025</td>\n",
       "      <td>0.642</td>\n",
       "      <td>0.976</td>\n",
       "      <td>1.901</td>\n",
       "      <td>0.000</td>\n",
       "      <td>1.815</td>\n",
       "      <td>0.070</td>\n",
       "      <td>3.847</td>\n",
       "    </tr>\n",
       "    <tr>\n",
       "      <th>Q_RC_1</th>\n",
       "      <td>-0.004</td>\n",
       "      <td>0.996</td>\n",
       "      <td>0.156</td>\n",
       "      <td>-0.310</td>\n",
       "      <td>0.303</td>\n",
       "      <td>0.733</td>\n",
       "      <td>1.354</td>\n",
       "      <td>0.000</td>\n",
       "      <td>-0.023</td>\n",
       "      <td>0.982</td>\n",
       "      <td>0.026</td>\n",
       "    </tr>\n",
       "    <tr>\n",
       "      <th>Q_RC_2</th>\n",
       "      <td>0.439</td>\n",
       "      <td>1.551</td>\n",
       "      <td>0.143</td>\n",
       "      <td>0.159</td>\n",
       "      <td>0.719</td>\n",
       "      <td>1.172</td>\n",
       "      <td>2.052</td>\n",
       "      <td>0.000</td>\n",
       "      <td>3.074</td>\n",
       "      <td>0.002</td>\n",
       "      <td>8.885</td>\n",
       "    </tr>\n",
       "    <tr>\n",
       "      <th>Q_SV_1</th>\n",
       "      <td>0.177</td>\n",
       "      <td>1.194</td>\n",
       "      <td>0.081</td>\n",
       "      <td>0.017</td>\n",
       "      <td>0.337</td>\n",
       "      <td>1.018</td>\n",
       "      <td>1.400</td>\n",
       "      <td>0.000</td>\n",
       "      <td>2.174</td>\n",
       "      <td>0.030</td>\n",
       "      <td>5.071</td>\n",
       "    </tr>\n",
       "    <tr>\n",
       "      <th>Intercept</th>\n",
       "      <td>-3.973</td>\n",
       "      <td>0.019</td>\n",
       "      <td>0.641</td>\n",
       "      <td>-5.230</td>\n",
       "      <td>-2.717</td>\n",
       "      <td>0.005</td>\n",
       "      <td>0.066</td>\n",
       "      <td>0.000</td>\n",
       "      <td>-6.199</td>\n",
       "      <td>&lt;0.0005</td>\n",
       "      <td>30.717</td>\n",
       "    </tr>\n",
       "    <tr>\n",
       "      <th>sigma_</th>\n",
       "      <th>Intercept</th>\n",
       "      <td>-1.382</td>\n",
       "      <td>0.251</td>\n",
       "      <td>0.127</td>\n",
       "      <td>-1.630</td>\n",
       "      <td>-1.134</td>\n",
       "      <td>0.196</td>\n",
       "      <td>0.322</td>\n",
       "      <td>0.000</td>\n",
       "      <td>-10.912</td>\n",
       "      <td>&lt;0.0005</td>\n",
       "      <td>89.682</td>\n",
       "    </tr>\n",
       "  </tbody>\n",
       "</table><br><div>\n",
       "<style scoped>\n",
       "    .dataframe tbody tr th:only-of-type {\n",
       "        vertical-align: middle;\n",
       "    }\n",
       "\n",
       "    .dataframe tbody tr th {\n",
       "        vertical-align: top;\n",
       "    }\n",
       "\n",
       "    .dataframe thead th {\n",
       "        text-align: right;\n",
       "    }\n",
       "</style>\n",
       "<table border=\"1\" class=\"dataframe\">\n",
       "  <tbody>\n",
       "    <tr>\n",
       "      <th>Concordance</th>\n",
       "      <td>0.932</td>\n",
       "    </tr>\n",
       "    <tr>\n",
       "      <th>AIC</th>\n",
       "      <td>61.704</td>\n",
       "    </tr>\n",
       "    <tr>\n",
       "      <th>log-likelihood ratio test</th>\n",
       "      <td>48.707 on 5 df</td>\n",
       "    </tr>\n",
       "    <tr>\n",
       "      <th>-log2(p) of ll-ratio test</th>\n",
       "      <td>28.548</td>\n",
       "    </tr>\n",
       "  </tbody>\n",
       "</table>\n",
       "</div>"
      ],
      "text/latex": [
       "\\begin{tabular}{llrrrrrrrrrrr}\n",
       "\\toprule\n",
       "       &           &   coef &  exp(coef) &  se(coef) &  coef lower 95\\% &  coef upper 95\\% &  exp(coef) lower 95\\% &  exp(coef) upper 95\\% &  cmp to &       z &     p &  -log2(p) \\\\\n",
       "param & covariate &        &            &           &                 &                 &                      &                      &         &         &       &           \\\\\n",
       "\\midrule\n",
       "mu\\_ & Q\\_HB\\_1 &  0.393 &      1.481 &     0.206 &          -0.011 &           0.797 &                0.989 &                2.219 &   0.000 &   1.905 & 0.057 &     4.137 \\\\\n",
       "       & Q\\_LN\\_1 &  0.309 &      1.362 &     0.170 &          -0.025 &           0.642 &                0.976 &                1.901 &   0.000 &   1.815 & 0.070 &     3.847 \\\\\n",
       "       & Q\\_RC\\_1 & -0.004 &      0.996 &     0.156 &          -0.310 &           0.303 &                0.733 &                1.354 &   0.000 &  -0.023 & 0.982 &     0.026 \\\\\n",
       "       & Q\\_RC\\_2 &  0.439 &      1.551 &     0.143 &           0.159 &           0.719 &                1.172 &                2.052 &   0.000 &   3.074 & 0.002 &     8.885 \\\\\n",
       "       & Q\\_SV\\_1 &  0.177 &      1.194 &     0.081 &           0.017 &           0.337 &                1.018 &                1.400 &   0.000 &   2.174 & 0.030 &     5.071 \\\\\n",
       "       & Intercept & -3.973 &      0.019 &     0.641 &          -5.230 &          -2.717 &                0.005 &                0.066 &   0.000 &  -6.199 & 0.000 &    30.717 \\\\\n",
       "sigma\\_ & Intercept & -1.382 &      0.251 &     0.127 &          -1.630 &          -1.134 &                0.196 &                0.322 &   0.000 & -10.912 & 0.000 &    89.682 \\\\\n",
       "\\bottomrule\n",
       "\\end{tabular}\n"
      ],
      "text/plain": [
       "<lifelines.LogNormalAFTFitter: fitted with 32 total observations, 1 right-censored observations>\n",
       "             duration col = 'time'\n",
       "                event col = 'status'\n",
       "   number of observations = 32\n",
       "number of events observed = 31\n",
       "           log-likelihood = -23.852\n",
       "         time fit was run = 2022-06-10 03:44:21 UTC\n",
       "\n",
       "---\n",
       "                   coef  exp(coef)   se(coef)   coef lower 95%   coef upper 95%  exp(coef) lower 95%  exp(coef) upper 95%\n",
       "param  covariate                                                                                                         \n",
       "mu_    Q_HB_1     0.393      1.481      0.206           -0.011            0.797                0.989                2.219\n",
       "       Q_LN_1     0.309      1.362      0.170           -0.025            0.642                0.976                1.901\n",
       "       Q_RC_1    -0.004      0.996      0.156           -0.310            0.303                0.733                1.354\n",
       "       Q_RC_2     0.439      1.551      0.143            0.159            0.719                1.172                2.052\n",
       "       Q_SV_1     0.177      1.194      0.081            0.017            0.337                1.018                1.400\n",
       "       Intercept -3.973      0.019      0.641           -5.230           -2.717                0.005                0.066\n",
       "sigma_ Intercept -1.382      0.251      0.127           -1.630           -1.134                0.196                0.322\n",
       "\n",
       "                   cmp to       z       p   -log2(p)\n",
       "param  covariate                                    \n",
       "mu_    Q_HB_1       0.000   1.905   0.057      4.137\n",
       "       Q_LN_1       0.000   1.815   0.070      3.847\n",
       "       Q_RC_1       0.000  -0.023   0.982      0.026\n",
       "       Q_RC_2       0.000   3.074   0.002      8.885\n",
       "       Q_SV_1       0.000   2.174   0.030      5.071\n",
       "       Intercept    0.000  -6.199 <0.0005     30.717\n",
       "sigma_ Intercept    0.000 -10.912 <0.0005     89.682\n",
       "---\n",
       "Concordance = 0.932\n",
       "AIC = 61.704\n",
       "log-likelihood ratio test = 48.707 on 5 df\n",
       "-log2(p) of ll-ratio test = 28.548"
      ]
     },
     "metadata": {},
     "output_type": "display_data"
    }
   ],
   "source": [
    "lognormal_aft.print_summary(decimals=3)"
   ]
  },
  {
   "cell_type": "markdown",
   "metadata": {},
   "source": [
    "From the summary of the **Log-Normal Accelerated Failure Time Model** we can see that \n",
    "\n",
    "- The changes of score in every qualifiers stage affects the survival time in bracket stage expect **RC1** [**Fractal Dreamers - Defiance**](https://osu.ppy.sh/beatmapsets/1665424#mania/3399962) (i am sorry logan)\n",
    "- The relation of survival time and the changes of score in **HB1** [**Katagiri - HIVEMIND**](https://osu.ppy.sh/beatmapsets/1665442#mania/3399992) and **LN1** [**IAHN - Transform (Original Mix)**](https://osu.ppy.sh/beatmapsets/1665269#mania/3399628) are marginally significant (0.05 < p < 0.1)\n",
    "- **Q_SV_1** or [**she - Music Like This**](https://osu.ppy.sh/beatmapsets/1665415#mania/3399945) affects the chance of survival by increasing the survival time by approximately **19%** if the **score_logit** is increased by 1.\n",
    "- **Q_RC_2** or or [**Fleshgod Apocalypse - Fury**](https://osu.ppy.sh/beatmapsets/1665436#mania/3399979) affects the chance of survival by increasing the survival time by approximately **55%** if the **score_logit** is increased by 1.\n",
    "- **Q_LN_1** or or [**IAHN - Transform (Original Mix)**](https://osu.ppy.sh/beatmapsets/1665269#mania/3399628) affects the chance of survival by increasing the survival time by approximately **36%** if the **score_logit** is increased by 1.\n",
    "- **Q_HB_1** or or [**Katagiri - HIVEMIND**](https://osu.ppy.sh/beatmapsets/1665442#mania/3399992) affects the chance of survival by increasing the survival time by approximately **21%** if the **score_logit** is increased by 1."
   ]
  },
  {
   "cell_type": "markdown",
   "metadata": {},
   "source": [
    "#### Partial Effects Visualization\n",
    "\n",
    "This part of the analysis is about visualizing how score of each stage affects the survival rate of each round\n",
    "\n",
    "We will have 3 graphs to visualize the partial effects\n",
    "- **[ROUND_CATEGORY_TAG] = 3** : Simulating the situation where the average team score is 952574 (approx 950k) or the total score is approximately 2850000 or `logit(score) = 3`\n",
    "- **[ROUND_CATEGORY_TAG] = 5** : Simulating the situation where the average team score is 993307 (approx 993k) or the total score is approximately 2979000 or `logit(score) = 5`\n",
    "- **Baseline** : The baseline Log Normal model plotting of the survival chance"
   ]
  },
  {
   "cell_type": "code",
   "execution_count": 69,
   "metadata": {},
   "outputs": [
    {
     "data": {
      "text/plain": [
       "<AxesSubplot:>"
      ]
     },
     "execution_count": 69,
     "metadata": {},
     "output_type": "execute_result"
    },
    {
     "data": {
      "image/png": "[encoded data removed]",
      "text/plain": [
       "<Figure size 432x288 with 1 Axes>"
      ]
     },
     "metadata": {
      "needs_background": "light"
     },
     "output_type": "display_data"
    }
   ],
   "source": [
    "lognormal_aft.plot_partial_effects_on_outcome(covariates = 'Q_RC_1', values = [3,5], cmap = 'coolwarm')"
   ]
  },
  {
   "cell_type": "code",
   "execution_count": 70,
   "metadata": {},
   "outputs": [
    {
     "data": {
      "text/plain": [
       "<AxesSubplot:>"
      ]
     },
     "execution_count": 70,
     "metadata": {},
     "output_type": "execute_result"
    },
    {
     "data": {
      "image/png": "[encoded data removed]",
      "text/plain": [
       "<Figure size 432x288 with 1 Axes>"
      ]
     },
     "metadata": {
      "needs_background": "light"
     },
     "output_type": "display_data"
    }
   ],
   "source": [
    "lognormal_aft.plot_partial_effects_on_outcome(covariates = 'Q_RC_2', values = [3,5], cmap = 'coolwarm')"
   ]
  },
  {
   "cell_type": "code",
   "execution_count": 71,
   "metadata": {},
   "outputs": [
    {
     "data": {
      "text/plain": [
       "<AxesSubplot:>"
      ]
     },
     "execution_count": 71,
     "metadata": {},
     "output_type": "execute_result"
    },
    {
     "data": {
      "image/png": "[encoded data removed]",
      "text/plain": [
       "<Figure size 432x288 with 1 Axes>"
      ]
     },
     "metadata": {
      "needs_background": "light"
     },
     "output_type": "display_data"
    }
   ],
   "source": [
    "lognormal_aft.plot_partial_effects_on_outcome(covariates = 'Q_LN_1', values = [3,5], cmap = 'coolwarm')"
   ]
  },
  {
   "cell_type": "code",
   "execution_count": 72,
   "metadata": {},
   "outputs": [
    {
     "data": {
      "text/plain": [
       "<AxesSubplot:>"
      ]
     },
     "execution_count": 72,
     "metadata": {},
     "output_type": "execute_result"
    },
    {
     "data": {
      "image/png": "[encoded data removed]",
      "text/plain": [
       "<Figure size 432x288 with 1 Axes>"
      ]
     },
     "metadata": {
      "needs_background": "light"
     },
     "output_type": "display_data"
    }
   ],
   "source": [
    "lognormal_aft.plot_partial_effects_on_outcome(covariates = 'Q_HB_1', values = [3,5], cmap = 'coolwarm')"
   ]
  },
  {
   "cell_type": "code",
   "execution_count": 73,
   "metadata": {},
   "outputs": [
    {
     "name": "stdout",
     "output_type": "stream",
     "text": [
      "Median Survival Time 2.09559348580601\n",
      "Mean Survival Time 2.1626844939679195\n"
     ]
    }
   ],
   "source": [
    "print(\"Median Survival Time\", lognormal_aft.median_survival_time_)\n",
    "print(\"Mean Survival Time\", lognormal_aft.mean_survival_time_)"
   ]
  },
  {
   "cell_type": "markdown",
   "metadata": {},
   "source": [
    "#### AFT Model Prediction\n",
    "\n",
    "We use our previous **Log Normal Accelerated Failure Time** model to predict the survival rate of each country."
   ]
  },
  {
   "cell_type": "markdown",
   "metadata": {},
   "source": [
    "##### Survival Function Prediction\n",
    "\n",
    "Here, the model predicts the chance of survival in each round for each country according to Qualifiers Scores"
   ]
  },
  {
   "cell_type": "code",
   "execution_count": 79,
   "metadata": {},
   "outputs": [
    {
     "data": {
      "text/html": [
       "<div>\n",
       "<style scoped>\n",
       "    .dataframe tbody tr th:only-of-type {\n",
       "        vertical-align: middle;\n",
       "    }\n",
       "\n",
       "    .dataframe tbody tr th {\n",
       "        vertical-align: top;\n",
       "    }\n",
       "\n",
       "    .dataframe thead th {\n",
       "        text-align: right;\n",
       "    }\n",
       "</style>\n",
       "<table border=\"1\" class=\"dataframe\">\n",
       "  <thead>\n",
       "    <tr style=\"text-align: right;\">\n",
       "      <th></th>\n",
       "      <th>Argentina</th>\n",
       "      <th>Australia</th>\n",
       "      <th>Belgium</th>\n",
       "      <th>Brazil</th>\n",
       "      <th>Canada</th>\n",
       "      <th>Chile</th>\n",
       "      <th>Denmark</th>\n",
       "      <th>Dominican Republic</th>\n",
       "      <th>Finland</th>\n",
       "      <th>France</th>\n",
       "      <th>...</th>\n",
       "      <th>Russian Federation</th>\n",
       "      <th>Singapore</th>\n",
       "      <th>Spain</th>\n",
       "      <th>Sweden</th>\n",
       "      <th>Taiwan</th>\n",
       "      <th>Thailand</th>\n",
       "      <th>United Kingdom</th>\n",
       "      <th>United States</th>\n",
       "      <th>Venezuela</th>\n",
       "      <th>Vietnam</th>\n",
       "    </tr>\n",
       "  </thead>\n",
       "  <tbody>\n",
       "    <tr>\n",
       "      <th>1.0</th>\n",
       "      <td>7.694951e-01</td>\n",
       "      <td>0.998142</td>\n",
       "      <td>8.355890e-01</td>\n",
       "      <td>0.999942</td>\n",
       "      <td>0.999991</td>\n",
       "      <td>9.082448e-01</td>\n",
       "      <td>8.830751e-01</td>\n",
       "      <td>8.154791e-01</td>\n",
       "      <td>3.766294e-01</td>\n",
       "      <td>1.000000</td>\n",
       "      <td>...</td>\n",
       "      <td>0.987919</td>\n",
       "      <td>0.999943</td>\n",
       "      <td>0.998606</td>\n",
       "      <td>0.997947</td>\n",
       "      <td>0.995127</td>\n",
       "      <td>1.000000</td>\n",
       "      <td>0.999884</td>\n",
       "      <td>1.000000</td>\n",
       "      <td>8.879178e-01</td>\n",
       "      <td>0.999996</td>\n",
       "    </tr>\n",
       "    <tr>\n",
       "      <th>2.0</th>\n",
       "      <td>2.149593e-02</td>\n",
       "      <td>0.555772</td>\n",
       "      <td>3.717245e-02</td>\n",
       "      <td>0.863011</td>\n",
       "      <td>0.937989</td>\n",
       "      <td>7.622226e-02</td>\n",
       "      <td>5.815244e-02</td>\n",
       "      <td>3.125192e-02</td>\n",
       "      <td>1.051386e-03</td>\n",
       "      <td>0.999993</td>\n",
       "      <td>...</td>\n",
       "      <td>0.306275</td>\n",
       "      <td>0.863978</td>\n",
       "      <td>0.590663</td>\n",
       "      <td>0.543379</td>\n",
       "      <td>0.430031</td>\n",
       "      <td>0.999794</td>\n",
       "      <td>0.821041</td>\n",
       "      <td>0.999895</td>\n",
       "      <td>6.111934e-02</td>\n",
       "      <td>0.957667</td>\n",
       "    </tr>\n",
       "    <tr>\n",
       "      <th>3.0</th>\n",
       "      <td>1.369262e-04</td>\n",
       "      <td>0.070132</td>\n",
       "      <td>3.374826e-04</td>\n",
       "      <td>0.301143</td>\n",
       "      <td>0.469327</td>\n",
       "      <td>1.159476e-03</td>\n",
       "      <td>7.224199e-04</td>\n",
       "      <td>2.528009e-04</td>\n",
       "      <td>1.363452e-06</td>\n",
       "      <td>0.996845</td>\n",
       "      <td>...</td>\n",
       "      <td>0.016940</td>\n",
       "      <td>0.302683</td>\n",
       "      <td>0.082902</td>\n",
       "      <td>0.066019</td>\n",
       "      <td>0.036618</td>\n",
       "      <td>0.972359</td>\n",
       "      <td>0.243300</td>\n",
       "      <td>0.981733</td>\n",
       "      <td>7.874626e-04</td>\n",
       "      <td>0.543464</td>\n",
       "    </tr>\n",
       "    <tr>\n",
       "      <th>4.0</th>\n",
       "      <td>8.559447e-07</td>\n",
       "      <td>0.004387</td>\n",
       "      <td>2.740782e-06</td>\n",
       "      <td>0.047755</td>\n",
       "      <td>0.110690</td>\n",
       "      <td>1.382992e-05</td>\n",
       "      <td>7.406592e-06</td>\n",
       "      <td>1.884968e-06</td>\n",
       "      <td>2.668740e-09</td>\n",
       "      <td>0.943548</td>\n",
       "      <td>...</td>\n",
       "      <td>0.000543</td>\n",
       "      <td>0.048196</td>\n",
       "      <td>0.005675</td>\n",
       "      <td>0.004001</td>\n",
       "      <td>0.001656</td>\n",
       "      <td>0.779573</td>\n",
       "      <td>0.032764</td>\n",
       "      <td>0.827677</td>\n",
       "      <td>8.295930e-06</td>\n",
       "      <td>0.149928</td>\n",
       "    </tr>\n",
       "    <tr>\n",
       "      <th>5.0</th>\n",
       "      <td>6.991434e-09</td>\n",
       "      <td>0.000224</td>\n",
       "      <td>2.750687e-08</td>\n",
       "      <td>0.005296</td>\n",
       "      <td>0.017356</td>\n",
       "      <td>1.879645e-07</td>\n",
       "      <td>8.932483e-08</td>\n",
       "      <td>1.768722e-08</td>\n",
       "      <td>8.771861e-12</td>\n",
       "      <td>0.756922</td>\n",
       "      <td>...</td>\n",
       "      <td>0.000016</td>\n",
       "      <td>0.005364</td>\n",
       "      <td>0.000312</td>\n",
       "      <td>0.000199</td>\n",
       "      <td>0.000065</td>\n",
       "      <td>0.453000</td>\n",
       "      <td>0.003162</td>\n",
       "      <td>0.522405</td>\n",
       "      <td>1.022201e-07</td>\n",
       "      <td>0.027079</td>\n",
       "    </tr>\n",
       "  </tbody>\n",
       "</table>\n",
       "<p>5 rows × 32 columns</p>\n",
       "</div>"
      ],
      "text/plain": [
       "        Argentina  Australia       Belgium    Brazil    Canada         Chile  \\\n",
       "1.0  7.694951e-01   0.998142  8.355890e-01  0.999942  0.999991  9.082448e-01   \n",
       "2.0  2.149593e-02   0.555772  3.717245e-02  0.863011  0.937989  7.622226e-02   \n",
       "3.0  1.369262e-04   0.070132  3.374826e-04  0.301143  0.469327  1.159476e-03   \n",
       "4.0  8.559447e-07   0.004387  2.740782e-06  0.047755  0.110690  1.382992e-05   \n",
       "5.0  6.991434e-09   0.000224  2.750687e-08  0.005296  0.017356  1.879645e-07   \n",
       "\n",
       "          Denmark  Dominican Republic       Finland    France  ...  \\\n",
       "1.0  8.830751e-01        8.154791e-01  3.766294e-01  1.000000  ...   \n",
       "2.0  5.815244e-02        3.125192e-02  1.051386e-03  0.999993  ...   \n",
       "3.0  7.224199e-04        2.528009e-04  1.363452e-06  0.996845  ...   \n",
       "4.0  7.406592e-06        1.884968e-06  2.668740e-09  0.943548  ...   \n",
       "5.0  8.932483e-08        1.768722e-08  8.771861e-12  0.756922  ...   \n",
       "\n",
       "     Russian Federation  Singapore     Spain    Sweden    Taiwan  Thailand  \\\n",
       "1.0            0.987919   0.999943  0.998606  0.997947  0.995127  1.000000   \n",
       "2.0            0.306275   0.863978  0.590663  0.543379  0.430031  0.999794   \n",
       "3.0            0.016940   0.302683  0.082902  0.066019  0.036618  0.972359   \n",
       "4.0            0.000543   0.048196  0.005675  0.004001  0.001656  0.779573   \n",
       "5.0            0.000016   0.005364  0.000312  0.000199  0.000065  0.453000   \n",
       "\n",
       "     United Kingdom  United States     Venezuela   Vietnam  \n",
       "1.0        0.999884       1.000000  8.879178e-01  0.999996  \n",
       "2.0        0.821041       0.999895  6.111934e-02  0.957667  \n",
       "3.0        0.243300       0.981733  7.874626e-04  0.543464  \n",
       "4.0        0.032764       0.827677  8.295930e-06  0.149928  \n",
       "5.0        0.003162       0.522405  1.022201e-07  0.027079  \n",
       "\n",
       "[5 rows x 32 columns]"
      ]
     },
     "execution_count": 79,
     "metadata": {},
     "output_type": "execute_result"
    }
   ],
   "source": [
    "country_survival_prediction = lognormal_aft.predict_survival_function(_4dm4_teams_qualifiers_table)\n",
    "\n",
    "country_survival_prediction"
   ]
  },
  {
   "cell_type": "markdown",
   "metadata": {},
   "source": [
    "We then want to observe the survival chance of **Thailand** (2nd Place) and **United States** (Semifinals) according to Qualifiers Scores"
   ]
  },
  {
   "cell_type": "code",
   "execution_count": 75,
   "metadata": {},
   "outputs": [
    {
     "data": {
      "text/plain": [
       "<matplotlib.legend.Legend at 0x1fc88516a70>"
      ]
     },
     "execution_count": 75,
     "metadata": {},
     "output_type": "execute_result"
    },
    {
     "data": {
      "image/png": "[encoded data removed]",
      "text/plain": [
       "<Figure size 432x288 with 1 Axes>"
      ]
     },
     "metadata": {
      "needs_background": "light"
     },
     "output_type": "display_data"
    }
   ],
   "source": [
    "thailand_survival_chance = country_survival_prediction['Thailand']\n",
    "us_survival_chance = country_survival_prediction['United States']\n",
    "\n",
    "thailand_survival_chance.plot()\n",
    "us_survival_chance.plot()\n",
    "plt.legend()"
   ]
  },
  {
   "cell_type": "markdown",
   "metadata": {},
   "source": [
    "According to Qualifiers Scores, **United States** has a slightly higher chance of survival in late game (Semifinals to Grand Finals). But the survival chance at the early game is equivalent to each other."
   ]
  },
  {
   "cell_type": "markdown",
   "metadata": {},
   "source": [
    "##### Survival Time Prediction\n",
    "\n",
    "Here, we use the model to predict the **Survival Time** or **Survival Round** of each country."
   ]
  },
  {
   "cell_type": "code",
   "execution_count": 76,
   "metadata": {},
   "outputs": [
    {
     "data": {
      "text/html": [
       "<div>\n",
       "<style scoped>\n",
       "    .dataframe tbody tr th:only-of-type {\n",
       "        vertical-align: middle;\n",
       "    }\n",
       "\n",
       "    .dataframe tbody tr th {\n",
       "        vertical-align: top;\n",
       "    }\n",
       "\n",
       "    .dataframe thead th {\n",
       "        text-align: right;\n",
       "    }\n",
       "</style>\n",
       "<table border=\"1\" class=\"dataframe\">\n",
       "  <thead>\n",
       "    <tr style=\"text-align: right;\">\n",
       "      <th></th>\n",
       "      <th>median_surv</th>\n",
       "    </tr>\n",
       "  </thead>\n",
       "  <tbody>\n",
       "    <tr>\n",
       "      <th>Argentina</th>\n",
       "      <td>1.203305</td>\n",
       "    </tr>\n",
       "    <tr>\n",
       "      <th>Australia</th>\n",
       "      <td>2.071679</td>\n",
       "    </tr>\n",
       "    <tr>\n",
       "      <th>Belgium</th>\n",
       "      <td>1.277812</td>\n",
       "    </tr>\n",
       "    <tr>\n",
       "      <th>Brazil</th>\n",
       "      <td>2.632108</td>\n",
       "    </tr>\n",
       "    <tr>\n",
       "      <th>Canada</th>\n",
       "      <td>2.942593</td>\n",
       "    </tr>\n",
       "  </tbody>\n",
       "</table>\n",
       "</div>"
      ],
      "text/plain": [
       "           median_surv\n",
       "Argentina     1.203305\n",
       "Australia     2.071679\n",
       "Belgium       1.277812\n",
       "Brazil        2.632108\n",
       "Canada        2.942593"
      ]
     },
     "execution_count": 76,
     "metadata": {},
     "output_type": "execute_result"
    }
   ],
   "source": [
    "country_median_survival_prediction = lognormal_aft.predict_median(_4dm4_teams_qualifiers_table)\n",
    "country_median_survival_prediction = pd.DataFrame(country_median_survival_prediction, columns=['median_surv'])\n",
    "country_median_survival_prediction.head()"
   ]
  },
  {
   "cell_type": "markdown",
   "metadata": {},
   "source": [
    "We use `surv_value_to_round` to convert the `median_surv` to the interpretable data, namely the round that the country is expected to be survived."
   ]
  },
  {
   "cell_type": "code",
   "execution_count": 77,
   "metadata": {},
   "outputs": [],
   "source": [
    "def surv_value_to_round(median_surv):\n",
    "    return rounds[min(round(median_surv)-1, 4)]"
   ]
  },
  {
   "cell_type": "markdown",
   "metadata": {},
   "source": [
    "We then convert the data from `median_surv` to `surv_round`"
   ]
  },
  {
   "cell_type": "code",
   "execution_count": 80,
   "metadata": {},
   "outputs": [
    {
     "data": {
      "text/html": [
       "<div>\n",
       "<style scoped>\n",
       "    .dataframe tbody tr th:only-of-type {\n",
       "        vertical-align: middle;\n",
       "    }\n",
       "\n",
       "    .dataframe tbody tr th {\n",
       "        vertical-align: top;\n",
       "    }\n",
       "\n",
       "    .dataframe thead th {\n",
       "        text-align: right;\n",
       "    }\n",
       "</style>\n",
       "<table border=\"1\" class=\"dataframe\">\n",
       "  <thead>\n",
       "    <tr style=\"text-align: right;\">\n",
       "      <th></th>\n",
       "      <th>median_surv</th>\n",
       "      <th>surv_round</th>\n",
       "    </tr>\n",
       "  </thead>\n",
       "  <tbody>\n",
       "    <tr>\n",
       "      <th>France</th>\n",
       "      <td>5.955287</td>\n",
       "      <td>GF</td>\n",
       "    </tr>\n",
       "    <tr>\n",
       "      <th>United States</th>\n",
       "      <td>5.071033</td>\n",
       "      <td>GF</td>\n",
       "    </tr>\n",
       "    <tr>\n",
       "      <th>Thailand</th>\n",
       "      <td>4.853949</td>\n",
       "      <td>GF</td>\n",
       "    </tr>\n",
       "    <tr>\n",
       "      <th>Peru</th>\n",
       "      <td>3.700600</td>\n",
       "      <td>F</td>\n",
       "    </tr>\n",
       "    <tr>\n",
       "      <th>Netherlands</th>\n",
       "      <td>3.460923</td>\n",
       "      <td>SF</td>\n",
       "    </tr>\n",
       "    <tr>\n",
       "      <th>Indonesia</th>\n",
       "      <td>3.209112</td>\n",
       "      <td>SF</td>\n",
       "    </tr>\n",
       "    <tr>\n",
       "      <th>Malaysia</th>\n",
       "      <td>3.128335</td>\n",
       "      <td>SF</td>\n",
       "    </tr>\n",
       "    <tr>\n",
       "      <th>Vietnam</th>\n",
       "      <td>3.083355</td>\n",
       "      <td>SF</td>\n",
       "    </tr>\n",
       "    <tr>\n",
       "      <th>Canada</th>\n",
       "      <td>2.942593</td>\n",
       "      <td>SF</td>\n",
       "    </tr>\n",
       "    <tr>\n",
       "      <th>Philippines</th>\n",
       "      <td>2.785485</td>\n",
       "      <td>SF</td>\n",
       "    </tr>\n",
       "  </tbody>\n",
       "</table>\n",
       "</div>"
      ],
      "text/plain": [
       "               median_surv surv_round\n",
       "France            5.955287         GF\n",
       "United States     5.071033         GF\n",
       "Thailand          4.853949         GF\n",
       "Peru              3.700600          F\n",
       "Netherlands       3.460923         SF\n",
       "Indonesia         3.209112         SF\n",
       "Malaysia          3.128335         SF\n",
       "Vietnam           3.083355         SF\n",
       "Canada            2.942593         SF\n",
       "Philippines       2.785485         SF"
      ]
     },
     "execution_count": 80,
     "metadata": {},
     "output_type": "execute_result"
    }
   ],
   "source": [
    "country_median_survival_prediction['surv_round'] = country_median_survival_prediction['median_surv'].apply(surv_value_to_round)\n",
    "country_median_survival_prediction.sort_values('median_surv', ascending=False).head(10)"
   ]
  },
  {
   "cell_type": "markdown",
   "metadata": {},
   "source": [
    "## References\n",
    "\n",
    "Survival Analysis models and Code : https://medium.com/the-researchers-guide/survival-analysis-in-python-km-estimate-cox-ph-and-aft-model-5533843c5d5d"
   ]
  }
 ],
 "metadata": {
  "interpreter": {
   "hash": "a9cff5a362bc38ef45d817ae74b1af54d6a076e3d773891282bce078b815ba34"
  },
  "kernelspec": {
   "display_name": "Python 3.10.4 64-bit",
   "language": "python",
   "name": "python3"
  },
  "language_info": {
   "codemirror_mode": {
    "name": "ipython",
    "version": 3
   },
   "file_extension": ".py",
   "mimetype": "text/x-python",
   "name": "python",
   "nbconvert_exporter": "python",
   "pygments_lexer": "ipython3",
   "version": "3.10.4"
  },
  "orig_nbformat": 4
 },
 "nbformat": 4,
 "nbformat_minor": 2
}
