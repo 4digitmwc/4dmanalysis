{
 "cells": [
  {
   "cell_type": "markdown",
   "metadata": {},
   "source": [
    "# Outlier Detection of 4 Digit MWC 4 Players using Tournament Scores"
   ]
  },
  {
   "cell_type": "markdown",
   "metadata": {},
   "source": [
    "## Objective\n",
    "\n",
    "This analysis aims for the main goal of the 4dm4 analysis, which is to find the robust model to **Skillban** the outperformers (Derankers) in rank-restricted tournament with the sample data being **4 digit mwc 4 scores** from official Multiplayer Links. We have defined the **Derankers** as follows\n",
    "\n",
    "Derankers (n.) *a player who outperforms other players in the rank-restricted tournament.*\n",
    "\n",
    "\"Outperform\" is, at a glance, subjective to define. The question arises that what is the criteria of a player to be an *Outperformer* or a *Deranker*. Of course, we use statistics to reduce the \"subjectiveness\" of the definitions."
   ]
  },
  {
   "cell_type": "markdown",
   "metadata": {},
   "source": [
    "## Methodology\n",
    "\n",
    "Recapped from previous analyses, we have analyzed the follows:\n",
    "- Dimensionality Reduction Techniques and Various Outlier Detection Models.\n",
    "    - Note : This attempt failed because how unexplainable the model is\n",
    "- Regression Analysis to find the Progression of the Scores through the rounds.\n",
    "- Survival Analysis & Logistic Regression to find the effect of qualifiers scores on the bracket elimination stages.\n",
    "- Experimentation with Box-Cox Transformation to make our score data Normally Distributed (failed however sadge).\n",
    "\n",
    "This Notebook is the attempt of applying **Local Outlier Factor (LOF)** to detect the outliers from the model. There will be a twist of Index abusing the **Local Outlier Factor** model using the different distance metric to satisfy our objections."
   ]
  },
  {
   "cell_type": "markdown",
   "metadata": {},
   "source": [
    "## Local Outlier Factor\n",
    "\n",
    "**Local Outlier Factor** is an **Outlier Detection Model** which uses the **Local Reachability Density** to detect the outliers. Namely, the **Data Point** with low Local Density will be considered outliers. Before we go into the details, it would be a good approach to simplify some complicate definitions down.\n",
    "\n",
    "#### Definitions\n",
    "\n",
    "**Reachability Distance** : The maximum of distance the point A needs to reach to point B and the distance from point B to their k-closest neighbors. The visualization can be that given B is a friend with k neighbors, how long (or how much distance) would it take to befriend with A.\n",
    "\n",
    "**Local Reachability Density** : In a nutshell, assuming A has k-nearest neighbors, the Local Reachability Density is how tiring it is for A to communicate with their neighbors face-to-face.\n",
    "\n",
    "**Local Outlier Factor** : After these two definitions, A compare their extrovertness with neighbors and result in how introvert A is. If A is too introverted (LOF is high) -> A is an outlier.\n",
    "\n",
    "Well, I hope you guys find this \"oversimplification\" understandable. However, as Index has mentioned, he abused this introvertness meter with a new distance metric."
   ]
  },
  {
   "cell_type": "markdown",
   "metadata": {},
   "source": [
    "\n",
    "### Local Outlier Factor with Elastic Euclidean Distance\n",
    "\n",
    "Normally, **Local Outlier Factor** model uses **Euclidean Distance** as a main distance metric, namely for defining **Local Reachability Density** and **Local Outlier Factor**. This approach will detect the data points which has less density. This comes with the problem when they detect the point near the center and they don't use \"score\" as a consideration that much, so we implemented the **Elastic Net** into the Euclidean Distance Metric and call it **Elastic Euclidean Distance**\n",
    "\n",
    "**Elastic Euclidean Distance** is defined as follows :\n",
    "```python\n",
    "def elastic_euclidean(A, B):\n",
    "    return euclidean(A, B) * lmbda1 + sum(A ** 2) * lmbda2 + sum(abs(A)) * lmbda3\n",
    "```\n",
    "\n",
    "where `lmbda1`, `lmbda2` and `lmbda3` are **Hyperparameters** (they are user-defined)\n",
    "\n",
    "- sum(A ** 2) : is called a \"Ridge Factor\", it is a soft metric to add up more scores to the anomaly\n",
    "- sum(abs(A)) : is called a \"Lasso Factor\", it is a hard metric to add up more scores to the anomaly\n",
    "\n",
    "TODO : Find the difference between two factors\n",
    "\n",
    "However, in this approach, you need to standardize the data (classic (x - mu) / sigma) before fitting the model to prevent the value inflation."
   ]
  },
  {
   "cell_type": "markdown",
   "metadata": {},
   "source": [
    "### Local Outlier Factor Code Explanation"
   ]
  },
  {
   "cell_type": "markdown",
   "metadata": {},
   "source": [
    "#### Import Necessary Libraries\n",
    "\n",
    "Here, we use `pandas` for DataFrame managements, `matplotlib.pyplot` for further visualization and `numpy` for finding `mean` and `std`"
   ]
  },
  {
   "cell_type": "code",
   "execution_count": 1,
   "metadata": {},
   "outputs": [],
   "source": [
    "import pandas as pd\n",
    "import matplotlib.pyplot as plt\n",
    "import numpy as np"
   ]
  },
  {
   "cell_type": "markdown",
   "metadata": {},
   "source": [
    "#### Import Necessary Utilities\n",
    "\n",
    "These are utilities that are available on the original repository. We will use\n",
    "- **LOF** for Local Outlier Factor Model\n",
    "- **nan_euclidean** and **elastic_nan_euclidean** for Local Outlier Factor Metric\n",
    "- **get_table_players** for transforming data which is gathered from `sqlite3 .db`\n",
    "- **Dataset** to deal with `sqlite3 .db` in general"
   ]
  },
  {
   "cell_type": "code",
   "execution_count": 2,
   "metadata": {},
   "outputs": [],
   "source": [
    "from utils.lof import LOF\n",
    "from utils.metrics import nan_euclidean, elastic_nan_euclidean\n",
    "from utils import get_table_players"
   ]
  },
  {
   "cell_type": "code",
   "execution_count": 3,
   "metadata": {},
   "outputs": [],
   "source": [
    "from utils import Dataset"
   ]
  },
  {
   "cell_type": "markdown",
   "metadata": {},
   "source": [
    "#### Defining the Elastic Euclidean Distance\n",
    "\n",
    "Here, we use `lmbda1` = 1; `lmbda2` = `lmbda3` = 0.25 so the formula of our distance metric is\n",
    "\n",
    "euclidean(A, B) * 1 + sum(A ** 2) * 0.25 + sum(abs(A)) * 0.25"
   ]
  },
  {
   "cell_type": "code",
   "execution_count": 4,
   "metadata": {},
   "outputs": [],
   "source": [
    "euclidean_regularized = elastic_nan_euclidean(1, 0.25, 0.25)"
   ]
  },
  {
   "cell_type": "markdown",
   "metadata": {},
   "source": [
    "#### Initializing the Dataset and Querying the data\n",
    "\n",
    "We use `4dm4.db` for our current study, and the logit transformation of scores from all round which has the category `LN`, `RC` and `HB`"
   ]
  },
  {
   "cell_type": "code",
   "execution_count": 5,
   "metadata": {},
   "outputs": [],
   "source": [
    "_4dm4_impute = Dataset('4dm4.db')"
   ]
  },
  {
   "cell_type": "code",
   "execution_count": 6,
   "metadata": {},
   "outputs": [],
   "source": [
    "_4dm4_data = _4dm4_impute.select('scores', columns=['player_name', 'round', 'beatmap_type', 'beatmap_tag', 'score_logit'], where={\n",
    "    'beatmap_type': ['LN', 'RC', 'HB'],\n",
    "})"
   ]
  },
  {
   "cell_type": "markdown",
   "metadata": {},
   "source": [
    "#### Data Transformation\n",
    "\n",
    "We then transform the Queried Data to the table of players and maps"
   ]
  },
  {
   "cell_type": "code",
   "execution_count": 7,
   "metadata": {},
   "outputs": [],
   "source": [
    "_4dm4_table = get_table_players(_4dm4_data)"
   ]
  },
  {
   "cell_type": "markdown",
   "metadata": {},
   "source": [
    "#### Standardizing the Data"
   ]
  },
  {
   "cell_type": "markdown",
   "metadata": {},
   "source": [
    "As mentioned in [this part](#local-outlier-factor-with-elastic-euclidean-distance), we need to standardize data in order to use the model with this metric. So we define `standardized_4dm` then standardize depending on individual maps and ignoring the `NaN` data."
   ]
  },
  {
   "cell_type": "code",
   "execution_count": 8,
   "metadata": {},
   "outputs": [],
   "source": [
    "standardized_4dm = pd.DataFrame(index=_4dm4_table.index)"
   ]
  },
  {
   "cell_type": "code",
   "execution_count": 9,
   "metadata": {},
   "outputs": [],
   "source": [
    "for col in _4dm4_table.columns:\n",
    "    mu = np.nanmean(_4dm4_table[col]); sigma = np.nanstd(_4dm4_table[col], ddof=1)\n",
    "    standardized_4dm[col] = _4dm4_table[col].apply(lambda x: (x - mu) / sigma)"
   ]
  },
  {
   "cell_type": "code",
   "execution_count": 10,
   "metadata": {},
   "outputs": [
    {
     "data": {
      "text/html": [
       "<div>\n",
       "<style scoped>\n",
       "    .dataframe tbody tr th:only-of-type {\n",
       "        vertical-align: middle;\n",
       "    }\n",
       "\n",
       "    .dataframe tbody tr th {\n",
       "        vertical-align: top;\n",
       "    }\n",
       "\n",
       "    .dataframe thead th {\n",
       "        text-align: right;\n",
       "    }\n",
       "</style>\n",
       "<table border=\"1\" class=\"dataframe\">\n",
       "  <thead>\n",
       "    <tr style=\"text-align: right;\">\n",
       "      <th></th>\n",
       "      <th>Q_RC_1</th>\n",
       "      <th>Q_RC_2</th>\n",
       "      <th>Q_LN_1</th>\n",
       "      <th>Q_HB_1</th>\n",
       "      <th>RO32_RC_1</th>\n",
       "      <th>RO32_RC_4</th>\n",
       "      <th>RO32_RC_5</th>\n",
       "      <th>RO32_LN_3</th>\n",
       "      <th>RO32_HB_1</th>\n",
       "      <th>RO16_RC_1</th>\n",
       "      <th>...</th>\n",
       "      <th>GF_RC_7</th>\n",
       "      <th>GF_LN_2</th>\n",
       "      <th>GF_LN_3</th>\n",
       "      <th>GF_LN_4</th>\n",
       "      <th>GF_HB_1</th>\n",
       "      <th>GF_HB_2</th>\n",
       "      <th>GF_HB_3</th>\n",
       "      <th>SF_RC_2</th>\n",
       "      <th>SF_HB_3</th>\n",
       "      <th>GF_RC_3</th>\n",
       "    </tr>\n",
       "  </thead>\n",
       "  <tbody>\n",
       "    <tr>\n",
       "      <th>drag_</th>\n",
       "      <td>-1.271311</td>\n",
       "      <td>-0.888601</td>\n",
       "      <td>-0.288915</td>\n",
       "      <td>NaN</td>\n",
       "      <td>NaN</td>\n",
       "      <td>NaN</td>\n",
       "      <td>NaN</td>\n",
       "      <td>NaN</td>\n",
       "      <td>NaN</td>\n",
       "      <td>NaN</td>\n",
       "      <td>...</td>\n",
       "      <td>NaN</td>\n",
       "      <td>NaN</td>\n",
       "      <td>NaN</td>\n",
       "      <td>NaN</td>\n",
       "      <td>NaN</td>\n",
       "      <td>NaN</td>\n",
       "      <td>NaN</td>\n",
       "      <td>NaN</td>\n",
       "      <td>NaN</td>\n",
       "      <td>NaN</td>\n",
       "    </tr>\n",
       "    <tr>\n",
       "      <th>JPBenedictGame</th>\n",
       "      <td>-0.133422</td>\n",
       "      <td>0.052810</td>\n",
       "      <td>-0.519245</td>\n",
       "      <td>-0.407806</td>\n",
       "      <td>NaN</td>\n",
       "      <td>NaN</td>\n",
       "      <td>NaN</td>\n",
       "      <td>NaN</td>\n",
       "      <td>NaN</td>\n",
       "      <td>NaN</td>\n",
       "      <td>...</td>\n",
       "      <td>NaN</td>\n",
       "      <td>NaN</td>\n",
       "      <td>NaN</td>\n",
       "      <td>NaN</td>\n",
       "      <td>NaN</td>\n",
       "      <td>NaN</td>\n",
       "      <td>NaN</td>\n",
       "      <td>NaN</td>\n",
       "      <td>NaN</td>\n",
       "      <td>NaN</td>\n",
       "    </tr>\n",
       "    <tr>\n",
       "      <th>iVALORUS</th>\n",
       "      <td>-2.538866</td>\n",
       "      <td>-1.609407</td>\n",
       "      <td>-2.138151</td>\n",
       "      <td>-1.485972</td>\n",
       "      <td>NaN</td>\n",
       "      <td>NaN</td>\n",
       "      <td>NaN</td>\n",
       "      <td>NaN</td>\n",
       "      <td>NaN</td>\n",
       "      <td>NaN</td>\n",
       "      <td>...</td>\n",
       "      <td>NaN</td>\n",
       "      <td>NaN</td>\n",
       "      <td>NaN</td>\n",
       "      <td>NaN</td>\n",
       "      <td>NaN</td>\n",
       "      <td>NaN</td>\n",
       "      <td>NaN</td>\n",
       "      <td>NaN</td>\n",
       "      <td>NaN</td>\n",
       "      <td>NaN</td>\n",
       "    </tr>\n",
       "    <tr>\n",
       "      <th>BL5</th>\n",
       "      <td>0.293309</td>\n",
       "      <td>-0.947536</td>\n",
       "      <td>0.162731</td>\n",
       "      <td>0.073857</td>\n",
       "      <td>-1.536132</td>\n",
       "      <td>-1.589838</td>\n",
       "      <td>-0.170574</td>\n",
       "      <td>-0.071868</td>\n",
       "      <td>NaN</td>\n",
       "      <td>NaN</td>\n",
       "      <td>...</td>\n",
       "      <td>NaN</td>\n",
       "      <td>NaN</td>\n",
       "      <td>NaN</td>\n",
       "      <td>NaN</td>\n",
       "      <td>NaN</td>\n",
       "      <td>NaN</td>\n",
       "      <td>NaN</td>\n",
       "      <td>NaN</td>\n",
       "      <td>NaN</td>\n",
       "      <td>NaN</td>\n",
       "    </tr>\n",
       "    <tr>\n",
       "      <th>-Tebo-</th>\n",
       "      <td>0.427527</td>\n",
       "      <td>-0.009594</td>\n",
       "      <td>0.551290</td>\n",
       "      <td>-0.779546</td>\n",
       "      <td>0.079211</td>\n",
       "      <td>1.000453</td>\n",
       "      <td>0.577630</td>\n",
       "      <td>0.090251</td>\n",
       "      <td>0.900541</td>\n",
       "      <td>0.542193</td>\n",
       "      <td>...</td>\n",
       "      <td>NaN</td>\n",
       "      <td>NaN</td>\n",
       "      <td>NaN</td>\n",
       "      <td>NaN</td>\n",
       "      <td>NaN</td>\n",
       "      <td>NaN</td>\n",
       "      <td>NaN</td>\n",
       "      <td>NaN</td>\n",
       "      <td>NaN</td>\n",
       "      <td>NaN</td>\n",
       "    </tr>\n",
       "  </tbody>\n",
       "</table>\n",
       "<p>5 rows × 73 columns</p>\n",
       "</div>"
      ],
      "text/plain": [
       "                  Q_RC_1    Q_RC_2    Q_LN_1    Q_HB_1  RO32_RC_1  RO32_RC_4  \\\n",
       "drag_          -1.271311 -0.888601 -0.288915       NaN        NaN        NaN   \n",
       "JPBenedictGame -0.133422  0.052810 -0.519245 -0.407806        NaN        NaN   \n",
       "iVALORUS       -2.538866 -1.609407 -2.138151 -1.485972        NaN        NaN   \n",
       "BL5             0.293309 -0.947536  0.162731  0.073857  -1.536132  -1.589838   \n",
       "-Tebo-          0.427527 -0.009594  0.551290 -0.779546   0.079211   1.000453   \n",
       "\n",
       "                RO32_RC_5  RO32_LN_3  RO32_HB_1  RO16_RC_1  ...  GF_RC_7  \\\n",
       "drag_                 NaN        NaN        NaN        NaN  ...      NaN   \n",
       "JPBenedictGame        NaN        NaN        NaN        NaN  ...      NaN   \n",
       "iVALORUS              NaN        NaN        NaN        NaN  ...      NaN   \n",
       "BL5             -0.170574  -0.071868        NaN        NaN  ...      NaN   \n",
       "-Tebo-           0.577630   0.090251   0.900541   0.542193  ...      NaN   \n",
       "\n",
       "                GF_LN_2  GF_LN_3  GF_LN_4  GF_HB_1  GF_HB_2  GF_HB_3  SF_RC_2  \\\n",
       "drag_               NaN      NaN      NaN      NaN      NaN      NaN      NaN   \n",
       "JPBenedictGame      NaN      NaN      NaN      NaN      NaN      NaN      NaN   \n",
       "iVALORUS            NaN      NaN      NaN      NaN      NaN      NaN      NaN   \n",
       "BL5                 NaN      NaN      NaN      NaN      NaN      NaN      NaN   \n",
       "-Tebo-              NaN      NaN      NaN      NaN      NaN      NaN      NaN   \n",
       "\n",
       "                SF_HB_3  GF_RC_3  \n",
       "drag_               NaN      NaN  \n",
       "JPBenedictGame      NaN      NaN  \n",
       "iVALORUS            NaN      NaN  \n",
       "BL5                 NaN      NaN  \n",
       "-Tebo-              NaN      NaN  \n",
       "\n",
       "[5 rows x 73 columns]"
      ]
     },
     "execution_count": 10,
     "metadata": {},
     "output_type": "execute_result"
    }
   ],
   "source": [
    "standardized_4dm.head()"
   ]
  },
  {
   "cell_type": "markdown",
   "metadata": {},
   "source": [
    "#### Implementing the Local Outlier Factor Model\n",
    "\n",
    "We then declare the model with n_neighbors (k) = 5 and use our defined Elastic Euclidean Distance as a Metric"
   ]
  },
  {
   "cell_type": "code",
   "execution_count": 11,
   "metadata": {},
   "outputs": [],
   "source": [
    "lof_euclid = LOF(5, euclidean_regularized)"
   ]
  },
  {
   "cell_type": "markdown",
   "metadata": {},
   "source": [
    "We then train and predict the Local Outlier Factor of each player, stored in `lof_values`"
   ]
  },
  {
   "cell_type": "code",
   "execution_count": 12,
   "metadata": {},
   "outputs": [],
   "source": [
    "lof_values = lof_euclid.fit_predict(standardized_4dm.values)"
   ]
  },
  {
   "cell_type": "markdown",
   "metadata": {},
   "source": [
    "Then we map those in a `DataFrame` in order to assign players their Local Outlier Factors"
   ]
  },
  {
   "cell_type": "code",
   "execution_count": 13,
   "metadata": {},
   "outputs": [],
   "source": [
    "lof_4dm = pd.DataFrame(index=standardized_4dm.index)\n",
    "\n",
    "lof_4dm['lof'] = lof_values"
   ]
  },
  {
   "cell_type": "markdown",
   "metadata": {},
   "source": [
    "This is the outlier score of **shokoha**, an outstanding player in 4 digit MWC 4."
   ]
  },
  {
   "cell_type": "code",
   "execution_count": 14,
   "metadata": {},
   "outputs": [
    {
     "data": {
      "text/plain": [
       "lof    12.094472\n",
       "Name: shokoha, dtype: float64"
      ]
     },
     "execution_count": 14,
     "metadata": {},
     "output_type": "execute_result"
    }
   ],
   "source": [
    "lof_4dm.loc['shokoha']"
   ]
  },
  {
   "cell_type": "markdown",
   "metadata": {},
   "source": [
    "These are top 16 of the players who have the highest outlier scores."
   ]
  },
  {
   "cell_type": "code",
   "execution_count": 15,
   "metadata": {},
   "outputs": [
    {
     "data": {
      "text/html": [
       "<div>\n",
       "<style scoped>\n",
       "    .dataframe tbody tr th:only-of-type {\n",
       "        vertical-align: middle;\n",
       "    }\n",
       "\n",
       "    .dataframe tbody tr th {\n",
       "        vertical-align: top;\n",
       "    }\n",
       "\n",
       "    .dataframe thead th {\n",
       "        text-align: right;\n",
       "    }\n",
       "</style>\n",
       "<table border=\"1\" class=\"dataframe\">\n",
       "  <thead>\n",
       "    <tr style=\"text-align: right;\">\n",
       "      <th></th>\n",
       "      <th>lof</th>\n",
       "    </tr>\n",
       "  </thead>\n",
       "  <tbody>\n",
       "    <tr>\n",
       "      <th>shokoha</th>\n",
       "      <td>12.094472</td>\n",
       "    </tr>\n",
       "    <tr>\n",
       "      <th>[LS]Byte</th>\n",
       "      <td>9.599609</td>\n",
       "    </tr>\n",
       "    <tr>\n",
       "      <th>Ricizus</th>\n",
       "      <td>9.565402</td>\n",
       "    </tr>\n",
       "    <tr>\n",
       "      <th>RaGe Radical</th>\n",
       "      <td>7.367328</td>\n",
       "    </tr>\n",
       "    <tr>\n",
       "      <th>MisteurFR</th>\n",
       "      <td>6.218913</td>\n",
       "    </tr>\n",
       "    <tr>\n",
       "      <th>Lazereed</th>\n",
       "      <td>5.357931</td>\n",
       "    </tr>\n",
       "    <tr>\n",
       "      <th>[LS]Taylor</th>\n",
       "      <td>4.865639</td>\n",
       "    </tr>\n",
       "    <tr>\n",
       "      <th>Gray Hardrock</th>\n",
       "      <td>4.642799</td>\n",
       "    </tr>\n",
       "    <tr>\n",
       "      <th>henryalexbr</th>\n",
       "      <td>4.533962</td>\n",
       "    </tr>\n",
       "    <tr>\n",
       "      <th>Micleak</th>\n",
       "      <td>4.485532</td>\n",
       "    </tr>\n",
       "    <tr>\n",
       "      <th>D4SHI</th>\n",
       "      <td>4.366077</td>\n",
       "    </tr>\n",
       "    <tr>\n",
       "      <th>Maykee kee</th>\n",
       "      <td>4.298189</td>\n",
       "    </tr>\n",
       "    <tr>\n",
       "      <th>nanonbandusty</th>\n",
       "      <td>4.132222</td>\n",
       "    </tr>\n",
       "    <tr>\n",
       "      <th>Kaito-kun</th>\n",
       "      <td>3.690273</td>\n",
       "    </tr>\n",
       "    <tr>\n",
       "      <th>dsdsdd</th>\n",
       "      <td>3.589281</td>\n",
       "    </tr>\n",
       "    <tr>\n",
       "      <th>Keskidi</th>\n",
       "      <td>3.500842</td>\n",
       "    </tr>\n",
       "  </tbody>\n",
       "</table>\n",
       "</div>"
      ],
      "text/plain": [
       "                     lof\n",
       "shokoha        12.094472\n",
       "[LS]Byte        9.599609\n",
       "Ricizus         9.565402\n",
       "RaGe Radical    7.367328\n",
       "MisteurFR       6.218913\n",
       "Lazereed        5.357931\n",
       "[LS]Taylor      4.865639\n",
       "Gray Hardrock   4.642799\n",
       "henryalexbr     4.533962\n",
       "Micleak         4.485532\n",
       "D4SHI           4.366077\n",
       "Maykee kee      4.298189\n",
       "nanonbandusty   4.132222\n",
       "Kaito-kun       3.690273\n",
       "dsdsdd          3.589281\n",
       "Keskidi         3.500842"
      ]
     },
     "execution_count": 15,
     "metadata": {},
     "output_type": "execute_result"
    }
   ],
   "source": [
    "lof_4dm.sort_values(by='lof', ascending=False).head(16)"
   ]
  },
  {
   "cell_type": "markdown",
   "metadata": {},
   "source": [
    "Note that there still be an **Underperforming Players** left in this procedure. They will be filtered out in the next study."
   ]
  },
  {
   "cell_type": "markdown",
   "metadata": {},
   "source": [
    "We then plot the Distribution and find 1-3th Quartiles and 97.5th Percentile of the Local Outlier Factor"
   ]
  },
  {
   "cell_type": "code",
   "execution_count": 16,
   "metadata": {},
   "outputs": [
    {
     "data": {
      "text/plain": [
       "(array([112.,  56.,  19.,   7.,   1.,   1.,   1.,   2.,   0.,   1.]),\n",
       " array([ 0.25634921,  1.44016147,  2.62397372,  3.80778597,  4.99159823,\n",
       "         6.17541048,  7.35922273,  8.54303499,  9.72684724, 10.91065949,\n",
       "        12.09447175]),\n",
       " <BarContainer object of 10 artists>)"
      ]
     },
     "execution_count": 16,
     "metadata": {},
     "output_type": "execute_result"
    },
    {
     "data": {
      "image/png": "[encoded data removed]",
      "text/plain": [
       "<Figure size 432x288 with 1 Axes>"
      ]
     },
     "metadata": {
      "needs_background": "light"
     },
     "output_type": "display_data"
    }
   ],
   "source": [
    "plt.hist(lof_4dm['lof'].values)"
   ]
  },
  {
   "cell_type": "code",
   "execution_count": 17,
   "metadata": {},
   "outputs": [
    {
     "name": "stdout",
     "output_type": "stream",
     "text": [
      "25% of the LOF is 0.9017889364625085\n",
      "Median of the LOF is 1.3306853498557236\n",
      "75% of the LOF is 2.1097061854631334\n",
      "97.5% of the LOF is 5.379455479502165\n"
     ]
    }
   ],
   "source": [
    "print(\"25% of the LOF is\", lof_4dm['lof'].quantile(0.25))\n",
    "print(\"Median of the LOF is\", lof_4dm['lof'].quantile(0.50))\n",
    "print(\"75% of the LOF is\", lof_4dm['lof'].quantile(0.75))\n",
    "print(\"97.5% of the LOF is\", lof_4dm['lof'].quantile(0.975))"
   ]
  },
  {
   "cell_type": "markdown",
   "metadata": {},
   "source": [
    "### Discussion\n",
    "\n",
    "As I've discussed with poly, the model is borderline interpretable (There is a way to explain the process of skillbanning and how those numbers come from) to the players. To clarify that the model works, we need the human contribution on handpicking outliers and we can try this model with various tournaments, for example, Violet Mania Tournament organized by Saemitsu.\n",
    "\n",
    "This model is still undone and lack of ability to visualize however. The left outlier (underperformers) have not been filtered out and we need to work on how to visualize where the outliers are in a few dimensions. This requires dimensionality reduction (to be precise, PCA) and we need to sacrifice some \"interpretability\" if we demand the images and position of the outliers."
   ]
  },
  {
   "cell_type": "markdown",
   "metadata": {},
   "source": [
    "## K-Means Clustering & Principal Component Analysis\n",
    "\n",
    "From the [discussion](#discussion), our next goal is to filter out the left outliers or players who underperformed in the tournament. We decide to use **K-Means Clustering** to cluster the outliers into two sides and **Principal Component Analysis** to visualize and verify that the clusters that the model yielded is of course the *left outliers* and *right outliers*"
   ]
  },
  {
   "cell_type": "markdown",
   "metadata": {},
   "source": [
    "### K-Means Clustering\n",
    "\n",
    "**K-Means Clustering** is the **Unsupervised Clustering Algorithm** based on how close the data point to the given centroids. The algorithm is initialized by generating `k` centroids. Then classify the data points by the nearest centroid. After that move the `n-th` centroid to the center of the data points which are classified to be the type `n`. Do this iteratively until all centroids are stable.\n",
    "\n",
    "In our analysis, we use **K-Means** to cluster the outliers into two groups, the overperformed ones and underperformed ones. Based on the distinction of these two types of players, this algorithm can be applied with `k=2`."
   ]
  },
  {
   "cell_type": "markdown",
   "metadata": {},
   "source": [
    "### Principal Component Analysis\n",
    "\n",
    "**Principal Component Analysis** is a **Dimensionality Reduction Technique** to generate the similar data points from higher dimensions to lower dimensions. This is the technique used widely in **Exploratory Data Analysis** for high-dimensional data, for example, this dataset is 73-dimensional vectors. We can shrink this down to 2-dimensional plane using the **Eigenvectors of Covariance Matrix** which is called **Principal Components**. However some original features will be lost, but some features still be kept."
   ]
  },
  {
   "cell_type": "markdown",
   "metadata": {},
   "source": [
    "### Code Explanation for K-Means Clustering and Principal Component Analysis"
   ]
  },
  {
   "cell_type": "markdown",
   "metadata": {},
   "source": [
    "#### Importing Necessary Modules\n",
    "\n",
    "Here we use `sklearn.cluster.KMeans` and `sklearn.decomposition.PCA` to do the following procedures. However `sklearn` machine learning algorithms do not support the `NaN` data, so we need to use `KNN Imputer` from `sklearn.impute` to validate the missing data."
   ]
  },
  {
   "cell_type": "code",
   "execution_count": 18,
   "metadata": {},
   "outputs": [],
   "source": [
    "from sklearn.impute import KNNImputer\n",
    "from sklearn.cluster import KMeans\n",
    "from sklearn.decomposition import PCA"
   ]
  },
  {
   "cell_type": "markdown",
   "metadata": {},
   "source": [
    "#### Initializing the Models\n",
    "\n",
    "We initialize the **KNNImputer** with `n_neighbors = 2`, that means this model will take 2 nearest neighbors as a consideration for missing data, **Kmeans** with `n_clusters = 2` (according to [this](#k-means-clustering)) and **PCA** with 2 Principal Components to perform the data visualization in 2-dimensional plane."
   ]
  },
  {
   "cell_type": "code",
   "execution_count": 19,
   "metadata": {},
   "outputs": [],
   "source": [
    "imputer = KNNImputer(n_neighbors=2)\n",
    "kmeans_twogroups = KMeans(n_clusters=2)\n",
    "pca_visualization = PCA(n_components=2)"
   ]
  },
  {
   "cell_type": "markdown",
   "metadata": {},
   "source": [
    "#### Getting Outliers\n",
    "\n",
    "We define the Outlier Cut-Off, which is the **90th Percentile** according to Local Outlier Factor"
   ]
  },
  {
   "cell_type": "code",
   "execution_count": 20,
   "metadata": {},
   "outputs": [],
   "source": [
    "outlier_cut = lof_4dm['lof'].quantile(0.9)"
   ]
  },
  {
   "cell_type": "markdown",
   "metadata": {},
   "source": [
    "We then list the possible outliers"
   ]
  },
  {
   "cell_type": "code",
   "execution_count": 21,
   "metadata": {},
   "outputs": [
    {
     "data": {
      "text/plain": [
       "Index(['HD_AdreNaline', 'Zergh', 'RaGe Radical', '[LS]Byte', 'D4SHI',\n",
       "       'Gray Hardrock', '[LS]Taylor', 'Ricizus', 'Kamikho', 'Miaurichesu',\n",
       "       'Lazereed', 'nanonbandusty', 'shokoha', 'Micleak', 'dsdsdd', 'Keskidi',\n",
       "       'henryalexbr', 'MisteurFR', 'Kaito-kun', 'Maykee kee'],\n",
       "      dtype='object')"
      ]
     },
     "execution_count": 21,
     "metadata": {},
     "output_type": "execute_result"
    }
   ],
   "source": [
    "list_possible_outliers = lof_4dm[lof_4dm['lof'] > outlier_cut].index\n",
    "\n",
    "list_possible_outliers"
   ]
  },
  {
   "cell_type": "markdown",
   "metadata": {},
   "source": [
    "and the standardized logit scores from those outliers"
   ]
  },
  {
   "cell_type": "code",
   "execution_count": 22,
   "metadata": {},
   "outputs": [
    {
     "data": {
      "text/html": [
       "<div>\n",
       "<style scoped>\n",
       "    .dataframe tbody tr th:only-of-type {\n",
       "        vertical-align: middle;\n",
       "    }\n",
       "\n",
       "    .dataframe tbody tr th {\n",
       "        vertical-align: top;\n",
       "    }\n",
       "\n",
       "    .dataframe thead th {\n",
       "        text-align: right;\n",
       "    }\n",
       "</style>\n",
       "<table border=\"1\" class=\"dataframe\">\n",
       "  <thead>\n",
       "    <tr style=\"text-align: right;\">\n",
       "      <th></th>\n",
       "      <th>Q_RC_1</th>\n",
       "      <th>Q_RC_2</th>\n",
       "      <th>Q_LN_1</th>\n",
       "      <th>Q_HB_1</th>\n",
       "      <th>RO32_RC_1</th>\n",
       "      <th>RO32_RC_4</th>\n",
       "      <th>RO32_RC_5</th>\n",
       "      <th>RO32_LN_3</th>\n",
       "      <th>RO32_HB_1</th>\n",
       "      <th>RO16_RC_1</th>\n",
       "      <th>...</th>\n",
       "      <th>GF_RC_7</th>\n",
       "      <th>GF_LN_2</th>\n",
       "      <th>GF_LN_3</th>\n",
       "      <th>GF_LN_4</th>\n",
       "      <th>GF_HB_1</th>\n",
       "      <th>GF_HB_2</th>\n",
       "      <th>GF_HB_3</th>\n",
       "      <th>SF_RC_2</th>\n",
       "      <th>SF_HB_3</th>\n",
       "      <th>GF_RC_3</th>\n",
       "    </tr>\n",
       "  </thead>\n",
       "  <tbody>\n",
       "    <tr>\n",
       "      <th>HD_AdreNaline</th>\n",
       "      <td>0.376380</td>\n",
       "      <td>1.439525</td>\n",
       "      <td>0.892006</td>\n",
       "      <td>0.742869</td>\n",
       "      <td>0.372991</td>\n",
       "      <td>NaN</td>\n",
       "      <td>1.076396</td>\n",
       "      <td>1.161718</td>\n",
       "      <td>NaN</td>\n",
       "      <td>NaN</td>\n",
       "      <td>...</td>\n",
       "      <td>NaN</td>\n",
       "      <td>NaN</td>\n",
       "      <td>NaN</td>\n",
       "      <td>NaN</td>\n",
       "      <td>NaN</td>\n",
       "      <td>NaN</td>\n",
       "      <td>NaN</td>\n",
       "      <td>NaN</td>\n",
       "      <td>NaN</td>\n",
       "      <td>NaN</td>\n",
       "    </tr>\n",
       "    <tr>\n",
       "      <th>Zergh</th>\n",
       "      <td>0.443538</td>\n",
       "      <td>0.456008</td>\n",
       "      <td>0.862842</td>\n",
       "      <td>0.276618</td>\n",
       "      <td>NaN</td>\n",
       "      <td>NaN</td>\n",
       "      <td>1.213193</td>\n",
       "      <td>0.484739</td>\n",
       "      <td>NaN</td>\n",
       "      <td>0.672704</td>\n",
       "      <td>...</td>\n",
       "      <td>NaN</td>\n",
       "      <td>NaN</td>\n",
       "      <td>NaN</td>\n",
       "      <td>NaN</td>\n",
       "      <td>NaN</td>\n",
       "      <td>NaN</td>\n",
       "      <td>NaN</td>\n",
       "      <td>NaN</td>\n",
       "      <td>NaN</td>\n",
       "      <td>NaN</td>\n",
       "    </tr>\n",
       "    <tr>\n",
       "      <th>RaGe Radical</th>\n",
       "      <td>-0.033561</td>\n",
       "      <td>NaN</td>\n",
       "      <td>0.318027</td>\n",
       "      <td>0.815487</td>\n",
       "      <td>0.517339</td>\n",
       "      <td>NaN</td>\n",
       "      <td>0.047042</td>\n",
       "      <td>0.712428</td>\n",
       "      <td>NaN</td>\n",
       "      <td>NaN</td>\n",
       "      <td>...</td>\n",
       "      <td>NaN</td>\n",
       "      <td>NaN</td>\n",
       "      <td>NaN</td>\n",
       "      <td>NaN</td>\n",
       "      <td>NaN</td>\n",
       "      <td>NaN</td>\n",
       "      <td>NaN</td>\n",
       "      <td>NaN</td>\n",
       "      <td>NaN</td>\n",
       "      <td>NaN</td>\n",
       "    </tr>\n",
       "    <tr>\n",
       "      <th>[LS]Byte</th>\n",
       "      <td>0.943363</td>\n",
       "      <td>0.918764</td>\n",
       "      <td>1.111750</td>\n",
       "      <td>1.007982</td>\n",
       "      <td>0.806429</td>\n",
       "      <td>NaN</td>\n",
       "      <td>1.189391</td>\n",
       "      <td>1.244693</td>\n",
       "      <td>NaN</td>\n",
       "      <td>1.190057</td>\n",
       "      <td>...</td>\n",
       "      <td>NaN</td>\n",
       "      <td>NaN</td>\n",
       "      <td>NaN</td>\n",
       "      <td>NaN</td>\n",
       "      <td>NaN</td>\n",
       "      <td>NaN</td>\n",
       "      <td>NaN</td>\n",
       "      <td>NaN</td>\n",
       "      <td>NaN</td>\n",
       "      <td>NaN</td>\n",
       "    </tr>\n",
       "    <tr>\n",
       "      <th>D4SHI</th>\n",
       "      <td>-1.981267</td>\n",
       "      <td>-1.268926</td>\n",
       "      <td>NaN</td>\n",
       "      <td>-1.948192</td>\n",
       "      <td>-2.236259</td>\n",
       "      <td>-0.927071</td>\n",
       "      <td>-1.603482</td>\n",
       "      <td>NaN</td>\n",
       "      <td>NaN</td>\n",
       "      <td>NaN</td>\n",
       "      <td>...</td>\n",
       "      <td>NaN</td>\n",
       "      <td>NaN</td>\n",
       "      <td>NaN</td>\n",
       "      <td>NaN</td>\n",
       "      <td>NaN</td>\n",
       "      <td>NaN</td>\n",
       "      <td>NaN</td>\n",
       "      <td>NaN</td>\n",
       "      <td>NaN</td>\n",
       "      <td>NaN</td>\n",
       "    </tr>\n",
       "  </tbody>\n",
       "</table>\n",
       "<p>5 rows × 73 columns</p>\n",
       "</div>"
      ],
      "text/plain": [
       "                 Q_RC_1    Q_RC_2    Q_LN_1    Q_HB_1  RO32_RC_1  RO32_RC_4  \\\n",
       "HD_AdreNaline  0.376380  1.439525  0.892006  0.742869   0.372991        NaN   \n",
       "Zergh          0.443538  0.456008  0.862842  0.276618        NaN        NaN   \n",
       "RaGe Radical  -0.033561       NaN  0.318027  0.815487   0.517339        NaN   \n",
       "[LS]Byte       0.943363  0.918764  1.111750  1.007982   0.806429        NaN   \n",
       "D4SHI         -1.981267 -1.268926       NaN -1.948192  -2.236259  -0.927071   \n",
       "\n",
       "               RO32_RC_5  RO32_LN_3  RO32_HB_1  RO16_RC_1  ...  GF_RC_7  \\\n",
       "HD_AdreNaline   1.076396   1.161718        NaN        NaN  ...      NaN   \n",
       "Zergh           1.213193   0.484739        NaN   0.672704  ...      NaN   \n",
       "RaGe Radical    0.047042   0.712428        NaN        NaN  ...      NaN   \n",
       "[LS]Byte        1.189391   1.244693        NaN   1.190057  ...      NaN   \n",
       "D4SHI          -1.603482        NaN        NaN        NaN  ...      NaN   \n",
       "\n",
       "               GF_LN_2  GF_LN_3  GF_LN_4  GF_HB_1  GF_HB_2  GF_HB_3  SF_RC_2  \\\n",
       "HD_AdreNaline      NaN      NaN      NaN      NaN      NaN      NaN      NaN   \n",
       "Zergh              NaN      NaN      NaN      NaN      NaN      NaN      NaN   \n",
       "RaGe Radical       NaN      NaN      NaN      NaN      NaN      NaN      NaN   \n",
       "[LS]Byte           NaN      NaN      NaN      NaN      NaN      NaN      NaN   \n",
       "D4SHI              NaN      NaN      NaN      NaN      NaN      NaN      NaN   \n",
       "\n",
       "               SF_HB_3  GF_RC_3  \n",
       "HD_AdreNaline      NaN      NaN  \n",
       "Zergh              NaN      NaN  \n",
       "RaGe Radical       NaN      NaN  \n",
       "[LS]Byte           NaN      NaN  \n",
       "D4SHI              NaN      NaN  \n",
       "\n",
       "[5 rows x 73 columns]"
      ]
     },
     "execution_count": 22,
     "metadata": {},
     "output_type": "execute_result"
    }
   ],
   "source": [
    "_4dm_outliers = standardized_4dm.loc[list_possible_outliers]\n",
    "\n",
    "_4dm_outliers.head()"
   ]
  },
  {
   "cell_type": "markdown",
   "metadata": {},
   "source": [
    "#### Validating the Missing Data\n",
    "\n",
    "We then use our **KNN Imputer** to validate the missing scores from all players and outliers"
   ]
  },
  {
   "cell_type": "code",
   "execution_count": 23,
   "metadata": {},
   "outputs": [],
   "source": [
    "imputed_players = imputer.fit_transform(standardized_4dm)\n",
    "\n",
    "imputed_outliers = imputer.transform(_4dm_outliers)"
   ]
  },
  {
   "cell_type": "markdown",
   "metadata": {},
   "source": [
    "#### Principal Component Analysis Visualization\n",
    "\n",
    "We train our PCA Model with players data and transform the outlier data into two dimensional data, after that we plot them in the 2d plane."
   ]
  },
  {
   "cell_type": "code",
   "execution_count": 24,
   "metadata": {},
   "outputs": [
    {
     "data": {
      "text/plain": [
       "<matplotlib.collections.PathCollection at 0x27e115e1090>"
      ]
     },
     "execution_count": 24,
     "metadata": {},
     "output_type": "execute_result"
    },
    {
     "data": {
      "image/png": "[encoded data removed]",
      "text/plain": [
       "<Figure size 432x288 with 1 Axes>"
      ]
     },
     "metadata": {
      "needs_background": "light"
     },
     "output_type": "display_data"
    }
   ],
   "source": [
    "# For visualization purposes\n",
    "\n",
    "pca_visualization.fit(imputed_players)\n",
    "\n",
    "pca_outliers = pca_visualization.transform(imputed_outliers)\n",
    "\n",
    "plt.scatter(*pca_outliers.T)"
   ]
  },
  {
   "cell_type": "markdown",
   "metadata": {},
   "source": [
    "#### Principal Component Analysis Visualization with K-Means Clustering\n",
    "\n",
    "We then perform the training procedure of our K-Means Clustering Models, then getting both centroids using the attribute `.cluster_centers_`. After that we transform the centroids into 2-dimensional points using our PCA Model. Then visualize the outliers and K-means Centroid using Scatter Plot."
   ]
  },
  {
   "cell_type": "code",
   "execution_count": 25,
   "metadata": {},
   "outputs": [
    {
     "data": {
      "text/plain": [
       "<matplotlib.collections.PathCollection at 0x27e13720df0>"
      ]
     },
     "execution_count": 25,
     "metadata": {},
     "output_type": "execute_result"
    },
    {
     "data": {
      "image/png": "[encoded data removed]",
      "text/plain": [
       "<Figure size 432x288 with 1 Axes>"
      ]
     },
     "metadata": {
      "needs_background": "light"
     },
     "output_type": "display_data"
    }
   ],
   "source": [
    "kmeans_twogroups.fit(imputed_outliers)\n",
    "\n",
    "centroids = kmeans_twogroups.cluster_centers_\n",
    "\n",
    "pca_kmeans = pca_visualization.transform(centroids)\n",
    "\n",
    "plt.scatter(*pca_outliers.T)\n",
    "plt.scatter(*pca_kmeans.T)"
   ]
  },
  {
   "cell_type": "markdown",
   "metadata": {},
   "source": [
    "We can see that our K-means model did a really good job on distinguishing between two types of outliers. Next, we will obtain the *right outliers* or *Derankers* from the model."
   ]
  },
  {
   "cell_type": "markdown",
   "metadata": {},
   "source": [
    "#### Predicting the Outliers (Skillbanning)\n",
    "\n",
    "We then use the outlier score data that has been done the Missing Data Validation, after that we find the *right outliers* side by getting the prediction result of the extreme case (in this case, `10 * standard deviation` ahead of the average scores). After we get the correct class for the *right outliers*, we then filter the data points which are in the same class with the *right outliers* class."
   ]
  },
  {
   "cell_type": "code",
   "execution_count": 26,
   "metadata": {},
   "outputs": [
    {
     "data": {
      "text/plain": [
       "Index(['HD_AdreNaline', 'Zergh', 'RaGe Radical', '[LS]Byte', 'Gray Hardrock',\n",
       "       '[LS]Taylor', 'Ricizus', 'Kamikho', 'Lazereed', 'nanonbandusty',\n",
       "       'shokoha', 'Micleak', 'Keskidi', 'henryalexbr', 'MisteurFR',\n",
       "       'Maykee kee'],\n",
       "      dtype='object')"
      ]
     },
     "execution_count": 26,
     "metadata": {},
     "output_type": "execute_result"
    }
   ],
   "source": [
    "kmean_prediction = kmeans_twogroups.predict(imputed_outliers)\n",
    "\n",
    "right_ol_side = int(kmeans_twogroups.predict(np.ones((1, imputed_outliers.shape[1])) * 10))\n",
    "\n",
    "right_outliers = list_possible_outliers[kmean_prediction == right_ol_side]\n",
    "\n",
    "right_outliers\n"
   ]
  },
  {
   "cell_type": "markdown",
   "metadata": {},
   "source": [
    "We get the **Local Outlier Factor** scores from those *right outliers*."
   ]
  },
  {
   "cell_type": "code",
   "execution_count": 27,
   "metadata": {},
   "outputs": [
    {
     "data": {
      "text/html": [
       "<div>\n",
       "<style scoped>\n",
       "    .dataframe tbody tr th:only-of-type {\n",
       "        vertical-align: middle;\n",
       "    }\n",
       "\n",
       "    .dataframe tbody tr th {\n",
       "        vertical-align: top;\n",
       "    }\n",
       "\n",
       "    .dataframe thead th {\n",
       "        text-align: right;\n",
       "    }\n",
       "</style>\n",
       "<table border=\"1\" class=\"dataframe\">\n",
       "  <thead>\n",
       "    <tr style=\"text-align: right;\">\n",
       "      <th></th>\n",
       "      <th>lof</th>\n",
       "    </tr>\n",
       "  </thead>\n",
       "  <tbody>\n",
       "    <tr>\n",
       "      <th>shokoha</th>\n",
       "      <td>12.094472</td>\n",
       "    </tr>\n",
       "    <tr>\n",
       "      <th>[LS]Byte</th>\n",
       "      <td>9.599609</td>\n",
       "    </tr>\n",
       "    <tr>\n",
       "      <th>Ricizus</th>\n",
       "      <td>9.565402</td>\n",
       "    </tr>\n",
       "    <tr>\n",
       "      <th>RaGe Radical</th>\n",
       "      <td>7.367328</td>\n",
       "    </tr>\n",
       "    <tr>\n",
       "      <th>MisteurFR</th>\n",
       "      <td>6.218913</td>\n",
       "    </tr>\n",
       "    <tr>\n",
       "      <th>Lazereed</th>\n",
       "      <td>5.357931</td>\n",
       "    </tr>\n",
       "    <tr>\n",
       "      <th>[LS]Taylor</th>\n",
       "      <td>4.865639</td>\n",
       "    </tr>\n",
       "    <tr>\n",
       "      <th>Gray Hardrock</th>\n",
       "      <td>4.642799</td>\n",
       "    </tr>\n",
       "    <tr>\n",
       "      <th>henryalexbr</th>\n",
       "      <td>4.533962</td>\n",
       "    </tr>\n",
       "    <tr>\n",
       "      <th>Micleak</th>\n",
       "      <td>4.485532</td>\n",
       "    </tr>\n",
       "    <tr>\n",
       "      <th>Maykee kee</th>\n",
       "      <td>4.298189</td>\n",
       "    </tr>\n",
       "    <tr>\n",
       "      <th>nanonbandusty</th>\n",
       "      <td>4.132222</td>\n",
       "    </tr>\n",
       "    <tr>\n",
       "      <th>Keskidi</th>\n",
       "      <td>3.500842</td>\n",
       "    </tr>\n",
       "    <tr>\n",
       "      <th>HD_AdreNaline</th>\n",
       "      <td>3.419603</td>\n",
       "    </tr>\n",
       "    <tr>\n",
       "      <th>Kamikho</th>\n",
       "      <td>3.389679</td>\n",
       "    </tr>\n",
       "    <tr>\n",
       "      <th>Zergh</th>\n",
       "      <td>3.214519</td>\n",
       "    </tr>\n",
       "  </tbody>\n",
       "</table>\n",
       "</div>"
      ],
      "text/plain": [
       "                     lof\n",
       "shokoha        12.094472\n",
       "[LS]Byte        9.599609\n",
       "Ricizus         9.565402\n",
       "RaGe Radical    7.367328\n",
       "MisteurFR       6.218913\n",
       "Lazereed        5.357931\n",
       "[LS]Taylor      4.865639\n",
       "Gray Hardrock   4.642799\n",
       "henryalexbr     4.533962\n",
       "Micleak         4.485532\n",
       "Maykee kee      4.298189\n",
       "nanonbandusty   4.132222\n",
       "Keskidi         3.500842\n",
       "HD_AdreNaline   3.419603\n",
       "Kamikho         3.389679\n",
       "Zergh           3.214519"
      ]
     },
     "execution_count": 27,
     "metadata": {},
     "output_type": "execute_result"
    }
   ],
   "source": [
    "lof_4dm.loc[right_outliers].sort_values(by='lof', ascending=False)"
   ]
  }
 ],
 "metadata": {
  "kernelspec": {
   "display_name": "Python 3.10.4 64-bit",
   "language": "python",
   "name": "python3"
  },
  "language_info": {
   "codemirror_mode": {
    "name": "ipython",
    "version": 3
   },
   "file_extension": ".py",
   "mimetype": "text/x-python",
   "name": "python",
   "nbconvert_exporter": "python",
   "pygments_lexer": "ipython3",
   "version": "3.10.4"
  },
  "orig_nbformat": 4,
  "vscode": {
   "interpreter": {
    "hash": "a9cff5a362bc38ef45d817ae74b1af54d6a076e3d773891282bce078b815ba34"
   }
  }
 },
 "nbformat": 4,
 "nbformat_minor": 2
}
