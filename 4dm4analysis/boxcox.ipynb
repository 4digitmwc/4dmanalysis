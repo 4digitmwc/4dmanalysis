{
 "cells": [
  {
   "cell_type": "markdown",
   "metadata": {},
   "source": [
    "# Box-Cox Transformation Experiment Notebook"
   ]
  },
  {
   "cell_type": "markdown",
   "metadata": {},
   "source": [
    "This is the experiment using **Box-Cox Transformation** with 4 Digit MWC 4 Dataset. We have already experimented the transform using **logit function** `ln(x/(1-x))` but there are some beatmap that don't have the **Normally Distributed** score yet. So we try a (hopefully not too) complicated approach to make the data more Normally Distributed"
   ]
  },
  {
   "cell_type": "markdown",
   "metadata": {},
   "source": [
    "---"
   ]
  },
  {
   "cell_type": "markdown",
   "metadata": {},
   "source": [
    "## Procedure"
   ]
  },
  {
   "cell_type": "code",
   "execution_count": 1,
   "metadata": {},
   "outputs": [],
   "source": [
    "import os\n",
    "\n",
    "os.chdir(\"..\")"
   ]
  },
  {
   "cell_type": "markdown",
   "metadata": {},
   "source": [
    "### Import Necessary Libraries\n",
    "\n",
    "Here we are going to use `matplotlib.pyplot` to visualize the distribution of the data and `Dataset`class from [this repository](https://github.com/HowToProgramming/4dm4analysis) to deal with `sqlite` database"
   ]
  },
  {
   "cell_type": "code",
   "execution_count": 2,
   "metadata": {},
   "outputs": [],
   "source": [
    "import matplotlib.pyplot as plt\n",
    "from utils import Dataset"
   ]
  },
  {
   "cell_type": "markdown",
   "metadata": {},
   "source": [
    "### Initialize the Dataset"
   ]
  },
  {
   "cell_type": "code",
   "execution_count": 3,
   "metadata": {},
   "outputs": [],
   "source": [
    "_4dm4 = Dataset('datasets/4dm4.db')"
   ]
  },
  {
   "cell_type": "markdown",
   "metadata": {},
   "source": [
    "### Define the Necessary functions to Query Data\n",
    "\n",
    "- `query_by_round_type_tag` is used to query `player_name`, `score` and `score_logit` from the dataset where the maps are `round`, `type`, `tag` (for example `SF`, `HB`, `2`)\n",
    "- `query_all_tags` is to query the map count of a `type` in a given `round`"
   ]
  },
  {
   "cell_type": "code",
   "execution_count": 4,
   "metadata": {},
   "outputs": [],
   "source": [
    "def query_by_round_type_tag(round: str, type: str, tag: str):\n",
    "    return _4dm4.select('scores', columns=['player_name', 'score', 'score_logit'], where={\n",
    "        'round': f\"\\\"{round}\\\"\",\n",
    "        'beatmap_type': f\"\\\"{type}\\\"\",\n",
    "        'beatmap_tag': f\"\\\"{tag}\\\"\"\n",
    "    })\n",
    "\n",
    "def query_all_tags(round: str, type: str):\n",
    "    return _4dm4.query(f'SELECT DISTINCT beatmap_tag FROM scores WHERE round=\\\"{round}\\\" AND beatmap_type=\\\"{type}\\\"')"
   ]
  },
  {
   "cell_type": "markdown",
   "metadata": {},
   "source": [
    "We test if the following functions work"
   ]
  },
  {
   "cell_type": "code",
   "execution_count": 5,
   "metadata": {},
   "outputs": [
    {
     "data": {
      "text/html": [
       "<div>\n",
       "<style scoped>\n",
       "    .dataframe tbody tr th:only-of-type {\n",
       "        vertical-align: middle;\n",
       "    }\n",
       "\n",
       "    .dataframe tbody tr th {\n",
       "        vertical-align: top;\n",
       "    }\n",
       "\n",
       "    .dataframe thead th {\n",
       "        text-align: right;\n",
       "    }\n",
       "</style>\n",
       "<table border=\"1\" class=\"dataframe\">\n",
       "  <thead>\n",
       "    <tr style=\"text-align: right;\">\n",
       "      <th></th>\n",
       "      <th>player_name</th>\n",
       "      <th>score</th>\n",
       "      <th>score_logit</th>\n",
       "    </tr>\n",
       "  </thead>\n",
       "  <tbody>\n",
       "    <tr>\n",
       "      <th>0</th>\n",
       "      <td>Scep</td>\n",
       "      <td>998615</td>\n",
       "      <td>6.580669</td>\n",
       "    </tr>\n",
       "    <tr>\n",
       "      <th>1</th>\n",
       "      <td>[-Leon-]</td>\n",
       "      <td>997713</td>\n",
       "      <td>6.078225</td>\n",
       "    </tr>\n",
       "    <tr>\n",
       "      <th>2</th>\n",
       "      <td>diamondBIaze</td>\n",
       "      <td>996846</td>\n",
       "      <td>5.755925</td>\n",
       "    </tr>\n",
       "    <tr>\n",
       "      <th>3</th>\n",
       "      <td>ZayyKen</td>\n",
       "      <td>996626</td>\n",
       "      <td>5.688277</td>\n",
       "    </tr>\n",
       "    <tr>\n",
       "      <th>4</th>\n",
       "      <td>Yuragi</td>\n",
       "      <td>996232</td>\n",
       "      <td>5.577436</td>\n",
       "    </tr>\n",
       "  </tbody>\n",
       "</table>\n",
       "</div>"
      ],
      "text/plain": [
       "    player_name   score  score_logit\n",
       "0          Scep  998615     6.580669\n",
       "1      [-Leon-]  997713     6.078225\n",
       "2  diamondBIaze  996846     5.755925\n",
       "3       ZayyKen  996626     5.688277\n",
       "4        Yuragi  996232     5.577436"
      ]
     },
     "execution_count": 5,
     "metadata": {},
     "output_type": "execute_result"
    }
   ],
   "source": [
    "query_by_round_type_tag(\"QF\", \"HB\", \"1\").head()"
   ]
  },
  {
   "cell_type": "code",
   "execution_count": 6,
   "metadata": {},
   "outputs": [
    {
     "data": {
      "text/html": [
       "<div>\n",
       "<style scoped>\n",
       "    .dataframe tbody tr th:only-of-type {\n",
       "        vertical-align: middle;\n",
       "    }\n",
       "\n",
       "    .dataframe tbody tr th {\n",
       "        vertical-align: top;\n",
       "    }\n",
       "\n",
       "    .dataframe thead th {\n",
       "        text-align: right;\n",
       "    }\n",
       "</style>\n",
       "<table border=\"1\" class=\"dataframe\">\n",
       "  <thead>\n",
       "    <tr style=\"text-align: right;\">\n",
       "      <th></th>\n",
       "      <th>beatmap_tag</th>\n",
       "    </tr>\n",
       "  </thead>\n",
       "  <tbody>\n",
       "    <tr>\n",
       "      <th>0</th>\n",
       "      <td>1</td>\n",
       "    </tr>\n",
       "    <tr>\n",
       "      <th>1</th>\n",
       "      <td>2</td>\n",
       "    </tr>\n",
       "  </tbody>\n",
       "</table>\n",
       "</div>"
      ],
      "text/plain": [
       "  beatmap_tag\n",
       "0           1\n",
       "1           2"
      ]
     },
     "execution_count": 6,
     "metadata": {},
     "output_type": "execute_result"
    }
   ],
   "source": [
    "query_all_tags(\"QF\", \"HB\")"
   ]
  },
  {
   "cell_type": "markdown",
   "metadata": {},
   "source": [
    "### Defining Constants\n",
    "\n",
    "We then define the `interested_rounds` we want to study (which is all rounds) and `interested_category` to be `RC`, `HB` and `LN`"
   ]
  },
  {
   "cell_type": "code",
   "execution_count": 7,
   "metadata": {},
   "outputs": [
    {
     "data": {
      "text/plain": [
       "['Q', 'GS', 'RO16', 'QF', 'SF', 'F', 'GF']"
      ]
     },
     "execution_count": 7,
     "metadata": {},
     "output_type": "execute_result"
    }
   ],
   "source": [
    "interested_rounds = _4dm4.query(\"SELECT DISTINCT round FROM SCORES\").values.flatten().tolist()\n",
    "interested_category = ['RC', 'HB', 'LN']\n",
    "\n",
    "interested_rounds"
   ]
  },
  {
   "cell_type": "markdown",
   "metadata": {},
   "source": [
    "---"
   ]
  },
  {
   "cell_type": "markdown",
   "metadata": {},
   "source": [
    "### Shapiro-Wilk test\n",
    "\n",
    "We perform the **Shapiro-Wilk test** to check whether the data is **Normally Distributed** basically if the `scipy.stats.shapiro` yields the `p-value` **less than 0.05**, we can say that the data is not Normally Distributed. Otherwise...\n",
    "\n",
    "*There is no turning back*"
   ]
  },
  {
   "cell_type": "code",
   "execution_count": 8,
   "metadata": {},
   "outputs": [],
   "source": [
    "from scipy.stats import shapiro"
   ]
  },
  {
   "cell_type": "markdown",
   "metadata": {},
   "source": [
    "We pull data (`score` and `score_logit`) from **QF RC 1** as a sample data"
   ]
  },
  {
   "cell_type": "code",
   "execution_count": 9,
   "metadata": {},
   "outputs": [],
   "source": [
    "qf_rc_1 = query_by_round_type_tag('QF', 'RC', 1)\n",
    "\n",
    "qf_rc_1_score = qf_rc_1['score'].values.flatten()\n",
    "qf_rc_1_score_logit = qf_rc_1['score_logit'].values.flatten()"
   ]
  },
  {
   "cell_type": "markdown",
   "metadata": {},
   "source": [
    "Then we perform the **Shapiro-Wilk test** on these data"
   ]
  },
  {
   "cell_type": "code",
   "execution_count": 10,
   "metadata": {},
   "outputs": [
    {
     "data": {
      "text/plain": [
       "ShapiroResult(statistic=0.8907632827758789, pvalue=0.013783573172986507)"
      ]
     },
     "execution_count": 10,
     "metadata": {},
     "output_type": "execute_result"
    }
   ],
   "source": [
    "shapiro(qf_rc_1_score)"
   ]
  },
  {
   "cell_type": "code",
   "execution_count": 11,
   "metadata": {},
   "outputs": [
    {
     "data": {
      "text/plain": [
       "ShapiroResult(statistic=0.9694371223449707, pvalue=0.6531001329421997)"
      ]
     },
     "execution_count": 11,
     "metadata": {},
     "output_type": "execute_result"
    }
   ],
   "source": [
    "shapiro(qf_rc_1_score_logit)"
   ]
  },
  {
   "cell_type": "markdown",
   "metadata": {},
   "source": [
    "As we seen from **QF RC 1**, the raw score is not **Normally Distributed** but the transformation using **logit function** did a really good job on normalizing the dataset. Let's see if it works for all beatmaps."
   ]
  },
  {
   "cell_type": "markdown",
   "metadata": {},
   "source": [
    "### Logit transformation always works ?\n",
    "\n",
    "Here, we use **Shapiro-Wilk test** to verify that every beatmap has the Normally Distributed score (from logit transformation). We loop over all rounds, interested types and tags and print the beatmap that has the **p-value < 0.05** even with the **logit transformation**."
   ]
  },
  {
   "cell_type": "code",
   "execution_count": 12,
   "metadata": {},
   "outputs": [
    {
     "name": "stdout",
     "output_type": "stream",
     "text": [
      "Q RC 1\n",
      "Score ShapiroResult(statistic=0.3490583896636963, pvalue=1.3160818680594503e-35)\n",
      "Logit Score ShapiroResult(statistic=0.9774777293205261, pvalue=5.725646133214468e-06)\n",
      "Q LN 1\n",
      "Score ShapiroResult(statistic=0.37814944982528687, pvalue=3.398193377752854e-26)\n",
      "Logit Score ShapiroResult(statistic=0.5216010808944702, pvalue=1.7381581325353384e-23)\n",
      "GS RC 2\n",
      "Score ShapiroResult(statistic=0.7879812121391296, pvalue=3.728700074395741e-12)\n",
      "Logit Score ShapiroResult(statistic=0.9779815077781677, pvalue=0.03891284018754959)\n",
      "GS RC 3\n",
      "Score ShapiroResult(statistic=0.21162128448486328, pvalue=1.5284648306490443e-22)\n",
      "Logit Score ShapiroResult(statistic=0.8392794728279114, pvalue=4.240784112763407e-10)\n",
      "GS RC 4\n",
      "Score ShapiroResult(statistic=0.18204039335250854, pvalue=2.017119067987077e-27)\n",
      "Logit Score ShapiroResult(statistic=0.9291901588439941, pvalue=1.0756894397445649e-07)\n",
      "GS LN 1\n",
      "Score ShapiroResult(statistic=0.48579829931259155, pvalue=3.58803686692619e-21)\n",
      "Logit Score ShapiroResult(statistic=0.9782835245132446, pvalue=0.0145461056381464)\n",
      "RO16 RC 5\n",
      "Score ShapiroResult(statistic=0.7882835268974304, pvalue=2.515505684641539e-06)\n",
      "Logit Score ShapiroResult(statistic=0.9408162832260132, pvalue=0.030514327809214592)\n",
      "RO16 HB 2\n",
      "Score ShapiroResult(statistic=0.5176618099212646, pvalue=4.0860119042918086e-05)\n",
      "Logit Score ShapiroResult(statistic=0.6922739744186401, pvalue=0.005119670648127794)\n",
      "GF RC 5\n",
      "Score ShapiroResult(statistic=0.8858839869499207, pvalue=0.29718008637428284)\n",
      "Logit Score ShapiroResult(statistic=0.7897166013717651, pvalue=0.0474020354449749)\n",
      "GF HB 1\n",
      "Score ShapiroResult(statistic=0.9388612508773804, pvalue=0.48346227407455444)\n",
      "Logit Score ShapiroResult(statistic=0.8243954181671143, pvalue=0.017985820770263672)\n"
     ]
    }
   ],
   "source": [
    "for rnd in interested_rounds:\n",
    "    for cat in interested_category:\n",
    "        tags = query_all_tags(rnd, cat).values.flatten()\n",
    "        for t in tags:\n",
    "            ds = query_by_round_type_tag(rnd, cat, t)\n",
    "            stat, p = shapiro(ds['score_logit'].values.flatten())\n",
    "            if p < 0.05:\n",
    "                print(rnd, cat, t)\n",
    "                print(\"Score\", shapiro(ds['score'].values.flatten()))\n",
    "                print(\"Logit Score\", shapiro(ds['score_logit'].values.flatten()))"
   ]
  },
  {
   "cell_type": "markdown",
   "metadata": {},
   "source": [
    "From this code, we can see that there are still many beatmaps which the scores are not **Normally Distributed** even with the **logit transformation**. We need another approach to make them more Normally Distributed."
   ]
  },
  {
   "cell_type": "markdown",
   "metadata": {},
   "source": [
    "---"
   ]
  },
  {
   "cell_type": "markdown",
   "metadata": {},
   "source": [
    "### Box-Cox Transformation"
   ]
  },
  {
   "cell_type": "markdown",
   "metadata": {},
   "source": [
    "#### What is Box-Cox Transformation ?\n",
    "\n",
    "The **Box-Cox Transformation** aims to make the data as Normally Distributed as possible using the formula given below\n",
    "\n",
    "```python\n",
    "y = (x**lmbda - 1) / lmbda,  for lmbda != 0\n",
    "    log(x),                  for lmbda = 0\n",
    "```\n",
    "\n",
    "The `scipy` python package provides the way to automatically find `lmbda` using **Maximum Likelihood** so we don't need to worry about finding `lmbda`.\n",
    "\n",
    "For more information, you can read this [scipy documentation](https://docs.scipy.org/doc/scipy/reference/generated/scipy.stats.boxcox.html) or [this Medium Article](https://towardsdatascience.com/box-cox-transformation-explained-51d745e34203)."
   ]
  },
  {
   "cell_type": "markdown",
   "metadata": {},
   "source": [
    "#### Performing Box-Cox Transformation\n",
    "\n",
    "**Box-Cox Transformation** can be found in `scipy.stats` package"
   ]
  },
  {
   "cell_type": "code",
   "execution_count": 13,
   "metadata": {},
   "outputs": [],
   "source": [
    "from scipy.stats import boxcox"
   ]
  },
  {
   "cell_type": "markdown",
   "metadata": {},
   "source": [
    "We observe the **Q RC 1** score that has been transformed using logit function. This beatmap does not have a **Normally Distributed** score_logit."
   ]
  },
  {
   "cell_type": "code",
   "execution_count": 14,
   "metadata": {},
   "outputs": [
    {
     "data": {
      "text/plain": [
       "0      6.621999\n",
       "1      6.478995\n",
       "2      6.353857\n",
       "3      6.324868\n",
       "4      6.296693\n",
       "         ...   \n",
       "403    1.725103\n",
       "404    1.704427\n",
       "405    1.224070\n",
       "406    0.043807\n",
       "407   -0.648170\n",
       "Name: score_logit, Length: 408, dtype: float64"
      ]
     },
     "execution_count": 14,
     "metadata": {},
     "output_type": "execute_result"
    }
   ],
   "source": [
    "# q rc1 is not normal\n",
    "\n",
    "q_rc_1 = query_by_round_type_tag('Q', 'RC', 1)['score_logit']\n",
    "q_rc_1"
   ]
  },
  {
   "cell_type": "markdown",
   "metadata": {},
   "source": [
    "We perform the **Box-Cox Transformation**"
   ]
  },
  {
   "cell_type": "code",
   "execution_count": 16,
   "metadata": {},
   "outputs": [],
   "source": [
    "bc, lmbda = boxcox(q_rc_1 + 1)"
   ]
  },
  {
   "cell_type": "markdown",
   "metadata": {},
   "source": [
    "Then we observe the data using **Histogram**"
   ]
  },
  {
   "cell_type": "code",
   "execution_count": 17,
   "metadata": {},
   "outputs": [
    {
     "data": {
      "text/plain": [
       "(array([ 2.,  4., 27., 49., 87., 79., 81., 51., 20.,  8.]),\n",
       " array([-0.48649832,  1.39328641,  3.27307114,  5.15285587,  7.0326406 ,\n",
       "         8.91242533, 10.79221006, 12.67199479, 14.55177952, 16.43156424,\n",
       "        18.31134897]),\n",
       " <BarContainer object of 10 artists>)"
      ]
     },
     "execution_count": 17,
     "metadata": {},
     "output_type": "execute_result"
    },
    {
     "data": {
      "image/png": "[encoded data removed]",
      "text/plain": [
       "<Figure size 432x288 with 1 Axes>"
      ]
     },
     "metadata": {
      "needs_background": "light"
     },
     "output_type": "display_data"
    }
   ],
   "source": [
    "plt.hist(bc)"
   ]
  },
  {
   "cell_type": "markdown",
   "metadata": {},
   "source": [
    "And do the **Shapiro-Wilk test** with transformed data again"
   ]
  },
  {
   "cell_type": "code",
   "execution_count": 18,
   "metadata": {},
   "outputs": [
    {
     "data": {
      "text/plain": [
       "ShapiroResult(statistic=0.9958409070968628, pvalue=0.3576762080192566)"
      ]
     },
     "execution_count": 18,
     "metadata": {},
     "output_type": "execute_result"
    }
   ],
   "source": [
    "shapiro(bc)"
   ]
  },
  {
   "cell_type": "markdown",
   "metadata": {},
   "source": [
    "The data looks **Normally Distributed** enough according to **p-value**\n",
    "\n",
    "Then we observe the `lmbda` we get from **Box-Cox Transformation**"
   ]
  },
  {
   "cell_type": "code",
   "execution_count": 19,
   "metadata": {},
   "outputs": [
    {
     "data": {
      "text/plain": [
       "1.7116217546963006"
      ]
     },
     "execution_count": 19,
     "metadata": {},
     "output_type": "execute_result"
    }
   ],
   "source": [
    "lmbda"
   ]
  },
  {
   "cell_type": "markdown",
   "metadata": {},
   "source": [
    "#### Does it actually work ?\n",
    "\n",
    "Here, we use **Shapiro-Wilk test** to verify that every beatmap has the Normally Distributed score (from logit transformation). We loop over all rounds, interested types and tags and print the beatmap that has the **p-value < 0.05** even after the **logit** and **Box-Cox Transformation**."
   ]
  },
  {
   "cell_type": "code",
   "execution_count": 21,
   "metadata": {},
   "outputs": [
    {
     "name": "stdout",
     "output_type": "stream",
     "text": [
      "Q LN 1\n",
      "p shapiro Logit Score 1.7381581325353384e-23\n",
      "p shapiro Logit Boxcox 5.792896445200313e-06\n",
      "bc lambda 3.5406503314534286\n",
      "GS RC 3\n",
      "p shapiro Logit Score 4.240784112763407e-10\n",
      "p shapiro Logit Boxcox 0.01173748355358839\n",
      "bc lambda 2.091448707723908\n",
      "RO16 RC 5\n",
      "p shapiro Logit Score 0.030514327809214592\n",
      "p shapiro Logit Boxcox 0.010086318477988243\n",
      "bc lambda 0.8126567453383848\n",
      "RO16 HB 2\n",
      "p shapiro Logit Score 0.005119670648127794\n",
      "p shapiro Logit Boxcox 0.0035309172235429287\n",
      "bc lambda 0.9120669897518988\n"
     ]
    }
   ],
   "source": [
    "for rnd in interested_rounds:\n",
    "    for cat in interested_category:\n",
    "        tags = query_all_tags(rnd, cat).values.flatten()\n",
    "        for t in tags:\n",
    "            ds = query_by_round_type_tag(rnd, cat, t)['score_logit'].values.flatten()\n",
    "            ds_boxcox, lmbda = boxcox(ds - ds.min() + 0.01)\n",
    "            stat, p = shapiro(ds)\n",
    "            stat_bc, p_bc = shapiro(ds_boxcox)\n",
    "            if p_bc < 0.05:\n",
    "                print(rnd, cat, t)\n",
    "                print(\"p shapiro Logit Score\", p)\n",
    "                print(\"p shapiro Logit Boxcox\", p_bc)\n",
    "                print(\"bc lambda\", lmbda)"
   ]
  },
  {
   "cell_type": "markdown",
   "metadata": {},
   "source": [
    "There are **RO32 RC 3**, **QF RC 2** and **QF RC 5** which are still not normally distributed.\n",
    "\n",
    "We then observe these beatmaps using **Q-Q Plot** which is the plot to observe the residual from the given distributions (which is Normal Distribution in this case)\n",
    "\n",
    "Here, we define the function to observe the **Q-Q Plot** of **Original Data** and **Box-Cox Transformed Data**"
   ]
  },
  {
   "cell_type": "code",
   "execution_count": 22,
   "metadata": {},
   "outputs": [],
   "source": [
    "from scipy.stats import probplot, norm\n",
    "\n",
    "def qqplotOriginalVSBoxCox(dataset):\n",
    "    fig = plt.figure()\n",
    "    ax = fig.add_subplot(211)\n",
    "    probplot(dataset, dist=norm, plot=ax)\n",
    "    ax2 = fig.add_subplot(212)\n",
    "    probplot(boxcox(dataset - dataset.min() + 0.01)[0], dist=norm, plot=ax2)"
   ]
  },
  {
   "cell_type": "markdown",
   "metadata": {},
   "source": [
    "We then observe all beatmaps that are not **Normally Distributed** even with the **Box-Cox Transformation** and **Logit Transformation**"
   ]
  },
  {
   "cell_type": "code",
   "execution_count": 24,
   "metadata": {},
   "outputs": [
    {
     "data": {
      "image/png": "[encoded data removed]",
      "text/plain": [
       "<Figure size 432x288 with 2 Axes>"
      ]
     },
     "metadata": {
      "needs_background": "light"
     },
     "output_type": "display_data"
    }
   ],
   "source": [
    "ds = query_by_round_type_tag('QF', 'RC', 5)['score_logit'].values.flatten()\n",
    "\n",
    "qqplotOriginalVSBoxCox(ds)"
   ]
  },
  {
   "cell_type": "code",
   "execution_count": 26,
   "metadata": {},
   "outputs": [
    {
     "data": {
      "image/png": "[encoded data removed]",
      "text/plain": [
       "<Figure size 432x288 with 2 Axes>"
      ]
     },
     "metadata": {
      "needs_background": "light"
     },
     "output_type": "display_data"
    }
   ],
   "source": [
    "ds = query_by_round_type_tag('GS', 'RC', 3)['score_logit'].values.flatten()\n",
    "\n",
    "qqplotOriginalVSBoxCox(ds)"
   ]
  },
  {
   "cell_type": "markdown",
   "metadata": {},
   "source": [
    "---"
   ]
  }
 ],
 "metadata": {
  "kernelspec": {
   "display_name": "Python 3.10.4 64-bit",
   "language": "python",
   "name": "python3"
  },
  "language_info": {
   "codemirror_mode": {
    "name": "ipython",
    "version": 3
   },
   "file_extension": ".py",
   "mimetype": "text/x-python",
   "name": "python",
   "nbconvert_exporter": "python",
   "pygments_lexer": "ipython3",
   "version": "3.10.4"
  },
  "orig_nbformat": 4,
  "vscode": {
   "interpreter": {
    "hash": "a9cff5a362bc38ef45d817ae74b1af54d6a076e3d773891282bce078b815ba34"
   }
  }
 },
 "nbformat": 4,
 "nbformat_minor": 2
}
