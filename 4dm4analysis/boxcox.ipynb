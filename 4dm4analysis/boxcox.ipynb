{
 "cells": [
  {
   "cell_type": "markdown",
   "metadata": {},
   "source": [
    "# Box-Cox Transformation Experiment Notebook"
   ]
  },
  {
   "cell_type": "markdown",
   "metadata": {},
   "source": [
    "This is the experiment using **Box-Cox Transformation** with 4 Digit MWC 4 Dataset. We have already experimented the transform using **logit function** `ln(x/(1-x))` but there are some beatmap that don't have the **Normally Distributed** score yet. So we try a (hopefully not too) complicated approach to make the data more Normally Distributed"
   ]
  },
  {
   "cell_type": "markdown",
   "metadata": {},
   "source": [
    "---"
   ]
  },
  {
   "cell_type": "markdown",
   "metadata": {},
   "source": [
    "## Procedure"
   ]
  },
  {
   "cell_type": "code",
   "execution_count": null,
   "metadata": {},
   "outputs": [],
   "source": [
    "import os\n",
    "\n",
    "os.chdir(\"..\")"
   ]
  },
  {
   "cell_type": "markdown",
   "metadata": {},
   "source": [
    "### Import Necessary Libraries\n",
    "\n",
    "Here we are going to use `matplotlib.pyplot` to visualize the distribution of the data and `Dataset`class from [this repository](https://github.com/HowToProgramming/4dm4analysis) to deal with `sqlite` database"
   ]
  },
  {
   "cell_type": "code",
   "execution_count": 1,
   "metadata": {},
   "outputs": [],
   "source": [
    "import matplotlib.pyplot as plt\n",
    "from utils import Dataset"
   ]
  },
  {
   "cell_type": "markdown",
   "metadata": {},
   "source": [
    "### Initialize the Dataset"
   ]
  },
  {
   "cell_type": "code",
   "execution_count": 2,
   "metadata": {},
   "outputs": [],
   "source": [
    "_4dm4 = Dataset('datasets/4dm4.db')"
   ]
  },
  {
   "cell_type": "markdown",
   "metadata": {},
   "source": [
    "### Define the Necessary functions to Query Data\n",
    "\n",
    "- `query_by_round_type_tag` is used to query `player_name`, `score` and `score_logit` from the dataset where the maps are `round`, `type`, `tag` (for example `SF`, `HB`, `2`)\n",
    "- `query_all_tags` is to query the map count of a `type` in a given `round`"
   ]
  },
  {
   "cell_type": "code",
   "execution_count": 3,
   "metadata": {},
   "outputs": [],
   "source": [
    "def query_by_round_type_tag(round: str, type: str, tag: str):\n",
    "    return _4dm4.select('scores', columns=['player_name', 'score', 'score_logit'], where={\n",
    "        'round': f\"\\\"{round}\\\"\",\n",
    "        'beatmap_type': f\"\\\"{type}\\\"\",\n",
    "        'beatmap_tag': f\"\\\"{tag}\\\"\"\n",
    "    })\n",
    "\n",
    "def query_all_tags(round: str, type: str):\n",
    "    return _4dm4.query(f'SELECT DISTINCT beatmap_tag FROM scores WHERE round=\\\"{round}\\\" AND beatmap_type=\\\"{type}\\\"')"
   ]
  },
  {
   "cell_type": "markdown",
   "metadata": {},
   "source": [
    "We test if the following functions work"
   ]
  },
  {
   "cell_type": "code",
   "execution_count": 4,
   "metadata": {},
   "outputs": [
    {
     "data": {
      "text/html": [
       "<div>\n",
       "<style scoped>\n",
       "    .dataframe tbody tr th:only-of-type {\n",
       "        vertical-align: middle;\n",
       "    }\n",
       "\n",
       "    .dataframe tbody tr th {\n",
       "        vertical-align: top;\n",
       "    }\n",
       "\n",
       "    .dataframe thead th {\n",
       "        text-align: right;\n",
       "    }\n",
       "</style>\n",
       "<table border=\"1\" class=\"dataframe\">\n",
       "  <thead>\n",
       "    <tr style=\"text-align: right;\">\n",
       "      <th></th>\n",
       "      <th>player_name</th>\n",
       "      <th>score</th>\n",
       "      <th>score_logit</th>\n",
       "    </tr>\n",
       "  </thead>\n",
       "  <tbody>\n",
       "    <tr>\n",
       "      <th>0</th>\n",
       "      <td>HD_AdreNaline</td>\n",
       "      <td>983001</td>\n",
       "      <td>4.057456</td>\n",
       "    </tr>\n",
       "    <tr>\n",
       "      <th>1</th>\n",
       "      <td>Maid Bnot</td>\n",
       "      <td>973710</td>\n",
       "      <td>3.611925</td>\n",
       "    </tr>\n",
       "    <tr>\n",
       "      <th>2</th>\n",
       "      <td>FluffyGMD</td>\n",
       "      <td>960385</td>\n",
       "      <td>3.188126</td>\n",
       "    </tr>\n",
       "    <tr>\n",
       "      <th>3</th>\n",
       "      <td>Maykee kee</td>\n",
       "      <td>986240</td>\n",
       "      <td>4.272134</td>\n",
       "    </tr>\n",
       "    <tr>\n",
       "      <th>4</th>\n",
       "      <td>Zergh</td>\n",
       "      <td>970013</td>\n",
       "      <td>3.476546</td>\n",
       "    </tr>\n",
       "  </tbody>\n",
       "</table>\n",
       "</div>"
      ],
      "text/plain": [
       "     player_name   score  score_logit\n",
       "0  HD_AdreNaline  983001     4.057456\n",
       "1      Maid Bnot  973710     3.611925\n",
       "2      FluffyGMD  960385     3.188126\n",
       "3     Maykee kee  986240     4.272134\n",
       "4          Zergh  970013     3.476546"
      ]
     },
     "execution_count": 4,
     "metadata": {},
     "output_type": "execute_result"
    }
   ],
   "source": [
    "query_by_round_type_tag(\"QF\", \"HB\", \"1\").head()"
   ]
  },
  {
   "cell_type": "code",
   "execution_count": 5,
   "metadata": {},
   "outputs": [
    {
     "data": {
      "text/html": [
       "<div>\n",
       "<style scoped>\n",
       "    .dataframe tbody tr th:only-of-type {\n",
       "        vertical-align: middle;\n",
       "    }\n",
       "\n",
       "    .dataframe tbody tr th {\n",
       "        vertical-align: top;\n",
       "    }\n",
       "\n",
       "    .dataframe thead th {\n",
       "        text-align: right;\n",
       "    }\n",
       "</style>\n",
       "<table border=\"1\" class=\"dataframe\">\n",
       "  <thead>\n",
       "    <tr style=\"text-align: right;\">\n",
       "      <th></th>\n",
       "      <th>beatmap_tag</th>\n",
       "    </tr>\n",
       "  </thead>\n",
       "  <tbody>\n",
       "    <tr>\n",
       "      <th>0</th>\n",
       "      <td>1</td>\n",
       "    </tr>\n",
       "    <tr>\n",
       "      <th>1</th>\n",
       "      <td>2</td>\n",
       "    </tr>\n",
       "    <tr>\n",
       "      <th>2</th>\n",
       "      <td>3</td>\n",
       "    </tr>\n",
       "  </tbody>\n",
       "</table>\n",
       "</div>"
      ],
      "text/plain": [
       "   beatmap_tag\n",
       "0            1\n",
       "1            2\n",
       "2            3"
      ]
     },
     "execution_count": 5,
     "metadata": {},
     "output_type": "execute_result"
    }
   ],
   "source": [
    "query_all_tags(\"QF\", \"HB\")"
   ]
  },
  {
   "cell_type": "markdown",
   "metadata": {},
   "source": [
    "### Defining Constants\n",
    "\n",
    "We then define the `interested_rounds` we want to study (which is all rounds) and `interested_category` to be `RC`, `HB` and `LN`"
   ]
  },
  {
   "cell_type": "code",
   "execution_count": 6,
   "metadata": {},
   "outputs": [
    {
     "data": {
      "text/plain": [
       "['Q', 'RO32', 'RO16', 'QF', 'SF', 'F', 'GF']"
      ]
     },
     "execution_count": 6,
     "metadata": {},
     "output_type": "execute_result"
    }
   ],
   "source": [
    "interested_rounds = _4dm4.query(\"SELECT DISTINCT round FROM SCORES\").values.flatten().tolist()\n",
    "interested_category = ['RC', 'HB', 'LN']\n",
    "\n",
    "interested_rounds"
   ]
  },
  {
   "cell_type": "markdown",
   "metadata": {},
   "source": [
    "---"
   ]
  },
  {
   "cell_type": "markdown",
   "metadata": {},
   "source": [
    "### Shapiro-Wilk test\n",
    "\n",
    "We perform the **Shapiro-Wilk test** to check whether the data is **Normally Distributed** basically if the `scipy.stats.shapiro` yields the `p-value` **less than 0.05**, we can say that the data is not Normally Distributed. Otherwise...\n",
    "\n",
    "*There is no turning back*"
   ]
  },
  {
   "cell_type": "code",
   "execution_count": 7,
   "metadata": {},
   "outputs": [],
   "source": [
    "from scipy.stats import shapiro"
   ]
  },
  {
   "cell_type": "markdown",
   "metadata": {},
   "source": [
    "We pull data (`score` and `score_logit`) from **QF RC 1** as a sample data"
   ]
  },
  {
   "cell_type": "code",
   "execution_count": 8,
   "metadata": {},
   "outputs": [],
   "source": [
    "qf_rc_1 = query_by_round_type_tag('QF', 'RC', 1)\n",
    "\n",
    "qf_rc_1_score = qf_rc_1['score'].values.flatten()\n",
    "qf_rc_1_score_logit = qf_rc_1['score_logit'].values.flatten()"
   ]
  },
  {
   "cell_type": "markdown",
   "metadata": {},
   "source": [
    "Then we perform the **Shapiro-Wilk test** on these data"
   ]
  },
  {
   "cell_type": "code",
   "execution_count": 9,
   "metadata": {},
   "outputs": [
    {
     "data": {
      "text/plain": [
       "ShapiroResult(statistic=0.8633033037185669, pvalue=0.0001148921437561512)"
      ]
     },
     "execution_count": 9,
     "metadata": {},
     "output_type": "execute_result"
    }
   ],
   "source": [
    "shapiro(qf_rc_1_score)"
   ]
  },
  {
   "cell_type": "code",
   "execution_count": 10,
   "metadata": {},
   "outputs": [
    {
     "data": {
      "text/plain": [
       "ShapiroResult(statistic=0.9900920391082764, pvalue=0.9687826037406921)"
      ]
     },
     "execution_count": 10,
     "metadata": {},
     "output_type": "execute_result"
    }
   ],
   "source": [
    "shapiro(qf_rc_1_score_logit)"
   ]
  },
  {
   "cell_type": "markdown",
   "metadata": {},
   "source": [
    "As we seen from **QF RC 1**, the raw score is not **Normally Distributed** but the transformation using **logit function** did a really good job on normalizing the dataset. Let's see if it works for all beatmaps."
   ]
  },
  {
   "cell_type": "markdown",
   "metadata": {},
   "source": [
    "### Logit transformation always works ?\n",
    "\n",
    "Here, we use **Shapiro-Wilk test** to verify that every beatmap has the Normally Distributed score (from logit transformation). We loop over all rounds, interested types and tags and print the beatmap that has the **p-value < 0.05** even with the **logit transformation**."
   ]
  },
  {
   "cell_type": "code",
   "execution_count": 11,
   "metadata": {},
   "outputs": [
    {
     "name": "stdout",
     "output_type": "stream",
     "text": [
      "Q RC 1\n",
      "Score ShapiroResult(statistic=0.5369417667388916, pvalue=3.89683049494445e-18)\n",
      "Logit Score ShapiroResult(statistic=0.9424773454666138, pvalue=4.434710353962146e-05)\n",
      "Q RC 2\n",
      "Score ShapiroResult(statistic=0.4603457450866699, pvalue=2.184986731313283e-19)\n",
      "Logit Score ShapiroResult(statistic=0.9615637063980103, pvalue=0.001359761692583561)\n",
      "Q HB 1\n",
      "Score ShapiroResult(statistic=0.7157858610153198, pvalue=3.034174677458111e-14)\n",
      "Logit Score ShapiroResult(statistic=0.9766784906387329, pvalue=0.02920994907617569)\n",
      "RO32 RC 1\n",
      "Score ShapiroResult(statistic=0.6019769906997681, pvalue=1.1347306557926706e-12)\n",
      "Logit Score ShapiroResult(statistic=0.9310038685798645, pvalue=0.0006876285187900066)\n",
      "RO32 RC 3\n",
      "Score ShapiroResult(statistic=0.5183445811271667, pvalue=1.3821357625835428e-14)\n",
      "Logit Score ShapiroResult(statistic=0.956083357334137, pvalue=0.008922227658331394)\n",
      "RO32 RC 4\n",
      "Score ShapiroResult(statistic=0.7964321374893188, pvalue=0.0002577091217972338)\n",
      "Logit Score ShapiroResult(statistic=0.9121448993682861, pvalue=0.039267826825380325)\n",
      "RO32 RC 5\n",
      "Score ShapiroResult(statistic=0.299696147441864, pvalue=2.1739286938530014e-15)\n",
      "Logit Score ShapiroResult(statistic=0.8770931363105774, pvalue=2.1220675989752635e-05)\n",
      "RO32 LN 3\n",
      "Score ShapiroResult(statistic=0.7012366056442261, pvalue=8.18487569387294e-11)\n",
      "Logit Score ShapiroResult(statistic=0.9592861533164978, pvalue=0.020139191299676895)\n",
      "QF RC 2\n",
      "Score ShapiroResult(statistic=0.8377956748008728, pvalue=4.3626428123388905e-06)\n",
      "Logit Score ShapiroResult(statistic=0.9409394860267639, pvalue=0.011168474331498146)\n",
      "QF RC 4\n",
      "Score ShapiroResult(statistic=0.8142400979995728, pvalue=4.230736649901701e-08)\n",
      "Logit Score ShapiroResult(statistic=0.9614905714988708, pvalue=0.02682577818632126)\n",
      "QF RC 5\n",
      "Score ShapiroResult(statistic=0.921472430229187, pvalue=0.0013614539057016373)\n",
      "Logit Score ShapiroResult(statistic=0.9460263252258301, pvalue=0.014174080453813076)\n",
      "QF LN 3\n",
      "Score ShapiroResult(statistic=0.7482462525367737, pvalue=1.042229769154801e-08)\n",
      "Logit Score ShapiroResult(statistic=0.958611249923706, pvalue=0.042984314262866974)\n",
      "SF HB 2\n",
      "Score ShapiroResult(statistic=0.7025167942047119, pvalue=2.107050022459589e-05)\n",
      "Logit Score ShapiroResult(statistic=0.9078717231750488, pvalue=0.04284418746829033)\n",
      "F RC 7\n",
      "Score ShapiroResult(statistic=0.9376316070556641, pvalue=0.6401795148849487)\n",
      "Logit Score ShapiroResult(statistic=0.7816483974456787, pvalue=0.039932023733854294)\n"
     ]
    }
   ],
   "source": [
    "for rnd in interested_rounds:\n",
    "    for cat in interested_category:\n",
    "        tags = query_all_tags(rnd, cat).values.flatten()\n",
    "        for t in tags:\n",
    "            ds = query_by_round_type_tag(rnd, cat, t)\n",
    "            stat, p = shapiro(ds['score_logit'].values.flatten())\n",
    "            if p < 0.05:\n",
    "                print(rnd, cat, t)\n",
    "                print(\"Score\", shapiro(ds['score'].values.flatten()))\n",
    "                print(\"Logit Score\", shapiro(ds['score_logit'].values.flatten()))"
   ]
  },
  {
   "cell_type": "markdown",
   "metadata": {},
   "source": [
    "From this code, we can see that there are still many beatmaps which the scores are not **Normally Distributed** even with the **logit transformation**. We need another approach to make them more Normally Distributed."
   ]
  },
  {
   "cell_type": "markdown",
   "metadata": {},
   "source": [
    "---"
   ]
  },
  {
   "cell_type": "markdown",
   "metadata": {},
   "source": [
    "### Box-Cox Transformation"
   ]
  },
  {
   "cell_type": "markdown",
   "metadata": {},
   "source": [
    "#### What is Box-Cox Transformation ?\n",
    "\n",
    "The **Box-Cox Transformation** aims to make the data as Normally Distributed as possible using the formula given below\n",
    "\n",
    "```python\n",
    "y = (x**lmbda - 1) / lmbda,  for lmbda != 0\n",
    "    log(x),                  for lmbda = 0\n",
    "```\n",
    "\n",
    "The `scipy` python package provides the way to automatically find `lmbda` using **Maximum Likelihood** so we don't need to worry about finding `lmbda`.\n",
    "\n",
    "For more information, you can read this [scipy documentation](https://docs.scipy.org/doc/scipy/reference/generated/scipy.stats.boxcox.html) or [this Medium Article](https://towardsdatascience.com/box-cox-transformation-explained-51d745e34203)."
   ]
  },
  {
   "cell_type": "markdown",
   "metadata": {},
   "source": [
    "#### Performing Box-Cox Transformation\n",
    "\n",
    "**Box-Cox Transformation** can be found in `scipy.stats` package"
   ]
  },
  {
   "cell_type": "code",
   "execution_count": 12,
   "metadata": {},
   "outputs": [],
   "source": [
    "from scipy.stats import boxcox"
   ]
  },
  {
   "cell_type": "markdown",
   "metadata": {},
   "source": [
    "We observe the **Q RC 1** score that has been transformed using logit function. This beatmap does not have a **Normally Distributed** score_logit."
   ]
  },
  {
   "cell_type": "code",
   "execution_count": 13,
   "metadata": {},
   "outputs": [
    {
     "data": {
      "text/plain": [
       "0      3.922366\n",
       "1      4.792686\n",
       "2      2.952871\n",
       "3      5.119073\n",
       "4      5.221730\n",
       "         ...   \n",
       "120    5.116538\n",
       "121    5.196213\n",
       "122    4.317018\n",
       "123    2.180887\n",
       "124    3.386818\n",
       "Name: score_logit, Length: 125, dtype: float64"
      ]
     },
     "execution_count": 13,
     "metadata": {},
     "output_type": "execute_result"
    }
   ],
   "source": [
    "# q rc1 is not normal\n",
    "\n",
    "q_rc_1 = query_by_round_type_tag('Q', 'RC', 1)['score_logit']\n",
    "q_rc_1"
   ]
  },
  {
   "cell_type": "markdown",
   "metadata": {},
   "source": [
    "We perform the **Box-Cox Transformation**"
   ]
  },
  {
   "cell_type": "code",
   "execution_count": 14,
   "metadata": {},
   "outputs": [],
   "source": [
    "bc, lmbda = boxcox(q_rc_1)"
   ]
  },
  {
   "cell_type": "markdown",
   "metadata": {},
   "source": [
    "Then we observe the data using **Histogram**"
   ]
  },
  {
   "cell_type": "code",
   "execution_count": 15,
   "metadata": {},
   "outputs": [
    {
     "data": {
      "text/plain": [
       "(array([ 4.,  8., 16., 16., 34., 26., 16.,  2.,  1.,  2.]),\n",
       " array([ 2.58808424,  7.86531759, 13.14255094, 18.41978429, 23.69701764,\n",
       "        28.97425099, 34.25148433, 39.52871768, 44.80595103, 50.08318438,\n",
       "        55.36041773]),\n",
       " <BarContainer object of 10 artists>)"
      ]
     },
     "execution_count": 15,
     "metadata": {},
     "output_type": "execute_result"
    },
    {
     "data": {
      "image/png": "[encoded data removed]",
      "text/plain": [
       "<Figure size 432x288 with 1 Axes>"
      ]
     },
     "metadata": {
      "needs_background": "light"
     },
     "output_type": "display_data"
    }
   ],
   "source": [
    "plt.hist(bc)"
   ]
  },
  {
   "cell_type": "markdown",
   "metadata": {},
   "source": [
    "And do the **Shapiro-Wilk test** with transformed data again"
   ]
  },
  {
   "cell_type": "code",
   "execution_count": 16,
   "metadata": {},
   "outputs": [
    {
     "data": {
      "text/plain": [
       "ShapiroResult(statistic=0.9832558035850525, pvalue=0.125358447432518)"
      ]
     },
     "execution_count": 16,
     "metadata": {},
     "output_type": "execute_result"
    }
   ],
   "source": [
    "shapiro(bc)"
   ]
  },
  {
   "cell_type": "markdown",
   "metadata": {},
   "source": [
    "The data looks **Normally Distributed** enough according to **p-value**\n",
    "\n",
    "Then we observe the `lmbda` we get from **Box-Cox Transformation**"
   ]
  },
  {
   "cell_type": "code",
   "execution_count": 17,
   "metadata": {},
   "outputs": [
    {
     "data": {
      "text/plain": [
       "2.639544280909197"
      ]
     },
     "execution_count": 17,
     "metadata": {},
     "output_type": "execute_result"
    }
   ],
   "source": [
    "lmbda"
   ]
  },
  {
   "cell_type": "markdown",
   "metadata": {},
   "source": [
    "#### Does it actually work ?\n",
    "\n",
    "Here, we use **Shapiro-Wilk test** to verify that every beatmap has the Normally Distributed score (from logit transformation). We loop over all rounds, interested types and tags and print the beatmap that has the **p-value < 0.05** even after the **logit** and **Box-Cox Transformation**."
   ]
  },
  {
   "cell_type": "code",
   "execution_count": 18,
   "metadata": {},
   "outputs": [
    {
     "name": "stdout",
     "output_type": "stream",
     "text": [
      "RO32 RC 3\n",
      "p shapiro Logit Score 0.008922227658331394\n",
      "p shapiro Logit Boxcox 0.011861970648169518\n",
      "bc lambda 1.357919902536203\n",
      "QF RC 2\n",
      "p shapiro Logit Score 0.011168474331498146\n",
      "p shapiro Logit Boxcox 0.015467197634279728\n",
      "bc lambda 1.9400559184099562\n",
      "QF RC 5\n",
      "p shapiro Logit Score 0.014174080453813076\n",
      "p shapiro Logit Boxcox 0.016421299427747726\n",
      "bc lambda 0.6228948934925673\n"
     ]
    }
   ],
   "source": [
    "for rnd in interested_rounds:\n",
    "    for cat in interested_category:\n",
    "        tags = query_all_tags(rnd, cat).values.flatten()\n",
    "        for t in tags:\n",
    "            ds = query_by_round_type_tag(rnd, cat, t)['score_logit'].values.flatten()\n",
    "            ds_boxcox, lmbda = boxcox(ds)\n",
    "            stat, p = shapiro(ds)\n",
    "            stat_bc, p_bc = shapiro(ds_boxcox)\n",
    "            if p_bc < 0.05:\n",
    "                print(rnd, cat, t)\n",
    "                print(\"p shapiro Logit Score\", p)\n",
    "                print(\"p shapiro Logit Boxcox\", p_bc)\n",
    "                print(\"bc lambda\", lmbda)"
   ]
  },
  {
   "cell_type": "markdown",
   "metadata": {},
   "source": [
    "There are **RO32 RC 3**, **QF RC 2** and **QF RC 5** which are still not normally distributed.\n",
    "\n",
    "We then observe these beatmaps using **Q-Q Plot** which is the plot to observe the residual from the given distributions (which is Normal Distribution in this case)\n",
    "\n",
    "Here, we define the function to observe the **Q-Q Plot** of **Original Data** and **Box-Cox Transformed Data**"
   ]
  },
  {
   "cell_type": "code",
   "execution_count": 19,
   "metadata": {},
   "outputs": [],
   "source": [
    "from scipy.stats import probplot, norm\n",
    "\n",
    "def qqplotOriginalVSBoxCox(dataset):\n",
    "    fig = plt.figure()\n",
    "    ax = fig.add_subplot(211)\n",
    "    probplot(dataset, dist=norm, plot=ax)\n",
    "    ax2 = fig.add_subplot(212)\n",
    "    probplot(boxcox(dataset)[0], dist=norm, plot=ax2)"
   ]
  },
  {
   "cell_type": "markdown",
   "metadata": {},
   "source": [
    "We then observe all beatmaps that are not **Normally Distributed** even with the **Box-Cox Transformation** and **Logit Transformation**"
   ]
  },
  {
   "cell_type": "code",
   "execution_count": 20,
   "metadata": {},
   "outputs": [
    {
     "data": {
      "image/png": "[encoded data removed]",
      "text/plain": [
       "<Figure size 432x288 with 2 Axes>"
      ]
     },
     "metadata": {
      "needs_background": "light"
     },
     "output_type": "display_data"
    }
   ],
   "source": [
    "ds = query_by_round_type_tag('QF', 'RC', 2)['score_logit'].values.flatten()\n",
    "\n",
    "qqplotOriginalVSBoxCox(ds)"
   ]
  },
  {
   "cell_type": "code",
   "execution_count": 21,
   "metadata": {},
   "outputs": [
    {
     "data": {
      "image/png": "[encoded data removed]",
      "text/plain": [
       "<Figure size 432x288 with 2 Axes>"
      ]
     },
     "metadata": {
      "needs_background": "light"
     },
     "output_type": "display_data"
    }
   ],
   "source": [
    "ds = query_by_round_type_tag('QF', 'RC', 5)['score_logit'].values.flatten()\n",
    "\n",
    "qqplotOriginalVSBoxCox(ds)"
   ]
  },
  {
   "cell_type": "code",
   "execution_count": 22,
   "metadata": {},
   "outputs": [
    {
     "data": {
      "image/png": "[encoded data removed]",
      "text/plain": [
       "<Figure size 432x288 with 2 Axes>"
      ]
     },
     "metadata": {
      "needs_background": "light"
     },
     "output_type": "display_data"
    }
   ],
   "source": [
    "ds = query_by_round_type_tag('RO32', 'RC', 3)['score_logit'].values.flatten()\n",
    "\n",
    "qqplotOriginalVSBoxCox(ds)"
   ]
  },
  {
   "cell_type": "markdown",
   "metadata": {},
   "source": [
    "---"
   ]
  }
 ],
 "metadata": {
  "kernelspec": {
   "display_name": "Python 3.10.4 64-bit",
   "language": "python",
   "name": "python3"
  },
  "language_info": {
   "codemirror_mode": {
    "name": "ipython",
    "version": 3
   },
   "file_extension": ".py",
   "mimetype": "text/x-python",
   "name": "python",
   "nbconvert_exporter": "python",
   "pygments_lexer": "ipython3",
   "version": "3.10.4"
  },
  "orig_nbformat": 4,
  "vscode": {
   "interpreter": {
    "hash": "a9cff5a362bc38ef45d817ae74b1af54d6a076e3d773891282bce078b815ba34"
   }
  }
 },
 "nbformat": 4,
 "nbformat_minor": 2
}
