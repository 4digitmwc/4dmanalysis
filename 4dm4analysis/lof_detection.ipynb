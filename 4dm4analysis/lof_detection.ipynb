{
 "cells": [
  {
   "cell_type": "markdown",
   "metadata": {},
   "source": [
    "# Outlier Detection of 4 Digit MWC 4 Players using Tournament Scores"
   ]
  },
  {
   "cell_type": "markdown",
   "metadata": {},
   "source": [
    "## Objective\n",
    "\n",
    "This analysis aims for the main goal of the 4dm4 analysis, which is to find the robust model to **Skillban** the outperformers (Derankers) in rank-restricted tournament with the sample data being **4 digit mwc 4 scores** from official Multiplayer Links. We have defined the **Derankers** as follows\n",
    "\n",
    "Derankers (n.) *a player who outperforms other players in the rank-restricted tournament.*\n",
    "\n",
    "\"Outperform\" is, at a glance, subjective to define. The question arises that what is the criteria of a player to be an *Outperformer* or a *Deranker*. Of course, we use statistics to reduce the \"subjectiveness\" of the definitions."
   ]
  },
  {
   "cell_type": "markdown",
   "metadata": {},
   "source": [
    "## Methodology\n",
    "\n",
    "Recapped from previous analyses, we have analyzed the follows:\n",
    "- Dimensionality Reduction Techniques and Various Outlier Detection Models.\n",
    "    - Note : This attempt failed because how unexplainable the model is\n",
    "- Regression Analysis to find the Progression of the Scores through the rounds.\n",
    "- Survival Analysis & Logistic Regression to find the effect of qualifiers scores on the bracket elimination stages.\n",
    "- Experimentation with Box-Cox Transformation to make our score data Normally Distributed (failed however sadge).\n",
    "\n",
    "This Notebook is the attempt of applying **Local Outlier Factor (LOF)** to detect the outliers from the model. There will be a twist of Index abusing the **Local Outlier Factor** model using the different distance metric to satisfy our objections."
   ]
  },
  {
   "cell_type": "markdown",
   "metadata": {},
   "source": [
    "## Local Outlier Factor\n",
    "\n",
    "**Local Outlier Factor** is an **Outlier Detection Model** which uses the **Local Reachability Density** to detect the outliers. Namely, the **Data Point** with low Local Density will be considered outliers. Before we go into the details, it would be a good approach to simplify some complicate definitions down.\n",
    "\n",
    "#### Definitions\n",
    "\n",
    "**Reachability Distance** : The maximum of distance the point A needs to reach to point B and the distance from point B to their k-closest neighbors. The visualization can be that given B is a friend with k neighbors, how long (or how much distance) would it take to befriend with A.\n",
    "\n",
    "**Local Reachability Density** : In a nutshell, assuming A has k-nearest neighbors, the Local Reachability Density is how tiring it is for A to communicate with their neighbors face-to-face.\n",
    "\n",
    "**Local Outlier Factor** : After these two definitions, A compare their extrovertness with neighbors and result in how introvert A is. If A is too introverted (LOF is high) -> A is an outlier.\n",
    "\n",
    "Well, I hope you guys find this \"oversimplification\" understandable. However, as Index has mentioned, he abused this introvertness meter with a new distance metric."
   ]
  },
  {
   "cell_type": "markdown",
   "metadata": {},
   "source": [
    "\n",
    "### Local Outlier Factor with Elastic Euclidean Distance\n",
    "\n",
    "Normally, **Local Outlier Factor** model uses **Euclidean Distance** as a main distance metric, namely for defining **Local Reachability Density** and **Local Outlier Factor**. This approach will detect the data points which has less density. This comes with the problem when they detect the point near the center and they don't use \"score\" as a consideration that much, so we implemented the **Elastic Net** into the Euclidean Distance Metric and call it **Elastic Euclidean Distance**\n",
    "\n",
    "**Elastic Euclidean Distance** is defined as follows :\n",
    "```python\n",
    "def elastic_euclidean(A, B):\n",
    "    return euclidean(A, B) * lmbda1 + sum(A ** 2) * lmbda2 + sum(abs(A)) * lmbda3\n",
    "```\n",
    "\n",
    "where `lmbda1`, `lmbda2` and `lmbda3` are **Hyperparameters** (they are user-defined)\n",
    "\n",
    "- sum(A ** 2) : is called a \"L1 Regularization\"\n",
    "- sum(abs(A)) : is called a \"L2 Regularization\"\n",
    "\n",
    "The L2 regularization for our metric tends to detect the players who outperforms other players in a few maps, for example : shokoha has a really good score on specialist, an L2 regularization can detect that\n",
    "\n",
    "The L1 regularization for our metric tends to detect players who are all-rounded (not really outperformed in the certain maps but in overall, good performances)\n",
    "\n",
    "However, in this approach, you need to standardize the data (classic (x - mu) / sigma) before fitting the model to prevent the value inflation."
   ]
  },
  {
   "cell_type": "markdown",
   "metadata": {},
   "source": [
    "### Local Outlier Factor Code Explanation"
   ]
  },
  {
   "cell_type": "code",
   "execution_count": 1,
   "metadata": {},
   "outputs": [],
   "source": [
    "import os\n",
    "\n",
    "os.chdir(\"..\")"
   ]
  },
  {
   "cell_type": "markdown",
   "metadata": {},
   "source": [
    "#### Import Necessary Libraries\n",
    "\n",
    "Here, we use `pandas` for DataFrame managements, `matplotlib.pyplot` for further visualization and `numpy` for finding `mean` and `std`"
   ]
  },
  {
   "cell_type": "code",
   "execution_count": 2,
   "metadata": {},
   "outputs": [],
   "source": [
    "import pandas as pd\n",
    "import matplotlib.pyplot as plt\n",
    "import numpy as np"
   ]
  },
  {
   "cell_type": "markdown",
   "metadata": {},
   "source": [
    "#### Import Necessary Utilities\n",
    "\n",
    "These are utilities that are available on the original repository. We will use\n",
    "- **LOF** for Local Outlier Factor Model\n",
    "- **nan_euclidean** and **elastic_nan_euclidean** for Local Outlier Factor Metric\n",
    "- **get_table_players** for transforming data which is gathered from `sqlite3 .db`\n",
    "- **Dataset** to deal with `sqlite3 .db` in general"
   ]
  },
  {
   "cell_type": "code",
   "execution_count": 3,
   "metadata": {},
   "outputs": [],
   "source": [
    "from utils.lof import LOF\n",
    "from utils.metrics import nan_euclidean, elastic_nan_euclidean\n",
    "from utils import get_table_players"
   ]
  },
  {
   "cell_type": "code",
   "execution_count": 4,
   "metadata": {},
   "outputs": [],
   "source": [
    "from utils import Dataset"
   ]
  },
  {
   "cell_type": "markdown",
   "metadata": {},
   "source": [
    "#### Defining the Elastic Euclidean Distance\n",
    "\n",
    "Here, we use `lmbda1` = 1; `lmbda2` = `lmbda3` = 0.25 so the formula of our distance metric is\n",
    "\n",
    "euclidean(A, B) * 1 + sum(A ** 2) * 0.25 + sum(abs(A)) * 0.25"
   ]
  },
  {
   "cell_type": "code",
   "execution_count": 5,
   "metadata": {},
   "outputs": [],
   "source": [
    "euclidean_regularized = elastic_nan_euclidean(1, 0.3, 0.1)"
   ]
  },
  {
   "cell_type": "markdown",
   "metadata": {},
   "source": [
    "#### Initializing the Dataset and Querying the data\n",
    "\n",
    "We use `4dm4.db` for our current study, and the logit transformation of scores from all round which has the category `LN`, `RC` and `HB`"
   ]
  },
  {
   "cell_type": "code",
   "execution_count": 6,
   "metadata": {},
   "outputs": [],
   "source": [
    "_4dm4_impute = Dataset('datasets/4dm3.db')"
   ]
  },
  {
   "cell_type": "code",
   "execution_count": 7,
   "metadata": {},
   "outputs": [],
   "source": [
    "_4dm4_data = _4dm4_impute.select('scores', columns=['player_name', 'round', 'beatmap_type', 'beatmap_tag', 'score_logit'], where={\n",
    "    'beatmap_type': ['LN', 'RC', 'HB'],\n",
    "})"
   ]
  },
  {
   "cell_type": "markdown",
   "metadata": {},
   "source": [
    "#### Data Transformation\n",
    "\n",
    "We then transform the Queried Data to the table of players and maps"
   ]
  },
  {
   "cell_type": "code",
   "execution_count": 8,
   "metadata": {},
   "outputs": [],
   "source": [
    "_4dm4_table = get_table_players(_4dm4_data)"
   ]
  },
  {
   "cell_type": "markdown",
   "metadata": {},
   "source": [
    "#### Standardizing the Data"
   ]
  },
  {
   "cell_type": "markdown",
   "metadata": {},
   "source": [
    "As mentioned in [this part](#local-outlier-factor-with-elastic-euclidean-distance), we need to standardize data in order to use the model with this metric. So we define `standardized_4dm` then standardize depending on individual maps and ignoring the `NaN` data."
   ]
  },
  {
   "cell_type": "code",
   "execution_count": 9,
   "metadata": {},
   "outputs": [],
   "source": [
    "standardized_4dm = pd.DataFrame(index=_4dm4_table.index)"
   ]
  },
  {
   "cell_type": "code",
   "execution_count": 10,
   "metadata": {},
   "outputs": [],
   "source": [
    "for col in _4dm4_table.columns:\n",
    "    mu = np.nanmean(_4dm4_table[col]); sigma = np.nanstd(_4dm4_table[col], ddof=1)\n",
    "    standardized_4dm[col] = _4dm4_table[col].apply(lambda x: (x - mu) / sigma)"
   ]
  },
  {
   "cell_type": "code",
   "execution_count": 11,
   "metadata": {},
   "outputs": [
    {
     "data": {
      "text/html": [
       "<div>\n",
       "<style scoped>\n",
       "    .dataframe tbody tr th:only-of-type {\n",
       "        vertical-align: middle;\n",
       "    }\n",
       "\n",
       "    .dataframe tbody tr th {\n",
       "        vertical-align: top;\n",
       "    }\n",
       "\n",
       "    .dataframe thead th {\n",
       "        text-align: right;\n",
       "    }\n",
       "</style>\n",
       "<table border=\"1\" class=\"dataframe\">\n",
       "  <thead>\n",
       "    <tr style=\"text-align: right;\">\n",
       "      <th></th>\n",
       "      <th>Q_RC_1</th>\n",
       "      <th>Q_LN_1</th>\n",
       "      <th>Q_HB_1</th>\n",
       "      <th>GS_RC_1</th>\n",
       "      <th>GS_RC_2</th>\n",
       "      <th>GS_RC_4</th>\n",
       "      <th>GS_LN_1</th>\n",
       "      <th>GS_LN_2</th>\n",
       "      <th>GS_HB_1</th>\n",
       "      <th>RO16_RC_4</th>\n",
       "      <th>...</th>\n",
       "      <th>GF_RC_6</th>\n",
       "      <th>GF_RC_7</th>\n",
       "      <th>GF_LN_1</th>\n",
       "      <th>GF_LN_2</th>\n",
       "      <th>GF_LN_3</th>\n",
       "      <th>GF_HB_2</th>\n",
       "      <th>QF_LN_1</th>\n",
       "      <th>SF_HB_1</th>\n",
       "      <th>GF_HB_3</th>\n",
       "      <th>RO16_HB_2</th>\n",
       "    </tr>\n",
       "  </thead>\n",
       "  <tbody>\n",
       "    <tr>\n",
       "      <th>Scep</th>\n",
       "      <td>2.017505</td>\n",
       "      <td>0.218490</td>\n",
       "      <td>0.713758</td>\n",
       "      <td>2.240486</td>\n",
       "      <td>-1.315069</td>\n",
       "      <td>2.130158</td>\n",
       "      <td>0.531339</td>\n",
       "      <td>0.605757</td>\n",
       "      <td>2.026246</td>\n",
       "      <td>2.219624</td>\n",
       "      <td>...</td>\n",
       "      <td>NaN</td>\n",
       "      <td>NaN</td>\n",
       "      <td>NaN</td>\n",
       "      <td>NaN</td>\n",
       "      <td>NaN</td>\n",
       "      <td>NaN</td>\n",
       "      <td>NaN</td>\n",
       "      <td>NaN</td>\n",
       "      <td>NaN</td>\n",
       "      <td>NaN</td>\n",
       "    </tr>\n",
       "    <tr>\n",
       "      <th>Chiara</th>\n",
       "      <td>1.127118</td>\n",
       "      <td>0.243935</td>\n",
       "      <td>1.123565</td>\n",
       "      <td>0.612993</td>\n",
       "      <td>2.363380</td>\n",
       "      <td>1.193031</td>\n",
       "      <td>NaN</td>\n",
       "      <td>NaN</td>\n",
       "      <td>NaN</td>\n",
       "      <td>NaN</td>\n",
       "      <td>...</td>\n",
       "      <td>NaN</td>\n",
       "      <td>NaN</td>\n",
       "      <td>NaN</td>\n",
       "      <td>NaN</td>\n",
       "      <td>NaN</td>\n",
       "      <td>NaN</td>\n",
       "      <td>NaN</td>\n",
       "      <td>NaN</td>\n",
       "      <td>NaN</td>\n",
       "      <td>NaN</td>\n",
       "    </tr>\n",
       "    <tr>\n",
       "      <th>Paturages</th>\n",
       "      <td>2.371593</td>\n",
       "      <td>NaN</td>\n",
       "      <td>NaN</td>\n",
       "      <td>1.017415</td>\n",
       "      <td>1.030878</td>\n",
       "      <td>1.458316</td>\n",
       "      <td>NaN</td>\n",
       "      <td>NaN</td>\n",
       "      <td>NaN</td>\n",
       "      <td>NaN</td>\n",
       "      <td>...</td>\n",
       "      <td>NaN</td>\n",
       "      <td>NaN</td>\n",
       "      <td>NaN</td>\n",
       "      <td>NaN</td>\n",
       "      <td>NaN</td>\n",
       "      <td>NaN</td>\n",
       "      <td>NaN</td>\n",
       "      <td>NaN</td>\n",
       "      <td>NaN</td>\n",
       "      <td>NaN</td>\n",
       "    </tr>\n",
       "    <tr>\n",
       "      <th>2zi</th>\n",
       "      <td>2.227634</td>\n",
       "      <td>NaN</td>\n",
       "      <td>NaN</td>\n",
       "      <td>1.688407</td>\n",
       "      <td>0.869808</td>\n",
       "      <td>0.464348</td>\n",
       "      <td>NaN</td>\n",
       "      <td>NaN</td>\n",
       "      <td>NaN</td>\n",
       "      <td>NaN</td>\n",
       "      <td>...</td>\n",
       "      <td>NaN</td>\n",
       "      <td>NaN</td>\n",
       "      <td>NaN</td>\n",
       "      <td>NaN</td>\n",
       "      <td>NaN</td>\n",
       "      <td>NaN</td>\n",
       "      <td>NaN</td>\n",
       "      <td>NaN</td>\n",
       "      <td>NaN</td>\n",
       "      <td>NaN</td>\n",
       "    </tr>\n",
       "    <tr>\n",
       "      <th>ZayyKen</th>\n",
       "      <td>1.163159</td>\n",
       "      <td>0.790546</td>\n",
       "      <td>1.877259</td>\n",
       "      <td>2.346803</td>\n",
       "      <td>2.435073</td>\n",
       "      <td>1.507435</td>\n",
       "      <td>1.482213</td>\n",
       "      <td>NaN</td>\n",
       "      <td>2.449809</td>\n",
       "      <td>NaN</td>\n",
       "      <td>...</td>\n",
       "      <td>NaN</td>\n",
       "      <td>NaN</td>\n",
       "      <td>NaN</td>\n",
       "      <td>NaN</td>\n",
       "      <td>NaN</td>\n",
       "      <td>NaN</td>\n",
       "      <td>NaN</td>\n",
       "      <td>NaN</td>\n",
       "      <td>NaN</td>\n",
       "      <td>NaN</td>\n",
       "    </tr>\n",
       "  </tbody>\n",
       "</table>\n",
       "<p>5 rows × 60 columns</p>\n",
       "</div>"
      ],
      "text/plain": [
       "             Q_RC_1    Q_LN_1    Q_HB_1   GS_RC_1   GS_RC_2   GS_RC_4  \\\n",
       "Scep       2.017505  0.218490  0.713758  2.240486 -1.315069  2.130158   \n",
       "Chiara     1.127118  0.243935  1.123565  0.612993  2.363380  1.193031   \n",
       "Paturages  2.371593       NaN       NaN  1.017415  1.030878  1.458316   \n",
       "2zi        2.227634       NaN       NaN  1.688407  0.869808  0.464348   \n",
       "ZayyKen    1.163159  0.790546  1.877259  2.346803  2.435073  1.507435   \n",
       "\n",
       "            GS_LN_1   GS_LN_2   GS_HB_1  RO16_RC_4  ...  GF_RC_6  GF_RC_7  \\\n",
       "Scep       0.531339  0.605757  2.026246   2.219624  ...      NaN      NaN   \n",
       "Chiara          NaN       NaN       NaN        NaN  ...      NaN      NaN   \n",
       "Paturages       NaN       NaN       NaN        NaN  ...      NaN      NaN   \n",
       "2zi             NaN       NaN       NaN        NaN  ...      NaN      NaN   \n",
       "ZayyKen    1.482213       NaN  2.449809        NaN  ...      NaN      NaN   \n",
       "\n",
       "           GF_LN_1  GF_LN_2  GF_LN_3  GF_HB_2  QF_LN_1  SF_HB_1  GF_HB_3  \\\n",
       "Scep           NaN      NaN      NaN      NaN      NaN      NaN      NaN   \n",
       "Chiara         NaN      NaN      NaN      NaN      NaN      NaN      NaN   \n",
       "Paturages      NaN      NaN      NaN      NaN      NaN      NaN      NaN   \n",
       "2zi            NaN      NaN      NaN      NaN      NaN      NaN      NaN   \n",
       "ZayyKen        NaN      NaN      NaN      NaN      NaN      NaN      NaN   \n",
       "\n",
       "           RO16_HB_2  \n",
       "Scep             NaN  \n",
       "Chiara           NaN  \n",
       "Paturages        NaN  \n",
       "2zi              NaN  \n",
       "ZayyKen          NaN  \n",
       "\n",
       "[5 rows x 60 columns]"
      ]
     },
     "execution_count": 11,
     "metadata": {},
     "output_type": "execute_result"
    }
   ],
   "source": [
    "standardized_4dm.head()"
   ]
  },
  {
   "cell_type": "markdown",
   "metadata": {},
   "source": [
    "#### Implementing the Local Outlier Factor Model\n",
    "\n",
    "We then declare the model with n_neighbors (k) = 5 and use our defined Elastic Euclidean Distance as a Metric"
   ]
  },
  {
   "cell_type": "code",
   "execution_count": 12,
   "metadata": {},
   "outputs": [],
   "source": [
    "lof_euclid = LOF(5, euclidean_regularized)"
   ]
  },
  {
   "cell_type": "markdown",
   "metadata": {},
   "source": [
    "We then train and predict the Local Outlier Factor of each player, stored in `lof_values`"
   ]
  },
  {
   "cell_type": "code",
   "execution_count": 13,
   "metadata": {},
   "outputs": [],
   "source": [
    "lof_values = lof_euclid.fit_predict(standardized_4dm.values)"
   ]
  },
  {
   "cell_type": "markdown",
   "metadata": {},
   "source": [
    "Then we map those in a `DataFrame` in order to assign players their Local Outlier Factors"
   ]
  },
  {
   "cell_type": "code",
   "execution_count": 14,
   "metadata": {},
   "outputs": [],
   "source": [
    "lof_4dm = pd.DataFrame(index=standardized_4dm.index)\n",
    "\n",
    "lof_4dm['lof'] = lof_values"
   ]
  },
  {
   "cell_type": "markdown",
   "metadata": {},
   "source": [
    "This is the outlier score of **shokoha**, an outstanding player in 4 digit MWC 4."
   ]
  },
  {
   "cell_type": "code",
   "execution_count": 15,
   "metadata": {},
   "outputs": [
    {
     "data": {
      "text/plain": [
       "lof    6.009852\n",
       "Name: shokoha, dtype: float64"
      ]
     },
     "execution_count": 15,
     "metadata": {},
     "output_type": "execute_result"
    }
   ],
   "source": [
    "lof_4dm.loc['shokoha']"
   ]
  },
  {
   "cell_type": "markdown",
   "metadata": {},
   "source": [
    "These are top 16 of the players who have the highest outlier scores."
   ]
  },
  {
   "cell_type": "code",
   "execution_count": 16,
   "metadata": {},
   "outputs": [
    {
     "data": {
      "text/html": [
       "<div>\n",
       "<style scoped>\n",
       "    .dataframe tbody tr th:only-of-type {\n",
       "        vertical-align: middle;\n",
       "    }\n",
       "\n",
       "    .dataframe tbody tr th {\n",
       "        vertical-align: top;\n",
       "    }\n",
       "\n",
       "    .dataframe thead th {\n",
       "        text-align: right;\n",
       "    }\n",
       "</style>\n",
       "<table border=\"1\" class=\"dataframe\">\n",
       "  <thead>\n",
       "    <tr style=\"text-align: right;\">\n",
       "      <th></th>\n",
       "      <th>lof</th>\n",
       "    </tr>\n",
       "  </thead>\n",
       "  <tbody>\n",
       "    <tr>\n",
       "      <th>Yuragi</th>\n",
       "      <td>27.283062</td>\n",
       "    </tr>\n",
       "    <tr>\n",
       "      <th>ZayyKen</th>\n",
       "      <td>12.815177</td>\n",
       "    </tr>\n",
       "    <tr>\n",
       "      <th>2fast4you98</th>\n",
       "      <td>11.345807</td>\n",
       "    </tr>\n",
       "    <tr>\n",
       "      <th>Scep</th>\n",
       "      <td>11.304370</td>\n",
       "    </tr>\n",
       "    <tr>\n",
       "      <th>[-Leon-]</th>\n",
       "      <td>10.895436</td>\n",
       "    </tr>\n",
       "    <tr>\n",
       "      <th>diamondBIaze</th>\n",
       "      <td>9.197721</td>\n",
       "    </tr>\n",
       "    <tr>\n",
       "      <th>-Deepdive-</th>\n",
       "      <td>7.004444</td>\n",
       "    </tr>\n",
       "    <tr>\n",
       "      <th>shokoha</th>\n",
       "      <td>6.009852</td>\n",
       "    </tr>\n",
       "    <tr>\n",
       "      <th>Lenn</th>\n",
       "      <td>5.747489</td>\n",
       "    </tr>\n",
       "    <tr>\n",
       "      <th>palmEuEi</th>\n",
       "      <td>5.692560</td>\n",
       "    </tr>\n",
       "    <tr>\n",
       "      <th>s_kolorowa</th>\n",
       "      <td>3.990887</td>\n",
       "    </tr>\n",
       "    <tr>\n",
       "      <th>Zycrxd</th>\n",
       "      <td>3.562269</td>\n",
       "    </tr>\n",
       "    <tr>\n",
       "      <th>KamaTheCrimson</th>\n",
       "      <td>3.539398</td>\n",
       "    </tr>\n",
       "    <tr>\n",
       "      <th>Silicosis</th>\n",
       "      <td>3.475938</td>\n",
       "    </tr>\n",
       "    <tr>\n",
       "      <th>FastTapper</th>\n",
       "      <td>3.470560</td>\n",
       "    </tr>\n",
       "    <tr>\n",
       "      <th>Irone OSU</th>\n",
       "      <td>3.231872</td>\n",
       "    </tr>\n",
       "  </tbody>\n",
       "</table>\n",
       "</div>"
      ],
      "text/plain": [
       "                      lof\n",
       "Yuragi          27.283062\n",
       "ZayyKen         12.815177\n",
       "2fast4you98     11.345807\n",
       "Scep            11.304370\n",
       "[-Leon-]        10.895436\n",
       "diamondBIaze     9.197721\n",
       "-Deepdive-       7.004444\n",
       "shokoha          6.009852\n",
       "Lenn             5.747489\n",
       "palmEuEi         5.692560\n",
       "s_kolorowa       3.990887\n",
       "Zycrxd           3.562269\n",
       "KamaTheCrimson   3.539398\n",
       "Silicosis        3.475938\n",
       "FastTapper       3.470560\n",
       "Irone OSU        3.231872"
      ]
     },
     "execution_count": 16,
     "metadata": {},
     "output_type": "execute_result"
    }
   ],
   "source": [
    "lof_4dm.sort_values(by='lof', ascending=False).head(16)"
   ]
  },
  {
   "cell_type": "markdown",
   "metadata": {},
   "source": [
    "Note that there still be an **Underperforming Players** left in this procedure. They will be filtered out in the next study."
   ]
  },
  {
   "cell_type": "markdown",
   "metadata": {},
   "source": [
    "We then plot the Distribution and find 1-3th Quartiles and 97.5th Percentile of the Local Outlier Factor"
   ]
  },
  {
   "cell_type": "code",
   "execution_count": 17,
   "metadata": {},
   "outputs": [
    {
     "data": {
      "text/plain": [
       "(array([162.,   9.,   3.,   2.,   3.,   0.,   0.,   0.,   0.,   1.]),\n",
       " array([ 0.32151082,  3.01766599,  5.71382115,  8.40997632, 11.10613148,\n",
       "        13.80228665, 16.49844181, 19.19459698, 21.89075214, 24.58690731,\n",
       "        27.28306248]),\n",
       " <BarContainer object of 10 artists>)"
      ]
     },
     "execution_count": 17,
     "metadata": {},
     "output_type": "execute_result"
    },
    {
     "data": {
      "image/png": "[encoded data removed]",
      "text/plain": [
       "<Figure size 432x288 with 1 Axes>"
      ]
     },
     "metadata": {
      "needs_background": "light"
     },
     "output_type": "display_data"
    }
   ],
   "source": [
    "plt.hist(lof_4dm['lof'].values)"
   ]
  },
  {
   "cell_type": "code",
   "execution_count": 18,
   "metadata": {},
   "outputs": [
    {
     "name": "stdout",
     "output_type": "stream",
     "text": [
      "25% of the LOF is 0.9143711660917826\n",
      "Median of the LOF is 1.1298202089537361\n",
      "75% of the LOF is 1.731045516526231\n",
      "97.5% of the LOF is 10.089021480611269\n"
     ]
    }
   ],
   "source": [
    "print(\"25% of the LOF is\", lof_4dm['lof'].quantile(0.25))\n",
    "print(\"Median of the LOF is\", lof_4dm['lof'].quantile(0.50))\n",
    "print(\"75% of the LOF is\", lof_4dm['lof'].quantile(0.75))\n",
    "print(\"97.5% of the LOF is\", lof_4dm['lof'].quantile(0.975))"
   ]
  },
  {
   "cell_type": "markdown",
   "metadata": {},
   "source": [
    "### Discussion\n",
    "\n",
    "As we've discussed, the model is borderline interpretable (There is a way to explain the process of skillbanning and how those numbers come from) to the players. To clarify that the model works, we need the human contribution on handpicking outliers and we can try this model with various tournaments, for example, Violet Mania Tournament organized by Saemitsu.\n",
    "\n",
    "This model is still undone and lack of ability to visualize however. The left outlier (underperformers) have not been filtered out and we need to work on how to visualize where the outliers are in a few dimensions. This requires dimensionality reduction (to be precise, PCA) and we need to sacrifice some \"interpretability\" if we demand the images and position of the outliers."
   ]
  },
  {
   "cell_type": "markdown",
   "metadata": {},
   "source": [
    "## K-Means Clustering & Principal Component Analysis\n",
    "\n",
    "From the [discussion](#discussion), our next goal is to filter out the left outliers or players who underperformed in the tournament. We decide to use **K-Means Clustering** to cluster the outliers into two sides and **Principal Component Analysis** to visualize and verify that the clusters that the model yielded is of course the *left outliers* and *right outliers*"
   ]
  },
  {
   "cell_type": "markdown",
   "metadata": {},
   "source": [
    "### K-Means Clustering\n",
    "\n",
    "**K-Means Clustering** is the **Unsupervised Clustering Algorithm** based on how close the data point to the given centroids. The algorithm is initialized by generating `k` centroids. Then classify the data points by the nearest centroid. After that move the `n-th` centroid to the center of the data points which are classified to be the type `n`. Do this iteratively until all centroids are stable.\n",
    "\n",
    "In our analysis, we use **K-Means** to cluster the outliers into two groups, the overperformed ones and underperformed ones. Based on the distinction of these two types of players, this algorithm can be applied with `k=2`."
   ]
  },
  {
   "cell_type": "markdown",
   "metadata": {},
   "source": [
    "### Principal Component Analysis\n",
    "\n",
    "**Principal Component Analysis** is a **Dimensionality Reduction Technique** to generate the similar data points from higher dimensions to lower dimensions. This is the technique used widely in **Exploratory Data Analysis** for high-dimensional data, for example, this dataset is 73-dimensional vectors. We can shrink this down to 2-dimensional plane using the **Eigenvectors of Covariance Matrix** which is called **Principal Components**. However some original features will be lost, but some features still be kept."
   ]
  },
  {
   "cell_type": "markdown",
   "metadata": {},
   "source": [
    "### Code Explanation for K-Means Clustering and Principal Component Analysis"
   ]
  },
  {
   "cell_type": "markdown",
   "metadata": {},
   "source": [
    "#### Importing Necessary Modules\n",
    "\n",
    "Here we use `sklearn.cluster.KMeans` and `sklearn.decomposition.PCA` to do the following procedures. However `sklearn` machine learning algorithms do not support the `NaN` data, so we need to use `KNN Imputer` from `sklearn.impute` to validate the missing data."
   ]
  },
  {
   "cell_type": "code",
   "execution_count": 19,
   "metadata": {},
   "outputs": [],
   "source": [
    "from sklearn.impute import KNNImputer\n",
    "from sklearn.cluster import KMeans\n",
    "from sklearn.decomposition import PCA"
   ]
  },
  {
   "cell_type": "markdown",
   "metadata": {},
   "source": [
    "#### Initializing the Models\n",
    "\n",
    "We initialize the **KNNImputer** with `n_neighbors = 2`, that means this model will take 2 nearest neighbors as a consideration for missing data, **Kmeans** with `n_clusters = 2` (according to [this](#k-means-clustering)) and **PCA** with 2 Principal Components to perform the data visualization in 2-dimensional plane."
   ]
  },
  {
   "cell_type": "code",
   "execution_count": 20,
   "metadata": {},
   "outputs": [],
   "source": [
    "imputer = KNNImputer(n_neighbors=2)\n",
    "kmeans_twogroups = KMeans(n_clusters=2)\n",
    "pca_visualization = PCA(n_components=2)"
   ]
  },
  {
   "cell_type": "markdown",
   "metadata": {},
   "source": [
    "#### Getting Outliers\n",
    "\n",
    "We define the Outlier Cut-Off, which is the **90th Percentile** according to Local Outlier Factor"
   ]
  },
  {
   "cell_type": "code",
   "execution_count": 21,
   "metadata": {},
   "outputs": [],
   "source": [
    "outlier_cut = lof_4dm['lof'].quantile(0.90)"
   ]
  },
  {
   "cell_type": "markdown",
   "metadata": {},
   "source": [
    "We then list the possible outliers"
   ]
  },
  {
   "cell_type": "code",
   "execution_count": 22,
   "metadata": {},
   "outputs": [
    {
     "data": {
      "text/plain": [
       "Index(['Scep', 'Chiara', 'ZayyKen', 'Yuragi', 'KamaTheCrimson', 'diamondBIaze',\n",
       "       'Lenn', 'Irone OSU', '[-Leon-]', '2fast4you98', 'palmEuEi',\n",
       "       'NightNarumi', '-Deepdive-', 's_kolorowa', 'Zycrxd', 'shokoha',\n",
       "       'FastTapper', 'Silicosis'],\n",
       "      dtype='object')"
      ]
     },
     "execution_count": 22,
     "metadata": {},
     "output_type": "execute_result"
    }
   ],
   "source": [
    "list_possible_outliers = lof_4dm[lof_4dm['lof'] > outlier_cut].index\n",
    "\n",
    "list_possible_outliers"
   ]
  },
  {
   "cell_type": "markdown",
   "metadata": {},
   "source": [
    "and the standardized logit scores from those outliers"
   ]
  },
  {
   "cell_type": "code",
   "execution_count": 23,
   "metadata": {},
   "outputs": [
    {
     "data": {
      "text/html": [
       "<div>\n",
       "<style scoped>\n",
       "    .dataframe tbody tr th:only-of-type {\n",
       "        vertical-align: middle;\n",
       "    }\n",
       "\n",
       "    .dataframe tbody tr th {\n",
       "        vertical-align: top;\n",
       "    }\n",
       "\n",
       "    .dataframe thead th {\n",
       "        text-align: right;\n",
       "    }\n",
       "</style>\n",
       "<table border=\"1\" class=\"dataframe\">\n",
       "  <thead>\n",
       "    <tr style=\"text-align: right;\">\n",
       "      <th></th>\n",
       "      <th>Q_RC_1</th>\n",
       "      <th>Q_LN_1</th>\n",
       "      <th>Q_HB_1</th>\n",
       "      <th>GS_RC_1</th>\n",
       "      <th>GS_RC_2</th>\n",
       "      <th>GS_RC_4</th>\n",
       "      <th>GS_LN_1</th>\n",
       "      <th>GS_LN_2</th>\n",
       "      <th>GS_HB_1</th>\n",
       "      <th>RO16_RC_4</th>\n",
       "      <th>...</th>\n",
       "      <th>GF_RC_6</th>\n",
       "      <th>GF_RC_7</th>\n",
       "      <th>GF_LN_1</th>\n",
       "      <th>GF_LN_2</th>\n",
       "      <th>GF_LN_3</th>\n",
       "      <th>GF_HB_2</th>\n",
       "      <th>QF_LN_1</th>\n",
       "      <th>SF_HB_1</th>\n",
       "      <th>GF_HB_3</th>\n",
       "      <th>RO16_HB_2</th>\n",
       "    </tr>\n",
       "  </thead>\n",
       "  <tbody>\n",
       "    <tr>\n",
       "      <th>Scep</th>\n",
       "      <td>2.017505</td>\n",
       "      <td>0.218490</td>\n",
       "      <td>0.713758</td>\n",
       "      <td>2.240486</td>\n",
       "      <td>-1.315069</td>\n",
       "      <td>2.130158</td>\n",
       "      <td>0.531339</td>\n",
       "      <td>0.605757</td>\n",
       "      <td>2.026246</td>\n",
       "      <td>2.219624</td>\n",
       "      <td>...</td>\n",
       "      <td>NaN</td>\n",
       "      <td>NaN</td>\n",
       "      <td>NaN</td>\n",
       "      <td>NaN</td>\n",
       "      <td>NaN</td>\n",
       "      <td>NaN</td>\n",
       "      <td>NaN</td>\n",
       "      <td>NaN</td>\n",
       "      <td>NaN</td>\n",
       "      <td>NaN</td>\n",
       "    </tr>\n",
       "    <tr>\n",
       "      <th>Chiara</th>\n",
       "      <td>1.127118</td>\n",
       "      <td>0.243935</td>\n",
       "      <td>1.123565</td>\n",
       "      <td>0.612993</td>\n",
       "      <td>2.363380</td>\n",
       "      <td>1.193031</td>\n",
       "      <td>NaN</td>\n",
       "      <td>NaN</td>\n",
       "      <td>NaN</td>\n",
       "      <td>NaN</td>\n",
       "      <td>...</td>\n",
       "      <td>NaN</td>\n",
       "      <td>NaN</td>\n",
       "      <td>NaN</td>\n",
       "      <td>NaN</td>\n",
       "      <td>NaN</td>\n",
       "      <td>NaN</td>\n",
       "      <td>NaN</td>\n",
       "      <td>NaN</td>\n",
       "      <td>NaN</td>\n",
       "      <td>NaN</td>\n",
       "    </tr>\n",
       "    <tr>\n",
       "      <th>ZayyKen</th>\n",
       "      <td>1.163159</td>\n",
       "      <td>0.790546</td>\n",
       "      <td>1.877259</td>\n",
       "      <td>2.346803</td>\n",
       "      <td>2.435073</td>\n",
       "      <td>1.507435</td>\n",
       "      <td>1.482213</td>\n",
       "      <td>NaN</td>\n",
       "      <td>2.449809</td>\n",
       "      <td>NaN</td>\n",
       "      <td>...</td>\n",
       "      <td>NaN</td>\n",
       "      <td>NaN</td>\n",
       "      <td>NaN</td>\n",
       "      <td>NaN</td>\n",
       "      <td>NaN</td>\n",
       "      <td>NaN</td>\n",
       "      <td>NaN</td>\n",
       "      <td>NaN</td>\n",
       "      <td>NaN</td>\n",
       "      <td>NaN</td>\n",
       "    </tr>\n",
       "    <tr>\n",
       "      <th>Yuragi</th>\n",
       "      <td>1.152799</td>\n",
       "      <td>-9.537727</td>\n",
       "      <td>1.173316</td>\n",
       "      <td>-0.844329</td>\n",
       "      <td>1.424556</td>\n",
       "      <td>1.894604</td>\n",
       "      <td>1.685593</td>\n",
       "      <td>NaN</td>\n",
       "      <td>-0.404182</td>\n",
       "      <td>NaN</td>\n",
       "      <td>...</td>\n",
       "      <td>-1.640051</td>\n",
       "      <td>1.370147</td>\n",
       "      <td>0.249612</td>\n",
       "      <td>-0.188456</td>\n",
       "      <td>1.292057</td>\n",
       "      <td>0.343507</td>\n",
       "      <td>NaN</td>\n",
       "      <td>NaN</td>\n",
       "      <td>NaN</td>\n",
       "      <td>NaN</td>\n",
       "    </tr>\n",
       "    <tr>\n",
       "      <th>KamaTheCrimson</th>\n",
       "      <td>2.069388</td>\n",
       "      <td>0.709926</td>\n",
       "      <td>0.924570</td>\n",
       "      <td>1.552468</td>\n",
       "      <td>1.303097</td>\n",
       "      <td>1.055632</td>\n",
       "      <td>1.651545</td>\n",
       "      <td>0.052200</td>\n",
       "      <td>2.321897</td>\n",
       "      <td>0.307987</td>\n",
       "      <td>...</td>\n",
       "      <td>NaN</td>\n",
       "      <td>NaN</td>\n",
       "      <td>NaN</td>\n",
       "      <td>NaN</td>\n",
       "      <td>NaN</td>\n",
       "      <td>NaN</td>\n",
       "      <td>NaN</td>\n",
       "      <td>NaN</td>\n",
       "      <td>NaN</td>\n",
       "      <td>NaN</td>\n",
       "    </tr>\n",
       "  </tbody>\n",
       "</table>\n",
       "<p>5 rows × 60 columns</p>\n",
       "</div>"
      ],
      "text/plain": [
       "                  Q_RC_1    Q_LN_1    Q_HB_1   GS_RC_1   GS_RC_2   GS_RC_4  \\\n",
       "Scep            2.017505  0.218490  0.713758  2.240486 -1.315069  2.130158   \n",
       "Chiara          1.127118  0.243935  1.123565  0.612993  2.363380  1.193031   \n",
       "ZayyKen         1.163159  0.790546  1.877259  2.346803  2.435073  1.507435   \n",
       "Yuragi          1.152799 -9.537727  1.173316 -0.844329  1.424556  1.894604   \n",
       "KamaTheCrimson  2.069388  0.709926  0.924570  1.552468  1.303097  1.055632   \n",
       "\n",
       "                 GS_LN_1   GS_LN_2   GS_HB_1  RO16_RC_4  ...   GF_RC_6  \\\n",
       "Scep            0.531339  0.605757  2.026246   2.219624  ...       NaN   \n",
       "Chiara               NaN       NaN       NaN        NaN  ...       NaN   \n",
       "ZayyKen         1.482213       NaN  2.449809        NaN  ...       NaN   \n",
       "Yuragi          1.685593       NaN -0.404182        NaN  ... -1.640051   \n",
       "KamaTheCrimson  1.651545  0.052200  2.321897   0.307987  ...       NaN   \n",
       "\n",
       "                 GF_RC_7   GF_LN_1   GF_LN_2   GF_LN_3   GF_HB_2  QF_LN_1  \\\n",
       "Scep                 NaN       NaN       NaN       NaN       NaN      NaN   \n",
       "Chiara               NaN       NaN       NaN       NaN       NaN      NaN   \n",
       "ZayyKen              NaN       NaN       NaN       NaN       NaN      NaN   \n",
       "Yuragi          1.370147  0.249612 -0.188456  1.292057  0.343507      NaN   \n",
       "KamaTheCrimson       NaN       NaN       NaN       NaN       NaN      NaN   \n",
       "\n",
       "                SF_HB_1  GF_HB_3  RO16_HB_2  \n",
       "Scep                NaN      NaN        NaN  \n",
       "Chiara              NaN      NaN        NaN  \n",
       "ZayyKen             NaN      NaN        NaN  \n",
       "Yuragi              NaN      NaN        NaN  \n",
       "KamaTheCrimson      NaN      NaN        NaN  \n",
       "\n",
       "[5 rows x 60 columns]"
      ]
     },
     "execution_count": 23,
     "metadata": {},
     "output_type": "execute_result"
    }
   ],
   "source": [
    "_4dm_outliers = standardized_4dm.loc[list_possible_outliers]\n",
    "\n",
    "_4dm_outliers.head()"
   ]
  },
  {
   "cell_type": "markdown",
   "metadata": {},
   "source": [
    "#### Validating the Missing Data\n",
    "\n",
    "We then use our **KNN Imputer** to validate the missing scores from all players and outliers"
   ]
  },
  {
   "cell_type": "code",
   "execution_count": 24,
   "metadata": {},
   "outputs": [],
   "source": [
    "imputed_players = imputer.fit_transform(standardized_4dm)\n",
    "\n",
    "imputed_outliers = imputer.transform(_4dm_outliers)"
   ]
  },
  {
   "cell_type": "markdown",
   "metadata": {},
   "source": [
    "#### Principal Component Analysis Visualization\n",
    "\n",
    "We train our PCA Model with players data and transform the outlier data into two dimensional data, after that we plot them in the 2d plane."
   ]
  },
  {
   "cell_type": "code",
   "execution_count": 25,
   "metadata": {},
   "outputs": [
    {
     "data": {
      "text/plain": [
       "<matplotlib.collections.PathCollection at 0x1d2611055a0>"
      ]
     },
     "execution_count": 25,
     "metadata": {},
     "output_type": "execute_result"
    },
    {
     "data": {
      "image/png": "[encoded data removed]",
      "text/plain": [
       "<Figure size 432x288 with 1 Axes>"
      ]
     },
     "metadata": {
      "needs_background": "light"
     },
     "output_type": "display_data"
    }
   ],
   "source": [
    "# For visualization purposes\n",
    "\n",
    "pca_visualization.fit(imputed_players)\n",
    "\n",
    "pca_outliers = pca_visualization.transform(imputed_outliers)\n",
    "\n",
    "plt.scatter(*pca_outliers.T)"
   ]
  },
  {
   "cell_type": "markdown",
   "metadata": {},
   "source": [
    "#### Principal Component Analysis Visualization with K-Means Clustering\n",
    "\n",
    "We then perform the training procedure of our K-Means Clustering Models, then getting both centroids using the attribute `.cluster_centers_`. After that we transform the centroids into 2-dimensional points using our PCA Model. Then visualize the outliers and K-means Centroid using Scatter Plot."
   ]
  },
  {
   "cell_type": "code",
   "execution_count": 26,
   "metadata": {},
   "outputs": [
    {
     "data": {
      "text/plain": [
       "<matplotlib.collections.PathCollection at 0x1d26326e1a0>"
      ]
     },
     "execution_count": 26,
     "metadata": {},
     "output_type": "execute_result"
    },
    {
     "data": {
      "image/png": "[encoded data removed]",
      "text/plain": [
       "<Figure size 432x288 with 1 Axes>"
      ]
     },
     "metadata": {
      "needs_background": "light"
     },
     "output_type": "display_data"
    }
   ],
   "source": [
    "kmeans_twogroups.fit(imputed_outliers)\n",
    "\n",
    "centroids = kmeans_twogroups.cluster_centers_\n",
    "\n",
    "pca_kmeans = pca_visualization.transform(centroids)\n",
    "\n",
    "plt.scatter(*pca_outliers.T)\n",
    "plt.scatter(*pca_kmeans.T)"
   ]
  },
  {
   "cell_type": "markdown",
   "metadata": {},
   "source": [
    "We can see that our K-means model did a really good job on distinguishing between two types of outliers. Next, we will obtain the *right outliers* or *Derankers* from the model."
   ]
  },
  {
   "cell_type": "markdown",
   "metadata": {},
   "source": [
    "#### Predicting the Outliers (Skillbanning)\n",
    "\n",
    "We then use the outlier score data that has been done the Missing Data Validation, after that we find the *right outliers* side by getting the prediction result of the extreme case (in this case, `10 * standard deviation` ahead of the average scores). After we get the correct class for the *right outliers*, we then filter the data points which are in the same class with the *right outliers* class."
   ]
  },
  {
   "cell_type": "code",
   "execution_count": 27,
   "metadata": {},
   "outputs": [
    {
     "data": {
      "text/plain": [
       "Index(['Scep', 'Chiara', 'ZayyKen', 'Yuragi', 'diamondBIaze', 'Lenn',\n",
       "       '[-Leon-]', '2fast4you98'],\n",
       "      dtype='object')"
      ]
     },
     "execution_count": 27,
     "metadata": {},
     "output_type": "execute_result"
    }
   ],
   "source": [
    "kmean_prediction = kmeans_twogroups.predict(imputed_outliers)\n",
    "\n",
    "right_ol_side = int(kmeans_twogroups.predict(np.ones((1, imputed_outliers.shape[1])) * 10))\n",
    "\n",
    "right_outliers = list_possible_outliers[kmean_prediction == right_ol_side]\n",
    "\n",
    "right_outliers\n"
   ]
  },
  {
   "cell_type": "markdown",
   "metadata": {},
   "source": [
    "We get the **Local Outlier Factor** scores from those *right outliers*."
   ]
  },
  {
   "cell_type": "code",
   "execution_count": 28,
   "metadata": {},
   "outputs": [
    {
     "data": {
      "text/html": [
       "<div>\n",
       "<style scoped>\n",
       "    .dataframe tbody tr th:only-of-type {\n",
       "        vertical-align: middle;\n",
       "    }\n",
       "\n",
       "    .dataframe tbody tr th {\n",
       "        vertical-align: top;\n",
       "    }\n",
       "\n",
       "    .dataframe thead th {\n",
       "        text-align: right;\n",
       "    }\n",
       "</style>\n",
       "<table border=\"1\" class=\"dataframe\">\n",
       "  <thead>\n",
       "    <tr style=\"text-align: right;\">\n",
       "      <th></th>\n",
       "      <th>lof</th>\n",
       "    </tr>\n",
       "  </thead>\n",
       "  <tbody>\n",
       "    <tr>\n",
       "      <th>Yuragi</th>\n",
       "      <td>27.283062</td>\n",
       "    </tr>\n",
       "    <tr>\n",
       "      <th>ZayyKen</th>\n",
       "      <td>12.815177</td>\n",
       "    </tr>\n",
       "    <tr>\n",
       "      <th>2fast4you98</th>\n",
       "      <td>11.345807</td>\n",
       "    </tr>\n",
       "    <tr>\n",
       "      <th>Scep</th>\n",
       "      <td>11.304370</td>\n",
       "    </tr>\n",
       "    <tr>\n",
       "      <th>[-Leon-]</th>\n",
       "      <td>10.895436</td>\n",
       "    </tr>\n",
       "    <tr>\n",
       "      <th>diamondBIaze</th>\n",
       "      <td>9.197721</td>\n",
       "    </tr>\n",
       "    <tr>\n",
       "      <th>Lenn</th>\n",
       "      <td>5.747489</td>\n",
       "    </tr>\n",
       "    <tr>\n",
       "      <th>Chiara</th>\n",
       "      <td>3.208071</td>\n",
       "    </tr>\n",
       "  </tbody>\n",
       "</table>\n",
       "</div>"
      ],
      "text/plain": [
       "                    lof\n",
       "Yuragi        27.283062\n",
       "ZayyKen       12.815177\n",
       "2fast4you98   11.345807\n",
       "Scep          11.304370\n",
       "[-Leon-]      10.895436\n",
       "diamondBIaze   9.197721\n",
       "Lenn           5.747489\n",
       "Chiara         3.208071"
      ]
     },
     "execution_count": 28,
     "metadata": {},
     "output_type": "execute_result"
    }
   ],
   "source": [
    "lof_4dm.loc[right_outliers].sort_values(by='lof', ascending=False)"
   ]
  },
  {
   "cell_type": "code",
   "execution_count": 29,
   "metadata": {},
   "outputs": [
    {
     "data": {
      "image/png": "[encoded data removed]",
      "text/plain": [
       "<Figure size 432x288 with 2 Axes>"
      ]
     },
     "metadata": {
      "needs_background": "light"
     },
     "output_type": "display_data"
    }
   ],
   "source": [
    "_2d_vis = pca_visualization.transform(imputed_players)\n",
    "\n",
    "plt.scatter(*_2d_vis.T, c=lof_4dm.values, cmap='jet')\n",
    "plt.colorbar()\n",
    "plt.show()"
   ]
  },
  {
   "cell_type": "code",
   "execution_count": 30,
   "metadata": {},
   "outputs": [
    {
     "name": "stdout",
     "output_type": "stream",
     "text": [
      "[0.27294393 0.06085731 0.05660576]\n"
     ]
    },
    {
     "data": {
      "image/png": "[encoded data removed]",
      "text/plain": [
       "<Figure size 432x288 with 1 Axes>"
      ]
     },
     "metadata": {
      "needs_background": "light"
     },
     "output_type": "display_data"
    }
   ],
   "source": [
    "pca_3d = PCA(n_components=3)\n",
    "\n",
    "_3d_vis = pca_3d.fit_transform(imputed_players)\n",
    "print(pca_3d.explained_variance_ratio_)\n",
    "\n",
    "fig = plt.figure()\n",
    "ax = fig.add_subplot(projection='3d')\n",
    "\n",
    "ax.scatter(*_3d_vis.T, c=lof_4dm.values, cmap='jet')\n",
    "plt.show()"
   ]
  },
  {
   "cell_type": "code",
   "execution_count": null,
   "metadata": {},
   "outputs": [],
   "source": []
  }
 ],
 "metadata": {
  "kernelspec": {
   "display_name": "Python 3.10.4 64-bit",
   "language": "python",
   "name": "python3"
  },
  "language_info": {
   "codemirror_mode": {
    "name": "ipython",
    "version": 3
   },
   "file_extension": ".py",
   "mimetype": "text/x-python",
   "name": "python",
   "nbconvert_exporter": "python",
   "pygments_lexer": "ipython3",
   "version": "3.10.4"
  },
  "orig_nbformat": 4,
  "vscode": {
   "interpreter": {
    "hash": "a9cff5a362bc38ef45d817ae74b1af54d6a076e3d773891282bce078b815ba34"
   }
  }
 },
 "nbformat": 4,
 "nbformat_minor": 2
}
