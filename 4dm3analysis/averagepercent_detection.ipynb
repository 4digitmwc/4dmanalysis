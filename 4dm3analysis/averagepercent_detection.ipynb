{
 "cells": [
  {
   "cell_type": "markdown",
   "metadata": {},
   "source": [
    "# Outlier Detection of 4 Digit MWC 4 Players using Tournament Scores using Box-Cox Transformation and Average Percentile Model"
   ]
  },
  {
   "cell_type": "markdown",
   "metadata": {},
   "source": [
    "## Introduction\n",
    "\n",
    "This notebook is the explanation and experimentation on an Alternative of Local Outlier Factor with a simpler model, which is an Average Percentile Model."
   ]
  },
  {
   "cell_type": "markdown",
   "metadata": {},
   "source": [
    "## Logit Transformation"
   ]
  },
  {
   "cell_type": "markdown",
   "metadata": {},
   "source": [
    "**Logit Transformation** is a terminology to transform the score which are in range $[0, 1000000]$ into $(-\\infty, \\infty)$ using the formula"
   ]
  },
  {
   "cell_type": "markdown",
   "metadata": {},
   "source": [
    "$$\n",
    "\\text{logit}(x) = \\log(\\frac{x}{1 - x})\n",
    "$$"
   ]
  },
  {
   "cell_type": "markdown",
   "metadata": {},
   "source": [
    "Where\n",
    "$$\n",
    "x = \\frac{\\text{score}}{1000000}\n",
    "$$"
   ]
  },
  {
   "cell_type": "markdown",
   "metadata": {},
   "source": [
    "This will also theoretically widen the gap between small difference of scores when the scores are higher. For example the difference between $\\text{logit}(0.99) - \\text{logit}(0.985)$ is less than $\\text{logit}(0.995) - \\text{logit}(0.99)$. Which matches the environment in the osu!mania tournament scene since the chance that the score gaps are low in earlier game is higher than the late game."
   ]
  },
  {
   "cell_type": "markdown",
   "metadata": {},
   "source": [
    "## Box-Cox Transformation"
   ]
  },
  {
   "cell_type": "markdown",
   "metadata": {},
   "source": [
    "**Box-Cox Transformation** can be written as"
   ]
  },
  {
   "cell_type": "markdown",
   "metadata": {},
   "source": [
    "$$\n",
    "\\text{boxcox}(x) = \\begin{cases}\n",
    "\\frac{x^\\lambda - 1}{\\lambda} & \\lambda \\neq 0\\\\\n",
    "\\log(x) & \\lambda = 0\n",
    "\\end{cases}\n",
    "$$"
   ]
  },
  {
   "cell_type": "markdown",
   "metadata": {},
   "source": [
    "Theoretically, the following transformation will make the data more Normally Distributed. We can find the $\\lambda$ using **Maximum Likelihood** which will try to find the $\\lambda$ that maximize how \"Normally Distributed\" the data is.\n",
    "\n",
    "More information and experimentations can be found in [boxcox.ipynb](https://github.com/HowToProgramming/4dm4analysis/blob/main/boxcox.ipynb)"
   ]
  },
  {
   "cell_type": "markdown",
   "metadata": {},
   "source": [
    "## Parametric Average Percentile Model"
   ]
  },
  {
   "cell_type": "markdown",
   "metadata": {},
   "source": [
    "**Parametric Average Percentile Model** is based on the idea of how to measure the proportion of the population that a given player has surprassed. The data in this case is multi-dimensional data, that means there are multiple maps in the calculation process of this model. First we standardize the data of each map, then we calculate the **Cumulative Distribution Function** of **Normal Distribution** or any given parametric distribution, we will call that a percentile. After that we average the percentile and get the final result of a given player."
   ]
  },
  {
   "cell_type": "markdown",
   "metadata": {},
   "source": [
    "### Adjustments"
   ]
  },
  {
   "cell_type": "markdown",
   "metadata": {},
   "source": [
    "#### Applying Box-Cox Transformation"
   ]
  },
  {
   "cell_type": "markdown",
   "metadata": {},
   "source": [
    "As mentioned in the previous section about Box-Cox Transformation, we transform the Logit-Transformed data using Box-Cox transformation in order to use them in the **Parametric Average Percentile Model**. This will maximize the efficiency of the model, however there is a case where $\\lambda < 0$ which we should aware of because the higher the score, the lower the transformed value is, we then use another adjustment"
   ]
  },
  {
   "cell_type": "markdown",
   "metadata": {},
   "source": [
    "$$\n",
    "\\text{sign}(\\lambda) = \\begin{cases}\n",
    "1 & \\lambda \\geq 0\\\\\n",
    "-1 & \\text{otherwise}\n",
    "\\end{cases}\n",
    "$$"
   ]
  },
  {
   "cell_type": "markdown",
   "metadata": {},
   "source": [
    "We multiply them with our standardized value and then use that value to calculate the **Cumulative Distribution Function** in order to catch that issue."
   ]
  },
  {
   "cell_type": "markdown",
   "metadata": {},
   "source": [
    "#### Applying Maps Played into the consideration"
   ]
  },
  {
   "cell_type": "markdown",
   "metadata": {},
   "source": [
    "After we got the output from our Model, we then find another factor which the model didn't catch which is the \"Maps Played\". The important behaviour of outperformed players is the fact that they usually are main players of most of the maps. So we try to include this feature by multiplying the outlier value that we got from model with the log of maps played. Which is the following formula:"
   ]
  },
  {
   "cell_type": "markdown",
   "metadata": {},
   "source": [
    "$$\n",
    "\\text{Adjusted Outlier Score} = \\text{Outlier Value from Avg. Percentile} \\cdot \\log(\\# \\text{Maps Played} + 1)\n",
    "$$"
   ]
  },
  {
   "cell_type": "markdown",
   "metadata": {},
   "source": [
    "We then use this value to detect the outlier or outperformed players."
   ]
  },
  {
   "cell_type": "markdown",
   "metadata": {},
   "source": [
    "## In Layman Terms"
   ]
  },
  {
   "cell_type": "markdown",
   "metadata": {},
   "source": [
    "\"At the first instinct, the way to classify the outperforming players is to find the players who are outperforming.\" <p align=\"right\">- HowToPlayLN, 2022, while thinking how to write this section</p>\n",
    "\n",
    "But the more important question is, how do we define outperforming ? Given a player, an easy idea is to calculate how many players a given player has surpressed in a certain map. To be precise, we try to compare the player with the entire population of players who are eligible to participate in a tournament. In order to compare (approximate) directly, we need to use the statistical magic called \"Normal Distribution\".<p hidden=true>which there is no turning back if we commit it (sry overused joke)</p>\n",
    "\n",
    "But we cannot use the Normal Distribution directly, from the raw score, we need to use some transformation to extract some features and normalize them. First, we use the \"logit transformation\" to seperate the stacked performances of players in the tournament, for example, we can see more distinction between 990k and 995k score than 985k and 990k, which matches the environment of how osu!mania tournaments usually works. Next, we use the \"Box-Cox Transformation\" in order to make data suitable for the statistical magic.\n",
    "\n",
    "We then input the transformed data into the statistical magic that allows us to approximate how much the player has surprassed the population. However, we do this for every single map in a tournament and use all sample players data to determine the approximated value. Then we average the values for all maps a player played in a tournament.\n",
    "\n",
    "Finally, the last feature comes from the nature of the behaviour of outperforming players in a tournament, especially a country team tournament with the format of 3v3 and 6 players for each country. They usually are the first or second player of the maps. With this information, we can add the \"maps played\" feature into the consideration. We do this by taking a logarithm function to maps played to reduce the difference between players who plays in the late game and focus more on them. We then multiply that value to the previous feature, then we get the numbers that will determine whether the player is outperforming."
   ]
  },
  {
   "cell_type": "markdown",
   "metadata": {},
   "source": [
    "## Code Documentation"
   ]
  },
  {
   "cell_type": "code",
   "execution_count": 1,
   "metadata": {},
   "outputs": [],
   "source": [
    "import os\n",
    "\n",
    "os.chdir(\"..\")"
   ]
  },
  {
   "cell_type": "markdown",
   "metadata": {},
   "source": [
    "### Importing Necessary Modules\n",
    "\n",
    "We will use `pandas` for data management, `matplotlib.pyplot` for data visualization and `numpy` to deal with math stuff."
   ]
  },
  {
   "cell_type": "code",
   "execution_count": 2,
   "metadata": {},
   "outputs": [],
   "source": [
    "import pandas as pd\n",
    "import matplotlib.pyplot as plt\n",
    "import numpy as np"
   ]
  },
  {
   "cell_type": "markdown",
   "metadata": {},
   "source": [
    "For Local Packages, we will use `Dataset` and `get_table_players` to transform dataset into the "
   ]
  },
  {
   "cell_type": "code",
   "execution_count": 3,
   "metadata": {},
   "outputs": [],
   "source": [
    "from utils import Dataset\n",
    "from utils.outlierdetectionmodel import BoxCoxParametricAveragePercent\n",
    "from utils.dftransformer import get_table_players"
   ]
  },
  {
   "cell_type": "code",
   "execution_count": 4,
   "metadata": {},
   "outputs": [],
   "source": [
    "_4dm4_dataset = Dataset('datasets/4dm3.db')"
   ]
  },
  {
   "cell_type": "code",
   "execution_count": 5,
   "metadata": {},
   "outputs": [],
   "source": [
    "_4dm4_data = _4dm4_dataset.select('scores', columns=['player_name', 'round', 'beatmap_type', 'beatmap_tag', 'score_logit'], where={\n",
    "    'beatmap_type': ['LN', 'RC', 'HB'],\n",
    "})"
   ]
  },
  {
   "cell_type": "code",
   "execution_count": 6,
   "metadata": {},
   "outputs": [
    {
     "data": {
      "text/html": [
       "<div>\n",
       "<style scoped>\n",
       "    .dataframe tbody tr th:only-of-type {\n",
       "        vertical-align: middle;\n",
       "    }\n",
       "\n",
       "    .dataframe tbody tr th {\n",
       "        vertical-align: top;\n",
       "    }\n",
       "\n",
       "    .dataframe thead th {\n",
       "        text-align: right;\n",
       "    }\n",
       "</style>\n",
       "<table border=\"1\" class=\"dataframe\">\n",
       "  <thead>\n",
       "    <tr style=\"text-align: right;\">\n",
       "      <th></th>\n",
       "      <th>player_name</th>\n",
       "      <th>round</th>\n",
       "      <th>beatmap_type</th>\n",
       "      <th>beatmap_tag</th>\n",
       "      <th>score_logit</th>\n",
       "    </tr>\n",
       "  </thead>\n",
       "  <tbody>\n",
       "    <tr>\n",
       "      <th>0</th>\n",
       "      <td>Scep</td>\n",
       "      <td>Q</td>\n",
       "      <td>RC</td>\n",
       "      <td>1</td>\n",
       "      <td>6.621999</td>\n",
       "    </tr>\n",
       "    <tr>\n",
       "      <th>1</th>\n",
       "      <td>Chiara</td>\n",
       "      <td>Q</td>\n",
       "      <td>RC</td>\n",
       "      <td>1</td>\n",
       "      <td>6.478995</td>\n",
       "    </tr>\n",
       "    <tr>\n",
       "      <th>2</th>\n",
       "      <td>Paturages</td>\n",
       "      <td>Q</td>\n",
       "      <td>RC</td>\n",
       "      <td>1</td>\n",
       "      <td>6.353857</td>\n",
       "    </tr>\n",
       "    <tr>\n",
       "      <th>3</th>\n",
       "      <td>2zi</td>\n",
       "      <td>Q</td>\n",
       "      <td>RC</td>\n",
       "      <td>1</td>\n",
       "      <td>6.324868</td>\n",
       "    </tr>\n",
       "    <tr>\n",
       "      <th>4</th>\n",
       "      <td>ZayyKen</td>\n",
       "      <td>Q</td>\n",
       "      <td>RC</td>\n",
       "      <td>1</td>\n",
       "      <td>6.296693</td>\n",
       "    </tr>\n",
       "  </tbody>\n",
       "</table>\n",
       "</div>"
      ],
      "text/plain": [
       "  player_name round beatmap_type beatmap_tag  score_logit\n",
       "0        Scep     Q           RC           1     6.621999\n",
       "1      Chiara     Q           RC           1     6.478995\n",
       "2   Paturages     Q           RC           1     6.353857\n",
       "3         2zi     Q           RC           1     6.324868\n",
       "4     ZayyKen     Q           RC           1     6.296693"
      ]
     },
     "execution_count": 6,
     "metadata": {},
     "output_type": "execute_result"
    }
   ],
   "source": [
    "_4dm4_data.head()"
   ]
  },
  {
   "cell_type": "code",
   "execution_count": 7,
   "metadata": {},
   "outputs": [],
   "source": [
    "player_table = get_table_players(_4dm4_data)"
   ]
  },
  {
   "cell_type": "code",
   "execution_count": 8,
   "metadata": {},
   "outputs": [
    {
     "data": {
      "text/html": [
       "<div>\n",
       "<style scoped>\n",
       "    .dataframe tbody tr th:only-of-type {\n",
       "        vertical-align: middle;\n",
       "    }\n",
       "\n",
       "    .dataframe tbody tr th {\n",
       "        vertical-align: top;\n",
       "    }\n",
       "\n",
       "    .dataframe thead th {\n",
       "        text-align: right;\n",
       "    }\n",
       "</style>\n",
       "<table border=\"1\" class=\"dataframe\">\n",
       "  <thead>\n",
       "    <tr style=\"text-align: right;\">\n",
       "      <th></th>\n",
       "      <th>Q_RC_1</th>\n",
       "      <th>Q_LN_1</th>\n",
       "      <th>Q_HB_1</th>\n",
       "      <th>GS_RC_1</th>\n",
       "      <th>GS_RC_2</th>\n",
       "      <th>GS_RC_4</th>\n",
       "      <th>GS_LN_1</th>\n",
       "      <th>GS_LN_2</th>\n",
       "      <th>GS_HB_1</th>\n",
       "      <th>RO16_RC_4</th>\n",
       "      <th>...</th>\n",
       "      <th>GF_RC_6</th>\n",
       "      <th>GF_RC_7</th>\n",
       "      <th>GF_LN_1</th>\n",
       "      <th>GF_LN_2</th>\n",
       "      <th>GF_LN_3</th>\n",
       "      <th>GF_HB_2</th>\n",
       "      <th>QF_LN_1</th>\n",
       "      <th>SF_HB_1</th>\n",
       "      <th>GF_HB_3</th>\n",
       "      <th>RO16_HB_2</th>\n",
       "    </tr>\n",
       "  </thead>\n",
       "  <tbody>\n",
       "    <tr>\n",
       "      <th>Scep</th>\n",
       "      <td>5.732349</td>\n",
       "      <td>3.259613</td>\n",
       "      <td>3.677022</td>\n",
       "      <td>6.795095</td>\n",
       "      <td>3.596029</td>\n",
       "      <td>6.514232</td>\n",
       "      <td>4.519412</td>\n",
       "      <td>4.142225</td>\n",
       "      <td>5.947329</td>\n",
       "      <td>6.163239</td>\n",
       "      <td>...</td>\n",
       "      <td>NaN</td>\n",
       "      <td>NaN</td>\n",
       "      <td>NaN</td>\n",
       "      <td>NaN</td>\n",
       "      <td>NaN</td>\n",
       "      <td>NaN</td>\n",
       "      <td>NaN</td>\n",
       "      <td>NaN</td>\n",
       "      <td>NaN</td>\n",
       "      <td>NaN</td>\n",
       "    </tr>\n",
       "    <tr>\n",
       "      <th>Chiara</th>\n",
       "      <td>4.818142</td>\n",
       "      <td>3.300530</td>\n",
       "      <td>3.920109</td>\n",
       "      <td>5.598160</td>\n",
       "      <td>6.168499</td>\n",
       "      <td>5.687979</td>\n",
       "      <td>NaN</td>\n",
       "      <td>NaN</td>\n",
       "      <td>NaN</td>\n",
       "      <td>NaN</td>\n",
       "      <td>...</td>\n",
       "      <td>NaN</td>\n",
       "      <td>NaN</td>\n",
       "      <td>NaN</td>\n",
       "      <td>NaN</td>\n",
       "      <td>NaN</td>\n",
       "      <td>NaN</td>\n",
       "      <td>NaN</td>\n",
       "      <td>NaN</td>\n",
       "      <td>NaN</td>\n",
       "      <td>NaN</td>\n",
       "    </tr>\n",
       "    <tr>\n",
       "      <th>Paturages</th>\n",
       "      <td>6.095910</td>\n",
       "      <td>NaN</td>\n",
       "      <td>NaN</td>\n",
       "      <td>5.895591</td>\n",
       "      <td>5.236633</td>\n",
       "      <td>5.921877</td>\n",
       "      <td>NaN</td>\n",
       "      <td>NaN</td>\n",
       "      <td>NaN</td>\n",
       "      <td>NaN</td>\n",
       "      <td>...</td>\n",
       "      <td>NaN</td>\n",
       "      <td>NaN</td>\n",
       "      <td>NaN</td>\n",
       "      <td>NaN</td>\n",
       "      <td>NaN</td>\n",
       "      <td>NaN</td>\n",
       "      <td>NaN</td>\n",
       "      <td>NaN</td>\n",
       "      <td>NaN</td>\n",
       "      <td>NaN</td>\n",
       "    </tr>\n",
       "    <tr>\n",
       "      <th>2zi</th>\n",
       "      <td>5.948099</td>\n",
       "      <td>NaN</td>\n",
       "      <td>NaN</td>\n",
       "      <td>6.389070</td>\n",
       "      <td>5.123991</td>\n",
       "      <td>5.045509</td>\n",
       "      <td>NaN</td>\n",
       "      <td>NaN</td>\n",
       "      <td>NaN</td>\n",
       "      <td>NaN</td>\n",
       "      <td>...</td>\n",
       "      <td>NaN</td>\n",
       "      <td>NaN</td>\n",
       "      <td>NaN</td>\n",
       "      <td>NaN</td>\n",
       "      <td>NaN</td>\n",
       "      <td>NaN</td>\n",
       "      <td>NaN</td>\n",
       "      <td>NaN</td>\n",
       "      <td>NaN</td>\n",
       "      <td>NaN</td>\n",
       "    </tr>\n",
       "    <tr>\n",
       "      <th>ZayyKen</th>\n",
       "      <td>4.855147</td>\n",
       "      <td>4.179528</td>\n",
       "      <td>4.367182</td>\n",
       "      <td>6.873286</td>\n",
       "      <td>6.218636</td>\n",
       "      <td>5.965185</td>\n",
       "      <td>5.337473</td>\n",
       "      <td>NaN</td>\n",
       "      <td>6.226225</td>\n",
       "      <td>NaN</td>\n",
       "      <td>...</td>\n",
       "      <td>NaN</td>\n",
       "      <td>NaN</td>\n",
       "      <td>NaN</td>\n",
       "      <td>NaN</td>\n",
       "      <td>NaN</td>\n",
       "      <td>NaN</td>\n",
       "      <td>NaN</td>\n",
       "      <td>NaN</td>\n",
       "      <td>NaN</td>\n",
       "      <td>NaN</td>\n",
       "    </tr>\n",
       "    <tr>\n",
       "      <th>...</th>\n",
       "      <td>...</td>\n",
       "      <td>...</td>\n",
       "      <td>...</td>\n",
       "      <td>...</td>\n",
       "      <td>...</td>\n",
       "      <td>...</td>\n",
       "      <td>...</td>\n",
       "      <td>...</td>\n",
       "      <td>...</td>\n",
       "      <td>...</td>\n",
       "      <td>...</td>\n",
       "      <td>...</td>\n",
       "      <td>...</td>\n",
       "      <td>...</td>\n",
       "      <td>...</td>\n",
       "      <td>...</td>\n",
       "      <td>...</td>\n",
       "      <td>...</td>\n",
       "      <td>...</td>\n",
       "      <td>...</td>\n",
       "      <td>...</td>\n",
       "    </tr>\n",
       "    <tr>\n",
       "      <th>mmi366127</th>\n",
       "      <td>NaN</td>\n",
       "      <td>NaN</td>\n",
       "      <td>NaN</td>\n",
       "      <td>NaN</td>\n",
       "      <td>NaN</td>\n",
       "      <td>NaN</td>\n",
       "      <td>3.551570</td>\n",
       "      <td>NaN</td>\n",
       "      <td>NaN</td>\n",
       "      <td>NaN</td>\n",
       "      <td>...</td>\n",
       "      <td>NaN</td>\n",
       "      <td>NaN</td>\n",
       "      <td>NaN</td>\n",
       "      <td>NaN</td>\n",
       "      <td>NaN</td>\n",
       "      <td>NaN</td>\n",
       "      <td>NaN</td>\n",
       "      <td>NaN</td>\n",
       "      <td>NaN</td>\n",
       "      <td>NaN</td>\n",
       "    </tr>\n",
       "    <tr>\n",
       "      <th>Ryan413</th>\n",
       "      <td>NaN</td>\n",
       "      <td>NaN</td>\n",
       "      <td>NaN</td>\n",
       "      <td>NaN</td>\n",
       "      <td>NaN</td>\n",
       "      <td>NaN</td>\n",
       "      <td>NaN</td>\n",
       "      <td>NaN</td>\n",
       "      <td>NaN</td>\n",
       "      <td>NaN</td>\n",
       "      <td>...</td>\n",
       "      <td>NaN</td>\n",
       "      <td>NaN</td>\n",
       "      <td>NaN</td>\n",
       "      <td>NaN</td>\n",
       "      <td>NaN</td>\n",
       "      <td>NaN</td>\n",
       "      <td>NaN</td>\n",
       "      <td>NaN</td>\n",
       "      <td>NaN</td>\n",
       "      <td>NaN</td>\n",
       "    </tr>\n",
       "    <tr>\n",
       "      <th>Silicosis</th>\n",
       "      <td>NaN</td>\n",
       "      <td>NaN</td>\n",
       "      <td>NaN</td>\n",
       "      <td>NaN</td>\n",
       "      <td>NaN</td>\n",
       "      <td>NaN</td>\n",
       "      <td>NaN</td>\n",
       "      <td>NaN</td>\n",
       "      <td>NaN</td>\n",
       "      <td>4.701714</td>\n",
       "      <td>...</td>\n",
       "      <td>3.673537</td>\n",
       "      <td>3.347748</td>\n",
       "      <td>2.602822</td>\n",
       "      <td>NaN</td>\n",
       "      <td>2.863493</td>\n",
       "      <td>2.512032</td>\n",
       "      <td>NaN</td>\n",
       "      <td>NaN</td>\n",
       "      <td>2.560233</td>\n",
       "      <td>NaN</td>\n",
       "    </tr>\n",
       "    <tr>\n",
       "      <th>Trillerspec</th>\n",
       "      <td>NaN</td>\n",
       "      <td>NaN</td>\n",
       "      <td>NaN</td>\n",
       "      <td>NaN</td>\n",
       "      <td>NaN</td>\n",
       "      <td>NaN</td>\n",
       "      <td>NaN</td>\n",
       "      <td>NaN</td>\n",
       "      <td>NaN</td>\n",
       "      <td>NaN</td>\n",
       "      <td>...</td>\n",
       "      <td>NaN</td>\n",
       "      <td>NaN</td>\n",
       "      <td>NaN</td>\n",
       "      <td>NaN</td>\n",
       "      <td>NaN</td>\n",
       "      <td>NaN</td>\n",
       "      <td>NaN</td>\n",
       "      <td>NaN</td>\n",
       "      <td>NaN</td>\n",
       "      <td>4.046976</td>\n",
       "    </tr>\n",
       "    <tr>\n",
       "      <th>H1Pur</th>\n",
       "      <td>NaN</td>\n",
       "      <td>NaN</td>\n",
       "      <td>NaN</td>\n",
       "      <td>NaN</td>\n",
       "      <td>NaN</td>\n",
       "      <td>NaN</td>\n",
       "      <td>NaN</td>\n",
       "      <td>NaN</td>\n",
       "      <td>NaN</td>\n",
       "      <td>NaN</td>\n",
       "      <td>...</td>\n",
       "      <td>NaN</td>\n",
       "      <td>NaN</td>\n",
       "      <td>NaN</td>\n",
       "      <td>NaN</td>\n",
       "      <td>NaN</td>\n",
       "      <td>NaN</td>\n",
       "      <td>NaN</td>\n",
       "      <td>NaN</td>\n",
       "      <td>NaN</td>\n",
       "      <td>NaN</td>\n",
       "    </tr>\n",
       "  </tbody>\n",
       "</table>\n",
       "<p>180 rows × 60 columns</p>\n",
       "</div>"
      ],
      "text/plain": [
       "               Q_RC_1    Q_LN_1    Q_HB_1   GS_RC_1   GS_RC_2   GS_RC_4  \\\n",
       "Scep         5.732349  3.259613  3.677022  6.795095  3.596029  6.514232   \n",
       "Chiara       4.818142  3.300530  3.920109  5.598160  6.168499  5.687979   \n",
       "Paturages    6.095910       NaN       NaN  5.895591  5.236633  5.921877   \n",
       "2zi          5.948099       NaN       NaN  6.389070  5.123991  5.045509   \n",
       "ZayyKen      4.855147  4.179528  4.367182  6.873286  6.218636  5.965185   \n",
       "...               ...       ...       ...       ...       ...       ...   \n",
       "mmi366127         NaN       NaN       NaN       NaN       NaN       NaN   \n",
       "Ryan413           NaN       NaN       NaN       NaN       NaN       NaN   \n",
       "Silicosis         NaN       NaN       NaN       NaN       NaN       NaN   \n",
       "Trillerspec       NaN       NaN       NaN       NaN       NaN       NaN   \n",
       "H1Pur             NaN       NaN       NaN       NaN       NaN       NaN   \n",
       "\n",
       "              GS_LN_1   GS_LN_2   GS_HB_1  RO16_RC_4  ...   GF_RC_6   GF_RC_7  \\\n",
       "Scep         4.519412  4.142225  5.947329   6.163239  ...       NaN       NaN   \n",
       "Chiara            NaN       NaN       NaN        NaN  ...       NaN       NaN   \n",
       "Paturages         NaN       NaN       NaN        NaN  ...       NaN       NaN   \n",
       "2zi               NaN       NaN       NaN        NaN  ...       NaN       NaN   \n",
       "ZayyKen      5.337473       NaN  6.226225        NaN  ...       NaN       NaN   \n",
       "...               ...       ...       ...        ...  ...       ...       ...   \n",
       "mmi366127    3.551570       NaN       NaN        NaN  ...       NaN       NaN   \n",
       "Ryan413           NaN       NaN       NaN        NaN  ...       NaN       NaN   \n",
       "Silicosis         NaN       NaN       NaN   4.701714  ...  3.673537  3.347748   \n",
       "Trillerspec       NaN       NaN       NaN        NaN  ...       NaN       NaN   \n",
       "H1Pur             NaN       NaN       NaN        NaN  ...       NaN       NaN   \n",
       "\n",
       "              GF_LN_1  GF_LN_2   GF_LN_3   GF_HB_2  QF_LN_1  SF_HB_1  \\\n",
       "Scep              NaN      NaN       NaN       NaN      NaN      NaN   \n",
       "Chiara            NaN      NaN       NaN       NaN      NaN      NaN   \n",
       "Paturages         NaN      NaN       NaN       NaN      NaN      NaN   \n",
       "2zi               NaN      NaN       NaN       NaN      NaN      NaN   \n",
       "ZayyKen           NaN      NaN       NaN       NaN      NaN      NaN   \n",
       "...               ...      ...       ...       ...      ...      ...   \n",
       "mmi366127         NaN      NaN       NaN       NaN      NaN      NaN   \n",
       "Ryan413           NaN      NaN       NaN       NaN      NaN      NaN   \n",
       "Silicosis    2.602822      NaN  2.863493  2.512032      NaN      NaN   \n",
       "Trillerspec       NaN      NaN       NaN       NaN      NaN      NaN   \n",
       "H1Pur             NaN      NaN       NaN       NaN      NaN      NaN   \n",
       "\n",
       "              GF_HB_3  RO16_HB_2  \n",
       "Scep              NaN        NaN  \n",
       "Chiara            NaN        NaN  \n",
       "Paturages         NaN        NaN  \n",
       "2zi               NaN        NaN  \n",
       "ZayyKen           NaN        NaN  \n",
       "...               ...        ...  \n",
       "mmi366127         NaN        NaN  \n",
       "Ryan413           NaN        NaN  \n",
       "Silicosis    2.560233        NaN  \n",
       "Trillerspec       NaN   4.046976  \n",
       "H1Pur             NaN        NaN  \n",
       "\n",
       "[180 rows x 60 columns]"
      ]
     },
     "execution_count": 8,
     "metadata": {},
     "output_type": "execute_result"
    }
   ],
   "source": [
    "player_table"
   ]
  },
  {
   "cell_type": "code",
   "execution_count": 10,
   "metadata": {},
   "outputs": [],
   "source": [
    "player_table[player_table < 0] = np.nan"
   ]
  },
  {
   "cell_type": "code",
   "execution_count": 11,
   "metadata": {},
   "outputs": [],
   "source": [
    "model = BoxCoxParametricAveragePercent()\n",
    "\n",
    "model.fit(player_table.values)"
   ]
  },
  {
   "cell_type": "code",
   "execution_count": 12,
   "metadata": {},
   "outputs": [],
   "source": [
    "df = pd.DataFrame(index=player_table.index)\n",
    "\n",
    "df['outlier_values'] = model.predict(player_table.values)"
   ]
  },
  {
   "cell_type": "code",
   "execution_count": 13,
   "metadata": {},
   "outputs": [
    {
     "data": {
      "text/html": [
       "<div>\n",
       "<style scoped>\n",
       "    .dataframe tbody tr th:only-of-type {\n",
       "        vertical-align: middle;\n",
       "    }\n",
       "\n",
       "    .dataframe tbody tr th {\n",
       "        vertical-align: top;\n",
       "    }\n",
       "\n",
       "    .dataframe thead th {\n",
       "        text-align: right;\n",
       "    }\n",
       "</style>\n",
       "<table border=\"1\" class=\"dataframe\">\n",
       "  <thead>\n",
       "    <tr style=\"text-align: right;\">\n",
       "      <th></th>\n",
       "      <th>outlier_values</th>\n",
       "    </tr>\n",
       "  </thead>\n",
       "  <tbody>\n",
       "    <tr>\n",
       "      <th>Paturages</th>\n",
       "      <td>0.775203</td>\n",
       "    </tr>\n",
       "    <tr>\n",
       "      <th>Adri</th>\n",
       "      <td>0.772252</td>\n",
       "    </tr>\n",
       "    <tr>\n",
       "      <th>Snowkyou</th>\n",
       "      <td>0.755422</td>\n",
       "    </tr>\n",
       "    <tr>\n",
       "      <th>Freek</th>\n",
       "      <td>0.741578</td>\n",
       "    </tr>\n",
       "    <tr>\n",
       "      <th>Oreo</th>\n",
       "      <td>0.739796</td>\n",
       "    </tr>\n",
       "    <tr>\n",
       "      <th>Jibran-</th>\n",
       "      <td>0.735527</td>\n",
       "    </tr>\n",
       "    <tr>\n",
       "      <th>Scep</th>\n",
       "      <td>0.724843</td>\n",
       "    </tr>\n",
       "    <tr>\n",
       "      <th>shnacc</th>\n",
       "      <td>0.721616</td>\n",
       "    </tr>\n",
       "    <tr>\n",
       "      <th>ZayyKen</th>\n",
       "      <td>0.701064</td>\n",
       "    </tr>\n",
       "    <tr>\n",
       "      <th>Retina</th>\n",
       "      <td>0.690450</td>\n",
       "    </tr>\n",
       "    <tr>\n",
       "      <th>-H i k a r i-</th>\n",
       "      <td>0.677935</td>\n",
       "    </tr>\n",
       "    <tr>\n",
       "      <th>Arccat</th>\n",
       "      <td>0.671955</td>\n",
       "    </tr>\n",
       "    <tr>\n",
       "      <th>Zycrxd</th>\n",
       "      <td>0.668510</td>\n",
       "    </tr>\n",
       "    <tr>\n",
       "      <th>NightNarumi</th>\n",
       "      <td>0.661132</td>\n",
       "    </tr>\n",
       "    <tr>\n",
       "      <th>[-Leon-]</th>\n",
       "      <td>0.660916</td>\n",
       "    </tr>\n",
       "    <tr>\n",
       "      <th>HD_AdreNaline</th>\n",
       "      <td>0.658046</td>\n",
       "    </tr>\n",
       "  </tbody>\n",
       "</table>\n",
       "</div>"
      ],
      "text/plain": [
       "               outlier_values\n",
       "Paturages            0.775203\n",
       "Adri                 0.772252\n",
       "Snowkyou             0.755422\n",
       "Freek                0.741578\n",
       "Oreo                 0.739796\n",
       "Jibran-              0.735527\n",
       "Scep                 0.724843\n",
       "shnacc               0.721616\n",
       "ZayyKen              0.701064\n",
       "Retina               0.690450\n",
       "-H i k a r i-        0.677935\n",
       "Arccat               0.671955\n",
       "Zycrxd               0.668510\n",
       "NightNarumi          0.661132\n",
       "[-Leon-]             0.660916\n",
       "HD_AdreNaline        0.658046"
      ]
     },
     "execution_count": 13,
     "metadata": {},
     "output_type": "execute_result"
    }
   ],
   "source": [
    "df.sort_values(by='outlier_values', ascending=False).head(16)"
   ]
  },
  {
   "cell_type": "code",
   "execution_count": 14,
   "metadata": {},
   "outputs": [],
   "source": [
    "df['n_maps_played'] = np.sum(pd.notna(player_table.values), axis=1)"
   ]
  },
  {
   "cell_type": "code",
   "execution_count": 15,
   "metadata": {},
   "outputs": [
    {
     "data": {
      "text/html": [
       "<div>\n",
       "<style scoped>\n",
       "    .dataframe tbody tr th:only-of-type {\n",
       "        vertical-align: middle;\n",
       "    }\n",
       "\n",
       "    .dataframe tbody tr th {\n",
       "        vertical-align: top;\n",
       "    }\n",
       "\n",
       "    .dataframe thead th {\n",
       "        text-align: right;\n",
       "    }\n",
       "</style>\n",
       "<table border=\"1\" class=\"dataframe\">\n",
       "  <thead>\n",
       "    <tr style=\"text-align: right;\">\n",
       "      <th></th>\n",
       "      <th>outlier_values</th>\n",
       "      <th>n_maps_played</th>\n",
       "    </tr>\n",
       "  </thead>\n",
       "  <tbody>\n",
       "    <tr>\n",
       "      <th>Scep</th>\n",
       "      <td>0.724843</td>\n",
       "      <td>28</td>\n",
       "    </tr>\n",
       "    <tr>\n",
       "      <th>Chiara</th>\n",
       "      <td>0.586367</td>\n",
       "      <td>24</td>\n",
       "    </tr>\n",
       "    <tr>\n",
       "      <th>Paturages</th>\n",
       "      <td>0.775203</td>\n",
       "      <td>6</td>\n",
       "    </tr>\n",
       "    <tr>\n",
       "      <th>2zi</th>\n",
       "      <td>0.580410</td>\n",
       "      <td>15</td>\n",
       "    </tr>\n",
       "    <tr>\n",
       "      <th>ZayyKen</th>\n",
       "      <td>0.701064</td>\n",
       "      <td>32</td>\n",
       "    </tr>\n",
       "    <tr>\n",
       "      <th>...</th>\n",
       "      <td>...</td>\n",
       "      <td>...</td>\n",
       "    </tr>\n",
       "    <tr>\n",
       "      <th>mmi366127</th>\n",
       "      <td>0.333088</td>\n",
       "      <td>3</td>\n",
       "    </tr>\n",
       "    <tr>\n",
       "      <th>Ryan413</th>\n",
       "      <td>0.271092</td>\n",
       "      <td>1</td>\n",
       "    </tr>\n",
       "    <tr>\n",
       "      <th>Silicosis</th>\n",
       "      <td>0.442203</td>\n",
       "      <td>32</td>\n",
       "    </tr>\n",
       "    <tr>\n",
       "      <th>Trillerspec</th>\n",
       "      <td>0.651799</td>\n",
       "      <td>9</td>\n",
       "    </tr>\n",
       "    <tr>\n",
       "      <th>H1Pur</th>\n",
       "      <td>0.294297</td>\n",
       "      <td>4</td>\n",
       "    </tr>\n",
       "  </tbody>\n",
       "</table>\n",
       "<p>180 rows × 2 columns</p>\n",
       "</div>"
      ],
      "text/plain": [
       "             outlier_values  n_maps_played\n",
       "Scep               0.724843             28\n",
       "Chiara             0.586367             24\n",
       "Paturages          0.775203              6\n",
       "2zi                0.580410             15\n",
       "ZayyKen            0.701064             32\n",
       "...                     ...            ...\n",
       "mmi366127          0.333088              3\n",
       "Ryan413            0.271092              1\n",
       "Silicosis          0.442203             32\n",
       "Trillerspec        0.651799              9\n",
       "H1Pur              0.294297              4\n",
       "\n",
       "[180 rows x 2 columns]"
      ]
     },
     "execution_count": 15,
     "metadata": {},
     "output_type": "execute_result"
    }
   ],
   "source": [
    "df"
   ]
  },
  {
   "cell_type": "code",
   "execution_count": 16,
   "metadata": {},
   "outputs": [],
   "source": [
    "df['adjusted_ol_values'] = df['outlier_values'] * np.log(df['n_maps_played'] + 1)"
   ]
  },
  {
   "cell_type": "code",
   "execution_count": 17,
   "metadata": {},
   "outputs": [
    {
     "data": {
      "text/html": [
       "<div>\n",
       "<style scoped>\n",
       "    .dataframe tbody tr th:only-of-type {\n",
       "        vertical-align: middle;\n",
       "    }\n",
       "\n",
       "    .dataframe tbody tr th {\n",
       "        vertical-align: top;\n",
       "    }\n",
       "\n",
       "    .dataframe thead th {\n",
       "        text-align: right;\n",
       "    }\n",
       "</style>\n",
       "<table border=\"1\" class=\"dataframe\">\n",
       "  <thead>\n",
       "    <tr style=\"text-align: right;\">\n",
       "      <th></th>\n",
       "      <th>outlier_values</th>\n",
       "      <th>n_maps_played</th>\n",
       "      <th>adjusted_ol_values</th>\n",
       "    </tr>\n",
       "  </thead>\n",
       "  <tbody>\n",
       "    <tr>\n",
       "      <th>[-Leon-]</th>\n",
       "      <td>0.660916</td>\n",
       "      <td>48</td>\n",
       "      <td>2.572167</td>\n",
       "    </tr>\n",
       "    <tr>\n",
       "      <th>ZayyKen</th>\n",
       "      <td>0.701064</td>\n",
       "      <td>32</td>\n",
       "      <td>2.451275</td>\n",
       "    </tr>\n",
       "    <tr>\n",
       "      <th>Scep</th>\n",
       "      <td>0.724843</td>\n",
       "      <td>28</td>\n",
       "      <td>2.440761</td>\n",
       "    </tr>\n",
       "    <tr>\n",
       "      <th>2fast4you98</th>\n",
       "      <td>0.654252</td>\n",
       "      <td>37</td>\n",
       "      <td>2.379899</td>\n",
       "    </tr>\n",
       "    <tr>\n",
       "      <th>shokoha</th>\n",
       "      <td>0.642068</td>\n",
       "      <td>35</td>\n",
       "      <td>2.300864</td>\n",
       "    </tr>\n",
       "    <tr>\n",
       "      <th>Zycrxd</th>\n",
       "      <td>0.668510</td>\n",
       "      <td>28</td>\n",
       "      <td>2.251071</td>\n",
       "    </tr>\n",
       "    <tr>\n",
       "      <th>KamaTheCrimson</th>\n",
       "      <td>0.656784</td>\n",
       "      <td>26</td>\n",
       "      <td>2.164654</td>\n",
       "    </tr>\n",
       "    <tr>\n",
       "      <th>Arccat</th>\n",
       "      <td>0.671955</td>\n",
       "      <td>24</td>\n",
       "      <td>2.162939</td>\n",
       "    </tr>\n",
       "    <tr>\n",
       "      <th>Lenn</th>\n",
       "      <td>0.614511</td>\n",
       "      <td>31</td>\n",
       "      <td>2.129732</td>\n",
       "    </tr>\n",
       "    <tr>\n",
       "      <th>s_kolorowa</th>\n",
       "      <td>0.637825</td>\n",
       "      <td>27</td>\n",
       "      <td>2.125362</td>\n",
       "    </tr>\n",
       "    <tr>\n",
       "      <th>Irone OSU</th>\n",
       "      <td>0.624964</td>\n",
       "      <td>26</td>\n",
       "      <td>2.059780</td>\n",
       "    </tr>\n",
       "    <tr>\n",
       "      <th>Freek</th>\n",
       "      <td>0.741578</td>\n",
       "      <td>15</td>\n",
       "      <td>2.056092</td>\n",
       "    </tr>\n",
       "    <tr>\n",
       "      <th>Yuragi</th>\n",
       "      <td>0.547488</td>\n",
       "      <td>38</td>\n",
       "      <td>2.005755</td>\n",
       "    </tr>\n",
       "    <tr>\n",
       "      <th>samuelhklumpers</th>\n",
       "      <td>0.604792</td>\n",
       "      <td>24</td>\n",
       "      <td>1.946751</td>\n",
       "    </tr>\n",
       "    <tr>\n",
       "      <th>palmEuEi</th>\n",
       "      <td>0.537638</td>\n",
       "      <td>36</td>\n",
       "      <td>1.941367</td>\n",
       "    </tr>\n",
       "  </tbody>\n",
       "</table>\n",
       "</div>"
      ],
      "text/plain": [
       "                 outlier_values  n_maps_played  adjusted_ol_values\n",
       "[-Leon-]               0.660916             48            2.572167\n",
       "ZayyKen                0.701064             32            2.451275\n",
       "Scep                   0.724843             28            2.440761\n",
       "2fast4you98            0.654252             37            2.379899\n",
       "shokoha                0.642068             35            2.300864\n",
       "Zycrxd                 0.668510             28            2.251071\n",
       "KamaTheCrimson         0.656784             26            2.164654\n",
       "Arccat                 0.671955             24            2.162939\n",
       "Lenn                   0.614511             31            2.129732\n",
       "s_kolorowa             0.637825             27            2.125362\n",
       "Irone OSU              0.624964             26            2.059780\n",
       "Freek                  0.741578             15            2.056092\n",
       "Yuragi                 0.547488             38            2.005755\n",
       "samuelhklumpers        0.604792             24            1.946751\n",
       "palmEuEi               0.537638             36            1.941367"
      ]
     },
     "execution_count": 17,
     "metadata": {},
     "output_type": "execute_result"
    }
   ],
   "source": [
    "df.sort_values(by='adjusted_ol_values', ascending=False).head(15)"
   ]
  },
  {
   "cell_type": "code",
   "execution_count": 18,
   "metadata": {},
   "outputs": [
    {
     "data": {
      "image/png": "[encoded data removed]",
      "text/plain": [
       "<Figure size 432x288 with 1 Axes>"
      ]
     },
     "metadata": {
      "needs_background": "light"
     },
     "output_type": "display_data"
    }
   ],
   "source": [
    "plt.hist(df['outlier_values'])\n",
    "plt.show()"
   ]
  },
  {
   "cell_type": "code",
   "execution_count": 19,
   "metadata": {},
   "outputs": [
    {
     "data": {
      "image/png": "[encoded data removed]",
      "text/plain": [
       "<Figure size 432x288 with 1 Axes>"
      ]
     },
     "metadata": {
      "needs_background": "light"
     },
     "output_type": "display_data"
    }
   ],
   "source": [
    "plt.hist(df['adjusted_ol_values'])\n",
    "plt.show()"
   ]
  }
 ],
 "metadata": {
  "kernelspec": {
   "display_name": "Python 3.10.4 64-bit",
   "language": "python",
   "name": "python3"
  },
  "language_info": {
   "codemirror_mode": {
    "name": "ipython",
    "version": 3
   },
   "file_extension": ".py",
   "mimetype": "text/x-python",
   "name": "python",
   "nbconvert_exporter": "python",
   "pygments_lexer": "ipython3",
   "version": "3.10.4"
  },
  "orig_nbformat": 4,
  "vscode": {
   "interpreter": {
    "hash": "a9cff5a362bc38ef45d817ae74b1af54d6a076e3d773891282bce078b815ba34"
   }
  }
 },
 "nbformat": 4,
 "nbformat_minor": 2
}
