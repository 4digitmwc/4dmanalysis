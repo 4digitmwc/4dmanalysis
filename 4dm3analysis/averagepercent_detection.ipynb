{
 "cells": [
  {
   "cell_type": "markdown",
   "metadata": {},
   "source": [
    "# Outlier Detection of 4 Digit MWC 4 Players using Tournament Scores using Box-Cox Transformation and Average Percentile Model"
   ]
  },
  {
   "cell_type": "markdown",
   "metadata": {},
   "source": [
    "## Introduction\n",
    "\n",
    "This notebook is the explanation and experimentation on an Alternative of Local Outlier Factor with a simpler model, which is an Average Percentile Model."
   ]
  },
  {
   "cell_type": "markdown",
   "metadata": {},
   "source": [
    "## Logit Transformation"
   ]
  },
  {
   "cell_type": "markdown",
   "metadata": {},
   "source": [
    "**Logit Transformation** is a terminology to transform the score which are in range $[0, 1000000]$ into $(-\\infty, \\infty)$ using the formula"
   ]
  },
  {
   "cell_type": "markdown",
   "metadata": {},
   "source": [
    "$$\n",
    "\\text{logit}(x) = \\log(\\frac{x}{1 - x})\n",
    "$$"
   ]
  },
  {
   "cell_type": "markdown",
   "metadata": {},
   "source": [
    "Where\n",
    "$$\n",
    "x = \\frac{\\text{score}}{1000000}\n",
    "$$"
   ]
  },
  {
   "cell_type": "markdown",
   "metadata": {},
   "source": [
    "This will also theoretically widen the gap between small difference of scores when the scores are higher. For example the difference between $\\text{logit}(0.99) - \\text{logit}(0.985)$ is less than $\\text{logit}(0.995) - \\text{logit}(0.99)$. Which matches the environment in the osu!mania tournament scene since the chance that the score gaps are low in earlier game is higher than the late game."
   ]
  },
  {
   "cell_type": "markdown",
   "metadata": {},
   "source": [
    "## Box-Cox Transformation"
   ]
  },
  {
   "cell_type": "markdown",
   "metadata": {},
   "source": [
    "**Box-Cox Transformation** can be written as"
   ]
  },
  {
   "cell_type": "markdown",
   "metadata": {},
   "source": [
    "$$\n",
    "\\text{boxcox}(x) = \\begin{cases}\n",
    "\\frac{x^\\lambda - 1}{\\lambda} & \\lambda \\neq 0\\\\\n",
    "\\log(x) & \\lambda = 0\n",
    "\\end{cases}\n",
    "$$"
   ]
  },
  {
   "cell_type": "markdown",
   "metadata": {},
   "source": [
    "Theoretically, the following transformation will make the data more Normally Distributed. We can find the $\\lambda$ using **Maximum Likelihood** which will try to find the $\\lambda$ that maximize how \"Normally Distributed\" the data is.\n",
    "\n",
    "More information and experimentations can be found in [boxcox.ipynb](https://github.com/HowToProgramming/4dm4analysis/blob/main/boxcox.ipynb)"
   ]
  },
  {
   "cell_type": "markdown",
   "metadata": {},
   "source": [
    "## Parametric Average Percentile Model"
   ]
  },
  {
   "cell_type": "markdown",
   "metadata": {},
   "source": [
    "**Parametric Average Percentile Model** is based on the idea of how to measure the proportion of the population that a given player has surprassed. The data in this case is multi-dimensional data, that means there are multiple maps in the calculation process of this model. First we standardize the data of each map, then we calculate the **Cumulative Distribution Function** of **Normal Distribution** or any given parametric distribution, we will call that a percentile. After that we average the percentile and get the final result of a given player."
   ]
  },
  {
   "cell_type": "markdown",
   "metadata": {},
   "source": [
    "### Adjustments"
   ]
  },
  {
   "cell_type": "markdown",
   "metadata": {},
   "source": [
    "#### Applying Box-Cox Transformation"
   ]
  },
  {
   "cell_type": "markdown",
   "metadata": {},
   "source": [
    "As mentioned in the previous section about Box-Cox Transformation, we transform the Logit-Transformed data using Box-Cox transformation in order to use them in the **Parametric Average Percentile Model**. This will maximize the efficiency of the model, however there is a case where $\\lambda < 0$ which we should aware of because the higher the score, the lower the transformed value is, we then use another adjustment"
   ]
  },
  {
   "cell_type": "markdown",
   "metadata": {},
   "source": [
    "$$\n",
    "\\text{sign}(\\lambda) = \\begin{cases}\n",
    "1 & \\lambda \\geq 0\\\\\n",
    "-1 & \\text{otherwise}\n",
    "\\end{cases}\n",
    "$$"
   ]
  },
  {
   "cell_type": "markdown",
   "metadata": {},
   "source": [
    "We multiply them with our standardized value and then use that value to calculate the **Cumulative Distribution Function** in order to catch that issue."
   ]
  },
  {
   "cell_type": "markdown",
   "metadata": {},
   "source": [
    "#### Applying Maps Played into the consideration"
   ]
  },
  {
   "cell_type": "markdown",
   "metadata": {},
   "source": [
    "After we got the output from our Model, we then find another factor which the model didn't catch which is the \"Maps Played\". The important behaviour of outperformed players is the fact that they usually are main players of most of the maps. So we try to include this feature by multiplying the outlier value that we got from model with the log of maps played. Which is the following formula:"
   ]
  },
  {
   "cell_type": "markdown",
   "metadata": {},
   "source": [
    "$$\n",
    "\\text{Adjusted Outlier Score} = \\text{Outlier Value from Avg. Percentile} \\cdot \\log(\\# \\text{Maps Played} + 1)\n",
    "$$"
   ]
  },
  {
   "cell_type": "markdown",
   "metadata": {},
   "source": [
    "We then use this value to detect the outlier or outperformed players."
   ]
  },
  {
   "cell_type": "markdown",
   "metadata": {},
   "source": [
    "## In Layman Terms"
   ]
  },
  {
   "cell_type": "markdown",
   "metadata": {},
   "source": [
    "\"At the first instinct, the way to classify the outperforming players is to find the players who are outperforming.\" <p align=\"right\">- HowToPlayLN, 2022, while thinking how to write this section</p>\n",
    "\n",
    "But the more important question is, how do we define outperforming ? Given a player, an easy idea is to calculate how many players a given player has surpressed in a certain map. To be precise, we try to compare the player with the entire population of players who are eligible to participate in a tournament. In order to compare (approximate) directly, we need to use the statistical magic called \"Normal Distribution\".<p hidden=true>which there is no turning back if we commit it (sry overused joke)</p>\n",
    "\n",
    "But we cannot use the Normal Distribution directly, from the raw score, we need to use some transformation to extract some features and normalize them. First, we use the \"logit transformation\" to seperate the stacked performances of players in the tournament, for example, we can see more distinction between 990k and 995k score than 985k and 990k, which matches the environment of how osu!mania tournaments usually works. Next, we use the \"Box-Cox Transformation\" in order to make data suitable for the statistical magic.\n",
    "\n",
    "We then input the transformed data into the statistical magic that allows us to approximate how much the player has surprassed the population. However, we do this for every single map in a tournament and use all sample players data to determine the approximated value. Then we average the values for all maps a player played in a tournament.\n",
    "\n",
    "Finally, the last feature comes from the nature of the behaviour of outperforming players in a tournament, especially a country team tournament with the format of 3v3 and 6 players for each country. They usually are the first or second player of the maps. With this information, we can add the \"maps played\" feature into the consideration. We do this by taking a logarithm function to maps played to reduce the difference between players who plays in the late game and focus more on them. We then multiply that value to the previous feature, then we get the numbers that will determine whether the player is outperforming."
   ]
  },
  {
   "cell_type": "markdown",
   "metadata": {},
   "source": [
    "## Code Documentation"
   ]
  },
  {
   "cell_type": "code",
   "execution_count": 1,
   "metadata": {},
   "outputs": [],
   "source": [
    "import os\n",
    "\n",
    "os.chdir(\"..\")"
   ]
  },
  {
   "cell_type": "markdown",
   "metadata": {},
   "source": [
    "### Importing Necessary Modules\n",
    "\n",
    "We will use `pandas` for data management, `matplotlib.pyplot` for data visualization and `numpy` to deal with math stuff."
   ]
  },
  {
   "cell_type": "code",
   "execution_count": 2,
   "metadata": {},
   "outputs": [],
   "source": [
    "import pandas as pd\n",
    "import matplotlib.pyplot as plt\n",
    "import numpy as np"
   ]
  },
  {
   "cell_type": "markdown",
   "metadata": {},
   "source": [
    "For Local Packages, we will use `Dataset` and `get_table_players` to transform dataset into the "
   ]
  },
  {
   "cell_type": "code",
   "execution_count": 3,
   "metadata": {},
   "outputs": [],
   "source": [
    "from utils import Dataset\n",
    "from utils.outlierdetectionmodel import BoxCoxParametricAveragePercent\n",
    "from utils.dftransformer import get_table_players"
   ]
  },
  {
   "cell_type": "code",
   "execution_count": 4,
   "metadata": {},
   "outputs": [],
   "source": [
    "_4dm4_dataset = Dataset('datasets/4dm3.db')"
   ]
  },
  {
   "cell_type": "code",
   "execution_count": 5,
   "metadata": {},
   "outputs": [],
   "source": [
    "_4dm4_data = _4dm4_dataset.select('scores', columns=['player_name', 'round', 'beatmap_type', 'beatmap_tag', 'score_logit'], where={\n",
    "    'beatmap_type': ['LN', 'RC', 'HB'],\n",
    "})"
   ]
  },
  {
   "cell_type": "code",
   "execution_count": 6,
   "metadata": {},
   "outputs": [
    {
     "data": {
      "text/html": [
       "<div>\n",
       "<style scoped>\n",
       "    .dataframe tbody tr th:only-of-type {\n",
       "        vertical-align: middle;\n",
       "    }\n",
       "\n",
       "    .dataframe tbody tr th {\n",
       "        vertical-align: top;\n",
       "    }\n",
       "\n",
       "    .dataframe thead th {\n",
       "        text-align: right;\n",
       "    }\n",
       "</style>\n",
       "<table border=\"1\" class=\"dataframe\">\n",
       "  <thead>\n",
       "    <tr style=\"text-align: right;\">\n",
       "      <th></th>\n",
       "      <th>player_name</th>\n",
       "      <th>round</th>\n",
       "      <th>beatmap_type</th>\n",
       "      <th>beatmap_tag</th>\n",
       "      <th>score_logit</th>\n",
       "    </tr>\n",
       "  </thead>\n",
       "  <tbody>\n",
       "    <tr>\n",
       "      <th>0</th>\n",
       "      <td>drag_</td>\n",
       "      <td>Q</td>\n",
       "      <td>RC</td>\n",
       "      <td>1</td>\n",
       "      <td>3.922366</td>\n",
       "    </tr>\n",
       "    <tr>\n",
       "      <th>1</th>\n",
       "      <td>JPBenedictGame</td>\n",
       "      <td>Q</td>\n",
       "      <td>RC</td>\n",
       "      <td>1</td>\n",
       "      <td>4.792686</td>\n",
       "    </tr>\n",
       "    <tr>\n",
       "      <th>2</th>\n",
       "      <td>iVALORUS</td>\n",
       "      <td>Q</td>\n",
       "      <td>RC</td>\n",
       "      <td>1</td>\n",
       "      <td>2.952871</td>\n",
       "    </tr>\n",
       "    <tr>\n",
       "      <th>3</th>\n",
       "      <td>BL5</td>\n",
       "      <td>Q</td>\n",
       "      <td>RC</td>\n",
       "      <td>1</td>\n",
       "      <td>5.119073</td>\n",
       "    </tr>\n",
       "    <tr>\n",
       "      <th>4</th>\n",
       "      <td>-Tebo-</td>\n",
       "      <td>Q</td>\n",
       "      <td>RC</td>\n",
       "      <td>1</td>\n",
       "      <td>5.221730</td>\n",
       "    </tr>\n",
       "  </tbody>\n",
       "</table>\n",
       "</div>"
      ],
      "text/plain": [
       "      player_name round beatmap_type  beatmap_tag  score_logit\n",
       "0           drag_     Q           RC            1     3.922366\n",
       "1  JPBenedictGame     Q           RC            1     4.792686\n",
       "2        iVALORUS     Q           RC            1     2.952871\n",
       "3             BL5     Q           RC            1     5.119073\n",
       "4          -Tebo-     Q           RC            1     5.221730"
      ]
     },
     "execution_count": 6,
     "metadata": {},
     "output_type": "execute_result"
    }
   ],
   "source": [
    "_4dm4_data.head()"
   ]
  },
  {
   "cell_type": "code",
   "execution_count": 7,
   "metadata": {},
   "outputs": [],
   "source": [
    "player_table = get_table_players(_4dm4_data)"
   ]
  },
  {
   "cell_type": "code",
   "execution_count": 8,
   "metadata": {},
   "outputs": [
    {
     "data": {
      "text/html": [
       "<div>\n",
       "<style scoped>\n",
       "    .dataframe tbody tr th:only-of-type {\n",
       "        vertical-align: middle;\n",
       "    }\n",
       "\n",
       "    .dataframe tbody tr th {\n",
       "        vertical-align: top;\n",
       "    }\n",
       "\n",
       "    .dataframe thead th {\n",
       "        text-align: right;\n",
       "    }\n",
       "</style>\n",
       "<table border=\"1\" class=\"dataframe\">\n",
       "  <thead>\n",
       "    <tr style=\"text-align: right;\">\n",
       "      <th></th>\n",
       "      <th>Q_RC_1</th>\n",
       "      <th>Q_RC_2</th>\n",
       "      <th>Q_LN_1</th>\n",
       "      <th>Q_HB_1</th>\n",
       "      <th>RO32_RC_1</th>\n",
       "      <th>RO32_RC_4</th>\n",
       "      <th>RO32_RC_5</th>\n",
       "      <th>RO32_LN_3</th>\n",
       "      <th>RO32_HB_1</th>\n",
       "      <th>RO16_RC_1</th>\n",
       "      <th>...</th>\n",
       "      <th>GF_RC_7</th>\n",
       "      <th>GF_LN_2</th>\n",
       "      <th>GF_LN_3</th>\n",
       "      <th>GF_LN_4</th>\n",
       "      <th>GF_HB_1</th>\n",
       "      <th>GF_HB_2</th>\n",
       "      <th>GF_HB_3</th>\n",
       "      <th>SF_RC_2</th>\n",
       "      <th>SF_HB_3</th>\n",
       "      <th>GF_RC_3</th>\n",
       "    </tr>\n",
       "  </thead>\n",
       "  <tbody>\n",
       "    <tr>\n",
       "      <th>drag_</th>\n",
       "      <td>3.922366</td>\n",
       "      <td>2.913464</td>\n",
       "      <td>3.310021</td>\n",
       "      <td>NaN</td>\n",
       "      <td>NaN</td>\n",
       "      <td>NaN</td>\n",
       "      <td>NaN</td>\n",
       "      <td>NaN</td>\n",
       "      <td>NaN</td>\n",
       "      <td>NaN</td>\n",
       "      <td>...</td>\n",
       "      <td>NaN</td>\n",
       "      <td>NaN</td>\n",
       "      <td>NaN</td>\n",
       "      <td>NaN</td>\n",
       "      <td>NaN</td>\n",
       "      <td>NaN</td>\n",
       "      <td>NaN</td>\n",
       "      <td>NaN</td>\n",
       "      <td>NaN</td>\n",
       "      <td>NaN</td>\n",
       "    </tr>\n",
       "    <tr>\n",
       "      <th>JPBenedictGame</th>\n",
       "      <td>4.792686</td>\n",
       "      <td>3.630805</td>\n",
       "      <td>3.143908</td>\n",
       "      <td>3.262931</td>\n",
       "      <td>NaN</td>\n",
       "      <td>NaN</td>\n",
       "      <td>NaN</td>\n",
       "      <td>NaN</td>\n",
       "      <td>NaN</td>\n",
       "      <td>NaN</td>\n",
       "      <td>...</td>\n",
       "      <td>NaN</td>\n",
       "      <td>NaN</td>\n",
       "      <td>NaN</td>\n",
       "      <td>NaN</td>\n",
       "      <td>NaN</td>\n",
       "      <td>NaN</td>\n",
       "      <td>NaN</td>\n",
       "      <td>NaN</td>\n",
       "      <td>NaN</td>\n",
       "      <td>NaN</td>\n",
       "    </tr>\n",
       "    <tr>\n",
       "      <th>iVALORUS</th>\n",
       "      <td>2.952871</td>\n",
       "      <td>2.364221</td>\n",
       "      <td>1.976354</td>\n",
       "      <td>2.624503</td>\n",
       "      <td>NaN</td>\n",
       "      <td>NaN</td>\n",
       "      <td>NaN</td>\n",
       "      <td>NaN</td>\n",
       "      <td>NaN</td>\n",
       "      <td>NaN</td>\n",
       "      <td>...</td>\n",
       "      <td>NaN</td>\n",
       "      <td>NaN</td>\n",
       "      <td>NaN</td>\n",
       "      <td>NaN</td>\n",
       "      <td>NaN</td>\n",
       "      <td>NaN</td>\n",
       "      <td>NaN</td>\n",
       "      <td>NaN</td>\n",
       "      <td>NaN</td>\n",
       "      <td>NaN</td>\n",
       "    </tr>\n",
       "    <tr>\n",
       "      <th>BL5</th>\n",
       "      <td>5.119073</td>\n",
       "      <td>2.868556</td>\n",
       "      <td>3.635748</td>\n",
       "      <td>3.548144</td>\n",
       "      <td>3.984893</td>\n",
       "      <td>3.215893</td>\n",
       "      <td>4.803535</td>\n",
       "      <td>4.269779</td>\n",
       "      <td>NaN</td>\n",
       "      <td>NaN</td>\n",
       "      <td>...</td>\n",
       "      <td>NaN</td>\n",
       "      <td>NaN</td>\n",
       "      <td>NaN</td>\n",
       "      <td>NaN</td>\n",
       "      <td>NaN</td>\n",
       "      <td>NaN</td>\n",
       "      <td>NaN</td>\n",
       "      <td>NaN</td>\n",
       "      <td>NaN</td>\n",
       "      <td>NaN</td>\n",
       "    </tr>\n",
       "    <tr>\n",
       "      <th>-Tebo-</th>\n",
       "      <td>5.221730</td>\n",
       "      <td>3.583254</td>\n",
       "      <td>3.915976</td>\n",
       "      <td>3.042808</td>\n",
       "      <td>5.207228</td>\n",
       "      <td>4.899665</td>\n",
       "      <td>5.370992</td>\n",
       "      <td>4.391723</td>\n",
       "      <td>5.008284</td>\n",
       "      <td>5.030982</td>\n",
       "      <td>...</td>\n",
       "      <td>NaN</td>\n",
       "      <td>NaN</td>\n",
       "      <td>NaN</td>\n",
       "      <td>NaN</td>\n",
       "      <td>NaN</td>\n",
       "      <td>NaN</td>\n",
       "      <td>NaN</td>\n",
       "      <td>NaN</td>\n",
       "      <td>NaN</td>\n",
       "      <td>NaN</td>\n",
       "    </tr>\n",
       "    <tr>\n",
       "      <th>...</th>\n",
       "      <td>...</td>\n",
       "      <td>...</td>\n",
       "      <td>...</td>\n",
       "      <td>...</td>\n",
       "      <td>...</td>\n",
       "      <td>...</td>\n",
       "      <td>...</td>\n",
       "      <td>...</td>\n",
       "      <td>...</td>\n",
       "      <td>...</td>\n",
       "      <td>...</td>\n",
       "      <td>...</td>\n",
       "      <td>...</td>\n",
       "      <td>...</td>\n",
       "      <td>...</td>\n",
       "      <td>...</td>\n",
       "      <td>...</td>\n",
       "      <td>...</td>\n",
       "      <td>...</td>\n",
       "      <td>...</td>\n",
       "      <td>...</td>\n",
       "    </tr>\n",
       "    <tr>\n",
       "      <th>oliverq</th>\n",
       "      <td>NaN</td>\n",
       "      <td>NaN</td>\n",
       "      <td>NaN</td>\n",
       "      <td>NaN</td>\n",
       "      <td>NaN</td>\n",
       "      <td>NaN</td>\n",
       "      <td>NaN</td>\n",
       "      <td>NaN</td>\n",
       "      <td>NaN</td>\n",
       "      <td>NaN</td>\n",
       "      <td>...</td>\n",
       "      <td>NaN</td>\n",
       "      <td>NaN</td>\n",
       "      <td>NaN</td>\n",
       "      <td>NaN</td>\n",
       "      <td>NaN</td>\n",
       "      <td>NaN</td>\n",
       "      <td>NaN</td>\n",
       "      <td>NaN</td>\n",
       "      <td>NaN</td>\n",
       "      <td>NaN</td>\n",
       "    </tr>\n",
       "    <tr>\n",
       "      <th>TheFunk</th>\n",
       "      <td>NaN</td>\n",
       "      <td>NaN</td>\n",
       "      <td>NaN</td>\n",
       "      <td>NaN</td>\n",
       "      <td>NaN</td>\n",
       "      <td>4.256847</td>\n",
       "      <td>NaN</td>\n",
       "      <td>NaN</td>\n",
       "      <td>NaN</td>\n",
       "      <td>NaN</td>\n",
       "      <td>...</td>\n",
       "      <td>NaN</td>\n",
       "      <td>NaN</td>\n",
       "      <td>NaN</td>\n",
       "      <td>NaN</td>\n",
       "      <td>NaN</td>\n",
       "      <td>NaN</td>\n",
       "      <td>NaN</td>\n",
       "      <td>NaN</td>\n",
       "      <td>NaN</td>\n",
       "      <td>NaN</td>\n",
       "    </tr>\n",
       "    <tr>\n",
       "      <th>Herarudo</th>\n",
       "      <td>NaN</td>\n",
       "      <td>NaN</td>\n",
       "      <td>NaN</td>\n",
       "      <td>NaN</td>\n",
       "      <td>NaN</td>\n",
       "      <td>NaN</td>\n",
       "      <td>5.109978</td>\n",
       "      <td>NaN</td>\n",
       "      <td>NaN</td>\n",
       "      <td>NaN</td>\n",
       "      <td>...</td>\n",
       "      <td>NaN</td>\n",
       "      <td>NaN</td>\n",
       "      <td>NaN</td>\n",
       "      <td>NaN</td>\n",
       "      <td>NaN</td>\n",
       "      <td>NaN</td>\n",
       "      <td>NaN</td>\n",
       "      <td>NaN</td>\n",
       "      <td>NaN</td>\n",
       "      <td>NaN</td>\n",
       "    </tr>\n",
       "    <tr>\n",
       "      <th>[Antonio]</th>\n",
       "      <td>NaN</td>\n",
       "      <td>NaN</td>\n",
       "      <td>NaN</td>\n",
       "      <td>NaN</td>\n",
       "      <td>NaN</td>\n",
       "      <td>NaN</td>\n",
       "      <td>NaN</td>\n",
       "      <td>NaN</td>\n",
       "      <td>3.711016</td>\n",
       "      <td>NaN</td>\n",
       "      <td>...</td>\n",
       "      <td>NaN</td>\n",
       "      <td>NaN</td>\n",
       "      <td>NaN</td>\n",
       "      <td>NaN</td>\n",
       "      <td>NaN</td>\n",
       "      <td>NaN</td>\n",
       "      <td>NaN</td>\n",
       "      <td>NaN</td>\n",
       "      <td>NaN</td>\n",
       "      <td>NaN</td>\n",
       "    </tr>\n",
       "    <tr>\n",
       "      <th>NotXbxx</th>\n",
       "      <td>NaN</td>\n",
       "      <td>NaN</td>\n",
       "      <td>NaN</td>\n",
       "      <td>NaN</td>\n",
       "      <td>NaN</td>\n",
       "      <td>NaN</td>\n",
       "      <td>NaN</td>\n",
       "      <td>NaN</td>\n",
       "      <td>NaN</td>\n",
       "      <td>NaN</td>\n",
       "      <td>...</td>\n",
       "      <td>NaN</td>\n",
       "      <td>NaN</td>\n",
       "      <td>NaN</td>\n",
       "      <td>NaN</td>\n",
       "      <td>NaN</td>\n",
       "      <td>NaN</td>\n",
       "      <td>NaN</td>\n",
       "      <td>NaN</td>\n",
       "      <td>NaN</td>\n",
       "      <td>NaN</td>\n",
       "    </tr>\n",
       "  </tbody>\n",
       "</table>\n",
       "<p>200 rows × 73 columns</p>\n",
       "</div>"
      ],
      "text/plain": [
       "                  Q_RC_1    Q_RC_2    Q_LN_1    Q_HB_1  RO32_RC_1  RO32_RC_4  \\\n",
       "drag_           3.922366  2.913464  3.310021       NaN        NaN        NaN   \n",
       "JPBenedictGame  4.792686  3.630805  3.143908  3.262931        NaN        NaN   \n",
       "iVALORUS        2.952871  2.364221  1.976354  2.624503        NaN        NaN   \n",
       "BL5             5.119073  2.868556  3.635748  3.548144   3.984893   3.215893   \n",
       "-Tebo-          5.221730  3.583254  3.915976  3.042808   5.207228   4.899665   \n",
       "...                  ...       ...       ...       ...        ...        ...   \n",
       "oliverq              NaN       NaN       NaN       NaN        NaN        NaN   \n",
       "TheFunk              NaN       NaN       NaN       NaN        NaN   4.256847   \n",
       "Herarudo             NaN       NaN       NaN       NaN        NaN        NaN   \n",
       "[Antonio]            NaN       NaN       NaN       NaN        NaN        NaN   \n",
       "NotXbxx              NaN       NaN       NaN       NaN        NaN        NaN   \n",
       "\n",
       "                RO32_RC_5  RO32_LN_3  RO32_HB_1  RO16_RC_1  ...  GF_RC_7  \\\n",
       "drag_                 NaN        NaN        NaN        NaN  ...      NaN   \n",
       "JPBenedictGame        NaN        NaN        NaN        NaN  ...      NaN   \n",
       "iVALORUS              NaN        NaN        NaN        NaN  ...      NaN   \n",
       "BL5              4.803535   4.269779        NaN        NaN  ...      NaN   \n",
       "-Tebo-           5.370992   4.391723   5.008284   5.030982  ...      NaN   \n",
       "...                   ...        ...        ...        ...  ...      ...   \n",
       "oliverq               NaN        NaN        NaN        NaN  ...      NaN   \n",
       "TheFunk               NaN        NaN        NaN        NaN  ...      NaN   \n",
       "Herarudo         5.109978        NaN        NaN        NaN  ...      NaN   \n",
       "[Antonio]             NaN        NaN   3.711016        NaN  ...      NaN   \n",
       "NotXbxx               NaN        NaN        NaN        NaN  ...      NaN   \n",
       "\n",
       "                GF_LN_2  GF_LN_3  GF_LN_4  GF_HB_1  GF_HB_2  GF_HB_3  SF_RC_2  \\\n",
       "drag_               NaN      NaN      NaN      NaN      NaN      NaN      NaN   \n",
       "JPBenedictGame      NaN      NaN      NaN      NaN      NaN      NaN      NaN   \n",
       "iVALORUS            NaN      NaN      NaN      NaN      NaN      NaN      NaN   \n",
       "BL5                 NaN      NaN      NaN      NaN      NaN      NaN      NaN   \n",
       "-Tebo-              NaN      NaN      NaN      NaN      NaN      NaN      NaN   \n",
       "...                 ...      ...      ...      ...      ...      ...      ...   \n",
       "oliverq             NaN      NaN      NaN      NaN      NaN      NaN      NaN   \n",
       "TheFunk             NaN      NaN      NaN      NaN      NaN      NaN      NaN   \n",
       "Herarudo            NaN      NaN      NaN      NaN      NaN      NaN      NaN   \n",
       "[Antonio]           NaN      NaN      NaN      NaN      NaN      NaN      NaN   \n",
       "NotXbxx             NaN      NaN      NaN      NaN      NaN      NaN      NaN   \n",
       "\n",
       "                SF_HB_3  GF_RC_3  \n",
       "drag_               NaN      NaN  \n",
       "JPBenedictGame      NaN      NaN  \n",
       "iVALORUS            NaN      NaN  \n",
       "BL5                 NaN      NaN  \n",
       "-Tebo-              NaN      NaN  \n",
       "...                 ...      ...  \n",
       "oliverq             NaN      NaN  \n",
       "TheFunk             NaN      NaN  \n",
       "Herarudo            NaN      NaN  \n",
       "[Antonio]           NaN      NaN  \n",
       "NotXbxx             NaN      NaN  \n",
       "\n",
       "[200 rows x 73 columns]"
      ]
     },
     "execution_count": 8,
     "metadata": {},
     "output_type": "execute_result"
    }
   ],
   "source": [
    "player_table"
   ]
  },
  {
   "cell_type": "code",
   "execution_count": 9,
   "metadata": {},
   "outputs": [],
   "source": [
    "model = BoxCoxParametricAveragePercent()\n",
    "\n",
    "model.fit(player_table.values)"
   ]
  },
  {
   "cell_type": "code",
   "execution_count": 10,
   "metadata": {},
   "outputs": [],
   "source": [
    "df = pd.DataFrame(index=player_table.index)\n",
    "\n",
    "df['outlier_values'] = model.predict(player_table.values)"
   ]
  },
  {
   "cell_type": "code",
   "execution_count": 11,
   "metadata": {},
   "outputs": [
    {
     "data": {
      "text/html": [
       "<div>\n",
       "<style scoped>\n",
       "    .dataframe tbody tr th:only-of-type {\n",
       "        vertical-align: middle;\n",
       "    }\n",
       "\n",
       "    .dataframe tbody tr th {\n",
       "        vertical-align: top;\n",
       "    }\n",
       "\n",
       "    .dataframe thead th {\n",
       "        text-align: right;\n",
       "    }\n",
       "</style>\n",
       "<table border=\"1\" class=\"dataframe\">\n",
       "  <thead>\n",
       "    <tr style=\"text-align: right;\">\n",
       "      <th></th>\n",
       "      <th>outlier_values</th>\n",
       "    </tr>\n",
       "  </thead>\n",
       "  <tbody>\n",
       "    <tr>\n",
       "      <th>NotXbxx</th>\n",
       "      <td>0.938812</td>\n",
       "    </tr>\n",
       "    <tr>\n",
       "      <th>Paturages</th>\n",
       "      <td>0.808961</td>\n",
       "    </tr>\n",
       "    <tr>\n",
       "      <th>Micleak</th>\n",
       "      <td>0.802119</td>\n",
       "    </tr>\n",
       "    <tr>\n",
       "      <th>NifloX_</th>\n",
       "      <td>0.795386</td>\n",
       "    </tr>\n",
       "    <tr>\n",
       "      <th>Ricizus</th>\n",
       "      <td>0.779673</td>\n",
       "    </tr>\n",
       "    <tr>\n",
       "      <th>shokoha</th>\n",
       "      <td>0.754505</td>\n",
       "    </tr>\n",
       "    <tr>\n",
       "      <th>JayLye</th>\n",
       "      <td>0.739499</td>\n",
       "    </tr>\n",
       "    <tr>\n",
       "      <th>XN_The_XD</th>\n",
       "      <td>0.720398</td>\n",
       "    </tr>\n",
       "    <tr>\n",
       "      <th>Gray Hardrock</th>\n",
       "      <td>0.718346</td>\n",
       "    </tr>\n",
       "    <tr>\n",
       "      <th>Pluty</th>\n",
       "      <td>0.713545</td>\n",
       "    </tr>\n",
       "    <tr>\n",
       "      <th>NightNarumi</th>\n",
       "      <td>0.711535</td>\n",
       "    </tr>\n",
       "    <tr>\n",
       "      <th>HD_AdreNaline</th>\n",
       "      <td>0.697125</td>\n",
       "    </tr>\n",
       "    <tr>\n",
       "      <th>MisteurFR</th>\n",
       "      <td>0.691559</td>\n",
       "    </tr>\n",
       "    <tr>\n",
       "      <th>Lazereed</th>\n",
       "      <td>0.688086</td>\n",
       "    </tr>\n",
       "    <tr>\n",
       "      <th>samuelhklumpers</th>\n",
       "      <td>0.684477</td>\n",
       "    </tr>\n",
       "    <tr>\n",
       "      <th>diamondBIaze</th>\n",
       "      <td>0.684022</td>\n",
       "    </tr>\n",
       "  </tbody>\n",
       "</table>\n",
       "</div>"
      ],
      "text/plain": [
       "                 outlier_values\n",
       "NotXbxx                0.938812\n",
       "Paturages              0.808961\n",
       "Micleak                0.802119\n",
       "NifloX_                0.795386\n",
       "Ricizus                0.779673\n",
       "shokoha                0.754505\n",
       "JayLye                 0.739499\n",
       "XN_The_XD              0.720398\n",
       "Gray Hardrock          0.718346\n",
       "Pluty                  0.713545\n",
       "NightNarumi            0.711535\n",
       "HD_AdreNaline          0.697125\n",
       "MisteurFR              0.691559\n",
       "Lazereed               0.688086\n",
       "samuelhklumpers        0.684477\n",
       "diamondBIaze           0.684022"
      ]
     },
     "execution_count": 11,
     "metadata": {},
     "output_type": "execute_result"
    }
   ],
   "source": [
    "df.sort_values(by='outlier_values', ascending=False).head(16)"
   ]
  },
  {
   "cell_type": "code",
   "execution_count": 12,
   "metadata": {},
   "outputs": [],
   "source": [
    "df['n_maps_played'] = np.sum(pd.notna(player_table.values), axis=1)"
   ]
  },
  {
   "cell_type": "code",
   "execution_count": 13,
   "metadata": {},
   "outputs": [
    {
     "data": {
      "text/html": [
       "<div>\n",
       "<style scoped>\n",
       "    .dataframe tbody tr th:only-of-type {\n",
       "        vertical-align: middle;\n",
       "    }\n",
       "\n",
       "    .dataframe tbody tr th {\n",
       "        vertical-align: top;\n",
       "    }\n",
       "\n",
       "    .dataframe thead th {\n",
       "        text-align: right;\n",
       "    }\n",
       "</style>\n",
       "<table border=\"1\" class=\"dataframe\">\n",
       "  <thead>\n",
       "    <tr style=\"text-align: right;\">\n",
       "      <th></th>\n",
       "      <th>outlier_values</th>\n",
       "      <th>n_maps_played</th>\n",
       "    </tr>\n",
       "  </thead>\n",
       "  <tbody>\n",
       "    <tr>\n",
       "      <th>drag_</th>\n",
       "      <td>0.210072</td>\n",
       "      <td>3</td>\n",
       "    </tr>\n",
       "    <tr>\n",
       "      <th>JPBenedictGame</th>\n",
       "      <td>0.369865</td>\n",
       "      <td>4</td>\n",
       "    </tr>\n",
       "    <tr>\n",
       "      <th>iVALORUS</th>\n",
       "      <td>0.043815</td>\n",
       "      <td>4</td>\n",
       "    </tr>\n",
       "    <tr>\n",
       "      <th>BL5</th>\n",
       "      <td>0.336032</td>\n",
       "      <td>8</td>\n",
       "    </tr>\n",
       "    <tr>\n",
       "      <th>-Tebo-</th>\n",
       "      <td>0.542988</td>\n",
       "      <td>17</td>\n",
       "    </tr>\n",
       "    <tr>\n",
       "      <th>...</th>\n",
       "      <td>...</td>\n",
       "      <td>...</td>\n",
       "    </tr>\n",
       "    <tr>\n",
       "      <th>oliverq</th>\n",
       "      <td>0.248482</td>\n",
       "      <td>7</td>\n",
       "    </tr>\n",
       "    <tr>\n",
       "      <th>TheFunk</th>\n",
       "      <td>0.365996</td>\n",
       "      <td>2</td>\n",
       "    </tr>\n",
       "    <tr>\n",
       "      <th>Herarudo</th>\n",
       "      <td>0.303336</td>\n",
       "      <td>2</td>\n",
       "    </tr>\n",
       "    <tr>\n",
       "      <th>[Antonio]</th>\n",
       "      <td>0.076878</td>\n",
       "      <td>2</td>\n",
       "    </tr>\n",
       "    <tr>\n",
       "      <th>NotXbxx</th>\n",
       "      <td>0.938812</td>\n",
       "      <td>2</td>\n",
       "    </tr>\n",
       "  </tbody>\n",
       "</table>\n",
       "<p>200 rows × 2 columns</p>\n",
       "</div>"
      ],
      "text/plain": [
       "                outlier_values  n_maps_played\n",
       "drag_                 0.210072              3\n",
       "JPBenedictGame        0.369865              4\n",
       "iVALORUS              0.043815              4\n",
       "BL5                   0.336032              8\n",
       "-Tebo-                0.542988             17\n",
       "...                        ...            ...\n",
       "oliverq               0.248482              7\n",
       "TheFunk               0.365996              2\n",
       "Herarudo              0.303336              2\n",
       "[Antonio]             0.076878              2\n",
       "NotXbxx               0.938812              2\n",
       "\n",
       "[200 rows x 2 columns]"
      ]
     },
     "execution_count": 13,
     "metadata": {},
     "output_type": "execute_result"
    }
   ],
   "source": [
    "df"
   ]
  },
  {
   "cell_type": "code",
   "execution_count": 14,
   "metadata": {},
   "outputs": [],
   "source": [
    "df['adjusted_ol_values'] = df['outlier_values'] * np.log(df['n_maps_played'] + 1)"
   ]
  },
  {
   "cell_type": "code",
   "execution_count": 15,
   "metadata": {},
   "outputs": [
    {
     "data": {
      "text/html": [
       "<div>\n",
       "<style scoped>\n",
       "    .dataframe tbody tr th:only-of-type {\n",
       "        vertical-align: middle;\n",
       "    }\n",
       "\n",
       "    .dataframe tbody tr th {\n",
       "        vertical-align: top;\n",
       "    }\n",
       "\n",
       "    .dataframe thead th {\n",
       "        text-align: right;\n",
       "    }\n",
       "</style>\n",
       "<table border=\"1\" class=\"dataframe\">\n",
       "  <thead>\n",
       "    <tr style=\"text-align: right;\">\n",
       "      <th></th>\n",
       "      <th>outlier_values</th>\n",
       "      <th>n_maps_played</th>\n",
       "      <th>adjusted_ol_values</th>\n",
       "    </tr>\n",
       "  </thead>\n",
       "  <tbody>\n",
       "    <tr>\n",
       "      <th>shokoha</th>\n",
       "      <td>0.754505</td>\n",
       "      <td>50</td>\n",
       "      <td>2.966581</td>\n",
       "    </tr>\n",
       "    <tr>\n",
       "      <th>Micleak</th>\n",
       "      <td>0.802119</td>\n",
       "      <td>31</td>\n",
       "      <td>2.779934</td>\n",
       "    </tr>\n",
       "    <tr>\n",
       "      <th>Gray Hardrock</th>\n",
       "      <td>0.718346</td>\n",
       "      <td>45</td>\n",
       "      <td>2.750291</td>\n",
       "    </tr>\n",
       "    <tr>\n",
       "      <th>Lazereed</th>\n",
       "      <td>0.688086</td>\n",
       "      <td>41</td>\n",
       "      <td>2.571839</td>\n",
       "    </tr>\n",
       "    <tr>\n",
       "      <th>Ricizus</th>\n",
       "      <td>0.779673</td>\n",
       "      <td>26</td>\n",
       "      <td>2.569676</td>\n",
       "    </tr>\n",
       "    <tr>\n",
       "      <th>[LS]Byte</th>\n",
       "      <td>0.651652</td>\n",
       "      <td>44</td>\n",
       "      <td>2.480619</td>\n",
       "    </tr>\n",
       "    <tr>\n",
       "      <th>henryalexbr</th>\n",
       "      <td>0.638299</td>\n",
       "      <td>45</td>\n",
       "      <td>2.443816</td>\n",
       "    </tr>\n",
       "    <tr>\n",
       "      <th>JayLye</th>\n",
       "      <td>0.739499</td>\n",
       "      <td>26</td>\n",
       "      <td>2.437267</td>\n",
       "    </tr>\n",
       "    <tr>\n",
       "      <th>Keskidi</th>\n",
       "      <td>0.642740</td>\n",
       "      <td>43</td>\n",
       "      <td>2.432250</td>\n",
       "    </tr>\n",
       "    <tr>\n",
       "      <th>MisteurFR</th>\n",
       "      <td>0.691559</td>\n",
       "      <td>31</td>\n",
       "      <td>2.396761</td>\n",
       "    </tr>\n",
       "    <tr>\n",
       "      <th>RaGe Radical</th>\n",
       "      <td>0.634030</td>\n",
       "      <td>40</td>\n",
       "      <td>2.354517</td>\n",
       "    </tr>\n",
       "    <tr>\n",
       "      <th>HD_AdreNaline</th>\n",
       "      <td>0.697125</td>\n",
       "      <td>25</td>\n",
       "      <td>2.271301</td>\n",
       "    </tr>\n",
       "    <tr>\n",
       "      <th>NifloX_</th>\n",
       "      <td>0.795386</td>\n",
       "      <td>16</td>\n",
       "      <td>2.253497</td>\n",
       "    </tr>\n",
       "    <tr>\n",
       "      <th>samuelhklumpers</th>\n",
       "      <td>0.684477</td>\n",
       "      <td>25</td>\n",
       "      <td>2.230092</td>\n",
       "    </tr>\n",
       "    <tr>\n",
       "      <th>MSKFA kemi</th>\n",
       "      <td>0.666654</td>\n",
       "      <td>27</td>\n",
       "      <td>2.221427</td>\n",
       "    </tr>\n",
       "  </tbody>\n",
       "</table>\n",
       "</div>"
      ],
      "text/plain": [
       "                 outlier_values  n_maps_played  adjusted_ol_values\n",
       "shokoha                0.754505             50            2.966581\n",
       "Micleak                0.802119             31            2.779934\n",
       "Gray Hardrock          0.718346             45            2.750291\n",
       "Lazereed               0.688086             41            2.571839\n",
       "Ricizus                0.779673             26            2.569676\n",
       "[LS]Byte               0.651652             44            2.480619\n",
       "henryalexbr            0.638299             45            2.443816\n",
       "JayLye                 0.739499             26            2.437267\n",
       "Keskidi                0.642740             43            2.432250\n",
       "MisteurFR              0.691559             31            2.396761\n",
       "RaGe Radical           0.634030             40            2.354517\n",
       "HD_AdreNaline          0.697125             25            2.271301\n",
       "NifloX_                0.795386             16            2.253497\n",
       "samuelhklumpers        0.684477             25            2.230092\n",
       "MSKFA kemi             0.666654             27            2.221427"
      ]
     },
     "execution_count": 15,
     "metadata": {},
     "output_type": "execute_result"
    }
   ],
   "source": [
    "df.sort_values(by='adjusted_ol_values', ascending=False).head(15)"
   ]
  },
  {
   "cell_type": "code",
   "execution_count": 16,
   "metadata": {},
   "outputs": [
    {
     "data": {
      "image/png": "[encoded data removed]",
      "text/plain": [
       "<Figure size 432x288 with 1 Axes>"
      ]
     },
     "metadata": {
      "needs_background": "light"
     },
     "output_type": "display_data"
    }
   ],
   "source": [
    "plt.hist(df['outlier_values'])\n",
    "plt.show()"
   ]
  },
  {
   "cell_type": "code",
   "execution_count": 17,
   "metadata": {},
   "outputs": [
    {
     "data": {
      "image/png": "[encoded data removed]",
      "text/plain": [
       "<Figure size 432x288 with 1 Axes>"
      ]
     },
     "metadata": {
      "needs_background": "light"
     },
     "output_type": "display_data"
    }
   ],
   "source": [
    "plt.hist(df['adjusted_ol_values'])\n",
    "plt.show()"
   ]
  }
 ],
 "metadata": {
  "kernelspec": {
   "display_name": "Python 3.10.4 64-bit",
   "language": "python",
   "name": "python3"
  },
  "language_info": {
   "codemirror_mode": {
    "name": "ipython",
    "version": 3
   },
   "file_extension": ".py",
   "mimetype": "text/x-python",
   "name": "python",
   "nbconvert_exporter": "python",
   "pygments_lexer": "ipython3",
   "version": "3.10.4"
  },
  "orig_nbformat": 4,
  "vscode": {
   "interpreter": {
    "hash": "a9cff5a362bc38ef45d817ae74b1af54d6a076e3d773891282bce078b815ba34"
   }
  }
 },
 "nbformat": 4,
 "nbformat_minor": 2
}
