{
 "cells": [
  {
   "cell_type": "markdown",
   "metadata": {},
   "source": [
    "# Survival Analysis of 4dm4 Data"
   ]
  },
  {
   "cell_type": "markdown",
   "metadata": {},
   "source": [
    "## Description\n",
    "\n",
    "This notebook is for the Survival Analysis of 4dm4 Data based on Qualifiers Scores of Each team"
   ]
  },
  {
   "cell_type": "markdown",
   "metadata": {},
   "source": [
    "## Initialization"
   ]
  },
  {
   "cell_type": "markdown",
   "metadata": {},
   "source": [
    "### Import the modules"
   ]
  },
  {
   "cell_type": "markdown",
   "metadata": {},
   "source": [
    "Before Importing the modules, we need to change the main directory first in order to obtain `utils` (or utility) module"
   ]
  },
  {
   "cell_type": "code",
   "execution_count": 1,
   "metadata": {},
   "outputs": [],
   "source": [
    "import os\n",
    "\n",
    "os.chdir(\"..\")"
   ]
  },
  {
   "cell_type": "markdown",
   "metadata": {},
   "source": [
    "Then we import `matplotlib` and `pandas` for Data Visualization and Manipulation. `lifelines` for Survival Analysis models. `utils.Dataset` and `utils.get_table` for dealing with our SQLite3 `.db`"
   ]
  },
  {
   "cell_type": "code",
   "execution_count": 2,
   "metadata": {},
   "outputs": [],
   "source": [
    "import matplotlib.pyplot as plt\n",
    "import pandas as pd\n",
    "from utils import Dataset\n",
    "from lifelines import KaplanMeierFitter, CoxPHFitter\n",
    "from utils import get_table"
   ]
  },
  {
   "cell_type": "markdown",
   "metadata": {},
   "source": [
    "### Defining Table Names\n",
    "\n",
    "In this study, we will use `team_data` and `team_scores` table"
   ]
  },
  {
   "cell_type": "code",
   "execution_count": 3,
   "metadata": {},
   "outputs": [],
   "source": [
    "TEAM_DATA = 'team_data'\n",
    "TEAM_SCORES = 'team_scores'"
   ]
  },
  {
   "cell_type": "markdown",
   "metadata": {},
   "source": [
    "## Importing Dataset\n",
    "\n",
    "We use the downloaded data `4dm4.db` for this study, which is the spreadsheet data transformed into `sqlite Database` "
   ]
  },
  {
   "cell_type": "code",
   "execution_count": 4,
   "metadata": {},
   "outputs": [],
   "source": [
    "_4dm3_teams = Dataset('datasets/4dm3.db')"
   ]
  },
  {
   "cell_type": "markdown",
   "metadata": {},
   "source": [
    "### Querying the Data\n",
    "\n",
    "for Qualifiers Scores, we query the qualifiers score where the following teams are qualified from Qualification Procedure\n",
    "\n",
    "for Survival Round, we query the last_rdint where the following teams are qualified from Qualification Procedure"
   ]
  },
  {
   "cell_type": "code",
   "execution_count": 5,
   "metadata": {},
   "outputs": [],
   "source": [
    "# Qualifiers Score\n",
    "_4dm3_teams_qualifier_score = _4dm3_teams.query(\"\"\"\n",
    "select team_scores.country_name, team_scores.round, team_scores.beatmap_type, team_scores.beatmap_tag, team_scores.score_logit \n",
    "from team_scores left join team_data on team_scores.country_name = team_data.country_name \n",
    "where round=\"Q\" and team_data.last_round != \"Q\"\n",
    "\"\"\")\n",
    "# Survive\n",
    "_4dm3_teams_round_survive = _4dm3_teams.select(TEAM_DATA, ['country_name', 'last_rdint'], {'last_round': \"!= \\\"Q\\\"\"})"
   ]
  },
  {
   "cell_type": "code",
   "execution_count": 6,
   "metadata": {},
   "outputs": [
    {
     "data": {
      "text/html": [
       "<div>\n",
       "<style scoped>\n",
       "    .dataframe tbody tr th:only-of-type {\n",
       "        vertical-align: middle;\n",
       "    }\n",
       "\n",
       "    .dataframe tbody tr th {\n",
       "        vertical-align: top;\n",
       "    }\n",
       "\n",
       "    .dataframe thead th {\n",
       "        text-align: right;\n",
       "    }\n",
       "</style>\n",
       "<table border=\"1\" class=\"dataframe\">\n",
       "  <thead>\n",
       "    <tr style=\"text-align: right;\">\n",
       "      <th></th>\n",
       "      <th>country_name</th>\n",
       "      <th>round</th>\n",
       "      <th>beatmap_type</th>\n",
       "      <th>beatmap_tag</th>\n",
       "      <th>score_logit</th>\n",
       "    </tr>\n",
       "  </thead>\n",
       "  <tbody>\n",
       "    <tr>\n",
       "      <th>0</th>\n",
       "      <td>Argentina</td>\n",
       "      <td>Q</td>\n",
       "      <td>HB</td>\n",
       "      <td>1</td>\n",
       "      <td>3.576483</td>\n",
       "    </tr>\n",
       "    <tr>\n",
       "      <th>1</th>\n",
       "      <td>Argentina</td>\n",
       "      <td>Q</td>\n",
       "      <td>LN</td>\n",
       "      <td>1</td>\n",
       "      <td>3.000425</td>\n",
       "    </tr>\n",
       "    <tr>\n",
       "      <th>2</th>\n",
       "      <td>Argentina</td>\n",
       "      <td>Q</td>\n",
       "      <td>RC</td>\n",
       "      <td>1</td>\n",
       "      <td>4.819148</td>\n",
       "    </tr>\n",
       "    <tr>\n",
       "      <th>3</th>\n",
       "      <td>Argentina</td>\n",
       "      <td>Q</td>\n",
       "      <td>RC</td>\n",
       "      <td>2</td>\n",
       "      <td>3.537350</td>\n",
       "    </tr>\n",
       "    <tr>\n",
       "      <th>4</th>\n",
       "      <td>Argentina</td>\n",
       "      <td>Q</td>\n",
       "      <td>SV</td>\n",
       "      <td>1</td>\n",
       "      <td>3.619150</td>\n",
       "    </tr>\n",
       "  </tbody>\n",
       "</table>\n",
       "</div>"
      ],
      "text/plain": [
       "  country_name round beatmap_type beatmap_tag  score_logit\n",
       "0    Argentina     Q           HB           1     3.576483\n",
       "1    Argentina     Q           LN           1     3.000425\n",
       "2    Argentina     Q           RC           1     4.819148\n",
       "3    Argentina     Q           RC           2     3.537350\n",
       "4    Argentina     Q           SV           1     3.619150"
      ]
     },
     "execution_count": 6,
     "metadata": {},
     "output_type": "execute_result"
    }
   ],
   "source": [
    "_4dm3_teams_qualifier_score.head()"
   ]
  },
  {
   "cell_type": "code",
   "execution_count": 7,
   "metadata": {},
   "outputs": [
    {
     "data": {
      "text/html": [
       "<div>\n",
       "<style scoped>\n",
       "    .dataframe tbody tr th:only-of-type {\n",
       "        vertical-align: middle;\n",
       "    }\n",
       "\n",
       "    .dataframe tbody tr th {\n",
       "        vertical-align: top;\n",
       "    }\n",
       "\n",
       "    .dataframe thead th {\n",
       "        text-align: right;\n",
       "    }\n",
       "</style>\n",
       "<table border=\"1\" class=\"dataframe\">\n",
       "  <thead>\n",
       "    <tr style=\"text-align: right;\">\n",
       "      <th></th>\n",
       "      <th>country_name</th>\n",
       "      <th>last_rdint</th>\n",
       "    </tr>\n",
       "  </thead>\n",
       "  <tbody>\n",
       "    <tr>\n",
       "      <th>0</th>\n",
       "      <td>Argentina</td>\n",
       "      <td>1</td>\n",
       "    </tr>\n",
       "    <tr>\n",
       "      <th>1</th>\n",
       "      <td>Australia</td>\n",
       "      <td>1</td>\n",
       "    </tr>\n",
       "    <tr>\n",
       "      <th>2</th>\n",
       "      <td>Belgium</td>\n",
       "      <td>3</td>\n",
       "    </tr>\n",
       "    <tr>\n",
       "      <th>3</th>\n",
       "      <td>Brazil</td>\n",
       "      <td>6</td>\n",
       "    </tr>\n",
       "    <tr>\n",
       "      <th>4</th>\n",
       "      <td>Canada</td>\n",
       "      <td>1</td>\n",
       "    </tr>\n",
       "  </tbody>\n",
       "</table>\n",
       "</div>"
      ],
      "text/plain": [
       "  country_name  last_rdint\n",
       "0    Argentina           1\n",
       "1    Australia           1\n",
       "2      Belgium           3\n",
       "3       Brazil           6\n",
       "4       Canada           1"
      ]
     },
     "execution_count": 7,
     "metadata": {},
     "output_type": "execute_result"
    }
   ],
   "source": [
    "_4dm3_teams_round_survive.head()"
   ]
  },
  {
   "cell_type": "markdown",
   "metadata": {},
   "source": [
    "### Defining Functions to Translate Data"
   ]
  },
  {
   "cell_type": "markdown",
   "metadata": {},
   "source": [
    "- `die` ~~idk what am i thinking when trying to name a function~~ is a function to tell whether the team is Eliminated. All teams are Eliminated (1) except `Philippines` (4dm3 Champion) so we will mark them as `Censored` which is 0"
   ]
  },
  {
   "cell_type": "code",
   "execution_count": 8,
   "metadata": {},
   "outputs": [],
   "source": [
    "def die(country):\n",
    "    if country == \"Philippines\":\n",
    "        return 0\n",
    "    return 1"
   ]
  },
  {
   "cell_type": "markdown",
   "metadata": {},
   "source": [
    "### Translate Data"
   ]
  },
  {
   "cell_type": "markdown",
   "metadata": {},
   "source": [
    "In this procedure, we transform the Qualifiers Scores into a table which has the `time` and `status` and other parameters by the module and translate the Survival Data using the function defined above."
   ]
  },
  {
   "cell_type": "code",
   "execution_count": 9,
   "metadata": {},
   "outputs": [],
   "source": [
    "# translate qualifiers data into tables\n",
    "\n",
    "_4dm3_teams_qualifiers_table = get_table(_4dm3_teams_qualifier_score)\n",
    "\n",
    "# Translate the survival data\n",
    "\n",
    "_4dm3_teams_round_survive.index = _4dm3_teams_round_survive['country_name']\n",
    "_4dm3_teams_round_survive['time'] = _4dm3_teams_round_survive['last_rdint']\n",
    "_4dm3_teams_round_survive['status'] = _4dm3_teams_round_survive['country_name'].apply(die)"
   ]
  },
  {
   "cell_type": "code",
   "execution_count": 10,
   "metadata": {},
   "outputs": [
    {
     "data": {
      "text/html": [
       "<div>\n",
       "<style scoped>\n",
       "    .dataframe tbody tr th:only-of-type {\n",
       "        vertical-align: middle;\n",
       "    }\n",
       "\n",
       "    .dataframe tbody tr th {\n",
       "        vertical-align: top;\n",
       "    }\n",
       "\n",
       "    .dataframe thead th {\n",
       "        text-align: right;\n",
       "    }\n",
       "</style>\n",
       "<table border=\"1\" class=\"dataframe\">\n",
       "  <thead>\n",
       "    <tr style=\"text-align: right;\">\n",
       "      <th></th>\n",
       "      <th>Q_HB_1</th>\n",
       "      <th>Q_LN_1</th>\n",
       "      <th>Q_RC_1</th>\n",
       "      <th>Q_RC_2</th>\n",
       "      <th>Q_SV_1</th>\n",
       "    </tr>\n",
       "  </thead>\n",
       "  <tbody>\n",
       "    <tr>\n",
       "      <th>Argentina</th>\n",
       "      <td>3.576483</td>\n",
       "      <td>3.000425</td>\n",
       "      <td>4.819148</td>\n",
       "      <td>3.537350</td>\n",
       "      <td>3.619150</td>\n",
       "    </tr>\n",
       "    <tr>\n",
       "      <th>Australia</th>\n",
       "      <td>3.670724</td>\n",
       "      <td>3.116724</td>\n",
       "      <td>5.046926</td>\n",
       "      <td>3.936525</td>\n",
       "      <td>3.539281</td>\n",
       "    </tr>\n",
       "    <tr>\n",
       "      <th>Belgium</th>\n",
       "      <td>3.731808</td>\n",
       "      <td>3.405876</td>\n",
       "      <td>5.198285</td>\n",
       "      <td>3.866169</td>\n",
       "      <td>4.266866</td>\n",
       "    </tr>\n",
       "    <tr>\n",
       "      <th>Brazil</th>\n",
       "      <td>4.713861</td>\n",
       "      <td>4.415284</td>\n",
       "      <td>6.126861</td>\n",
       "      <td>4.618139</td>\n",
       "      <td>4.791950</td>\n",
       "    </tr>\n",
       "    <tr>\n",
       "      <th>Canada</th>\n",
       "      <td>3.384376</td>\n",
       "      <td>2.859818</td>\n",
       "      <td>5.060566</td>\n",
       "      <td>3.086721</td>\n",
       "      <td>3.118974</td>\n",
       "    </tr>\n",
       "  </tbody>\n",
       "</table>\n",
       "</div>"
      ],
      "text/plain": [
       "             Q_HB_1    Q_LN_1    Q_RC_1    Q_RC_2    Q_SV_1\n",
       "Argentina  3.576483  3.000425  4.819148  3.537350  3.619150\n",
       "Australia  3.670724  3.116724  5.046926  3.936525  3.539281\n",
       "Belgium    3.731808  3.405876  5.198285  3.866169  4.266866\n",
       "Brazil     4.713861  4.415284  6.126861  4.618139  4.791950\n",
       "Canada     3.384376  2.859818  5.060566  3.086721  3.118974"
      ]
     },
     "execution_count": 10,
     "metadata": {},
     "output_type": "execute_result"
    }
   ],
   "source": [
    "_4dm3_teams_qualifiers_table.head()"
   ]
  },
  {
   "cell_type": "code",
   "execution_count": 11,
   "metadata": {},
   "outputs": [
    {
     "data": {
      "text/html": [
       "<div>\n",
       "<style scoped>\n",
       "    .dataframe tbody tr th:only-of-type {\n",
       "        vertical-align: middle;\n",
       "    }\n",
       "\n",
       "    .dataframe tbody tr th {\n",
       "        vertical-align: top;\n",
       "    }\n",
       "\n",
       "    .dataframe thead th {\n",
       "        text-align: right;\n",
       "    }\n",
       "</style>\n",
       "<table border=\"1\" class=\"dataframe\">\n",
       "  <thead>\n",
       "    <tr style=\"text-align: right;\">\n",
       "      <th></th>\n",
       "      <th>country_name</th>\n",
       "      <th>last_rdint</th>\n",
       "      <th>time</th>\n",
       "      <th>status</th>\n",
       "    </tr>\n",
       "    <tr>\n",
       "      <th>country_name</th>\n",
       "      <th></th>\n",
       "      <th></th>\n",
       "      <th></th>\n",
       "      <th></th>\n",
       "    </tr>\n",
       "  </thead>\n",
       "  <tbody>\n",
       "    <tr>\n",
       "      <th>Argentina</th>\n",
       "      <td>Argentina</td>\n",
       "      <td>1</td>\n",
       "      <td>1</td>\n",
       "      <td>1</td>\n",
       "    </tr>\n",
       "    <tr>\n",
       "      <th>Australia</th>\n",
       "      <td>Australia</td>\n",
       "      <td>1</td>\n",
       "      <td>1</td>\n",
       "      <td>1</td>\n",
       "    </tr>\n",
       "    <tr>\n",
       "      <th>Belgium</th>\n",
       "      <td>Belgium</td>\n",
       "      <td>3</td>\n",
       "      <td>3</td>\n",
       "      <td>1</td>\n",
       "    </tr>\n",
       "    <tr>\n",
       "      <th>Brazil</th>\n",
       "      <td>Brazil</td>\n",
       "      <td>6</td>\n",
       "      <td>6</td>\n",
       "      <td>1</td>\n",
       "    </tr>\n",
       "    <tr>\n",
       "      <th>Canada</th>\n",
       "      <td>Canada</td>\n",
       "      <td>1</td>\n",
       "      <td>1</td>\n",
       "      <td>1</td>\n",
       "    </tr>\n",
       "  </tbody>\n",
       "</table>\n",
       "</div>"
      ],
      "text/plain": [
       "             country_name  last_rdint  time  status\n",
       "country_name                                       \n",
       "Argentina       Argentina           1     1       1\n",
       "Australia       Australia           1     1       1\n",
       "Belgium           Belgium           3     3       1\n",
       "Brazil             Brazil           6     6       1\n",
       "Canada             Canada           1     1       1"
      ]
     },
     "execution_count": 11,
     "metadata": {},
     "output_type": "execute_result"
    }
   ],
   "source": [
    "_4dm3_teams_round_survive.head()"
   ]
  },
  {
   "cell_type": "markdown",
   "metadata": {},
   "source": [
    "## Exploratory Data Analysis"
   ]
  },
  {
   "cell_type": "markdown",
   "metadata": {},
   "source": [
    "### Survival Histogram\n",
    "\n",
    "We start by plotting the Survival Distribution of teams"
   ]
  },
  {
   "cell_type": "code",
   "execution_count": 12,
   "metadata": {},
   "outputs": [],
   "source": [
    "T = _4dm3_teams_round_survive['time']\n",
    "E = _4dm3_teams_round_survive['status']"
   ]
  },
  {
   "cell_type": "code",
   "execution_count": 13,
   "metadata": {},
   "outputs": [
    {
     "data": {
      "text/plain": [
       "(array([16.,  0.,  1.,  0.,  3.,  0.,  6.,  0.,  3.,  3.]),\n",
       " array([1. , 1.5, 2. , 2.5, 3. , 3.5, 4. , 4.5, 5. , 5.5, 6. ]),\n",
       " <BarContainer object of 10 artists>)"
      ]
     },
     "execution_count": 13,
     "metadata": {},
     "output_type": "execute_result"
    },
    {
     "data": {
      "image/png": "[encoded data removed]",
      "text/plain": [
       "<Figure size 432x288 with 1 Axes>"
      ]
     },
     "metadata": {
      "needs_background": "light"
     },
     "output_type": "display_data"
    }
   ],
   "source": [
    "plt.hist(T)"
   ]
  },
  {
   "cell_type": "markdown",
   "metadata": {},
   "source": [
    "### Kaplan-Meier Model\n",
    "\n",
    "This model tells the Discrete `Survival Probability` over `time` with some confidence interval as shown in this code."
   ]
  },
  {
   "cell_type": "code",
   "execution_count": 14,
   "metadata": {},
   "outputs": [
    {
     "data": {
      "text/plain": [
       "<AxesSubplot:xlabel='timeline'>"
      ]
     },
     "execution_count": 14,
     "metadata": {},
     "output_type": "execute_result"
    },
    {
     "data": {
      "image/png": "[encoded data removed]",
      "text/plain": [
       "<Figure size 432x288 with 1 Axes>"
      ]
     },
     "metadata": {
      "needs_background": "light"
     },
     "output_type": "display_data"
    }
   ],
   "source": [
    "kmf = KaplanMeierFitter()\n",
    "kmf.fit(durations = T, event_observed = E)\n",
    "kmf.plot_survival_function()"
   ]
  },
  {
   "cell_type": "markdown",
   "metadata": {},
   "source": [
    "Here, we use the model to plot the cumulative density. In other words, cumulative relative frequency of teams who are ~~dead~~ eliminated"
   ]
  },
  {
   "cell_type": "code",
   "execution_count": 15,
   "metadata": {},
   "outputs": [
    {
     "data": {
      "text/plain": [
       "<AxesSubplot:xlabel='timeline'>"
      ]
     },
     "execution_count": 15,
     "metadata": {},
     "output_type": "execute_result"
    },
    {
     "data": {
      "image/png": "[encoded data removed]",
      "text/plain": [
       "<Figure size 432x288 with 1 Axes>"
      ]
     },
     "metadata": {
      "needs_background": "light"
     },
     "output_type": "display_data"
    }
   ],
   "source": [
    "kmf.plot_cumulative_density()"
   ]
  },
  {
   "cell_type": "markdown",
   "metadata": {},
   "source": [
    "### Calculating Median Survival Times using Kaplan-Meier Model\n",
    "\n",
    "Median Survival Times is the middle value of the survival times, we calculate the median and confidence interval of them."
   ]
  },
  {
   "cell_type": "code",
   "execution_count": 16,
   "metadata": {},
   "outputs": [
    {
     "data": {
      "text/plain": [
       "1.0"
      ]
     },
     "execution_count": 16,
     "metadata": {},
     "output_type": "execute_result"
    }
   ],
   "source": [
    "from lifelines.utils import median_survival_times\n",
    "median_ = kmf.median_survival_time_\n",
    "median_confidence_interval_ = median_survival_times(kmf.confidence_interval_)\n",
    "\n",
    "median_"
   ]
  },
  {
   "cell_type": "code",
   "execution_count": 17,
   "metadata": {},
   "outputs": [
    {
     "data": {
      "text/html": [
       "<div>\n",
       "<style scoped>\n",
       "    .dataframe tbody tr th:only-of-type {\n",
       "        vertical-align: middle;\n",
       "    }\n",
       "\n",
       "    .dataframe tbody tr th {\n",
       "        vertical-align: top;\n",
       "    }\n",
       "\n",
       "    .dataframe thead th {\n",
       "        text-align: right;\n",
       "    }\n",
       "</style>\n",
       "<table border=\"1\" class=\"dataframe\">\n",
       "  <thead>\n",
       "    <tr style=\"text-align: right;\">\n",
       "      <th></th>\n",
       "      <th>KM_estimate_lower_0.95</th>\n",
       "      <th>KM_estimate_upper_0.95</th>\n",
       "    </tr>\n",
       "  </thead>\n",
       "  <tbody>\n",
       "    <tr>\n",
       "      <th>0.5</th>\n",
       "      <td>1.0</td>\n",
       "      <td>4.0</td>\n",
       "    </tr>\n",
       "  </tbody>\n",
       "</table>\n",
       "</div>"
      ],
      "text/plain": [
       "     KM_estimate_lower_0.95  KM_estimate_upper_0.95\n",
       "0.5                     1.0                     4.0"
      ]
     },
     "execution_count": 17,
     "metadata": {},
     "output_type": "execute_result"
    }
   ],
   "source": [
    "median_confidence_interval_"
   ]
  },
  {
   "cell_type": "markdown",
   "metadata": {},
   "source": [
    "## Data Preprocessing\n",
    "\n",
    "In this process, we only concatenate `Qualifiers Score` and `Survival Time` and `Status` together."
   ]
  },
  {
   "cell_type": "code",
   "execution_count": 18,
   "metadata": {},
   "outputs": [
    {
     "data": {
      "text/html": [
       "<div>\n",
       "<style scoped>\n",
       "    .dataframe tbody tr th:only-of-type {\n",
       "        vertical-align: middle;\n",
       "    }\n",
       "\n",
       "    .dataframe tbody tr th {\n",
       "        vertical-align: top;\n",
       "    }\n",
       "\n",
       "    .dataframe thead th {\n",
       "        text-align: right;\n",
       "    }\n",
       "</style>\n",
       "<table border=\"1\" class=\"dataframe\">\n",
       "  <thead>\n",
       "    <tr style=\"text-align: right;\">\n",
       "      <th></th>\n",
       "      <th>Q_HB_1</th>\n",
       "      <th>Q_LN_1</th>\n",
       "      <th>Q_RC_1</th>\n",
       "      <th>Q_RC_2</th>\n",
       "      <th>Q_SV_1</th>\n",
       "      <th>time</th>\n",
       "      <th>status</th>\n",
       "    </tr>\n",
       "  </thead>\n",
       "  <tbody>\n",
       "    <tr>\n",
       "      <th>Argentina</th>\n",
       "      <td>3.576483</td>\n",
       "      <td>3.000425</td>\n",
       "      <td>4.819148</td>\n",
       "      <td>3.537350</td>\n",
       "      <td>3.619150</td>\n",
       "      <td>1</td>\n",
       "      <td>1</td>\n",
       "    </tr>\n",
       "    <tr>\n",
       "      <th>Australia</th>\n",
       "      <td>3.670724</td>\n",
       "      <td>3.116724</td>\n",
       "      <td>5.046926</td>\n",
       "      <td>3.936525</td>\n",
       "      <td>3.539281</td>\n",
       "      <td>1</td>\n",
       "      <td>1</td>\n",
       "    </tr>\n",
       "    <tr>\n",
       "      <th>Belgium</th>\n",
       "      <td>3.731808</td>\n",
       "      <td>3.405876</td>\n",
       "      <td>5.198285</td>\n",
       "      <td>3.866169</td>\n",
       "      <td>4.266866</td>\n",
       "      <td>3</td>\n",
       "      <td>1</td>\n",
       "    </tr>\n",
       "    <tr>\n",
       "      <th>Brazil</th>\n",
       "      <td>4.713861</td>\n",
       "      <td>4.415284</td>\n",
       "      <td>6.126861</td>\n",
       "      <td>4.618139</td>\n",
       "      <td>4.791950</td>\n",
       "      <td>6</td>\n",
       "      <td>1</td>\n",
       "    </tr>\n",
       "    <tr>\n",
       "      <th>Canada</th>\n",
       "      <td>3.384376</td>\n",
       "      <td>2.859818</td>\n",
       "      <td>5.060566</td>\n",
       "      <td>3.086721</td>\n",
       "      <td>3.118974</td>\n",
       "      <td>1</td>\n",
       "      <td>1</td>\n",
       "    </tr>\n",
       "  </tbody>\n",
       "</table>\n",
       "</div>"
      ],
      "text/plain": [
       "             Q_HB_1    Q_LN_1    Q_RC_1    Q_RC_2    Q_SV_1  time  status\n",
       "Argentina  3.576483  3.000425  4.819148  3.537350  3.619150     1       1\n",
       "Australia  3.670724  3.116724  5.046926  3.936525  3.539281     1       1\n",
       "Belgium    3.731808  3.405876  5.198285  3.866169  4.266866     3       1\n",
       "Brazil     4.713861  4.415284  6.126861  4.618139  4.791950     6       1\n",
       "Canada     3.384376  2.859818  5.060566  3.086721  3.118974     1       1"
      ]
     },
     "execution_count": 18,
     "metadata": {},
     "output_type": "execute_result"
    }
   ],
   "source": [
    "data = _4dm3_teams_qualifiers_table\n",
    "\n",
    "data['time'] = _4dm3_teams_round_survive['time']\n",
    "data['status'] = _4dm3_teams_round_survive['status']\n",
    "\n",
    "data.head()"
   ]
  },
  {
   "cell_type": "markdown",
   "metadata": {},
   "source": [
    "## Survival Analysis Models\n",
    "\n"
   ]
  },
  {
   "cell_type": "markdown",
   "metadata": {},
   "source": [
    "### Cox-Proportional Hazard Model\n",
    "\n",
    "Cox-Proportional Hazard Model is used to find the odds ratio of the parameters, namely \"How the variable changes affect the survival chance\". This model is implemented by using non-parametric method with the exponential model and some complicated stuff under the assumption that the odds ratio is a constant. We use this model to observe how the changes in qualifiers scores of each stage affect the chance of being qualified. "
   ]
  },
  {
   "cell_type": "markdown",
   "metadata": {},
   "source": [
    "#### Model Fitting and Summary"
   ]
  },
  {
   "cell_type": "code",
   "execution_count": 19,
   "metadata": {},
   "outputs": [],
   "source": [
    "coxph = CoxPHFitter()"
   ]
  },
  {
   "cell_type": "code",
   "execution_count": 20,
   "metadata": {},
   "outputs": [
    {
     "data": {
      "text/plain": [
       "<lifelines.CoxPHFitter: fitted with 32 total observations, 1 right-censored observations>"
      ]
     },
     "execution_count": 20,
     "metadata": {},
     "output_type": "execute_result"
    }
   ],
   "source": [
    "coxph.fit(data, duration_col='time', event_col='status')"
   ]
  },
  {
   "cell_type": "code",
   "execution_count": 21,
   "metadata": {},
   "outputs": [
    {
     "name": "stderr",
     "output_type": "stream",
     "text": [
      "c:\\Users\\HP\\AppData\\Local\\Programs\\Python\\Python310\\lib\\site-packages\\lifelines\\utils\\printer.py:62: FutureWarning: In future versions `DataFrame.to_latex` is expected to utilise the base implementation of `Styler.to_latex` for formatting and rendering. The arguments signature may therefore change. It is recommended instead to use `DataFrame.style.to_latex` which also contains additional functionality.\n",
      "  return summary_df[columns].to_latex(float_format=\"%.\" + str(self.decimals) + \"f\")\n"
     ]
    },
    {
     "data": {
      "text/html": [
       "<div>\n",
       "<style scoped>\n",
       "    .dataframe tbody tr th:only-of-type {\n",
       "        vertical-align: middle;\n",
       "    }\n",
       "\n",
       "    .dataframe tbody tr th {\n",
       "        vertical-align: top;\n",
       "    }\n",
       "\n",
       "    .dataframe thead th {\n",
       "        text-align: right;\n",
       "    }\n",
       "</style>\n",
       "<table border=\"1\" class=\"dataframe\">\n",
       "  <tbody>\n",
       "    <tr>\n",
       "      <th>model</th>\n",
       "      <td>lifelines.CoxPHFitter</td>\n",
       "    </tr>\n",
       "    <tr>\n",
       "      <th>duration col</th>\n",
       "      <td>'time'</td>\n",
       "    </tr>\n",
       "    <tr>\n",
       "      <th>event col</th>\n",
       "      <td>'status'</td>\n",
       "    </tr>\n",
       "    <tr>\n",
       "      <th>baseline estimation</th>\n",
       "      <td>breslow</td>\n",
       "    </tr>\n",
       "    <tr>\n",
       "      <th>number of observations</th>\n",
       "      <td>32</td>\n",
       "    </tr>\n",
       "    <tr>\n",
       "      <th>number of events observed</th>\n",
       "      <td>31</td>\n",
       "    </tr>\n",
       "    <tr>\n",
       "      <th>partial log-likelihood</th>\n",
       "      <td>-67.858</td>\n",
       "    </tr>\n",
       "    <tr>\n",
       "      <th>time fit was run</th>\n",
       "      <td>2022-08-02 06:20:10 UTC</td>\n",
       "    </tr>\n",
       "  </tbody>\n",
       "</table>\n",
       "</div><table border=\"1\" class=\"dataframe\">\n",
       "  <thead>\n",
       "    <tr style=\"text-align: right;\">\n",
       "      <th style=\"min-width: 12px;\"></th>\n",
       "      <th style=\"min-width: 12px;\">coef</th>\n",
       "      <th style=\"min-width: 12px;\">exp(coef)</th>\n",
       "      <th style=\"min-width: 12px;\">se(coef)</th>\n",
       "      <th style=\"min-width: 12px;\">coef lower 95%</th>\n",
       "      <th style=\"min-width: 12px;\">coef upper 95%</th>\n",
       "      <th style=\"min-width: 12px;\">exp(coef) lower 95%</th>\n",
       "      <th style=\"min-width: 12px;\">exp(coef) upper 95%</th>\n",
       "      <th style=\"min-width: 12px;\">cmp to</th>\n",
       "      <th style=\"min-width: 12px;\">z</th>\n",
       "      <th style=\"min-width: 12px;\">p</th>\n",
       "      <th style=\"min-width: 12px;\">-log2(p)</th>\n",
       "    </tr>\n",
       "  </thead>\n",
       "  <tbody>\n",
       "    <tr>\n",
       "      <th>Q_HB_1</th>\n",
       "      <td>-0.072</td>\n",
       "      <td>0.930</td>\n",
       "      <td>1.213</td>\n",
       "      <td>-2.450</td>\n",
       "      <td>2.306</td>\n",
       "      <td>0.086</td>\n",
       "      <td>10.033</td>\n",
       "      <td>0.000</td>\n",
       "      <td>-0.059</td>\n",
       "      <td>0.953</td>\n",
       "      <td>0.070</td>\n",
       "    </tr>\n",
       "    <tr>\n",
       "      <th>Q_LN_1</th>\n",
       "      <td>-0.969</td>\n",
       "      <td>0.379</td>\n",
       "      <td>0.677</td>\n",
       "      <td>-2.297</td>\n",
       "      <td>0.359</td>\n",
       "      <td>0.101</td>\n",
       "      <td>1.431</td>\n",
       "      <td>0.000</td>\n",
       "      <td>-1.431</td>\n",
       "      <td>0.153</td>\n",
       "      <td>2.713</td>\n",
       "    </tr>\n",
       "    <tr>\n",
       "      <th>Q_RC_1</th>\n",
       "      <td>0.969</td>\n",
       "      <td>2.635</td>\n",
       "      <td>1.011</td>\n",
       "      <td>-1.012</td>\n",
       "      <td>2.949</td>\n",
       "      <td>0.364</td>\n",
       "      <td>19.095</td>\n",
       "      <td>0.000</td>\n",
       "      <td>0.959</td>\n",
       "      <td>0.338</td>\n",
       "      <td>1.566</td>\n",
       "    </tr>\n",
       "    <tr>\n",
       "      <th>Q_RC_2</th>\n",
       "      <td>0.175</td>\n",
       "      <td>1.191</td>\n",
       "      <td>0.734</td>\n",
       "      <td>-1.264</td>\n",
       "      <td>1.613</td>\n",
       "      <td>0.283</td>\n",
       "      <td>5.017</td>\n",
       "      <td>0.000</td>\n",
       "      <td>0.238</td>\n",
       "      <td>0.812</td>\n",
       "      <td>0.301</td>\n",
       "    </tr>\n",
       "    <tr>\n",
       "      <th>Q_SV_1</th>\n",
       "      <td>-2.095</td>\n",
       "      <td>0.123</td>\n",
       "      <td>0.879</td>\n",
       "      <td>-3.818</td>\n",
       "      <td>-0.371</td>\n",
       "      <td>0.022</td>\n",
       "      <td>0.690</td>\n",
       "      <td>0.000</td>\n",
       "      <td>-2.382</td>\n",
       "      <td>0.017</td>\n",
       "      <td>5.860</td>\n",
       "    </tr>\n",
       "  </tbody>\n",
       "</table><br><div>\n",
       "<style scoped>\n",
       "    .dataframe tbody tr th:only-of-type {\n",
       "        vertical-align: middle;\n",
       "    }\n",
       "\n",
       "    .dataframe tbody tr th {\n",
       "        vertical-align: top;\n",
       "    }\n",
       "\n",
       "    .dataframe thead th {\n",
       "        text-align: right;\n",
       "    }\n",
       "</style>\n",
       "<table border=\"1\" class=\"dataframe\">\n",
       "  <tbody>\n",
       "    <tr>\n",
       "      <th>Concordance</th>\n",
       "      <td>0.918</td>\n",
       "    </tr>\n",
       "    <tr>\n",
       "      <th>Partial AIC</th>\n",
       "      <td>145.715</td>\n",
       "    </tr>\n",
       "    <tr>\n",
       "      <th>log-likelihood ratio test</th>\n",
       "      <td>27.401 on 5 df</td>\n",
       "    </tr>\n",
       "    <tr>\n",
       "      <th>-log2(p) of ll-ratio test</th>\n",
       "      <td>14.357</td>\n",
       "    </tr>\n",
       "  </tbody>\n",
       "</table>\n",
       "</div>"
      ],
      "text/latex": [
       "\\begin{tabular}{lrrrrrrrrrrr}\n",
       "\\toprule\n",
       "{} &   coef &  exp(coef) &  se(coef) &  coef lower 95\\% &  coef upper 95\\% &  exp(coef) lower 95\\% &  exp(coef) upper 95\\% &  cmp to &      z &     p &  -log2(p) \\\\\n",
       "covariate &        &            &           &                 &                 &                      &                      &         &        &       &           \\\\\n",
       "\\midrule\n",
       "Q\\_HB\\_1    & -0.072 &      0.930 &     1.213 &          -2.450 &           2.306 &                0.086 &               10.033 &   0.000 & -0.059 & 0.953 &     0.070 \\\\\n",
       "Q\\_LN\\_1    & -0.969 &      0.379 &     0.677 &          -2.297 &           0.359 &                0.101 &                1.431 &   0.000 & -1.431 & 0.153 &     2.713 \\\\\n",
       "Q\\_RC\\_1    &  0.969 &      2.635 &     1.011 &          -1.012 &           2.949 &                0.364 &               19.095 &   0.000 &  0.959 & 0.338 &     1.566 \\\\\n",
       "Q\\_RC\\_2    &  0.175 &      1.191 &     0.734 &          -1.264 &           1.613 &                0.283 &                5.017 &   0.000 &  0.238 & 0.812 &     0.301 \\\\\n",
       "Q\\_SV\\_1    & -2.095 &      0.123 &     0.879 &          -3.818 &          -0.371 &                0.022 &                0.690 &   0.000 & -2.382 & 0.017 &     5.860 \\\\\n",
       "\\bottomrule\n",
       "\\end{tabular}\n"
      ],
      "text/plain": [
       "<lifelines.CoxPHFitter: fitted with 32 total observations, 1 right-censored observations>\n",
       "             duration col = 'time'\n",
       "                event col = 'status'\n",
       "      baseline estimation = breslow\n",
       "   number of observations = 32\n",
       "number of events observed = 31\n",
       "   partial log-likelihood = -67.858\n",
       "         time fit was run = 2022-08-02 06:20:10 UTC\n",
       "\n",
       "---\n",
       "            coef  exp(coef)   se(coef)   coef lower 95%   coef upper 95%  exp(coef) lower 95%  exp(coef) upper 95%\n",
       "covariate                                                                                                         \n",
       "Q_HB_1    -0.072      0.930      1.213           -2.450            2.306                0.086               10.033\n",
       "Q_LN_1    -0.969      0.379      0.677           -2.297            0.359                0.101                1.431\n",
       "Q_RC_1     0.969      2.635      1.011           -1.012            2.949                0.364               19.095\n",
       "Q_RC_2     0.175      1.191      0.734           -1.264            1.613                0.283                5.017\n",
       "Q_SV_1    -2.095      0.123      0.879           -3.818           -0.371                0.022                0.690\n",
       "\n",
       "            cmp to      z     p   -log2(p)\n",
       "covariate                                 \n",
       "Q_HB_1       0.000 -0.059 0.953      0.070\n",
       "Q_LN_1       0.000 -1.431 0.153      2.713\n",
       "Q_RC_1       0.000  0.959 0.338      1.566\n",
       "Q_RC_2       0.000  0.238 0.812      0.301\n",
       "Q_SV_1       0.000 -2.382 0.017      5.860\n",
       "---\n",
       "Concordance = 0.918\n",
       "Partial AIC = 145.715\n",
       "log-likelihood ratio test = 27.401 on 5 df\n",
       "-log2(p) of ll-ratio test = 14.357"
      ]
     },
     "metadata": {},
     "output_type": "display_data"
    }
   ],
   "source": [
    "coxph.print_summary(decimals=3)"
   ]
  },
  {
   "cell_type": "markdown",
   "metadata": {},
   "source": [
    "From the summary of the **Cox-Proportional Hazard Model** we can see that \n",
    "\n",
    "- **Q_SV_1** or [**Blackorient**](https://osu.ppy.sh/beatmapsets/1349422#mania/2793977) affects the chance of survival by reducing the odds of elimination by approximately **12%** if the **score_logit** is increased by 1.\n",
    "- **Q_RC_1** or [**My Cloud**](https://osu.ppy.sh/beatmapsets/1349413#mania/2793965) affects the chance of survival by increasing the odds of elimination by approximately **163%** if the **score_logit** is increased by 1.\n",
    "- **Q_LN_1** or [**Axeria**](https://osu.ppy.sh/beatmapsets/1349415#mania/2793968) affects the chance of survival by reducing the odds of elimination by approximately **62%** if the **score_logit** is increased by 1.\n",
    "- **Q_RC_2** or [**Old Nothing**](https://osu.ppy.sh/beatmapsets/1349409#mania/2793960) affects the chance of survival by increasing the odds of elimination by approximately **20%** if the **score_logit** is increased by 1.\n",
    "- **Q_HB_1** or [**Mei Mode**](https://osu.ppy.sh/beatmapsets/1349416#mania/2793969) affects the chance of survival by reducing the odds of elimination by approximately **7%** if the **score_logit** is increased by 1."
   ]
  },
  {
   "cell_type": "markdown",
   "metadata": {},
   "source": [
    "#### Partial Effects Visualization"
   ]
  },
  {
   "cell_type": "markdown",
   "metadata": {},
   "source": [
    "This part of the analysis is about visualizing how score of each stage affects the survival rate of each round\n",
    "\n",
    "We will have 3 graphs to visualize the partial effects\n",
    "- **[ROUND_CATEGORY_TAG] = 3** : Simulating the situation where the average team score is 952574 (approx 950k) or the total score is approximately 2850000 or `logit(score) = 3`\n",
    "- **[ROUND_CATEGORY_TAG] = 5** : Simulating the situation where the average team score is 993307 (approx 993k) or the total score is approximately 2979000 or `logit(score) = 5`\n",
    "- **Baseline** : The Kaplan-Meier plotting of the survival chance"
   ]
  },
  {
   "cell_type": "markdown",
   "metadata": {},
   "source": [
    "##### Qualifiers SV1 (Blackorient)"
   ]
  },
  {
   "cell_type": "code",
   "execution_count": 22,
   "metadata": {},
   "outputs": [
    {
     "data": {
      "text/plain": [
       "<AxesSubplot:>"
      ]
     },
     "execution_count": 22,
     "metadata": {},
     "output_type": "execute_result"
    },
    {
     "data": {
      "image/png": "[encoded data removed]",
      "text/plain": [
       "<Figure size 432x288 with 1 Axes>"
      ]
     },
     "metadata": {
      "needs_background": "light"
     },
     "output_type": "display_data"
    }
   ],
   "source": [
    "coxph.plot_partial_effects_on_outcome(covariates = 'Q_SV_1', values = [3,5], cmap = 'coolwarm')"
   ]
  },
  {
   "cell_type": "markdown",
   "metadata": {},
   "source": [
    "##### Qualifiers RC1 (My Cloud)"
   ]
  },
  {
   "cell_type": "code",
   "execution_count": 23,
   "metadata": {},
   "outputs": [
    {
     "data": {
      "text/plain": [
       "<AxesSubplot:>"
      ]
     },
     "execution_count": 23,
     "metadata": {},
     "output_type": "execute_result"
    },
    {
     "data": {
      "image/png": "[encoded data removed]",
      "text/plain": [
       "<Figure size 432x288 with 1 Axes>"
      ]
     },
     "metadata": {
      "needs_background": "light"
     },
     "output_type": "display_data"
    }
   ],
   "source": [
    "coxph.plot_partial_effects_on_outcome(covariates = 'Q_RC_1', values = [3,5], cmap = 'coolwarm')"
   ]
  },
  {
   "cell_type": "markdown",
   "metadata": {},
   "source": [
    "##### Qualifiers LN1 (Axeria)"
   ]
  },
  {
   "cell_type": "code",
   "execution_count": 24,
   "metadata": {},
   "outputs": [
    {
     "data": {
      "text/plain": [
       "<AxesSubplot:>"
      ]
     },
     "execution_count": 24,
     "metadata": {},
     "output_type": "execute_result"
    },
    {
     "data": {
      "image/png": "[encoded data removed]",
      "text/plain": [
       "<Figure size 432x288 with 1 Axes>"
      ]
     },
     "metadata": {
      "needs_background": "light"
     },
     "output_type": "display_data"
    }
   ],
   "source": [
    "coxph.plot_partial_effects_on_outcome(covariates = 'Q_LN_1', values = [3,5], cmap = 'coolwarm')"
   ]
  },
  {
   "cell_type": "markdown",
   "metadata": {},
   "source": [
    "##### Qualifiers RC2 (Old Nothing)"
   ]
  },
  {
   "cell_type": "code",
   "execution_count": 25,
   "metadata": {},
   "outputs": [
    {
     "data": {
      "text/plain": [
       "<AxesSubplot:>"
      ]
     },
     "execution_count": 25,
     "metadata": {},
     "output_type": "execute_result"
    },
    {
     "data": {
      "image/png": "[encoded data removed]",
      "text/plain": [
       "<Figure size 432x288 with 1 Axes>"
      ]
     },
     "metadata": {
      "needs_background": "light"
     },
     "output_type": "display_data"
    }
   ],
   "source": [
    "coxph.plot_partial_effects_on_outcome(covariates = 'Q_RC_2', values = [3,5], cmap = 'coolwarm')"
   ]
  },
  {
   "cell_type": "markdown",
   "metadata": {},
   "source": [
    "##### Qualifiers HB1 (Mei Mode)"
   ]
  },
  {
   "cell_type": "code",
   "execution_count": 26,
   "metadata": {},
   "outputs": [
    {
     "data": {
      "text/plain": [
       "<AxesSubplot:>"
      ]
     },
     "execution_count": 26,
     "metadata": {},
     "output_type": "execute_result"
    },
    {
     "data": {
      "image/png": "[encoded data removed]",
      "text/plain": [
       "<Figure size 432x288 with 1 Axes>"
      ]
     },
     "metadata": {
      "needs_background": "light"
     },
     "output_type": "display_data"
    }
   ],
   "source": [
    "coxph.plot_partial_effects_on_outcome(covariates = 'Q_HB_1', values = [3,5], cmap = 'coolwarm')"
   ]
  },
  {
   "cell_type": "markdown",
   "metadata": {},
   "source": [
    "#### Cox-Proportional Hazard Model Assumptions Checking\n",
    "\n",
    "To ensure the model shows the accurate result, we need to check the assumptions of the model"
   ]
  },
  {
   "cell_type": "code",
   "execution_count": 27,
   "metadata": {},
   "outputs": [
    {
     "name": "stdout",
     "output_type": "stream",
     "text": [
      "Proportional hazard assumption looks okay.\n"
     ]
    },
    {
     "name": "stderr",
     "output_type": "stream",
     "text": [
      "c:\\Users\\HP\\AppData\\Local\\Programs\\Python\\Python310\\lib\\site-packages\\lifelines\\fitters\\mixins.py:108: FutureWarning: Index.__and__ operating as a set operation is deprecated, in the future this will be a logical operation matching Series.__and__.  Use index.intersection(other) instead.\n",
      "  for variable in self.params_.index & (columns or self.params_.index):\n"
     ]
    },
    {
     "data": {
      "text/plain": [
       "[]"
      ]
     },
     "execution_count": 27,
     "metadata": {},
     "output_type": "execute_result"
    }
   ],
   "source": [
    "coxph.check_assumptions(data, p_value_threshold = 0.05)"
   ]
  },
  {
   "cell_type": "markdown",
   "metadata": {},
   "source": [
    "According to the result of assumptions checking, it is okay to use Cox-Proportional Hazard Model."
   ]
  },
  {
   "cell_type": "markdown",
   "metadata": {},
   "source": [
    "### Parametric Models for Survival Analysis\n",
    "\n",
    "Here we are going to use the Parametric Models to analyze the survival chance further. We considered four models\n",
    "- Weibull\n",
    "- Exponential\n",
    "- Log Normal\n",
    "- Log Logistic\n",
    "\n",
    "So basically what these models do is trying to fit our survival dataset (time and event) into their survival distributions (namely Right-Tail Cumulative Distribution of each PDF) to find the best distribution that fits our bracket stage elimination process, then we will add Qualifiers Scores parameters in the next step."
   ]
  },
  {
   "cell_type": "markdown",
   "metadata": {},
   "source": [
    "However, we use the **Akaike information criterion (AIC)** to select the best model according to the `time` parameter"
   ]
  },
  {
   "cell_type": "code",
   "execution_count": 28,
   "metadata": {},
   "outputs": [
    {
     "name": "stdout",
     "output_type": "stream",
     "text": [
      "The AIC value for WeibullFitter is 121.87396197682156\n",
      "The AIC value for ExponentialFitter is 125.80343485020637\n",
      "The AIC value for LogNormalFitter is 118.26327781832825\n",
      "The AIC value for LogLogisticFitter is 122.04685002045709\n"
     ]
    }
   ],
   "source": [
    "from lifelines import WeibullFitter,\\\n",
    "                      ExponentialFitter,\\\n",
    "                      LogNormalFitter,\\\n",
    "                      LogLogisticFitter\n",
    "# Instantiate each fitter\n",
    "wb = WeibullFitter()\n",
    "ex = ExponentialFitter()\n",
    "log = LogNormalFitter()\n",
    "loglogis = LogLogisticFitter()\n",
    "# Fit to data\n",
    "for model in [wb, ex, log, loglogis]:\n",
    "    model.fit(durations = data[\"time\"], event_observed = data[\"status\"])\n",
    "    print(\"The AIC value for\", model.__class__.__name__, \"is\",  model.AIC_)"
   ]
  },
  {
   "cell_type": "markdown",
   "metadata": {},
   "source": [
    "We can see that the **Log Normal Survival Model** has the lowest AIC, so we will use Log-Normal for the further Observation"
   ]
  },
  {
   "cell_type": "markdown",
   "metadata": {},
   "source": [
    "#### Accelerated Failure Time Model"
   ]
  },
  {
   "cell_type": "markdown",
   "metadata": {},
   "source": [
    "We can put the parametric model on steroid by using **Accelerated Failure Time Model (AFT)** which will consider the external parameters (example, Qualifiers Scores) into the consideration of our survival model. The interpretation of AFT is similar to Cox-Proportional Hazard Model and these models are more accurate than Cox-Proportional Hazard Model (and we can use them to predict the survival function if I remember correctly)."
   ]
  },
  {
   "cell_type": "markdown",
   "metadata": {},
   "source": [
    "#### Model Fitting and Summary"
   ]
  },
  {
   "cell_type": "code",
   "execution_count": 29,
   "metadata": {},
   "outputs": [],
   "source": [
    "from lifelines import LogNormalAFTFitter"
   ]
  },
  {
   "cell_type": "code",
   "execution_count": 30,
   "metadata": {},
   "outputs": [],
   "source": [
    "lognormal_aft = LogNormalAFTFitter()"
   ]
  },
  {
   "cell_type": "code",
   "execution_count": 31,
   "metadata": {},
   "outputs": [
    {
     "data": {
      "text/plain": [
       "<lifelines.LogNormalAFTFitter: fitted with 32 total observations, 1 right-censored observations>"
      ]
     },
     "execution_count": 31,
     "metadata": {},
     "output_type": "execute_result"
    }
   ],
   "source": [
    "lognormal_aft.fit(data, duration_col='time', event_col='status')"
   ]
  },
  {
   "cell_type": "code",
   "execution_count": 32,
   "metadata": {},
   "outputs": [
    {
     "name": "stderr",
     "output_type": "stream",
     "text": [
      "c:\\Users\\HP\\AppData\\Local\\Programs\\Python\\Python310\\lib\\site-packages\\lifelines\\utils\\printer.py:62: FutureWarning: In future versions `DataFrame.to_latex` is expected to utilise the base implementation of `Styler.to_latex` for formatting and rendering. The arguments signature may therefore change. It is recommended instead to use `DataFrame.style.to_latex` which also contains additional functionality.\n",
      "  return summary_df[columns].to_latex(float_format=\"%.\" + str(self.decimals) + \"f\")\n"
     ]
    },
    {
     "data": {
      "text/html": [
       "<div>\n",
       "<style scoped>\n",
       "    .dataframe tbody tr th:only-of-type {\n",
       "        vertical-align: middle;\n",
       "    }\n",
       "\n",
       "    .dataframe tbody tr th {\n",
       "        vertical-align: top;\n",
       "    }\n",
       "\n",
       "    .dataframe thead th {\n",
       "        text-align: right;\n",
       "    }\n",
       "</style>\n",
       "<table border=\"1\" class=\"dataframe\">\n",
       "  <tbody>\n",
       "    <tr>\n",
       "      <th>model</th>\n",
       "      <td>lifelines.LogNormalAFTFitter</td>\n",
       "    </tr>\n",
       "    <tr>\n",
       "      <th>duration col</th>\n",
       "      <td>'time'</td>\n",
       "    </tr>\n",
       "    <tr>\n",
       "      <th>event col</th>\n",
       "      <td>'status'</td>\n",
       "    </tr>\n",
       "    <tr>\n",
       "      <th>number of observations</th>\n",
       "      <td>32</td>\n",
       "    </tr>\n",
       "    <tr>\n",
       "      <th>number of events observed</th>\n",
       "      <td>31</td>\n",
       "    </tr>\n",
       "    <tr>\n",
       "      <th>log-likelihood</th>\n",
       "      <td>-38.166</td>\n",
       "    </tr>\n",
       "    <tr>\n",
       "      <th>time fit was run</th>\n",
       "      <td>2022-08-02 06:20:15 UTC</td>\n",
       "    </tr>\n",
       "  </tbody>\n",
       "</table>\n",
       "</div><table border=\"1\" class=\"dataframe\">\n",
       "  <thead>\n",
       "    <tr style=\"text-align: right;\">\n",
       "      <th style=\"min-width: 12px;\"></th>\n",
       "      <th style=\"min-width: 12px;\"></th>\n",
       "      <th style=\"min-width: 12px;\">coef</th>\n",
       "      <th style=\"min-width: 12px;\">exp(coef)</th>\n",
       "      <th style=\"min-width: 12px;\">se(coef)</th>\n",
       "      <th style=\"min-width: 12px;\">coef lower 95%</th>\n",
       "      <th style=\"min-width: 12px;\">coef upper 95%</th>\n",
       "      <th style=\"min-width: 12px;\">exp(coef) lower 95%</th>\n",
       "      <th style=\"min-width: 12px;\">exp(coef) upper 95%</th>\n",
       "      <th style=\"min-width: 12px;\">cmp to</th>\n",
       "      <th style=\"min-width: 12px;\">z</th>\n",
       "      <th style=\"min-width: 12px;\">p</th>\n",
       "      <th style=\"min-width: 12px;\">-log2(p)</th>\n",
       "    </tr>\n",
       "  </thead>\n",
       "  <tbody>\n",
       "    <tr>\n",
       "      <th rowspan=\"6\" valign=\"top\">mu_</th>\n",
       "      <th>Q_HB_1</th>\n",
       "      <td>0.199</td>\n",
       "      <td>1.221</td>\n",
       "      <td>0.425</td>\n",
       "      <td>-0.633</td>\n",
       "      <td>1.032</td>\n",
       "      <td>0.531</td>\n",
       "      <td>2.807</td>\n",
       "      <td>0.000</td>\n",
       "      <td>0.469</td>\n",
       "      <td>0.639</td>\n",
       "      <td>0.646</td>\n",
       "    </tr>\n",
       "    <tr>\n",
       "      <th>Q_LN_1</th>\n",
       "      <td>0.306</td>\n",
       "      <td>1.358</td>\n",
       "      <td>0.285</td>\n",
       "      <td>-0.252</td>\n",
       "      <td>0.864</td>\n",
       "      <td>0.777</td>\n",
       "      <td>2.373</td>\n",
       "      <td>0.000</td>\n",
       "      <td>1.075</td>\n",
       "      <td>0.282</td>\n",
       "      <td>1.825</td>\n",
       "    </tr>\n",
       "    <tr>\n",
       "      <th>Q_RC_1</th>\n",
       "      <td>-0.197</td>\n",
       "      <td>0.821</td>\n",
       "      <td>0.329</td>\n",
       "      <td>-0.843</td>\n",
       "      <td>0.449</td>\n",
       "      <td>0.431</td>\n",
       "      <td>1.566</td>\n",
       "      <td>0.000</td>\n",
       "      <td>-0.598</td>\n",
       "      <td>0.550</td>\n",
       "      <td>0.863</td>\n",
       "    </tr>\n",
       "    <tr>\n",
       "      <th>Q_RC_2</th>\n",
       "      <td>-0.063</td>\n",
       "      <td>0.939</td>\n",
       "      <td>0.289</td>\n",
       "      <td>-0.629</td>\n",
       "      <td>0.504</td>\n",
       "      <td>0.533</td>\n",
       "      <td>1.655</td>\n",
       "      <td>0.000</td>\n",
       "      <td>-0.217</td>\n",
       "      <td>0.828</td>\n",
       "      <td>0.273</td>\n",
       "    </tr>\n",
       "    <tr>\n",
       "      <th>Q_SV_1</th>\n",
       "      <td>0.904</td>\n",
       "      <td>2.470</td>\n",
       "      <td>0.287</td>\n",
       "      <td>0.343</td>\n",
       "      <td>1.466</td>\n",
       "      <td>1.409</td>\n",
       "      <td>4.331</td>\n",
       "      <td>0.000</td>\n",
       "      <td>3.156</td>\n",
       "      <td>0.002</td>\n",
       "      <td>9.287</td>\n",
       "    </tr>\n",
       "    <tr>\n",
       "      <th>Intercept</th>\n",
       "      <td>-3.200</td>\n",
       "      <td>0.041</td>\n",
       "      <td>0.879</td>\n",
       "      <td>-4.922</td>\n",
       "      <td>-1.478</td>\n",
       "      <td>0.007</td>\n",
       "      <td>0.228</td>\n",
       "      <td>0.000</td>\n",
       "      <td>-3.641</td>\n",
       "      <td>&lt;0.0005</td>\n",
       "      <td>11.849</td>\n",
       "    </tr>\n",
       "    <tr>\n",
       "      <th>sigma_</th>\n",
       "      <th>Intercept</th>\n",
       "      <td>-0.886</td>\n",
       "      <td>0.412</td>\n",
       "      <td>0.128</td>\n",
       "      <td>-1.136</td>\n",
       "      <td>-0.636</td>\n",
       "      <td>0.321</td>\n",
       "      <td>0.530</td>\n",
       "      <td>0.000</td>\n",
       "      <td>-6.939</td>\n",
       "      <td>&lt;0.0005</td>\n",
       "      <td>37.879</td>\n",
       "    </tr>\n",
       "  </tbody>\n",
       "</table><br><div>\n",
       "<style scoped>\n",
       "    .dataframe tbody tr th:only-of-type {\n",
       "        vertical-align: middle;\n",
       "    }\n",
       "\n",
       "    .dataframe tbody tr th {\n",
       "        vertical-align: top;\n",
       "    }\n",
       "\n",
       "    .dataframe thead th {\n",
       "        text-align: right;\n",
       "    }\n",
       "</style>\n",
       "<table border=\"1\" class=\"dataframe\">\n",
       "  <tbody>\n",
       "    <tr>\n",
       "      <th>Concordance</th>\n",
       "      <td>0.929</td>\n",
       "    </tr>\n",
       "    <tr>\n",
       "      <th>AIC</th>\n",
       "      <td>90.331</td>\n",
       "    </tr>\n",
       "    <tr>\n",
       "      <th>log-likelihood ratio test</th>\n",
       "      <td>37.932 on 5 df</td>\n",
       "    </tr>\n",
       "    <tr>\n",
       "      <th>-log2(p) of ll-ratio test</th>\n",
       "      <td>21.292</td>\n",
       "    </tr>\n",
       "  </tbody>\n",
       "</table>\n",
       "</div>"
      ],
      "text/latex": [
       "\\begin{tabular}{llrrrrrrrrrrr}\n",
       "\\toprule\n",
       "       &           &   coef &  exp(coef) &  se(coef) &  coef lower 95\\% &  coef upper 95\\% &  exp(coef) lower 95\\% &  exp(coef) upper 95\\% &  cmp to &      z &     p &  -log2(p) \\\\\n",
       "param & covariate &        &            &           &                 &                 &                      &                      &         &        &       &           \\\\\n",
       "\\midrule\n",
       "mu\\_ & Q\\_HB\\_1 &  0.199 &      1.221 &     0.425 &          -0.633 &           1.032 &                0.531 &                2.807 &   0.000 &  0.469 & 0.639 &     0.646 \\\\\n",
       "       & Q\\_LN\\_1 &  0.306 &      1.358 &     0.285 &          -0.252 &           0.864 &                0.777 &                2.373 &   0.000 &  1.075 & 0.282 &     1.825 \\\\\n",
       "       & Q\\_RC\\_1 & -0.197 &      0.821 &     0.329 &          -0.843 &           0.449 &                0.431 &                1.566 &   0.000 & -0.598 & 0.550 &     0.863 \\\\\n",
       "       & Q\\_RC\\_2 & -0.063 &      0.939 &     0.289 &          -0.629 &           0.504 &                0.533 &                1.655 &   0.000 & -0.217 & 0.828 &     0.273 \\\\\n",
       "       & Q\\_SV\\_1 &  0.904 &      2.470 &     0.287 &           0.343 &           1.466 &                1.409 &                4.331 &   0.000 &  3.156 & 0.002 &     9.287 \\\\\n",
       "       & Intercept & -3.200 &      0.041 &     0.879 &          -4.922 &          -1.478 &                0.007 &                0.228 &   0.000 & -3.641 & 0.000 &    11.849 \\\\\n",
       "sigma\\_ & Intercept & -0.886 &      0.412 &     0.128 &          -1.136 &          -0.636 &                0.321 &                0.530 &   0.000 & -6.939 & 0.000 &    37.879 \\\\\n",
       "\\bottomrule\n",
       "\\end{tabular}\n"
      ],
      "text/plain": [
       "<lifelines.LogNormalAFTFitter: fitted with 32 total observations, 1 right-censored observations>\n",
       "             duration col = 'time'\n",
       "                event col = 'status'\n",
       "   number of observations = 32\n",
       "number of events observed = 31\n",
       "           log-likelihood = -38.166\n",
       "         time fit was run = 2022-08-02 06:20:15 UTC\n",
       "\n",
       "---\n",
       "                   coef  exp(coef)   se(coef)   coef lower 95%   coef upper 95%  exp(coef) lower 95%  exp(coef) upper 95%\n",
       "param  covariate                                                                                                         \n",
       "mu_    Q_HB_1     0.199      1.221      0.425           -0.633            1.032                0.531                2.807\n",
       "       Q_LN_1     0.306      1.358      0.285           -0.252            0.864                0.777                2.373\n",
       "       Q_RC_1    -0.197      0.821      0.329           -0.843            0.449                0.431                1.566\n",
       "       Q_RC_2    -0.063      0.939      0.289           -0.629            0.504                0.533                1.655\n",
       "       Q_SV_1     0.904      2.470      0.287            0.343            1.466                1.409                4.331\n",
       "       Intercept -3.200      0.041      0.879           -4.922           -1.478                0.007                0.228\n",
       "sigma_ Intercept -0.886      0.412      0.128           -1.136           -0.636                0.321                0.530\n",
       "\n",
       "                   cmp to      z       p   -log2(p)\n",
       "param  covariate                                   \n",
       "mu_    Q_HB_1       0.000  0.469   0.639      0.646\n",
       "       Q_LN_1       0.000  1.075   0.282      1.825\n",
       "       Q_RC_1       0.000 -0.598   0.550      0.863\n",
       "       Q_RC_2       0.000 -0.217   0.828      0.273\n",
       "       Q_SV_1       0.000  3.156   0.002      9.287\n",
       "       Intercept    0.000 -3.641 <0.0005     11.849\n",
       "sigma_ Intercept    0.000 -6.939 <0.0005     37.879\n",
       "---\n",
       "Concordance = 0.929\n",
       "AIC = 90.331\n",
       "log-likelihood ratio test = 37.932 on 5 df\n",
       "-log2(p) of ll-ratio test = 21.292"
      ]
     },
     "metadata": {},
     "output_type": "display_data"
    }
   ],
   "source": [
    "lognormal_aft.print_summary(decimals=3)"
   ]
  },
  {
   "cell_type": "markdown",
   "metadata": {},
   "source": [
    "From the summary of the **Log-Normal Accelerated Failure Time Model** we can see that \n",
    "\n",
    "- **Q_SV_1** or [**Blackorient**](https://osu.ppy.sh/beatmapsets/1349422#mania/2793977) affects the chance of survival by increasing the survival time by approximately **147%** if the **score_logit** is increased by 1.\n",
    "- **Q_RC_1** or [**My Cloud**](https://osu.ppy.sh/beatmapsets/1349413#mania/2793965) effects the chance of survival by decreasing the survival time by approximately **18%** if the **score_logit** is increased by 1.\n",
    "- **Q_LN_1** or or [**Axeria**](https://osu.ppy.sh/beatmapsets/1349415#mania/2793968) affects the chance of survival by increasing the survival time by approximately **36%** if the **score_logit** is increased by 1.\n",
    "- **Q_RC_2** or or [**Old Nothing**](https://osu.ppy.sh/beatmapsets/1349409#mania/2793960) affects the chance of survival by decreasing the survival time by approximately **6%** if the **score_logit** is increased by 1.\n",
    "- **Q_HB_1** or or [**Mei Mode**](https://osu.ppy.sh/beatmapsets/1349416#mania/2793969) affects the chance of survival by increasing the survival time by approximately **22%** if the **score_logit** is increased by 1."
   ]
  },
  {
   "cell_type": "markdown",
   "metadata": {},
   "source": [
    "#### Partial Effects Visualization\n",
    "\n",
    "This part of the analysis is about visualizing how score of each stage affects the survival rate of each round\n",
    "\n",
    "We will have 3 graphs to visualize the partial effects\n",
    "- **[ROUND_CATEGORY_TAG] = 3** : Simulating the situation where the average team score is 952574 (approx 950k) or the total score is approximately 2850000 or `logit(score) = 3`\n",
    "- **[ROUND_CATEGORY_TAG] = 5** : Simulating the situation where the average team score is 993307 (approx 993k) or the total score is approximately 2979000 or `logit(score) = 5`\n",
    "- **Baseline** : The baseline Log Normal model plotting of the survival chance"
   ]
  },
  {
   "cell_type": "code",
   "execution_count": 33,
   "metadata": {},
   "outputs": [
    {
     "data": {
      "text/plain": [
       "<AxesSubplot:>"
      ]
     },
     "execution_count": 33,
     "metadata": {},
     "output_type": "execute_result"
    },
    {
     "data": {
      "image/png": "[encoded data removed]",
      "text/plain": [
       "<Figure size 432x288 with 1 Axes>"
      ]
     },
     "metadata": {
      "needs_background": "light"
     },
     "output_type": "display_data"
    }
   ],
   "source": [
    "lognormal_aft.plot_partial_effects_on_outcome(covariates = 'Q_RC_1', values = [3,5], cmap = 'coolwarm')"
   ]
  },
  {
   "cell_type": "code",
   "execution_count": 34,
   "metadata": {},
   "outputs": [
    {
     "data": {
      "text/plain": [
       "<AxesSubplot:>"
      ]
     },
     "execution_count": 34,
     "metadata": {},
     "output_type": "execute_result"
    },
    {
     "data": {
      "image/png": "[encoded data removed]",
      "text/plain": [
       "<Figure size 432x288 with 1 Axes>"
      ]
     },
     "metadata": {
      "needs_background": "light"
     },
     "output_type": "display_data"
    }
   ],
   "source": [
    "lognormal_aft.plot_partial_effects_on_outcome(covariates = 'Q_RC_2', values = [3,5], cmap = 'coolwarm')"
   ]
  },
  {
   "cell_type": "code",
   "execution_count": 35,
   "metadata": {},
   "outputs": [
    {
     "data": {
      "text/plain": [
       "<AxesSubplot:>"
      ]
     },
     "execution_count": 35,
     "metadata": {},
     "output_type": "execute_result"
    },
    {
     "data": {
      "image/png": "[encoded data removed]",
      "text/plain": [
       "<Figure size 432x288 with 1 Axes>"
      ]
     },
     "metadata": {
      "needs_background": "light"
     },
     "output_type": "display_data"
    }
   ],
   "source": [
    "lognormal_aft.plot_partial_effects_on_outcome(covariates = 'Q_LN_1', values = [3,5], cmap = 'coolwarm')"
   ]
  },
  {
   "cell_type": "code",
   "execution_count": 36,
   "metadata": {},
   "outputs": [
    {
     "data": {
      "text/plain": [
       "<AxesSubplot:>"
      ]
     },
     "execution_count": 36,
     "metadata": {},
     "output_type": "execute_result"
    },
    {
     "data": {
      "image/png": "[encoded data removed]",
      "text/plain": [
       "<Figure size 432x288 with 1 Axes>"
      ]
     },
     "metadata": {
      "needs_background": "light"
     },
     "output_type": "display_data"
    }
   ],
   "source": [
    "lognormal_aft.plot_partial_effects_on_outcome(covariates = 'Q_HB_1', values = [3,5], cmap = 'coolwarm')"
   ]
  },
  {
   "cell_type": "code",
   "execution_count": 37,
   "metadata": {},
   "outputs": [
    {
     "data": {
      "text/plain": [
       "<AxesSubplot:>"
      ]
     },
     "execution_count": 37,
     "metadata": {},
     "output_type": "execute_result"
    },
    {
     "data": {
      "image/png": "[encoded data removed]",
      "text/plain": [
       "<Figure size 432x288 with 1 Axes>"
      ]
     },
     "metadata": {
      "needs_background": "light"
     },
     "output_type": "display_data"
    }
   ],
   "source": [
    "lognormal_aft.plot_partial_effects_on_outcome(covariates = 'Q_SV_1', values = [3,5], cmap = 'coolwarm')"
   ]
  },
  {
   "cell_type": "code",
   "execution_count": 38,
   "metadata": {},
   "outputs": [
    {
     "name": "stdout",
     "output_type": "stream",
     "text": [
      "Median Survival Time 2.0399630868995247\n",
      "Mean Survival Time 2.2210289757227786\n"
     ]
    }
   ],
   "source": [
    "print(\"Median Survival Time\", lognormal_aft.median_survival_time_)\n",
    "print(\"Mean Survival Time\", lognormal_aft.mean_survival_time_)"
   ]
  },
  {
   "cell_type": "markdown",
   "metadata": {},
   "source": [
    "#### AFT Model Prediction\n",
    "\n",
    "We use our previous **Log Normal Accelerated Failure Time** model to predict the survival rate of each country."
   ]
  },
  {
   "cell_type": "markdown",
   "metadata": {},
   "source": [
    "##### Survival Function Prediction\n",
    "\n",
    "Here, the model predicts the chance of survival in each round for each country according to Qualifiers Scores"
   ]
  },
  {
   "cell_type": "code",
   "execution_count": 39,
   "metadata": {},
   "outputs": [
    {
     "data": {
      "text/html": [
       "<div>\n",
       "<style scoped>\n",
       "    .dataframe tbody tr th:only-of-type {\n",
       "        vertical-align: middle;\n",
       "    }\n",
       "\n",
       "    .dataframe tbody tr th {\n",
       "        vertical-align: top;\n",
       "    }\n",
       "\n",
       "    .dataframe thead th {\n",
       "        text-align: right;\n",
       "    }\n",
       "</style>\n",
       "<table border=\"1\" class=\"dataframe\">\n",
       "  <thead>\n",
       "    <tr style=\"text-align: right;\">\n",
       "      <th></th>\n",
       "      <th>Argentina</th>\n",
       "      <th>Australia</th>\n",
       "      <th>Belgium</th>\n",
       "      <th>Brazil</th>\n",
       "      <th>Canada</th>\n",
       "      <th>Switzerland</th>\n",
       "      <th>China</th>\n",
       "      <th>Germany</th>\n",
       "      <th>Dominican Republic</th>\n",
       "      <th>Spain</th>\n",
       "      <th>...</th>\n",
       "      <th>Poland</th>\n",
       "      <th>Romania</th>\n",
       "      <th>Russian Federation</th>\n",
       "      <th>Sweden</th>\n",
       "      <th>Singapore</th>\n",
       "      <th>Thailand</th>\n",
       "      <th>Turkey</th>\n",
       "      <th>Taiwan, Province of China</th>\n",
       "      <th>United States</th>\n",
       "      <th>Viet Nam</th>\n",
       "    </tr>\n",
       "  </thead>\n",
       "  <tbody>\n",
       "    <tr>\n",
       "      <th>1.0</th>\n",
       "      <td>0.901839</td>\n",
       "      <td>0.859768</td>\n",
       "      <td>0.997863</td>\n",
       "      <td>0.999999</td>\n",
       "      <td>0.480668</td>\n",
       "      <td>1.447423e-01</td>\n",
       "      <td>0.963091</td>\n",
       "      <td>0.968673</td>\n",
       "      <td>0.607002</td>\n",
       "      <td>0.941000</td>\n",
       "      <td>...</td>\n",
       "      <td>0.999681</td>\n",
       "      <td>6.247419e-02</td>\n",
       "      <td>0.746839</td>\n",
       "      <td>0.793518</td>\n",
       "      <td>0.867076</td>\n",
       "      <td>0.997030</td>\n",
       "      <td>0.799754</td>\n",
       "      <td>0.977959</td>\n",
       "      <td>0.999961</td>\n",
       "      <td>2.795505e-01</td>\n",
       "    </tr>\n",
       "    <tr>\n",
       "      <th>2.0</th>\n",
       "      <td>0.348771</td>\n",
       "      <td>0.273765</td>\n",
       "      <td>0.880289</td>\n",
       "      <td>0.998623</td>\n",
       "      <td>0.041885</td>\n",
       "      <td>3.071982e-03</td>\n",
       "      <td>0.542604</td>\n",
       "      <td>0.571777</td>\n",
       "      <td>0.079383</td>\n",
       "      <td>0.453223</td>\n",
       "      <td>...</td>\n",
       "      <td>0.958540</td>\n",
       "      <td>6.520523e-04</td>\n",
       "      <td>0.154775</td>\n",
       "      <td>0.194328</td>\n",
       "      <td>0.284994</td>\n",
       "      <td>0.857760</td>\n",
       "      <td>0.200454</td>\n",
       "      <td>0.630272</td>\n",
       "      <td>0.988388</td>\n",
       "      <td>1.175873e-02</td>\n",
       "    </tr>\n",
       "    <tr>\n",
       "      <th>3.0</th>\n",
       "      <td>0.085061</td>\n",
       "      <td>0.056524</td>\n",
       "      <td>0.576623</td>\n",
       "      <td>0.977822</td>\n",
       "      <td>0.003340</td>\n",
       "      <td>9.836845e-05</td>\n",
       "      <td>0.190467</td>\n",
       "      <td>0.211198</td>\n",
       "      <td>0.008369</td>\n",
       "      <td>0.135515</td>\n",
       "      <td>...</td>\n",
       "      <td>0.773620</td>\n",
       "      <td>1.344943e-05</td>\n",
       "      <td>0.022786</td>\n",
       "      <td>0.032502</td>\n",
       "      <td>0.060422</td>\n",
       "      <td>0.534719</td>\n",
       "      <td>0.034139</td>\n",
       "      <td>0.257653</td>\n",
       "      <td>0.900878</td>\n",
       "      <td>5.809034e-04</td>\n",
       "    </tr>\n",
       "    <tr>\n",
       "      <th>4.0</th>\n",
       "      <td>0.019255</td>\n",
       "      <td>0.011238</td>\n",
       "      <td>0.307021</td>\n",
       "      <td>0.905433</td>\n",
       "      <td>0.000325</td>\n",
       "      <td>4.918126e-06</td>\n",
       "      <td>0.057773</td>\n",
       "      <td>0.066827</td>\n",
       "      <td>0.001001</td>\n",
       "      <td>0.036067</td>\n",
       "      <td>...</td>\n",
       "      <td>0.521234</td>\n",
       "      <td>4.894845e-07</td>\n",
       "      <td>0.003499</td>\n",
       "      <td>0.005498</td>\n",
       "      <td>0.012262</td>\n",
       "      <td>0.270787</td>\n",
       "      <td>0.005855</td>\n",
       "      <td>0.088802</td>\n",
       "      <td>0.722069</td>\n",
       "      <td>3.978916e-05</td>\n",
       "    </tr>\n",
       "    <tr>\n",
       "      <th>5.0</th>\n",
       "      <td>0.004521</td>\n",
       "      <td>0.002377</td>\n",
       "      <td>0.147921</td>\n",
       "      <td>0.779962</td>\n",
       "      <td>0.000039</td>\n",
       "      <td>3.491768e-07</td>\n",
       "      <td>0.017222</td>\n",
       "      <td>0.020629</td>\n",
       "      <td>0.000141</td>\n",
       "      <td>0.009659</td>\n",
       "      <td>...</td>\n",
       "      <td>0.312836</td>\n",
       "      <td>2.710802e-08</td>\n",
       "      <td>0.000602</td>\n",
       "      <td>0.001022</td>\n",
       "      <td>0.002636</td>\n",
       "      <td>0.124761</td>\n",
       "      <td>0.001100</td>\n",
       "      <td>0.029429</td>\n",
       "      <td>0.519110</td>\n",
       "      <td>3.615971e-06</td>\n",
       "    </tr>\n",
       "    <tr>\n",
       "      <th>6.0</th>\n",
       "      <td>0.001135</td>\n",
       "      <td>0.000547</td>\n",
       "      <td>0.068444</td>\n",
       "      <td>0.629289</td>\n",
       "      <td>0.000006</td>\n",
       "      <td>3.260100e-08</td>\n",
       "      <td>0.005280</td>\n",
       "      <td>0.006514</td>\n",
       "      <td>0.000023</td>\n",
       "      <td>0.002706</td>\n",
       "      <td>...</td>\n",
       "      <td>0.176206</td>\n",
       "      <td>2.063862e-09</td>\n",
       "      <td>0.000117</td>\n",
       "      <td>0.000211</td>\n",
       "      <td>0.000615</td>\n",
       "      <td>0.055512</td>\n",
       "      <td>0.000229</td>\n",
       "      <td>0.009868</td>\n",
       "      <td>0.346727</td>\n",
       "      <td>4.135985e-07</td>\n",
       "    </tr>\n",
       "  </tbody>\n",
       "</table>\n",
       "<p>6 rows × 32 columns</p>\n",
       "</div>"
      ],
      "text/plain": [
       "     Argentina  Australia   Belgium    Brazil    Canada   Switzerland  \\\n",
       "1.0   0.901839   0.859768  0.997863  0.999999  0.480668  1.447423e-01   \n",
       "2.0   0.348771   0.273765  0.880289  0.998623  0.041885  3.071982e-03   \n",
       "3.0   0.085061   0.056524  0.576623  0.977822  0.003340  9.836845e-05   \n",
       "4.0   0.019255   0.011238  0.307021  0.905433  0.000325  4.918126e-06   \n",
       "5.0   0.004521   0.002377  0.147921  0.779962  0.000039  3.491768e-07   \n",
       "6.0   0.001135   0.000547  0.068444  0.629289  0.000006  3.260100e-08   \n",
       "\n",
       "        China   Germany  Dominican Republic     Spain  ...    Poland  \\\n",
       "1.0  0.963091  0.968673            0.607002  0.941000  ...  0.999681   \n",
       "2.0  0.542604  0.571777            0.079383  0.453223  ...  0.958540   \n",
       "3.0  0.190467  0.211198            0.008369  0.135515  ...  0.773620   \n",
       "4.0  0.057773  0.066827            0.001001  0.036067  ...  0.521234   \n",
       "5.0  0.017222  0.020629            0.000141  0.009659  ...  0.312836   \n",
       "6.0  0.005280  0.006514            0.000023  0.002706  ...  0.176206   \n",
       "\n",
       "          Romania  Russian Federation    Sweden  Singapore  Thailand  \\\n",
       "1.0  6.247419e-02            0.746839  0.793518   0.867076  0.997030   \n",
       "2.0  6.520523e-04            0.154775  0.194328   0.284994  0.857760   \n",
       "3.0  1.344943e-05            0.022786  0.032502   0.060422  0.534719   \n",
       "4.0  4.894845e-07            0.003499  0.005498   0.012262  0.270787   \n",
       "5.0  2.710802e-08            0.000602  0.001022   0.002636  0.124761   \n",
       "6.0  2.063862e-09            0.000117  0.000211   0.000615  0.055512   \n",
       "\n",
       "       Turkey  Taiwan, Province of China  United States      Viet Nam  \n",
       "1.0  0.799754                   0.977959       0.999961  2.795505e-01  \n",
       "2.0  0.200454                   0.630272       0.988388  1.175873e-02  \n",
       "3.0  0.034139                   0.257653       0.900878  5.809034e-04  \n",
       "4.0  0.005855                   0.088802       0.722069  3.978916e-05  \n",
       "5.0  0.001100                   0.029429       0.519110  3.615971e-06  \n",
       "6.0  0.000229                   0.009868       0.346727  4.135985e-07  \n",
       "\n",
       "[6 rows x 32 columns]"
      ]
     },
     "execution_count": 39,
     "metadata": {},
     "output_type": "execute_result"
    }
   ],
   "source": [
    "country_survival_prediction = lognormal_aft.predict_survival_function(_4dm3_teams_qualifiers_table)\n",
    "\n",
    "country_survival_prediction"
   ]
  },
  {
   "cell_type": "markdown",
   "metadata": {},
   "source": [
    "We then want to observe the survival chance of **Philippines** (1st Place) and **United States** (Semifinals) according to Qualifiers Scores"
   ]
  },
  {
   "cell_type": "code",
   "execution_count": 40,
   "metadata": {},
   "outputs": [
    {
     "data": {
      "text/plain": [
       "<matplotlib.legend.Legend at 0x21abee7b430>"
      ]
     },
     "execution_count": 40,
     "metadata": {},
     "output_type": "execute_result"
    },
    {
     "data": {
      "image/png": "[encoded data removed]",
      "text/plain": [
       "<Figure size 432x288 with 1 Axes>"
      ]
     },
     "metadata": {
      "needs_background": "light"
     },
     "output_type": "display_data"
    }
   ],
   "source": [
    "ph_survival_chance = country_survival_prediction['Philippines']\n",
    "us_survival_chance = country_survival_prediction['United States']\n",
    "\n",
    "ph_survival_chance.plot()\n",
    "us_survival_chance.plot()\n",
    "plt.legend()"
   ]
  },
  {
   "cell_type": "markdown",
   "metadata": {},
   "source": [
    "According to Qualifiers Scores, **United States** has a slightly higher chance of survival in late game (Semifinals to Grand Finals). But the survival chance at the early game is equivalent to each other."
   ]
  },
  {
   "cell_type": "markdown",
   "metadata": {},
   "source": [
    "##### Survival Time Prediction\n",
    "\n",
    "Here, we use the model to predict the **Survival Time** or **Survival Round** of each country."
   ]
  },
  {
   "cell_type": "code",
   "execution_count": 41,
   "metadata": {},
   "outputs": [
    {
     "data": {
      "text/html": [
       "<div>\n",
       "<style scoped>\n",
       "    .dataframe tbody tr th:only-of-type {\n",
       "        vertical-align: middle;\n",
       "    }\n",
       "\n",
       "    .dataframe tbody tr th {\n",
       "        vertical-align: top;\n",
       "    }\n",
       "\n",
       "    .dataframe thead th {\n",
       "        text-align: right;\n",
       "    }\n",
       "</style>\n",
       "<table border=\"1\" class=\"dataframe\">\n",
       "  <thead>\n",
       "    <tr style=\"text-align: right;\">\n",
       "      <th></th>\n",
       "      <th>median_surv</th>\n",
       "    </tr>\n",
       "  </thead>\n",
       "  <tbody>\n",
       "    <tr>\n",
       "      <th>Argentina</th>\n",
       "      <td>1.703815</td>\n",
       "    </tr>\n",
       "    <tr>\n",
       "      <th>Australia</th>\n",
       "      <td>1.560647</td>\n",
       "    </tr>\n",
       "    <tr>\n",
       "      <th>Belgium</th>\n",
       "      <td>3.248892</td>\n",
       "    </tr>\n",
       "    <tr>\n",
       "      <th>Brazil</th>\n",
       "      <td>6.874649</td>\n",
       "    </tr>\n",
       "    <tr>\n",
       "      <th>Canada</th>\n",
       "      <td>0.980206</td>\n",
       "    </tr>\n",
       "  </tbody>\n",
       "</table>\n",
       "</div>"
      ],
      "text/plain": [
       "           median_surv\n",
       "Argentina     1.703815\n",
       "Australia     1.560647\n",
       "Belgium       3.248892\n",
       "Brazil        6.874649\n",
       "Canada        0.980206"
      ]
     },
     "execution_count": 41,
     "metadata": {},
     "output_type": "execute_result"
    }
   ],
   "source": [
    "country_median_survival_prediction = lognormal_aft.predict_median(_4dm3_teams_qualifiers_table)\n",
    "country_median_survival_prediction = pd.DataFrame(country_median_survival_prediction, columns=['median_surv'])\n",
    "country_median_survival_prediction.head()"
   ]
  },
  {
   "cell_type": "markdown",
   "metadata": {},
   "source": [
    "We use `surv_value_to_round` to convert the `median_surv` to the interpretable data, namely the round that the country is expected to be survived."
   ]
  },
  {
   "cell_type": "code",
   "execution_count": 44,
   "metadata": {},
   "outputs": [],
   "source": [
    "rounds = ['GS', 'RO16', 'QF', 'SF', 'F', 'GF']\n",
    "def surv_value_to_round(median_surv):\n",
    "    return rounds[min(round(median_surv)-1, 5)]"
   ]
  },
  {
   "cell_type": "markdown",
   "metadata": {},
   "source": [
    "We then convert the data from `median_surv` to `surv_round`"
   ]
  },
  {
   "cell_type": "code",
   "execution_count": 45,
   "metadata": {},
   "outputs": [
    {
     "data": {
      "text/html": [
       "<div>\n",
       "<style scoped>\n",
       "    .dataframe tbody tr th:only-of-type {\n",
       "        vertical-align: middle;\n",
       "    }\n",
       "\n",
       "    .dataframe tbody tr th {\n",
       "        vertical-align: top;\n",
       "    }\n",
       "\n",
       "    .dataframe thead th {\n",
       "        text-align: right;\n",
       "    }\n",
       "</style>\n",
       "<table border=\"1\" class=\"dataframe\">\n",
       "  <thead>\n",
       "    <tr style=\"text-align: right;\">\n",
       "      <th></th>\n",
       "      <th>median_surv</th>\n",
       "      <th>surv_round</th>\n",
       "    </tr>\n",
       "  </thead>\n",
       "  <tbody>\n",
       "    <tr>\n",
       "      <th>Brazil</th>\n",
       "      <td>6.874649</td>\n",
       "      <td>GF</td>\n",
       "    </tr>\n",
       "    <tr>\n",
       "      <th>Netherlands</th>\n",
       "      <td>6.378391</td>\n",
       "      <td>GF</td>\n",
       "    </tr>\n",
       "    <tr>\n",
       "      <th>United States</th>\n",
       "      <td>5.099797</td>\n",
       "      <td>F</td>\n",
       "    </tr>\n",
       "    <tr>\n",
       "      <th>Philippines</th>\n",
       "      <td>4.740467</td>\n",
       "      <td>F</td>\n",
       "    </tr>\n",
       "    <tr>\n",
       "      <th>France</th>\n",
       "      <td>4.679794</td>\n",
       "      <td>F</td>\n",
       "    </tr>\n",
       "    <tr>\n",
       "      <th>Poland</th>\n",
       "      <td>4.088814</td>\n",
       "      <td>SF</td>\n",
       "    </tr>\n",
       "    <tr>\n",
       "      <th>Malaysia</th>\n",
       "      <td>3.437959</td>\n",
       "      <td>QF</td>\n",
       "    </tr>\n",
       "    <tr>\n",
       "      <th>Belgium</th>\n",
       "      <td>3.248892</td>\n",
       "      <td>QF</td>\n",
       "    </tr>\n",
       "    <tr>\n",
       "      <th>Thailand</th>\n",
       "      <td>3.109768</td>\n",
       "      <td>QF</td>\n",
       "    </tr>\n",
       "    <tr>\n",
       "      <th>Korea, Republic of</th>\n",
       "      <td>2.774743</td>\n",
       "      <td>QF</td>\n",
       "    </tr>\n",
       "  </tbody>\n",
       "</table>\n",
       "</div>"
      ],
      "text/plain": [
       "                    median_surv surv_round\n",
       "Brazil                 6.874649         GF\n",
       "Netherlands            6.378391         GF\n",
       "United States          5.099797          F\n",
       "Philippines            4.740467          F\n",
       "France                 4.679794          F\n",
       "Poland                 4.088814         SF\n",
       "Malaysia               3.437959         QF\n",
       "Belgium                3.248892         QF\n",
       "Thailand               3.109768         QF\n",
       "Korea, Republic of     2.774743         QF"
      ]
     },
     "execution_count": 45,
     "metadata": {},
     "output_type": "execute_result"
    }
   ],
   "source": [
    "country_median_survival_prediction['surv_round'] = country_median_survival_prediction['median_surv'].apply(surv_value_to_round)\n",
    "country_median_survival_prediction.sort_values('median_surv', ascending=False).head(10)"
   ]
  },
  {
   "cell_type": "markdown",
   "metadata": {},
   "source": [
    "## References\n",
    "\n",
    "Survival Analysis models and Code : https://medium.com/the-researchers-guide/survival-analysis-in-python-km-estimate-cox-ph-and-aft-model-5533843c5d5d"
   ]
  }
 ],
 "metadata": {
  "interpreter": {
   "hash": "a9cff5a362bc38ef45d817ae74b1af54d6a076e3d773891282bce078b815ba34"
  },
  "kernelspec": {
   "display_name": "Python 3.10.4 64-bit",
   "language": "python",
   "name": "python3"
  },
  "language_info": {
   "codemirror_mode": {
    "name": "ipython",
    "version": 3
   },
   "file_extension": ".py",
   "mimetype": "text/x-python",
   "name": "python",
   "nbconvert_exporter": "python",
   "pygments_lexer": "ipython3",
   "version": "3.10.4"
  },
  "orig_nbformat": 4
 },
 "nbformat": 4,
 "nbformat_minor": 2
}
