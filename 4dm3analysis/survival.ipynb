{
 "cells": [
  {
   "cell_type": "markdown",
   "metadata": {},
   "source": [
    "# Survival Analysis of 4dm4 Data"
   ]
  },
  {
   "cell_type": "markdown",
   "metadata": {},
   "source": [
    "## Description\n",
    "\n",
    "This notebook is for the Survival Analysis of 4dm4 Data based on Qualifiers Scores of Each team"
   ]
  },
  {
   "cell_type": "markdown",
   "metadata": {},
   "source": [
    "## Initialization"
   ]
  },
  {
   "cell_type": "markdown",
   "metadata": {},
   "source": [
    "### Import the modules"
   ]
  },
  {
   "cell_type": "code",
   "execution_count": 1,
   "metadata": {},
   "outputs": [],
   "source": [
    "import os\n",
    "\n",
    "os.chdir(\"..\")"
   ]
  },
  {
   "cell_type": "code",
   "execution_count": 2,
   "metadata": {},
   "outputs": [],
   "source": [
    "import matplotlib.pyplot as plt\n",
    "import pandas as pd\n",
    "from utils import Dataset\n",
    "from lifelines import KaplanMeierFitter, CoxPHFitter\n",
    "from utils import get_table"
   ]
  },
  {
   "cell_type": "markdown",
   "metadata": {},
   "source": [
    "### Defining Constants\n",
    "\n",
    "In this case, we use **rounds** from `RO16` to `GF`"
   ]
  },
  {
   "cell_type": "code",
   "execution_count": 3,
   "metadata": {},
   "outputs": [],
   "source": [
    "rounds = ['RO16', 'QF', 'SF', 'F', 'GF']"
   ]
  },
  {
   "cell_type": "markdown",
   "metadata": {},
   "source": [
    "### Defining Table Names\n",
    "\n",
    "In this study, we will use `team_data` and `team_scores` table"
   ]
  },
  {
   "cell_type": "code",
   "execution_count": 4,
   "metadata": {},
   "outputs": [],
   "source": [
    "TEAM_DATA = 'team_data'\n",
    "TEAM_SCORES = 'team_scores'"
   ]
  },
  {
   "cell_type": "markdown",
   "metadata": {},
   "source": [
    "## Importing Dataset\n",
    "\n",
    "We use the downloaded data `4dm4.db` for this study, which is the spreadsheet data transformed into `sqlite Database` "
   ]
  },
  {
   "cell_type": "code",
   "execution_count": 5,
   "metadata": {},
   "outputs": [],
   "source": [
    "_4dm4_teams = Dataset('datasets/4dm3.db')"
   ]
  },
  {
   "cell_type": "markdown",
   "metadata": {},
   "source": [
    "### Querying the Data\n",
    "\n",
    "for Qualifiers Scores, we query the qualifiers score where the following teams are qualified from Qualification Procedure\n",
    "\n",
    "for Survival Round, we query the last_round where the following teams are qualified from Qualification Procedure"
   ]
  },
  {
   "cell_type": "code",
   "execution_count": 6,
   "metadata": {},
   "outputs": [],
   "source": [
    "# Qualifiers Score\n",
    "_4dm4_teams_qualifier_score = _4dm4_teams.query(\"\"\"\n",
    "select team_scores.country_name, team_scores.round, team_scores.beatmap_type, team_scores.beatmap_tag, team_scores.score_logit \n",
    "from team_scores left join team_data on team_scores.country_name = team_data.country_name \n",
    "where round=\"Q\" and team_data.last_round != \"Q\"\n",
    "\"\"\")\n",
    "# Survive\n",
    "_4dm4_teams_round_survive = _4dm4_teams.select(TEAM_DATA, ['country_name', 'last_rdint'], {'last_round': \"!= \\\"Q\\\"\"})"
   ]
  },
  {
   "cell_type": "code",
   "execution_count": 7,
   "metadata": {},
   "outputs": [
    {
     "data": {
      "text/html": [
       "<div>\n",
       "<style scoped>\n",
       "    .dataframe tbody tr th:only-of-type {\n",
       "        vertical-align: middle;\n",
       "    }\n",
       "\n",
       "    .dataframe tbody tr th {\n",
       "        vertical-align: top;\n",
       "    }\n",
       "\n",
       "    .dataframe thead th {\n",
       "        text-align: right;\n",
       "    }\n",
       "</style>\n",
       "<table border=\"1\" class=\"dataframe\">\n",
       "  <thead>\n",
       "    <tr style=\"text-align: right;\">\n",
       "      <th></th>\n",
       "      <th>country_name</th>\n",
       "      <th>round</th>\n",
       "      <th>beatmap_type</th>\n",
       "      <th>beatmap_tag</th>\n",
       "      <th>score_logit</th>\n",
       "    </tr>\n",
       "  </thead>\n",
       "  <tbody>\n",
       "    <tr>\n",
       "      <th>0</th>\n",
       "      <td>Argentina</td>\n",
       "      <td>Q</td>\n",
       "      <td>HB</td>\n",
       "      <td>1</td>\n",
       "      <td>3.576483</td>\n",
       "    </tr>\n",
       "    <tr>\n",
       "      <th>1</th>\n",
       "      <td>Argentina</td>\n",
       "      <td>Q</td>\n",
       "      <td>LN</td>\n",
       "      <td>1</td>\n",
       "      <td>3.000425</td>\n",
       "    </tr>\n",
       "    <tr>\n",
       "      <th>2</th>\n",
       "      <td>Argentina</td>\n",
       "      <td>Q</td>\n",
       "      <td>RC</td>\n",
       "      <td>1</td>\n",
       "      <td>4.819148</td>\n",
       "    </tr>\n",
       "    <tr>\n",
       "      <th>3</th>\n",
       "      <td>Argentina</td>\n",
       "      <td>Q</td>\n",
       "      <td>SV</td>\n",
       "      <td>1</td>\n",
       "      <td>3.619150</td>\n",
       "    </tr>\n",
       "    <tr>\n",
       "      <th>4</th>\n",
       "      <td>Australia</td>\n",
       "      <td>Q</td>\n",
       "      <td>HB</td>\n",
       "      <td>1</td>\n",
       "      <td>3.670724</td>\n",
       "    </tr>\n",
       "  </tbody>\n",
       "</table>\n",
       "</div>"
      ],
      "text/plain": [
       "  country_name round beatmap_type beatmap_tag  score_logit\n",
       "0    Argentina     Q           HB           1     3.576483\n",
       "1    Argentina     Q           LN           1     3.000425\n",
       "2    Argentina     Q           RC           1     4.819148\n",
       "3    Argentina     Q           SV           1     3.619150\n",
       "4    Australia     Q           HB           1     3.670724"
      ]
     },
     "execution_count": 7,
     "metadata": {},
     "output_type": "execute_result"
    }
   ],
   "source": [
    "_4dm4_teams_qualifier_score.head()"
   ]
  },
  {
   "cell_type": "code",
   "execution_count": 8,
   "metadata": {},
   "outputs": [
    {
     "data": {
      "text/html": [
       "<div>\n",
       "<style scoped>\n",
       "    .dataframe tbody tr th:only-of-type {\n",
       "        vertical-align: middle;\n",
       "    }\n",
       "\n",
       "    .dataframe tbody tr th {\n",
       "        vertical-align: top;\n",
       "    }\n",
       "\n",
       "    .dataframe thead th {\n",
       "        text-align: right;\n",
       "    }\n",
       "</style>\n",
       "<table border=\"1\" class=\"dataframe\">\n",
       "  <thead>\n",
       "    <tr style=\"text-align: right;\">\n",
       "      <th></th>\n",
       "      <th>country_name</th>\n",
       "      <th>last_rdint</th>\n",
       "    </tr>\n",
       "  </thead>\n",
       "  <tbody>\n",
       "    <tr>\n",
       "      <th>0</th>\n",
       "      <td>Argentina</td>\n",
       "      <td>1</td>\n",
       "    </tr>\n",
       "    <tr>\n",
       "      <th>1</th>\n",
       "      <td>Australia</td>\n",
       "      <td>1</td>\n",
       "    </tr>\n",
       "    <tr>\n",
       "      <th>2</th>\n",
       "      <td>Belgium</td>\n",
       "      <td>3</td>\n",
       "    </tr>\n",
       "    <tr>\n",
       "      <th>3</th>\n",
       "      <td>Brazil</td>\n",
       "      <td>6</td>\n",
       "    </tr>\n",
       "    <tr>\n",
       "      <th>4</th>\n",
       "      <td>Canada</td>\n",
       "      <td>1</td>\n",
       "    </tr>\n",
       "  </tbody>\n",
       "</table>\n",
       "</div>"
      ],
      "text/plain": [
       "  country_name  last_rdint\n",
       "0    Argentina           1\n",
       "1    Australia           1\n",
       "2      Belgium           3\n",
       "3       Brazil           6\n",
       "4       Canada           1"
      ]
     },
     "execution_count": 8,
     "metadata": {},
     "output_type": "execute_result"
    }
   ],
   "source": [
    "_4dm4_teams_round_survive.head()"
   ]
  },
  {
   "cell_type": "markdown",
   "metadata": {},
   "source": [
    "### Defining Functions to Translate Data"
   ]
  },
  {
   "cell_type": "markdown",
   "metadata": {},
   "source": [
    "- `last_round_to_time` is a function to translate the last round that the team survived to time from 1 to 6 ordered from RO16 to GF\n",
    "- `die` ~~idk what am i thinking when trying to name a function~~ is a function to tell whether the team is Eliminated. All teams are Eliminated (1) except `France` (4dm4 Champion) so we will mark them as `Censored` which is 0"
   ]
  },
  {
   "cell_type": "code",
   "execution_count": 9,
   "metadata": {},
   "outputs": [],
   "source": [
    "def last_round_to_time(survive_round):\n",
    "    return {v:k+1 for k, v in enumerate(rounds)}[survive_round]\n",
    "\n",
    "def die(country):\n",
    "    if country == \"Philippines\":\n",
    "        return 0\n",
    "    return 1"
   ]
  },
  {
   "cell_type": "markdown",
   "metadata": {},
   "source": [
    "### Translate Data"
   ]
  },
  {
   "cell_type": "markdown",
   "metadata": {},
   "source": [
    "In this procedure, we transform the Qualifiers Scores into a table which is usable by the module and translate the Survive Data using the function defined above."
   ]
  },
  {
   "cell_type": "code",
   "execution_count": 10,
   "metadata": {},
   "outputs": [],
   "source": [
    "# translate qualifiers data into tables\n",
    "\n",
    "_4dm4_teams_qualifiers_table = get_table(_4dm4_teams_qualifier_score)\n",
    "\n",
    "# Translate the survival data\n",
    "\n",
    "_4dm4_teams_round_survive.index = _4dm4_teams_round_survive['country_name']\n",
    "_4dm4_teams_round_survive['time'] = _4dm4_teams_round_survive['last_rdint']\n",
    "_4dm4_teams_round_survive['status'] = _4dm4_teams_round_survive['country_name'].apply(die)\n",
    "_4dm4_teams_round_survive = _4dm4_teams_round_survive.drop('last_rdint', axis=1)"
   ]
  },
  {
   "cell_type": "code",
   "execution_count": 11,
   "metadata": {},
   "outputs": [
    {
     "data": {
      "text/html": [
       "<div>\n",
       "<style scoped>\n",
       "    .dataframe tbody tr th:only-of-type {\n",
       "        vertical-align: middle;\n",
       "    }\n",
       "\n",
       "    .dataframe tbody tr th {\n",
       "        vertical-align: top;\n",
       "    }\n",
       "\n",
       "    .dataframe thead th {\n",
       "        text-align: right;\n",
       "    }\n",
       "</style>\n",
       "<table border=\"1\" class=\"dataframe\">\n",
       "  <thead>\n",
       "    <tr style=\"text-align: right;\">\n",
       "      <th></th>\n",
       "      <th>Q_HB_1</th>\n",
       "      <th>Q_LN_1</th>\n",
       "      <th>Q_RC_1</th>\n",
       "      <th>Q_SV_1</th>\n",
       "    </tr>\n",
       "  </thead>\n",
       "  <tbody>\n",
       "    <tr>\n",
       "      <th>Argentina</th>\n",
       "      <td>3.576483</td>\n",
       "      <td>3.000425</td>\n",
       "      <td>4.819148</td>\n",
       "      <td>3.619150</td>\n",
       "    </tr>\n",
       "    <tr>\n",
       "      <th>Australia</th>\n",
       "      <td>3.670724</td>\n",
       "      <td>3.116724</td>\n",
       "      <td>5.046926</td>\n",
       "      <td>3.539281</td>\n",
       "    </tr>\n",
       "    <tr>\n",
       "      <th>Belgium</th>\n",
       "      <td>3.731808</td>\n",
       "      <td>3.405876</td>\n",
       "      <td>5.198285</td>\n",
       "      <td>4.266866</td>\n",
       "    </tr>\n",
       "    <tr>\n",
       "      <th>Brazil</th>\n",
       "      <td>4.713861</td>\n",
       "      <td>4.415284</td>\n",
       "      <td>6.126861</td>\n",
       "      <td>4.791950</td>\n",
       "    </tr>\n",
       "    <tr>\n",
       "      <th>Canada</th>\n",
       "      <td>3.384376</td>\n",
       "      <td>2.859818</td>\n",
       "      <td>5.060566</td>\n",
       "      <td>3.118974</td>\n",
       "    </tr>\n",
       "  </tbody>\n",
       "</table>\n",
       "</div>"
      ],
      "text/plain": [
       "             Q_HB_1    Q_LN_1    Q_RC_1    Q_SV_1\n",
       "Argentina  3.576483  3.000425  4.819148  3.619150\n",
       "Australia  3.670724  3.116724  5.046926  3.539281\n",
       "Belgium    3.731808  3.405876  5.198285  4.266866\n",
       "Brazil     4.713861  4.415284  6.126861  4.791950\n",
       "Canada     3.384376  2.859818  5.060566  3.118974"
      ]
     },
     "execution_count": 11,
     "metadata": {},
     "output_type": "execute_result"
    }
   ],
   "source": [
    "_4dm4_teams_qualifiers_table.head()"
   ]
  },
  {
   "cell_type": "code",
   "execution_count": 12,
   "metadata": {},
   "outputs": [
    {
     "data": {
      "text/html": [
       "<div>\n",
       "<style scoped>\n",
       "    .dataframe tbody tr th:only-of-type {\n",
       "        vertical-align: middle;\n",
       "    }\n",
       "\n",
       "    .dataframe tbody tr th {\n",
       "        vertical-align: top;\n",
       "    }\n",
       "\n",
       "    .dataframe thead th {\n",
       "        text-align: right;\n",
       "    }\n",
       "</style>\n",
       "<table border=\"1\" class=\"dataframe\">\n",
       "  <thead>\n",
       "    <tr style=\"text-align: right;\">\n",
       "      <th></th>\n",
       "      <th>country_name</th>\n",
       "      <th>time</th>\n",
       "      <th>status</th>\n",
       "    </tr>\n",
       "    <tr>\n",
       "      <th>country_name</th>\n",
       "      <th></th>\n",
       "      <th></th>\n",
       "      <th></th>\n",
       "    </tr>\n",
       "  </thead>\n",
       "  <tbody>\n",
       "    <tr>\n",
       "      <th>Argentina</th>\n",
       "      <td>Argentina</td>\n",
       "      <td>1</td>\n",
       "      <td>1</td>\n",
       "    </tr>\n",
       "    <tr>\n",
       "      <th>Australia</th>\n",
       "      <td>Australia</td>\n",
       "      <td>1</td>\n",
       "      <td>1</td>\n",
       "    </tr>\n",
       "    <tr>\n",
       "      <th>Belgium</th>\n",
       "      <td>Belgium</td>\n",
       "      <td>3</td>\n",
       "      <td>1</td>\n",
       "    </tr>\n",
       "    <tr>\n",
       "      <th>Brazil</th>\n",
       "      <td>Brazil</td>\n",
       "      <td>6</td>\n",
       "      <td>1</td>\n",
       "    </tr>\n",
       "    <tr>\n",
       "      <th>Canada</th>\n",
       "      <td>Canada</td>\n",
       "      <td>1</td>\n",
       "      <td>1</td>\n",
       "    </tr>\n",
       "  </tbody>\n",
       "</table>\n",
       "</div>"
      ],
      "text/plain": [
       "             country_name  time  status\n",
       "country_name                           \n",
       "Argentina       Argentina     1       1\n",
       "Australia       Australia     1       1\n",
       "Belgium           Belgium     3       1\n",
       "Brazil             Brazil     6       1\n",
       "Canada             Canada     1       1"
      ]
     },
     "execution_count": 12,
     "metadata": {},
     "output_type": "execute_result"
    }
   ],
   "source": [
    "_4dm4_teams_round_survive.head()"
   ]
  },
  {
   "cell_type": "markdown",
   "metadata": {},
   "source": [
    "## Exploratory Data Analysis"
   ]
  },
  {
   "cell_type": "markdown",
   "metadata": {},
   "source": [
    "### Survival Histogram\n",
    "\n",
    "We start by plotting the Survival Distribution of teams"
   ]
  },
  {
   "cell_type": "code",
   "execution_count": 13,
   "metadata": {},
   "outputs": [],
   "source": [
    "T = _4dm4_teams_round_survive['time']\n",
    "E = _4dm4_teams_round_survive['status']"
   ]
  },
  {
   "cell_type": "code",
   "execution_count": 14,
   "metadata": {},
   "outputs": [
    {
     "data": {
      "text/plain": [
       "(array([16.,  0.,  1.,  0.,  3.,  0.,  6.,  0.,  3.,  3.]),\n",
       " array([1. , 1.5, 2. , 2.5, 3. , 3.5, 4. , 4.5, 5. , 5.5, 6. ]),\n",
       " <BarContainer object of 10 artists>)"
      ]
     },
     "execution_count": 14,
     "metadata": {},
     "output_type": "execute_result"
    },
    {
     "data": {
      "image/png": "[encoded data removed]",
      "text/plain": [
       "<Figure size 432x288 with 1 Axes>"
      ]
     },
     "metadata": {
      "needs_background": "light"
     },
     "output_type": "display_data"
    }
   ],
   "source": [
    "plt.hist(T)"
   ]
  },
  {
   "cell_type": "markdown",
   "metadata": {},
   "source": [
    "### Kaplan-Meier Model\n",
    "\n",
    "This model tells the Discrete `Survival Probability` over `time` with some confidence interval as shown in this code."
   ]
  },
  {
   "cell_type": "code",
   "execution_count": 15,
   "metadata": {},
   "outputs": [
    {
     "data": {
      "text/plain": [
       "<AxesSubplot:xlabel='timeline'>"
      ]
     },
     "execution_count": 15,
     "metadata": {},
     "output_type": "execute_result"
    },
    {
     "data": {
      "image/png": "[encoded data removed]",
      "text/plain": [
       "<Figure size 432x288 with 1 Axes>"
      ]
     },
     "metadata": {
      "needs_background": "light"
     },
     "output_type": "display_data"
    }
   ],
   "source": [
    "kmf = KaplanMeierFitter()\n",
    "kmf.fit(durations = T, event_observed = E)\n",
    "kmf.plot_survival_function()"
   ]
  },
  {
   "cell_type": "markdown",
   "metadata": {},
   "source": [
    "Here, we use the model to plot the cumulative density. In other words, cumulative relative frequency of teams who are ~~dead~~ eliminated"
   ]
  },
  {
   "cell_type": "code",
   "execution_count": 16,
   "metadata": {},
   "outputs": [
    {
     "data": {
      "text/plain": [
       "<AxesSubplot:xlabel='timeline'>"
      ]
     },
     "execution_count": 16,
     "metadata": {},
     "output_type": "execute_result"
    },
    {
     "data": {
      "image/png": "[encoded data removed]",
      "text/plain": [
       "<Figure size 432x288 with 1 Axes>"
      ]
     },
     "metadata": {
      "needs_background": "light"
     },
     "output_type": "display_data"
    }
   ],
   "source": [
    "kmf.plot_cumulative_density()"
   ]
  },
  {
   "cell_type": "markdown",
   "metadata": {},
   "source": [
    "### Calculating Median Survival Times using Kaplan-Meier Model\n",
    "\n",
    "Median Survival Times is the middle value of the survival times, we calculate the median and confidence interval of them."
   ]
  },
  {
   "cell_type": "code",
   "execution_count": 17,
   "metadata": {},
   "outputs": [
    {
     "data": {
      "text/plain": [
       "1.0"
      ]
     },
     "execution_count": 17,
     "metadata": {},
     "output_type": "execute_result"
    }
   ],
   "source": [
    "from lifelines.utils import median_survival_times\n",
    "median_ = kmf.median_survival_time_\n",
    "median_confidence_interval_ = median_survival_times(kmf.confidence_interval_)\n",
    "\n",
    "median_"
   ]
  },
  {
   "cell_type": "code",
   "execution_count": 18,
   "metadata": {},
   "outputs": [
    {
     "data": {
      "text/html": [
       "<div>\n",
       "<style scoped>\n",
       "    .dataframe tbody tr th:only-of-type {\n",
       "        vertical-align: middle;\n",
       "    }\n",
       "\n",
       "    .dataframe tbody tr th {\n",
       "        vertical-align: top;\n",
       "    }\n",
       "\n",
       "    .dataframe thead th {\n",
       "        text-align: right;\n",
       "    }\n",
       "</style>\n",
       "<table border=\"1\" class=\"dataframe\">\n",
       "  <thead>\n",
       "    <tr style=\"text-align: right;\">\n",
       "      <th></th>\n",
       "      <th>KM_estimate_lower_0.95</th>\n",
       "      <th>KM_estimate_upper_0.95</th>\n",
       "    </tr>\n",
       "  </thead>\n",
       "  <tbody>\n",
       "    <tr>\n",
       "      <th>0.5</th>\n",
       "      <td>1.0</td>\n",
       "      <td>4.0</td>\n",
       "    </tr>\n",
       "  </tbody>\n",
       "</table>\n",
       "</div>"
      ],
      "text/plain": [
       "     KM_estimate_lower_0.95  KM_estimate_upper_0.95\n",
       "0.5                     1.0                     4.0"
      ]
     },
     "execution_count": 18,
     "metadata": {},
     "output_type": "execute_result"
    }
   ],
   "source": [
    "median_confidence_interval_"
   ]
  },
  {
   "cell_type": "markdown",
   "metadata": {},
   "source": [
    "## Data Preprocessing\n",
    "\n",
    "In this process, we only concatenate `Qualifiers Score` and `Survival Time` and `Status` together."
   ]
  },
  {
   "cell_type": "code",
   "execution_count": 19,
   "metadata": {},
   "outputs": [
    {
     "data": {
      "text/html": [
       "<div>\n",
       "<style scoped>\n",
       "    .dataframe tbody tr th:only-of-type {\n",
       "        vertical-align: middle;\n",
       "    }\n",
       "\n",
       "    .dataframe tbody tr th {\n",
       "        vertical-align: top;\n",
       "    }\n",
       "\n",
       "    .dataframe thead th {\n",
       "        text-align: right;\n",
       "    }\n",
       "</style>\n",
       "<table border=\"1\" class=\"dataframe\">\n",
       "  <thead>\n",
       "    <tr style=\"text-align: right;\">\n",
       "      <th></th>\n",
       "      <th>Q_HB_1</th>\n",
       "      <th>Q_LN_1</th>\n",
       "      <th>Q_RC_1</th>\n",
       "      <th>Q_SV_1</th>\n",
       "      <th>time</th>\n",
       "      <th>status</th>\n",
       "    </tr>\n",
       "  </thead>\n",
       "  <tbody>\n",
       "    <tr>\n",
       "      <th>Argentina</th>\n",
       "      <td>3.576483</td>\n",
       "      <td>3.000425</td>\n",
       "      <td>4.819148</td>\n",
       "      <td>3.619150</td>\n",
       "      <td>1</td>\n",
       "      <td>1</td>\n",
       "    </tr>\n",
       "    <tr>\n",
       "      <th>Australia</th>\n",
       "      <td>3.670724</td>\n",
       "      <td>3.116724</td>\n",
       "      <td>5.046926</td>\n",
       "      <td>3.539281</td>\n",
       "      <td>1</td>\n",
       "      <td>1</td>\n",
       "    </tr>\n",
       "    <tr>\n",
       "      <th>Belgium</th>\n",
       "      <td>3.731808</td>\n",
       "      <td>3.405876</td>\n",
       "      <td>5.198285</td>\n",
       "      <td>4.266866</td>\n",
       "      <td>3</td>\n",
       "      <td>1</td>\n",
       "    </tr>\n",
       "    <tr>\n",
       "      <th>Brazil</th>\n",
       "      <td>4.713861</td>\n",
       "      <td>4.415284</td>\n",
       "      <td>6.126861</td>\n",
       "      <td>4.791950</td>\n",
       "      <td>6</td>\n",
       "      <td>1</td>\n",
       "    </tr>\n",
       "    <tr>\n",
       "      <th>Canada</th>\n",
       "      <td>3.384376</td>\n",
       "      <td>2.859818</td>\n",
       "      <td>5.060566</td>\n",
       "      <td>3.118974</td>\n",
       "      <td>1</td>\n",
       "      <td>1</td>\n",
       "    </tr>\n",
       "  </tbody>\n",
       "</table>\n",
       "</div>"
      ],
      "text/plain": [
       "             Q_HB_1    Q_LN_1    Q_RC_1    Q_SV_1  time  status\n",
       "Argentina  3.576483  3.000425  4.819148  3.619150     1       1\n",
       "Australia  3.670724  3.116724  5.046926  3.539281     1       1\n",
       "Belgium    3.731808  3.405876  5.198285  4.266866     3       1\n",
       "Brazil     4.713861  4.415284  6.126861  4.791950     6       1\n",
       "Canada     3.384376  2.859818  5.060566  3.118974     1       1"
      ]
     },
     "execution_count": 19,
     "metadata": {},
     "output_type": "execute_result"
    }
   ],
   "source": [
    "data = _4dm4_teams_qualifiers_table\n",
    "\n",
    "data['time'] = _4dm4_teams_round_survive['time']\n",
    "data['status'] = _4dm4_teams_round_survive['status']\n",
    "\n",
    "data.head()"
   ]
  },
  {
   "cell_type": "markdown",
   "metadata": {},
   "source": [
    "## Survival Analysis Models\n",
    "\n"
   ]
  },
  {
   "cell_type": "markdown",
   "metadata": {},
   "source": [
    "### Cox-Proportional Hazard Model\n",
    "\n",
    "Cox-Proportional Hazard Model is used to find the odds ratio of the parameters, namely \"How the variable changes affect the survival chance\". This model is implemented by using non-parametric method with the exponential model and some complicated stuff under the assumption that the odds ratio is a constant. We use this model to observe how the changes in qualifiers scores of each stage affect the chance of being qualified. "
   ]
  },
  {
   "cell_type": "markdown",
   "metadata": {},
   "source": [
    "#### Model Fitting and Summary"
   ]
  },
  {
   "cell_type": "code",
   "execution_count": 20,
   "metadata": {},
   "outputs": [],
   "source": [
    "coxph = CoxPHFitter()"
   ]
  },
  {
   "cell_type": "code",
   "execution_count": 21,
   "metadata": {},
   "outputs": [
    {
     "data": {
      "text/plain": [
       "<lifelines.CoxPHFitter: fitted with 32 total observations, 1 right-censored observations>"
      ]
     },
     "execution_count": 21,
     "metadata": {},
     "output_type": "execute_result"
    }
   ],
   "source": [
    "coxph.fit(data, duration_col='time', event_col='status')"
   ]
  },
  {
   "cell_type": "code",
   "execution_count": 22,
   "metadata": {},
   "outputs": [
    {
     "name": "stderr",
     "output_type": "stream",
     "text": [
      "c:\\Users\\HP\\AppData\\Local\\Programs\\Python\\Python310\\lib\\site-packages\\lifelines\\utils\\printer.py:62: FutureWarning: In future versions `DataFrame.to_latex` is expected to utilise the base implementation of `Styler.to_latex` for formatting and rendering. The arguments signature may therefore change. It is recommended instead to use `DataFrame.style.to_latex` which also contains additional functionality.\n",
      "  return summary_df[columns].to_latex(float_format=\"%.\" + str(self.decimals) + \"f\")\n"
     ]
    },
    {
     "data": {
      "text/html": [
       "<div>\n",
       "<style scoped>\n",
       "    .dataframe tbody tr th:only-of-type {\n",
       "        vertical-align: middle;\n",
       "    }\n",
       "\n",
       "    .dataframe tbody tr th {\n",
       "        vertical-align: top;\n",
       "    }\n",
       "\n",
       "    .dataframe thead th {\n",
       "        text-align: right;\n",
       "    }\n",
       "</style>\n",
       "<table border=\"1\" class=\"dataframe\">\n",
       "  <tbody>\n",
       "    <tr>\n",
       "      <th>model</th>\n",
       "      <td>lifelines.CoxPHFitter</td>\n",
       "    </tr>\n",
       "    <tr>\n",
       "      <th>duration col</th>\n",
       "      <td>'time'</td>\n",
       "    </tr>\n",
       "    <tr>\n",
       "      <th>event col</th>\n",
       "      <td>'status'</td>\n",
       "    </tr>\n",
       "    <tr>\n",
       "      <th>baseline estimation</th>\n",
       "      <td>breslow</td>\n",
       "    </tr>\n",
       "    <tr>\n",
       "      <th>number of observations</th>\n",
       "      <td>32</td>\n",
       "    </tr>\n",
       "    <tr>\n",
       "      <th>number of events observed</th>\n",
       "      <td>31</td>\n",
       "    </tr>\n",
       "    <tr>\n",
       "      <th>partial log-likelihood</th>\n",
       "      <td>-67.640</td>\n",
       "    </tr>\n",
       "    <tr>\n",
       "      <th>time fit was run</th>\n",
       "      <td>2022-07-30 06:12:30 UTC</td>\n",
       "    </tr>\n",
       "  </tbody>\n",
       "</table>\n",
       "</div><table border=\"1\" class=\"dataframe\">\n",
       "  <thead>\n",
       "    <tr style=\"text-align: right;\">\n",
       "      <th style=\"min-width: 12px;\"></th>\n",
       "      <th style=\"min-width: 12px;\">coef</th>\n",
       "      <th style=\"min-width: 12px;\">exp(coef)</th>\n",
       "      <th style=\"min-width: 12px;\">se(coef)</th>\n",
       "      <th style=\"min-width: 12px;\">coef lower 95%</th>\n",
       "      <th style=\"min-width: 12px;\">coef upper 95%</th>\n",
       "      <th style=\"min-width: 12px;\">exp(coef) lower 95%</th>\n",
       "      <th style=\"min-width: 12px;\">exp(coef) upper 95%</th>\n",
       "      <th style=\"min-width: 12px;\">cmp to</th>\n",
       "      <th style=\"min-width: 12px;\">z</th>\n",
       "      <th style=\"min-width: 12px;\">p</th>\n",
       "      <th style=\"min-width: 12px;\">-log2(p)</th>\n",
       "    </tr>\n",
       "  </thead>\n",
       "  <tbody>\n",
       "    <tr>\n",
       "      <th>Q_HB_1</th>\n",
       "      <td>-0.091</td>\n",
       "      <td>0.913</td>\n",
       "      <td>1.098</td>\n",
       "      <td>-2.242</td>\n",
       "      <td>2.061</td>\n",
       "      <td>0.106</td>\n",
       "      <td>7.852</td>\n",
       "      <td>0.000</td>\n",
       "      <td>-0.083</td>\n",
       "      <td>0.934</td>\n",
       "      <td>0.098</td>\n",
       "    </tr>\n",
       "    <tr>\n",
       "      <th>Q_LN_1</th>\n",
       "      <td>-0.976</td>\n",
       "      <td>0.377</td>\n",
       "      <td>0.682</td>\n",
       "      <td>-2.312</td>\n",
       "      <td>0.360</td>\n",
       "      <td>0.099</td>\n",
       "      <td>1.433</td>\n",
       "      <td>0.000</td>\n",
       "      <td>-1.432</td>\n",
       "      <td>0.152</td>\n",
       "      <td>2.717</td>\n",
       "    </tr>\n",
       "    <tr>\n",
       "      <th>Q_RC_1</th>\n",
       "      <td>1.165</td>\n",
       "      <td>3.206</td>\n",
       "      <td>0.995</td>\n",
       "      <td>-0.786</td>\n",
       "      <td>3.116</td>\n",
       "      <td>0.456</td>\n",
       "      <td>22.558</td>\n",
       "      <td>0.000</td>\n",
       "      <td>1.171</td>\n",
       "      <td>0.242</td>\n",
       "      <td>2.048</td>\n",
       "    </tr>\n",
       "    <tr>\n",
       "      <th>Q_SV_1</th>\n",
       "      <td>-2.104</td>\n",
       "      <td>0.122</td>\n",
       "      <td>0.756</td>\n",
       "      <td>-3.586</td>\n",
       "      <td>-0.622</td>\n",
       "      <td>0.028</td>\n",
       "      <td>0.537</td>\n",
       "      <td>0.000</td>\n",
       "      <td>-2.782</td>\n",
       "      <td>0.005</td>\n",
       "      <td>7.534</td>\n",
       "    </tr>\n",
       "  </tbody>\n",
       "</table><br><div>\n",
       "<style scoped>\n",
       "    .dataframe tbody tr th:only-of-type {\n",
       "        vertical-align: middle;\n",
       "    }\n",
       "\n",
       "    .dataframe tbody tr th {\n",
       "        vertical-align: top;\n",
       "    }\n",
       "\n",
       "    .dataframe thead th {\n",
       "        text-align: right;\n",
       "    }\n",
       "</style>\n",
       "<table border=\"1\" class=\"dataframe\">\n",
       "  <tbody>\n",
       "    <tr>\n",
       "      <th>Concordance</th>\n",
       "      <td>0.921</td>\n",
       "    </tr>\n",
       "    <tr>\n",
       "      <th>Partial AIC</th>\n",
       "      <td>143.280</td>\n",
       "    </tr>\n",
       "    <tr>\n",
       "      <th>log-likelihood ratio test</th>\n",
       "      <td>27.836 on 4 df</td>\n",
       "    </tr>\n",
       "    <tr>\n",
       "      <th>-log2(p) of ll-ratio test</th>\n",
       "      <td>16.180</td>\n",
       "    </tr>\n",
       "  </tbody>\n",
       "</table>\n",
       "</div>"
      ],
      "text/latex": [
       "\\begin{tabular}{lrrrrrrrrrrr}\n",
       "\\toprule\n",
       "{} &   coef &  exp(coef) &  se(coef) &  coef lower 95\\% &  coef upper 95\\% &  exp(coef) lower 95\\% &  exp(coef) upper 95\\% &  cmp to &      z &     p &  -log2(p) \\\\\n",
       "covariate &        &            &           &                 &                 &                      &                      &         &        &       &           \\\\\n",
       "\\midrule\n",
       "Q\\_HB\\_1    & -0.091 &      0.913 &     1.098 &          -2.242 &           2.061 &                0.106 &                7.852 &   0.000 & -0.083 & 0.934 &     0.098 \\\\\n",
       "Q\\_LN\\_1    & -0.976 &      0.377 &     0.682 &          -2.312 &           0.360 &                0.099 &                1.433 &   0.000 & -1.432 & 0.152 &     2.717 \\\\\n",
       "Q\\_RC\\_1    &  1.165 &      3.206 &     0.995 &          -0.786 &           3.116 &                0.456 &               22.558 &   0.000 &  1.171 & 0.242 &     2.048 \\\\\n",
       "Q\\_SV\\_1    & -2.104 &      0.122 &     0.756 &          -3.586 &          -0.622 &                0.028 &                0.537 &   0.000 & -2.782 & 0.005 &     7.534 \\\\\n",
       "\\bottomrule\n",
       "\\end{tabular}\n"
      ],
      "text/plain": [
       "<lifelines.CoxPHFitter: fitted with 32 total observations, 1 right-censored observations>\n",
       "             duration col = 'time'\n",
       "                event col = 'status'\n",
       "      baseline estimation = breslow\n",
       "   number of observations = 32\n",
       "number of events observed = 31\n",
       "   partial log-likelihood = -67.640\n",
       "         time fit was run = 2022-07-30 06:12:30 UTC\n",
       "\n",
       "---\n",
       "            coef  exp(coef)   se(coef)   coef lower 95%   coef upper 95%  exp(coef) lower 95%  exp(coef) upper 95%\n",
       "covariate                                                                                                         \n",
       "Q_HB_1    -0.091      0.913      1.098           -2.242            2.061                0.106                7.852\n",
       "Q_LN_1    -0.976      0.377      0.682           -2.312            0.360                0.099                1.433\n",
       "Q_RC_1     1.165      3.206      0.995           -0.786            3.116                0.456               22.558\n",
       "Q_SV_1    -2.104      0.122      0.756           -3.586           -0.622                0.028                0.537\n",
       "\n",
       "            cmp to      z     p   -log2(p)\n",
       "covariate                                 \n",
       "Q_HB_1       0.000 -0.083 0.934      0.098\n",
       "Q_LN_1       0.000 -1.432 0.152      2.717\n",
       "Q_RC_1       0.000  1.171 0.242      2.048\n",
       "Q_SV_1       0.000 -2.782 0.005      7.534\n",
       "---\n",
       "Concordance = 0.921\n",
       "Partial AIC = 143.280\n",
       "log-likelihood ratio test = 27.836 on 4 df\n",
       "-log2(p) of ll-ratio test = 16.180"
      ]
     },
     "metadata": {},
     "output_type": "display_data"
    }
   ],
   "source": [
    "coxph.print_summary(decimals=3)"
   ]
  },
  {
   "cell_type": "markdown",
   "metadata": {},
   "source": [
    "From the summary of the **Cox-Proportional Hazard Model** we can see that \n",
    "\n",
    "- **Q_RC_2** or [**Fleshgod Apocalypse - Fury**](https://osu.ppy.sh/beatmapsets/1665436#mania/3399979) affects the chance of survival the most by reducing the odds of elimination by approximately **82%** if the **score_logit** is increased by 1. With the **p-value** equals to 0.014, the result is significant according to the significance level of 0.05.\n",
    "\n",
    "- **Q_SV_1** or [**she - Music Like This**](https://osu.ppy.sh/beatmapsets/1665415#mania/3399945) marginally affects the chance of survival by reducing the odds of elimination by approximately **47%** if the **score_logit** is increased by 1.\n",
    "\n",
    "- **Q_RC_1** or [**Fractal Dreamers - Defiance**](https://osu.ppy.sh/beatmapsets/1665424#mania/3399962) has no effect to the chance of surviving according to **p-value**. However according to the exponentiated coefficients, if the **score_logit** is increased by 1, the odds of elimination is increased by approximately **12%**"
   ]
  },
  {
   "cell_type": "markdown",
   "metadata": {},
   "source": [
    "#### Partial Effects Visualization"
   ]
  },
  {
   "cell_type": "markdown",
   "metadata": {},
   "source": [
    "This part of the analysis is about visualizing how score of each stage affects the survival rate of each round\n",
    "\n",
    "We will have 3 graphs to visualize the partial effects\n",
    "- **[ROUND_CATEGORY_TAG] = 3** : Simulating the situation where the average team score is 952574 (approx 950k) or the total score is approximately 2850000 or `logit(score) = 3`\n",
    "- **[ROUND_CATEGORY_TAG] = 5** : Simulating the situation where the average team score is 993307 (approx 993k) or the total score is approximately 2979000 or `logit(score) = 5`\n",
    "- **Baseline** : The Kaplan-Meier plotting of the survival chance"
   ]
  },
  {
   "cell_type": "markdown",
   "metadata": {},
   "source": [
    "##### Qualifiers RC1 / Stage 2 (Defiance)"
   ]
  },
  {
   "cell_type": "code",
   "execution_count": 23,
   "metadata": {},
   "outputs": [
    {
     "data": {
      "text/plain": [
       "<AxesSubplot:>"
      ]
     },
     "execution_count": 23,
     "metadata": {},
     "output_type": "execute_result"
    },
    {
     "data": {
      "image/png": "[encoded data removed]",
      "text/plain": [
       "<Figure size 432x288 with 1 Axes>"
      ]
     },
     "metadata": {
      "needs_background": "light"
     },
     "output_type": "display_data"
    }
   ],
   "source": [
    "coxph.plot_partial_effects_on_outcome(covariates = 'Q_RC_1', values = [3,5], cmap = 'coolwarm')"
   ]
  },
  {
   "cell_type": "markdown",
   "metadata": {},
   "source": [
    "According to the simulation\n",
    "\n",
    "- There is no significant difference between a team with average 950k and a team with average 993k on Defiance"
   ]
  },
  {
   "cell_type": "markdown",
   "metadata": {},
   "source": [
    "##### Qualifiers LN1 / Stage 3 (Transform)"
   ]
  },
  {
   "cell_type": "code",
   "execution_count": 24,
   "metadata": {},
   "outputs": [
    {
     "data": {
      "text/plain": [
       "<AxesSubplot:>"
      ]
     },
     "execution_count": 24,
     "metadata": {},
     "output_type": "execute_result"
    },
    {
     "data": {
      "image/png": "[encoded data removed]",
      "text/plain": [
       "<Figure size 432x288 with 1 Axes>"
      ]
     },
     "metadata": {
      "needs_background": "light"
     },
     "output_type": "display_data"
    }
   ],
   "source": [
    "coxph.plot_partial_effects_on_outcome(covariates = 'Q_LN_1', values = [3,5], cmap = 'coolwarm')"
   ]
  },
  {
   "cell_type": "markdown",
   "metadata": {},
   "source": [
    "According to the simulation\n",
    "\n",
    "- The chance of survival at the Quarterfinals round dropped drastically if the average team score of Transform is approximately 950k\n",
    "- The team with the average score 993k maintains the consistency of the chance of getting eliminated until Grand Finals"
   ]
  },
  {
   "cell_type": "markdown",
   "metadata": {},
   "source": [
    "##### Qualifiers HB1 / Stage 5 (HIVEMIND)"
   ]
  },
  {
   "cell_type": "code",
   "execution_count": 25,
   "metadata": {},
   "outputs": [
    {
     "data": {
      "text/plain": [
       "<AxesSubplot:>"
      ]
     },
     "execution_count": 25,
     "metadata": {},
     "output_type": "execute_result"
    },
    {
     "data": {
      "image/png": "[encoded data removed]",
      "text/plain": [
       "<Figure size 432x288 with 1 Axes>"
      ]
     },
     "metadata": {
      "needs_background": "light"
     },
     "output_type": "display_data"
    }
   ],
   "source": [
    "coxph.plot_partial_effects_on_outcome(covariates = 'Q_HB_1', values = [3,5], cmap = 'coolwarm')"
   ]
  },
  {
   "cell_type": "markdown",
   "metadata": {},
   "source": [
    "According to the simulation\n",
    "\n",
    "- The chance of survival at the Quarterfinals round dropped drastically if the average team score of HIVEMIND is approximately 950k\n",
    "- The team with the average score 993k maintains the consistency of the chance of getting eliminated until Grand Finals"
   ]
  },
  {
   "cell_type": "markdown",
   "metadata": {},
   "source": [
    "#### Cox-Proportional Hazard Model Assumptions Checking\n",
    "\n",
    "To ensure the model shows the accurate result, we need to check the assumptions of the model"
   ]
  },
  {
   "cell_type": "code",
   "execution_count": 26,
   "metadata": {},
   "outputs": [
    {
     "name": "stdout",
     "output_type": "stream",
     "text": [
      "Proportional hazard assumption looks okay.\n"
     ]
    },
    {
     "name": "stderr",
     "output_type": "stream",
     "text": [
      "c:\\Users\\HP\\AppData\\Local\\Programs\\Python\\Python310\\lib\\site-packages\\lifelines\\fitters\\mixins.py:108: FutureWarning: Index.__and__ operating as a set operation is deprecated, in the future this will be a logical operation matching Series.__and__.  Use index.intersection(other) instead.\n",
      "  for variable in self.params_.index & (columns or self.params_.index):\n"
     ]
    },
    {
     "data": {
      "text/plain": [
       "[]"
      ]
     },
     "execution_count": 26,
     "metadata": {},
     "output_type": "execute_result"
    }
   ],
   "source": [
    "coxph.check_assumptions(data, p_value_threshold = 0.05)"
   ]
  },
  {
   "cell_type": "markdown",
   "metadata": {},
   "source": [
    "According to the result of assumptions checking, it is okay to use Cox-Proportional Hazard Model."
   ]
  },
  {
   "cell_type": "markdown",
   "metadata": {},
   "source": [
    "### Parametric Models for Survival Analysis\n",
    "\n",
    "Here we are going to use the Parametric Models to analyze the survival chance further. We considered four models\n",
    "- Weibull\n",
    "- Exponential\n",
    "- Log Normal\n",
    "- Log Logistic\n",
    "\n",
    "So basically what these models do is trying to fit our survival dataset (time and event) into their survival distributions (namely Right-Tail Cumulative Distribution of each PDF) to find the best distribution that fits our bracket stage elimination process, then we will add Qualifiers Scores parameters in the next step."
   ]
  },
  {
   "cell_type": "markdown",
   "metadata": {},
   "source": [
    "However, we use the **Akaike information criterion (AIC)** to select the best model according to the `time` parameter"
   ]
  },
  {
   "cell_type": "code",
   "execution_count": 27,
   "metadata": {},
   "outputs": [
    {
     "name": "stdout",
     "output_type": "stream",
     "text": [
      "The AIC value for WeibullFitter is 121.87396197682156\n",
      "The AIC value for ExponentialFitter is 125.80343485020637\n",
      "The AIC value for LogNormalFitter is 118.26327781832825\n",
      "The AIC value for LogLogisticFitter is 122.04685002045709\n"
     ]
    }
   ],
   "source": [
    "from lifelines import WeibullFitter,\\\n",
    "                      ExponentialFitter,\\\n",
    "                      LogNormalFitter,\\\n",
    "                      LogLogisticFitter\n",
    "# Instantiate each fitter\n",
    "wb = WeibullFitter()\n",
    "ex = ExponentialFitter()\n",
    "log = LogNormalFitter()\n",
    "loglogis = LogLogisticFitter()\n",
    "# Fit to data\n",
    "for model in [wb, ex, log, loglogis]:\n",
    "    model.fit(durations = data[\"time\"], event_observed = data[\"status\"])\n",
    "    print(\"The AIC value for\", model.__class__.__name__, \"is\",  model.AIC_)"
   ]
  },
  {
   "cell_type": "markdown",
   "metadata": {},
   "source": [
    "We can see that the **Log Normal Survival Model** has the lowest AIC, so we will use Log-Normal for the further Observation"
   ]
  },
  {
   "cell_type": "markdown",
   "metadata": {},
   "source": [
    "#### Accelerated Failure Time Model"
   ]
  },
  {
   "cell_type": "markdown",
   "metadata": {},
   "source": [
    "We can put the parametric model on steroid by using **Accelerated Failure Time Model (AFT)** which will consider the external parameters (example, Qualifiers Scores) into the consideration of our survival model. The interpretation of AFT is similar to Cox-Proportional Hazard Model and these models are more accurate than Cox-Proportional Hazard Model (and we can use them to predict the survival function if I remember correctly)."
   ]
  },
  {
   "cell_type": "markdown",
   "metadata": {},
   "source": [
    "#### Model Fitting and Summary"
   ]
  },
  {
   "cell_type": "code",
   "execution_count": 28,
   "metadata": {},
   "outputs": [],
   "source": [
    "from lifelines import LogNormalAFTFitter"
   ]
  },
  {
   "cell_type": "code",
   "execution_count": 29,
   "metadata": {},
   "outputs": [],
   "source": [
    "lognormal_aft = LogNormalAFTFitter()"
   ]
  },
  {
   "cell_type": "code",
   "execution_count": 30,
   "metadata": {},
   "outputs": [
    {
     "data": {
      "text/plain": [
       "<lifelines.LogNormalAFTFitter: fitted with 32 total observations, 1 right-censored observations>"
      ]
     },
     "execution_count": 30,
     "metadata": {},
     "output_type": "execute_result"
    }
   ],
   "source": [
    "lognormal_aft.fit(data, duration_col='time', event_col='status')"
   ]
  },
  {
   "cell_type": "code",
   "execution_count": 31,
   "metadata": {},
   "outputs": [
    {
     "name": "stderr",
     "output_type": "stream",
     "text": [
      "c:\\Users\\HP\\AppData\\Local\\Programs\\Python\\Python310\\lib\\site-packages\\lifelines\\utils\\printer.py:62: FutureWarning: In future versions `DataFrame.to_latex` is expected to utilise the base implementation of `Styler.to_latex` for formatting and rendering. The arguments signature may therefore change. It is recommended instead to use `DataFrame.style.to_latex` which also contains additional functionality.\n",
      "  return summary_df[columns].to_latex(float_format=\"%.\" + str(self.decimals) + \"f\")\n"
     ]
    },
    {
     "data": {
      "text/html": [
       "<div>\n",
       "<style scoped>\n",
       "    .dataframe tbody tr th:only-of-type {\n",
       "        vertical-align: middle;\n",
       "    }\n",
       "\n",
       "    .dataframe tbody tr th {\n",
       "        vertical-align: top;\n",
       "    }\n",
       "\n",
       "    .dataframe thead th {\n",
       "        text-align: right;\n",
       "    }\n",
       "</style>\n",
       "<table border=\"1\" class=\"dataframe\">\n",
       "  <tbody>\n",
       "    <tr>\n",
       "      <th>model</th>\n",
       "      <td>lifelines.LogNormalAFTFitter</td>\n",
       "    </tr>\n",
       "    <tr>\n",
       "      <th>duration col</th>\n",
       "      <td>'time'</td>\n",
       "    </tr>\n",
       "    <tr>\n",
       "      <th>event col</th>\n",
       "      <td>'status'</td>\n",
       "    </tr>\n",
       "    <tr>\n",
       "      <th>number of observations</th>\n",
       "      <td>32</td>\n",
       "    </tr>\n",
       "    <tr>\n",
       "      <th>number of events observed</th>\n",
       "      <td>31</td>\n",
       "    </tr>\n",
       "    <tr>\n",
       "      <th>log-likelihood</th>\n",
       "      <td>-37.999</td>\n",
       "    </tr>\n",
       "    <tr>\n",
       "      <th>time fit was run</th>\n",
       "      <td>2022-07-30 06:12:34 UTC</td>\n",
       "    </tr>\n",
       "  </tbody>\n",
       "</table>\n",
       "</div><table border=\"1\" class=\"dataframe\">\n",
       "  <thead>\n",
       "    <tr style=\"text-align: right;\">\n",
       "      <th style=\"min-width: 12px;\"></th>\n",
       "      <th style=\"min-width: 12px;\"></th>\n",
       "      <th style=\"min-width: 12px;\">coef</th>\n",
       "      <th style=\"min-width: 12px;\">exp(coef)</th>\n",
       "      <th style=\"min-width: 12px;\">se(coef)</th>\n",
       "      <th style=\"min-width: 12px;\">coef lower 95%</th>\n",
       "      <th style=\"min-width: 12px;\">coef upper 95%</th>\n",
       "      <th style=\"min-width: 12px;\">exp(coef) lower 95%</th>\n",
       "      <th style=\"min-width: 12px;\">exp(coef) upper 95%</th>\n",
       "      <th style=\"min-width: 12px;\">cmp to</th>\n",
       "      <th style=\"min-width: 12px;\">z</th>\n",
       "      <th style=\"min-width: 12px;\">p</th>\n",
       "      <th style=\"min-width: 12px;\">-log2(p)</th>\n",
       "    </tr>\n",
       "  </thead>\n",
       "  <tbody>\n",
       "    <tr>\n",
       "      <th rowspan=\"5\" valign=\"top\">mu_</th>\n",
       "      <th>Q_HB_1</th>\n",
       "      <td>0.205</td>\n",
       "      <td>1.228</td>\n",
       "      <td>0.403</td>\n",
       "      <td>-0.584</td>\n",
       "      <td>0.995</td>\n",
       "      <td>0.558</td>\n",
       "      <td>2.703</td>\n",
       "      <td>0.000</td>\n",
       "      <td>0.510</td>\n",
       "      <td>0.610</td>\n",
       "      <td>0.713</td>\n",
       "    </tr>\n",
       "    <tr>\n",
       "      <th>Q_LN_1</th>\n",
       "      <td>0.295</td>\n",
       "      <td>1.343</td>\n",
       "      <td>0.277</td>\n",
       "      <td>-0.247</td>\n",
       "      <td>0.837</td>\n",
       "      <td>0.781</td>\n",
       "      <td>2.308</td>\n",
       "      <td>0.000</td>\n",
       "      <td>1.066</td>\n",
       "      <td>0.287</td>\n",
       "      <td>1.803</td>\n",
       "    </tr>\n",
       "    <tr>\n",
       "      <th>Q_RC_1</th>\n",
       "      <td>-0.287</td>\n",
       "      <td>0.751</td>\n",
       "      <td>0.337</td>\n",
       "      <td>-0.948</td>\n",
       "      <td>0.374</td>\n",
       "      <td>0.388</td>\n",
       "      <td>1.454</td>\n",
       "      <td>0.000</td>\n",
       "      <td>-0.850</td>\n",
       "      <td>0.395</td>\n",
       "      <td>1.339</td>\n",
       "    </tr>\n",
       "    <tr>\n",
       "      <th>Q_SV_1</th>\n",
       "      <td>0.927</td>\n",
       "      <td>2.526</td>\n",
       "      <td>0.263</td>\n",
       "      <td>0.411</td>\n",
       "      <td>1.442</td>\n",
       "      <td>1.509</td>\n",
       "      <td>4.228</td>\n",
       "      <td>0.000</td>\n",
       "      <td>3.524</td>\n",
       "      <td>&lt;0.0005</td>\n",
       "      <td>11.200</td>\n",
       "    </tr>\n",
       "    <tr>\n",
       "      <th>Intercept</th>\n",
       "      <td>-3.052</td>\n",
       "      <td>0.047</td>\n",
       "      <td>0.876</td>\n",
       "      <td>-4.769</td>\n",
       "      <td>-1.336</td>\n",
       "      <td>0.008</td>\n",
       "      <td>0.263</td>\n",
       "      <td>0.000</td>\n",
       "      <td>-3.485</td>\n",
       "      <td>&lt;0.0005</td>\n",
       "      <td>10.990</td>\n",
       "    </tr>\n",
       "    <tr>\n",
       "      <th>sigma_</th>\n",
       "      <th>Intercept</th>\n",
       "      <td>-0.890</td>\n",
       "      <td>0.411</td>\n",
       "      <td>0.128</td>\n",
       "      <td>-1.141</td>\n",
       "      <td>-0.640</td>\n",
       "      <td>0.320</td>\n",
       "      <td>0.527</td>\n",
       "      <td>0.000</td>\n",
       "      <td>-6.977</td>\n",
       "      <td>&lt;0.0005</td>\n",
       "      <td>38.270</td>\n",
       "    </tr>\n",
       "  </tbody>\n",
       "</table><br><div>\n",
       "<style scoped>\n",
       "    .dataframe tbody tr th:only-of-type {\n",
       "        vertical-align: middle;\n",
       "    }\n",
       "\n",
       "    .dataframe tbody tr th {\n",
       "        vertical-align: top;\n",
       "    }\n",
       "\n",
       "    .dataframe thead th {\n",
       "        text-align: right;\n",
       "    }\n",
       "</style>\n",
       "<table border=\"1\" class=\"dataframe\">\n",
       "  <tbody>\n",
       "    <tr>\n",
       "      <th>Concordance</th>\n",
       "      <td>0.932</td>\n",
       "    </tr>\n",
       "    <tr>\n",
       "      <th>AIC</th>\n",
       "      <td>87.998</td>\n",
       "    </tr>\n",
       "    <tr>\n",
       "      <th>log-likelihood ratio test</th>\n",
       "      <td>38.265 on 4 df</td>\n",
       "    </tr>\n",
       "    <tr>\n",
       "      <th>-log2(p) of ll-ratio test</th>\n",
       "      <td>23.271</td>\n",
       "    </tr>\n",
       "  </tbody>\n",
       "</table>\n",
       "</div>"
      ],
      "text/latex": [
       "\\begin{tabular}{llrrrrrrrrrrr}\n",
       "\\toprule\n",
       "       &           &   coef &  exp(coef) &  se(coef) &  coef lower 95\\% &  coef upper 95\\% &  exp(coef) lower 95\\% &  exp(coef) upper 95\\% &  cmp to &      z &     p &  -log2(p) \\\\\n",
       "param & covariate &        &            &           &                 &                 &                      &                      &         &        &       &           \\\\\n",
       "\\midrule\n",
       "mu\\_ & Q\\_HB\\_1 &  0.205 &      1.228 &     0.403 &          -0.584 &           0.995 &                0.558 &                2.703 &   0.000 &  0.510 & 0.610 &     0.713 \\\\\n",
       "       & Q\\_LN\\_1 &  0.295 &      1.343 &     0.277 &          -0.247 &           0.837 &                0.781 &                2.308 &   0.000 &  1.066 & 0.287 &     1.803 \\\\\n",
       "       & Q\\_RC\\_1 & -0.287 &      0.751 &     0.337 &          -0.948 &           0.374 &                0.388 &                1.454 &   0.000 & -0.850 & 0.395 &     1.339 \\\\\n",
       "       & Q\\_SV\\_1 &  0.927 &      2.526 &     0.263 &           0.411 &           1.442 &                1.509 &                4.228 &   0.000 &  3.524 & 0.000 &    11.200 \\\\\n",
       "       & Intercept & -3.052 &      0.047 &     0.876 &          -4.769 &          -1.336 &                0.008 &                0.263 &   0.000 & -3.485 & 0.000 &    10.990 \\\\\n",
       "sigma\\_ & Intercept & -0.890 &      0.411 &     0.128 &          -1.141 &          -0.640 &                0.320 &                0.527 &   0.000 & -6.977 & 0.000 &    38.270 \\\\\n",
       "\\bottomrule\n",
       "\\end{tabular}\n"
      ],
      "text/plain": [
       "<lifelines.LogNormalAFTFitter: fitted with 32 total observations, 1 right-censored observations>\n",
       "             duration col = 'time'\n",
       "                event col = 'status'\n",
       "   number of observations = 32\n",
       "number of events observed = 31\n",
       "           log-likelihood = -37.999\n",
       "         time fit was run = 2022-07-30 06:12:34 UTC\n",
       "\n",
       "---\n",
       "                   coef  exp(coef)   se(coef)   coef lower 95%   coef upper 95%  exp(coef) lower 95%  exp(coef) upper 95%\n",
       "param  covariate                                                                                                         \n",
       "mu_    Q_HB_1     0.205      1.228      0.403           -0.584            0.995                0.558                2.703\n",
       "       Q_LN_1     0.295      1.343      0.277           -0.247            0.837                0.781                2.308\n",
       "       Q_RC_1    -0.287      0.751      0.337           -0.948            0.374                0.388                1.454\n",
       "       Q_SV_1     0.927      2.526      0.263            0.411            1.442                1.509                4.228\n",
       "       Intercept -3.052      0.047      0.876           -4.769           -1.336                0.008                0.263\n",
       "sigma_ Intercept -0.890      0.411      0.128           -1.141           -0.640                0.320                0.527\n",
       "\n",
       "                   cmp to      z       p   -log2(p)\n",
       "param  covariate                                   \n",
       "mu_    Q_HB_1       0.000  0.510   0.610      0.713\n",
       "       Q_LN_1       0.000  1.066   0.287      1.803\n",
       "       Q_RC_1       0.000 -0.850   0.395      1.339\n",
       "       Q_SV_1       0.000  3.524 <0.0005     11.200\n",
       "       Intercept    0.000 -3.485 <0.0005     10.990\n",
       "sigma_ Intercept    0.000 -6.977 <0.0005     38.270\n",
       "---\n",
       "Concordance = 0.932\n",
       "AIC = 87.998\n",
       "log-likelihood ratio test = 38.265 on 4 df\n",
       "-log2(p) of ll-ratio test = 23.271"
      ]
     },
     "metadata": {},
     "output_type": "display_data"
    }
   ],
   "source": [
    "lognormal_aft.print_summary(decimals=3)"
   ]
  },
  {
   "cell_type": "markdown",
   "metadata": {},
   "source": [
    "From the summary of the **Log-Normal Accelerated Failure Time Model** we can see that \n",
    "\n",
    "- The changes of score in every qualifiers stage affects the survival time in bracket stage expect **RC1** [**Fractal Dreamers - Defiance**](https://osu.ppy.sh/beatmapsets/1665424#mania/3399962) (i am sorry logan)\n",
    "- The relation of survival time and the changes of score in **HB1** [**Katagiri - HIVEMIND**](https://osu.ppy.sh/beatmapsets/1665442#mania/3399992) and **LN1** [**IAHN - Transform (Original Mix)**](https://osu.ppy.sh/beatmapsets/1665269#mania/3399628) are marginally significant (0.05 < p < 0.1)\n",
    "- **Q_SV_1** or [**she - Music Like This**](https://osu.ppy.sh/beatmapsets/1665415#mania/3399945) affects the chance of survival by increasing the survival time by approximately **19%** if the **score_logit** is increased by 1.\n",
    "- **Q_RC_2** or or [**Fleshgod Apocalypse - Fury**](https://osu.ppy.sh/beatmapsets/1665436#mania/3399979) affects the chance of survival by increasing the survival time by approximately **55%** if the **score_logit** is increased by 1.\n",
    "- **Q_LN_1** or or [**IAHN - Transform (Original Mix)**](https://osu.ppy.sh/beatmapsets/1665269#mania/3399628) affects the chance of survival by increasing the survival time by approximately **36%** if the **score_logit** is increased by 1.\n",
    "- **Q_HB_1** or or [**Katagiri - HIVEMIND**](https://osu.ppy.sh/beatmapsets/1665442#mania/3399992) affects the chance of survival by increasing the survival time by approximately **21%** if the **score_logit** is increased by 1."
   ]
  },
  {
   "cell_type": "markdown",
   "metadata": {},
   "source": [
    "#### Partial Effects Visualization\n",
    "\n",
    "This part of the analysis is about visualizing how score of each stage affects the survival rate of each round\n",
    "\n",
    "We will have 3 graphs to visualize the partial effects\n",
    "- **[ROUND_CATEGORY_TAG] = 3** : Simulating the situation where the average team score is 952574 (approx 950k) or the total score is approximately 2850000 or `logit(score) = 3`\n",
    "- **[ROUND_CATEGORY_TAG] = 5** : Simulating the situation where the average team score is 993307 (approx 993k) or the total score is approximately 2979000 or `logit(score) = 5`\n",
    "- **Baseline** : The baseline Log Normal model plotting of the survival chance"
   ]
  },
  {
   "cell_type": "code",
   "execution_count": 32,
   "metadata": {},
   "outputs": [
    {
     "data": {
      "text/plain": [
       "<AxesSubplot:>"
      ]
     },
     "execution_count": 32,
     "metadata": {},
     "output_type": "execute_result"
    },
    {
     "data": {
      "image/png": "[encoded data removed]",
      "text/plain": [
       "<Figure size 432x288 with 1 Axes>"
      ]
     },
     "metadata": {
      "needs_background": "light"
     },
     "output_type": "display_data"
    }
   ],
   "source": [
    "lognormal_aft.plot_partial_effects_on_outcome(covariates = 'Q_RC_1', values = [3,5], cmap = 'coolwarm')"
   ]
  },
  {
   "cell_type": "code",
   "execution_count": 33,
   "metadata": {},
   "outputs": [
    {
     "data": {
      "text/plain": [
       "<AxesSubplot:>"
      ]
     },
     "execution_count": 33,
     "metadata": {},
     "output_type": "execute_result"
    },
    {
     "data": {
      "image/png": "[encoded data removed]",
      "text/plain": [
       "<Figure size 432x288 with 1 Axes>"
      ]
     },
     "metadata": {
      "needs_background": "light"
     },
     "output_type": "display_data"
    }
   ],
   "source": [
    "lognormal_aft.plot_partial_effects_on_outcome(covariates = 'Q_LN_1', values = [3,5], cmap = 'coolwarm')"
   ]
  },
  {
   "cell_type": "code",
   "execution_count": 34,
   "metadata": {},
   "outputs": [
    {
     "data": {
      "text/plain": [
       "<AxesSubplot:>"
      ]
     },
     "execution_count": 34,
     "metadata": {},
     "output_type": "execute_result"
    },
    {
     "data": {
      "image/png": "[encoded data removed]",
      "text/plain": [
       "<Figure size 432x288 with 1 Axes>"
      ]
     },
     "metadata": {
      "needs_background": "light"
     },
     "output_type": "display_data"
    }
   ],
   "source": [
    "lognormal_aft.plot_partial_effects_on_outcome(covariates = 'Q_HB_1', values = [3,5], cmap = 'coolwarm')"
   ]
  },
  {
   "cell_type": "code",
   "execution_count": 35,
   "metadata": {},
   "outputs": [
    {
     "name": "stdout",
     "output_type": "stream",
     "text": [
      "Median Survival Time 2.0511909541951594\n",
      "Mean Survival Time 2.2315039926113442\n"
     ]
    }
   ],
   "source": [
    "print(\"Median Survival Time\", lognormal_aft.median_survival_time_)\n",
    "print(\"Mean Survival Time\", lognormal_aft.mean_survival_time_)"
   ]
  },
  {
   "cell_type": "markdown",
   "metadata": {},
   "source": [
    "#### AFT Model Prediction\n",
    "\n",
    "We use our previous **Log Normal Accelerated Failure Time** model to predict the survival rate of each country."
   ]
  },
  {
   "cell_type": "markdown",
   "metadata": {},
   "source": [
    "##### Survival Function Prediction\n",
    "\n",
    "Here, the model predicts the chance of survival in each round for each country according to Qualifiers Scores"
   ]
  },
  {
   "cell_type": "code",
   "execution_count": 36,
   "metadata": {},
   "outputs": [
    {
     "data": {
      "text/html": [
       "<div>\n",
       "<style scoped>\n",
       "    .dataframe tbody tr th:only-of-type {\n",
       "        vertical-align: middle;\n",
       "    }\n",
       "\n",
       "    .dataframe tbody tr th {\n",
       "        vertical-align: top;\n",
       "    }\n",
       "\n",
       "    .dataframe thead th {\n",
       "        text-align: right;\n",
       "    }\n",
       "</style>\n",
       "<table border=\"1\" class=\"dataframe\">\n",
       "  <thead>\n",
       "    <tr style=\"text-align: right;\">\n",
       "      <th></th>\n",
       "      <th>Argentina</th>\n",
       "      <th>Australia</th>\n",
       "      <th>Belgium</th>\n",
       "      <th>Brazil</th>\n",
       "      <th>Canada</th>\n",
       "      <th>Switzerland</th>\n",
       "      <th>China</th>\n",
       "      <th>Germany</th>\n",
       "      <th>Dominican Republic</th>\n",
       "      <th>Spain</th>\n",
       "      <th>...</th>\n",
       "      <th>Poland</th>\n",
       "      <th>Romania</th>\n",
       "      <th>Russian Federation</th>\n",
       "      <th>Sweden</th>\n",
       "      <th>Singapore</th>\n",
       "      <th>Thailand</th>\n",
       "      <th>Turkey</th>\n",
       "      <th>Taiwan, Province of China</th>\n",
       "      <th>United States</th>\n",
       "      <th>Viet Nam</th>\n",
       "    </tr>\n",
       "  </thead>\n",
       "  <tbody>\n",
       "    <tr>\n",
       "      <th>1.0</th>\n",
       "      <td>0.904996</td>\n",
       "      <td>0.864737</td>\n",
       "      <td>0.997989</td>\n",
       "      <td>0.999998</td>\n",
       "      <td>0.427039</td>\n",
       "      <td>1.255522e-01</td>\n",
       "      <td>0.951986</td>\n",
       "      <td>0.970326</td>\n",
       "      <td>0.609178</td>\n",
       "      <td>0.946619</td>\n",
       "      <td>...</td>\n",
       "      <td>0.999781</td>\n",
       "      <td>6.637819e-02</td>\n",
       "      <td>0.741279</td>\n",
       "      <td>0.817776</td>\n",
       "      <td>0.882108</td>\n",
       "      <td>0.997621</td>\n",
       "      <td>0.792247</td>\n",
       "      <td>0.978019</td>\n",
       "      <td>0.999951</td>\n",
       "      <td>2.769816e-01</td>\n",
       "    </tr>\n",
       "    <tr>\n",
       "      <th>2.0</th>\n",
       "      <td>0.352720</td>\n",
       "      <td>0.278706</td>\n",
       "      <td>0.882573</td>\n",
       "      <td>0.998361</td>\n",
       "      <td>0.030571</td>\n",
       "      <td>2.282595e-03</td>\n",
       "      <td>0.490378</td>\n",
       "      <td>0.578108</td>\n",
       "      <td>0.079069</td>\n",
       "      <td>0.469858</td>\n",
       "      <td>...</td>\n",
       "      <td>0.966207</td>\n",
       "      <td>7.067909e-04</td>\n",
       "      <td>0.148880</td>\n",
       "      <td>0.217218</td>\n",
       "      <td>0.307499</td>\n",
       "      <td>0.871685</td>\n",
       "      <td>0.190977</td>\n",
       "      <td>0.627752</td>\n",
       "      <td>0.986422</td>\n",
       "      <td>1.129274e-02</td>\n",
       "    </tr>\n",
       "    <tr>\n",
       "      <th>3.0</th>\n",
       "      <td>0.086013</td>\n",
       "      <td>0.057695</td>\n",
       "      <td>0.579343</td>\n",
       "      <td>0.974569</td>\n",
       "      <td>0.002117</td>\n",
       "      <td>6.566586e-05</td>\n",
       "      <td>0.155804</td>\n",
       "      <td>0.214566</td>\n",
       "      <td>0.008218</td>\n",
       "      <td>0.143809</td>\n",
       "      <td>...</td>\n",
       "      <td>0.799552</td>\n",
       "      <td>1.460127e-05</td>\n",
       "      <td>0.021230</td>\n",
       "      <td>0.038417</td>\n",
       "      <td>0.068022</td>\n",
       "      <td>0.558300</td>\n",
       "      <td>0.031299</td>\n",
       "      <td>0.254040</td>\n",
       "      <td>0.889058</td>\n",
       "      <td>5.413436e-04</td>\n",
       "    </tr>\n",
       "    <tr>\n",
       "      <th>4.0</th>\n",
       "      <td>0.019389</td>\n",
       "      <td>0.011446</td>\n",
       "      <td>0.308328</td>\n",
       "      <td>0.894685</td>\n",
       "      <td>0.000185</td>\n",
       "      <td>3.023256e-06</td>\n",
       "      <td>0.043387</td>\n",
       "      <td>0.067917</td>\n",
       "      <td>0.000968</td>\n",
       "      <td>0.038852</td>\n",
       "      <td>...</td>\n",
       "      <td>0.555359</td>\n",
       "      <td>5.293380e-07</td>\n",
       "      <td>0.003169</td>\n",
       "      <td>0.006753</td>\n",
       "      <td>0.014208</td>\n",
       "      <td>0.289739</td>\n",
       "      <td>0.005191</td>\n",
       "      <td>0.086498</td>\n",
       "      <td>0.698721</td>\n",
       "      <td>3.609995e-05</td>\n",
       "    </tr>\n",
       "    <tr>\n",
       "      <th>5.0</th>\n",
       "      <td>0.004526</td>\n",
       "      <td>0.002410</td>\n",
       "      <td>0.148200</td>\n",
       "      <td>0.760604</td>\n",
       "      <td>0.000020</td>\n",
       "      <td>2.006440e-07</td>\n",
       "      <td>0.012027</td>\n",
       "      <td>0.020922</td>\n",
       "      <td>0.000134</td>\n",
       "      <td>0.010506</td>\n",
       "      <td>...</td>\n",
       "      <td>0.342968</td>\n",
       "      <td>2.914068e-08</td>\n",
       "      <td>0.000531</td>\n",
       "      <td>0.001290</td>\n",
       "      <td>0.003118</td>\n",
       "      <td>0.136159</td>\n",
       "      <td>0.000947</td>\n",
       "      <td>0.028310</td>\n",
       "      <td>0.490879</td>\n",
       "      <td>3.203295e-06</td>\n",
       "    </tr>\n",
       "    <tr>\n",
       "      <th>6.0</th>\n",
       "      <td>0.001128</td>\n",
       "      <td>0.000551</td>\n",
       "      <td>0.068332</td>\n",
       "      <td>0.604149</td>\n",
       "      <td>0.000003</td>\n",
       "      <td>1.768956e-08</td>\n",
       "      <td>0.003463</td>\n",
       "      <td>0.006583</td>\n",
       "      <td>0.000022</td>\n",
       "      <td>0.002963</td>\n",
       "      <td>...</td>\n",
       "      <td>0.198074</td>\n",
       "      <td>2.203551e-09</td>\n",
       "      <td>0.000101</td>\n",
       "      <td>0.000272</td>\n",
       "      <td>0.000738</td>\n",
       "      <td>0.061551</td>\n",
       "      <td>0.000192</td>\n",
       "      <td>0.009377</td>\n",
       "      <td>0.320247</td>\n",
       "      <td>3.585920e-07</td>\n",
       "    </tr>\n",
       "  </tbody>\n",
       "</table>\n",
       "<p>6 rows × 32 columns</p>\n",
       "</div>"
      ],
      "text/plain": [
       "     Argentina  Australia   Belgium    Brazil    Canada   Switzerland  \\\n",
       "1.0   0.904996   0.864737  0.997989  0.999998  0.427039  1.255522e-01   \n",
       "2.0   0.352720   0.278706  0.882573  0.998361  0.030571  2.282595e-03   \n",
       "3.0   0.086013   0.057695  0.579343  0.974569  0.002117  6.566586e-05   \n",
       "4.0   0.019389   0.011446  0.308328  0.894685  0.000185  3.023256e-06   \n",
       "5.0   0.004526   0.002410  0.148200  0.760604  0.000020  2.006440e-07   \n",
       "6.0   0.001128   0.000551  0.068332  0.604149  0.000003  1.768956e-08   \n",
       "\n",
       "        China   Germany  Dominican Republic     Spain  ...    Poland  \\\n",
       "1.0  0.951986  0.970326            0.609178  0.946619  ...  0.999781   \n",
       "2.0  0.490378  0.578108            0.079069  0.469858  ...  0.966207   \n",
       "3.0  0.155804  0.214566            0.008218  0.143809  ...  0.799552   \n",
       "4.0  0.043387  0.067917            0.000968  0.038852  ...  0.555359   \n",
       "5.0  0.012027  0.020922            0.000134  0.010506  ...  0.342968   \n",
       "6.0  0.003463  0.006583            0.000022  0.002963  ...  0.198074   \n",
       "\n",
       "          Romania  Russian Federation    Sweden  Singapore  Thailand  \\\n",
       "1.0  6.637819e-02            0.741279  0.817776   0.882108  0.997621   \n",
       "2.0  7.067909e-04            0.148880  0.217218   0.307499  0.871685   \n",
       "3.0  1.460127e-05            0.021230  0.038417   0.068022  0.558300   \n",
       "4.0  5.293380e-07            0.003169  0.006753   0.014208  0.289739   \n",
       "5.0  2.914068e-08            0.000531  0.001290   0.003118  0.136159   \n",
       "6.0  2.203551e-09            0.000101  0.000272   0.000738  0.061551   \n",
       "\n",
       "       Turkey  Taiwan, Province of China  United States      Viet Nam  \n",
       "1.0  0.792247                   0.978019       0.999951  2.769816e-01  \n",
       "2.0  0.190977                   0.627752       0.986422  1.129274e-02  \n",
       "3.0  0.031299                   0.254040       0.889058  5.413436e-04  \n",
       "4.0  0.005191                   0.086498       0.698721  3.609995e-05  \n",
       "5.0  0.000947                   0.028310       0.490879  3.203295e-06  \n",
       "6.0  0.000192                   0.009377       0.320247  3.585920e-07  \n",
       "\n",
       "[6 rows x 32 columns]"
      ]
     },
     "execution_count": 36,
     "metadata": {},
     "output_type": "execute_result"
    }
   ],
   "source": [
    "country_survival_prediction = lognormal_aft.predict_survival_function(_4dm4_teams_qualifiers_table)\n",
    "\n",
    "country_survival_prediction"
   ]
  },
  {
   "cell_type": "markdown",
   "metadata": {},
   "source": [
    "We then want to observe the survival chance of **Thailand** (2nd Place) and **United States** (Semifinals) according to Qualifiers Scores"
   ]
  },
  {
   "cell_type": "code",
   "execution_count": 37,
   "metadata": {},
   "outputs": [
    {
     "data": {
      "text/plain": [
       "<matplotlib.legend.Legend at 0x190b17e4310>"
      ]
     },
     "execution_count": 37,
     "metadata": {},
     "output_type": "execute_result"
    },
    {
     "data": {
      "image/png": "[encoded data removed]",
      "text/plain": [
       "<Figure size 432x288 with 1 Axes>"
      ]
     },
     "metadata": {
      "needs_background": "light"
     },
     "output_type": "display_data"
    }
   ],
   "source": [
    "thailand_survival_chance = country_survival_prediction['Thailand']\n",
    "us_survival_chance = country_survival_prediction['United States']\n",
    "\n",
    "thailand_survival_chance.plot()\n",
    "us_survival_chance.plot()\n",
    "plt.legend()"
   ]
  },
  {
   "cell_type": "markdown",
   "metadata": {},
   "source": [
    "According to Qualifiers Scores, **United States** has a slightly higher chance of survival in late game (Semifinals to Grand Finals). But the survival chance at the early game is equivalent to each other."
   ]
  },
  {
   "cell_type": "markdown",
   "metadata": {},
   "source": [
    "##### Survival Time Prediction\n",
    "\n",
    "Here, we use the model to predict the **Survival Time** or **Survival Round** of each country."
   ]
  },
  {
   "cell_type": "code",
   "execution_count": 38,
   "metadata": {},
   "outputs": [
    {
     "data": {
      "text/html": [
       "<div>\n",
       "<style scoped>\n",
       "    .dataframe tbody tr th:only-of-type {\n",
       "        vertical-align: middle;\n",
       "    }\n",
       "\n",
       "    .dataframe tbody tr th {\n",
       "        vertical-align: top;\n",
       "    }\n",
       "\n",
       "    .dataframe thead th {\n",
       "        text-align: right;\n",
       "    }\n",
       "</style>\n",
       "<table border=\"1\" class=\"dataframe\">\n",
       "  <thead>\n",
       "    <tr style=\"text-align: right;\">\n",
       "      <th></th>\n",
       "      <th>median_surv</th>\n",
       "    </tr>\n",
       "  </thead>\n",
       "  <tbody>\n",
       "    <tr>\n",
       "      <th>Argentina</th>\n",
       "      <td>1.712550</td>\n",
       "    </tr>\n",
       "    <tr>\n",
       "      <th>Australia</th>\n",
       "      <td>1.571941</td>\n",
       "    </tr>\n",
       "    <tr>\n",
       "      <th>Belgium</th>\n",
       "      <td>3.256977</td>\n",
       "    </tr>\n",
       "    <tr>\n",
       "      <th>Brazil</th>\n",
       "      <td>6.687050</td>\n",
       "    </tr>\n",
       "    <tr>\n",
       "      <th>Canada</th>\n",
       "      <td>0.927281</td>\n",
       "    </tr>\n",
       "  </tbody>\n",
       "</table>\n",
       "</div>"
      ],
      "text/plain": [
       "           median_surv\n",
       "Argentina     1.712550\n",
       "Australia     1.571941\n",
       "Belgium       3.256977\n",
       "Brazil        6.687050\n",
       "Canada        0.927281"
      ]
     },
     "execution_count": 38,
     "metadata": {},
     "output_type": "execute_result"
    }
   ],
   "source": [
    "country_median_survival_prediction = lognormal_aft.predict_median(_4dm4_teams_qualifiers_table)\n",
    "country_median_survival_prediction = pd.DataFrame(country_median_survival_prediction, columns=['median_surv'])\n",
    "country_median_survival_prediction.head()"
   ]
  },
  {
   "cell_type": "markdown",
   "metadata": {},
   "source": [
    "We use `surv_value_to_round` to convert the `median_surv` to the interpretable data, namely the round that the country is expected to be survived."
   ]
  },
  {
   "cell_type": "code",
   "execution_count": 39,
   "metadata": {},
   "outputs": [],
   "source": [
    "def surv_value_to_round(median_surv):\n",
    "    return rounds[min(round(median_surv)-1, 4)]"
   ]
  },
  {
   "cell_type": "markdown",
   "metadata": {},
   "source": [
    "We then convert the data from `median_surv` to `surv_round`"
   ]
  },
  {
   "cell_type": "code",
   "execution_count": 40,
   "metadata": {},
   "outputs": [
    {
     "data": {
      "text/html": [
       "<div>\n",
       "<style scoped>\n",
       "    .dataframe tbody tr th:only-of-type {\n",
       "        vertical-align: middle;\n",
       "    }\n",
       "\n",
       "    .dataframe tbody tr th {\n",
       "        vertical-align: top;\n",
       "    }\n",
       "\n",
       "    .dataframe thead th {\n",
       "        text-align: right;\n",
       "    }\n",
       "</style>\n",
       "<table border=\"1\" class=\"dataframe\">\n",
       "  <thead>\n",
       "    <tr style=\"text-align: right;\">\n",
       "      <th></th>\n",
       "      <th>median_surv</th>\n",
       "      <th>surv_round</th>\n",
       "    </tr>\n",
       "  </thead>\n",
       "  <tbody>\n",
       "    <tr>\n",
       "      <th>Brazil</th>\n",
       "      <td>6.687050</td>\n",
       "      <td>GF</td>\n",
       "    </tr>\n",
       "    <tr>\n",
       "      <th>Netherlands</th>\n",
       "      <td>6.387275</td>\n",
       "      <td>GF</td>\n",
       "    </tr>\n",
       "    <tr>\n",
       "      <th>United States</th>\n",
       "      <td>4.953291</td>\n",
       "      <td>GF</td>\n",
       "    </tr>\n",
       "    <tr>\n",
       "      <th>Philippines</th>\n",
       "      <td>4.862814</td>\n",
       "      <td>GF</td>\n",
       "    </tr>\n",
       "    <tr>\n",
       "      <th>France</th>\n",
       "      <td>4.477297</td>\n",
       "      <td>F</td>\n",
       "    </tr>\n",
       "    <tr>\n",
       "      <th>Poland</th>\n",
       "      <td>4.235247</td>\n",
       "      <td>F</td>\n",
       "    </tr>\n",
       "    <tr>\n",
       "      <th>Malaysia</th>\n",
       "      <td>3.480370</td>\n",
       "      <td>SF</td>\n",
       "    </tr>\n",
       "    <tr>\n",
       "      <th>Belgium</th>\n",
       "      <td>3.256977</td>\n",
       "      <td>SF</td>\n",
       "    </tr>\n",
       "    <tr>\n",
       "      <th>Thailand</th>\n",
       "      <td>3.186159</td>\n",
       "      <td>SF</td>\n",
       "    </tr>\n",
       "    <tr>\n",
       "      <th>Korea, Republic of</th>\n",
       "      <td>2.800107</td>\n",
       "      <td>SF</td>\n",
       "    </tr>\n",
       "  </tbody>\n",
       "</table>\n",
       "</div>"
      ],
      "text/plain": [
       "                    median_surv surv_round\n",
       "Brazil                 6.687050         GF\n",
       "Netherlands            6.387275         GF\n",
       "United States          4.953291         GF\n",
       "Philippines            4.862814         GF\n",
       "France                 4.477297          F\n",
       "Poland                 4.235247          F\n",
       "Malaysia               3.480370         SF\n",
       "Belgium                3.256977         SF\n",
       "Thailand               3.186159         SF\n",
       "Korea, Republic of     2.800107         SF"
      ]
     },
     "execution_count": 40,
     "metadata": {},
     "output_type": "execute_result"
    }
   ],
   "source": [
    "country_median_survival_prediction['surv_round'] = country_median_survival_prediction['median_surv'].apply(surv_value_to_round)\n",
    "country_median_survival_prediction.sort_values('median_surv', ascending=False).head(10)"
   ]
  },
  {
   "cell_type": "markdown",
   "metadata": {},
   "source": [
    "## References\n",
    "\n",
    "Survival Analysis models and Code : https://medium.com/the-researchers-guide/survival-analysis-in-python-km-estimate-cox-ph-and-aft-model-5533843c5d5d"
   ]
  }
 ],
 "metadata": {
  "interpreter": {
   "hash": "a9cff5a362bc38ef45d817ae74b1af54d6a076e3d773891282bce078b815ba34"
  },
  "kernelspec": {
   "display_name": "Python 3.10.4 64-bit",
   "language": "python",
   "name": "python3"
  },
  "language_info": {
   "codemirror_mode": {
    "name": "ipython",
    "version": 3
   },
   "file_extension": ".py",
   "mimetype": "text/x-python",
   "name": "python",
   "nbconvert_exporter": "python",
   "pygments_lexer": "ipython3",
   "version": "3.10.4"
  },
  "orig_nbformat": 4
 },
 "nbformat": 4,
 "nbformat_minor": 2
}
