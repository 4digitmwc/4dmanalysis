{
 "cells": [
  {
   "cell_type": "markdown",
   "metadata": {},
   "source": [
    "## Logistic Regression for Qualifiers against Team Survival\n",
    "\n",
    "### Objectives\n",
    "Qualifiers could arguably be similar to a dan; of course, the choice of patterning and difficulty are well balanced and executed in the mapping of these charts, but ultimately, it is akin to playing 4-8 maps and seeing who's better at them. \n",
    "Beyond seeding, they may not even matter. Or at least, the relationship between good performances in the qualifier vs bracket stage is not well established.\n",
    "\n",
    "Is it then fair to determine that a 4 digit player is overskilled, because of their performance in the qualifiers? This is the question we attempt to answer today.\n",
    "- Have the qualifiers, as promised by qualifier mappers and poolers, been able to decently represent the performance of teams across different rounds?\n",
    "- How does a team's performance in a specific qualifier map affect their chances of advancing to each of the rounds?\n",
    "\n",
    "In order to answer these questions, we will be extracting the qualifier scores from all teams and their last round of participation, and run a *logistic regression* model over them.\n",
    "\n",
    "### What is Logistic Regression?\n",
    "*Logistic Regression* is a statistical method that models the probability of an event taking place, given other independent variables of the observation. This is done by having the *logarithmic* odds of an event happening be mathematically modelled after the independent variables of the observation. \n",
    "\n",
    "In this exploratory data analysis, we note that a model has yet to be established; hence, we will be **estimating the parameters of the logistic model** relating each team's qualifier scores to their odds of survival in each round."
   ]
  },
  {
   "cell_type": "markdown",
   "metadata": {},
   "source": [
    "### Required Packages\n",
    "\n",
    "For this data analysis, a couple of libraries and modules are used:\n",
    "- Standard libraries such as NumPy, Pandas, Matplotlib are needed for pretty much any form of data visualization!\n",
    "- The Logistic Regression model from sklearn, and its evaluative metric package are also imported.\n",
    "- the *get_table* function is also imported for an efficient way to handle the tables obtained from the dataset;\n",
    "- the datasets are imported from the Dataset class, a class created by HowToPlayLN (HowToProgramming) for all data analysis projects performed using 4DM4 data. See the documentation for the Dataset class [here](https://github.com/HowToProgramming/4dm4analysis/blob/main/readme.md)."
   ]
  },
  {
   "cell_type": "code",
   "execution_count": 1,
   "metadata": {},
   "outputs": [],
   "source": [
    "import os\n",
    "\n",
    "os.chdir(\"..\")"
   ]
  },
  {
   "cell_type": "code",
   "execution_count": 2,
   "metadata": {},
   "outputs": [],
   "source": [
    "import numpy as np\n",
    "import pandas as pd\n",
    "import matplotlib.pyplot as plt\n",
    "from sklearn.linear_model import LogisticRegression\n",
    "from sklearn import metrics\n",
    "from utils import Dataset\n",
    "from utils import get_table"
   ]
  },
  {
   "cell_type": "markdown",
   "metadata": {},
   "source": [
    "### Obtaining the Dataset \n",
    "Making use of the Dataset class provided, we will be able to grab all team scores for 4DM4. This is done so by restricting the query to the \"team_scores\" table. The query is restricted to purely qualifier scores. This will allow each team's combined score on each of the Qualifier stages (excluding SV) to be used as an independent variable that adds to the log-odds of the team clearing a specific round.\n",
    "\n",
    "We will also be able to extract the dependent variable, which is the last round of participation for every team involved in 4DM4. This is done by accessing the \"team_data\" table."
   ]
  },
  {
   "cell_type": "code",
   "execution_count": 3,
   "metadata": {},
   "outputs": [],
   "source": [
    "_4dm4 = Dataset(\"datasets/4dm3.db\")\n",
    "\n",
    "def qual_database(lst):\n",
    "    res = pd.DataFrame()\n",
    "    for type in lst:\n",
    "        ds = _4dm4.select(table=\"team_scores\", \n",
    "                            columns=[\"country_name\", \"round\", \"beatmap_type\", \"beatmap_tag\", \"score\", \"score_logit\"],\n",
    "                            where={\n",
    "                                \"round\": \"\\\"Q\\\"\",\n",
    "                                \"beatmap_type\": f\"\\\"{type}\\\"\"\n",
    "                            }\n",
    "                        )\n",
    "        res = pd.concat([res, ds])\n",
    "    return res\n",
    "\n",
    "interested_types = [\"RC\", \"LN\", \"HB\"]\n",
    "qual_data = qual_database(interested_types)\n",
    "\n",
    "team_finalrd = _4dm4.select(table=\"team_data\",\n",
    "                            columns=[\"country_name\", \"country_code\", \"last_rdint\"])"
   ]
  },
  {
   "cell_type": "code",
   "execution_count": 4,
   "metadata": {},
   "outputs": [
    {
     "data": {
      "text/html": [
       "<div>\n",
       "<style scoped>\n",
       "    .dataframe tbody tr th:only-of-type {\n",
       "        vertical-align: middle;\n",
       "    }\n",
       "\n",
       "    .dataframe tbody tr th {\n",
       "        vertical-align: top;\n",
       "    }\n",
       "\n",
       "    .dataframe thead th {\n",
       "        text-align: right;\n",
       "    }\n",
       "</style>\n",
       "<table border=\"1\" class=\"dataframe\">\n",
       "  <thead>\n",
       "    <tr style=\"text-align: right;\">\n",
       "      <th></th>\n",
       "      <th>country_name</th>\n",
       "      <th>round</th>\n",
       "      <th>beatmap_type</th>\n",
       "      <th>beatmap_tag</th>\n",
       "      <th>score</th>\n",
       "      <th>score_logit</th>\n",
       "    </tr>\n",
       "  </thead>\n",
       "  <tbody>\n",
       "    <tr>\n",
       "      <th>0</th>\n",
       "      <td>Argentina</td>\n",
       "      <td>Q</td>\n",
       "      <td>RC</td>\n",
       "      <td>1</td>\n",
       "      <td>2975973</td>\n",
       "      <td>4.819148</td>\n",
       "    </tr>\n",
       "    <tr>\n",
       "      <th>1</th>\n",
       "      <td>Australia</td>\n",
       "      <td>Q</td>\n",
       "      <td>RC</td>\n",
       "      <td>1</td>\n",
       "      <td>2980836</td>\n",
       "      <td>5.046926</td>\n",
       "    </tr>\n",
       "    <tr>\n",
       "      <th>2</th>\n",
       "      <td>Belgium</td>\n",
       "      <td>Q</td>\n",
       "      <td>RC</td>\n",
       "      <td>1</td>\n",
       "      <td>2983513</td>\n",
       "      <td>5.198285</td>\n",
       "    </tr>\n",
       "    <tr>\n",
       "      <th>3</th>\n",
       "      <td>Brazil</td>\n",
       "      <td>Q</td>\n",
       "      <td>RC</td>\n",
       "      <td>1</td>\n",
       "      <td>2993464</td>\n",
       "      <td>6.126861</td>\n",
       "    </tr>\n",
       "    <tr>\n",
       "      <th>4</th>\n",
       "      <td>Canada</td>\n",
       "      <td>Q</td>\n",
       "      <td>RC</td>\n",
       "      <td>1</td>\n",
       "      <td>2981094</td>\n",
       "      <td>5.060566</td>\n",
       "    </tr>\n",
       "    <tr>\n",
       "      <th>...</th>\n",
       "      <td>...</td>\n",
       "      <td>...</td>\n",
       "      <td>...</td>\n",
       "      <td>...</td>\n",
       "      <td>...</td>\n",
       "      <td>...</td>\n",
       "    </tr>\n",
       "    <tr>\n",
       "      <th>29</th>\n",
       "      <td>Thailand</td>\n",
       "      <td>Q</td>\n",
       "      <td>HB</td>\n",
       "      <td>1</td>\n",
       "      <td>2938037</td>\n",
       "      <td>3.858960</td>\n",
       "    </tr>\n",
       "    <tr>\n",
       "      <th>30</th>\n",
       "      <td>Turkey</td>\n",
       "      <td>Q</td>\n",
       "      <td>HB</td>\n",
       "      <td>1</td>\n",
       "      <td>2864382</td>\n",
       "      <td>3.050266</td>\n",
       "    </tr>\n",
       "    <tr>\n",
       "      <th>31</th>\n",
       "      <td>Taiwan, Province of China</td>\n",
       "      <td>Q</td>\n",
       "      <td>HB</td>\n",
       "      <td>1</td>\n",
       "      <td>2921759</td>\n",
       "      <td>3.620147</td>\n",
       "    </tr>\n",
       "    <tr>\n",
       "      <th>32</th>\n",
       "      <td>United States</td>\n",
       "      <td>Q</td>\n",
       "      <td>HB</td>\n",
       "      <td>1</td>\n",
       "      <td>2947731</td>\n",
       "      <td>4.032388</td>\n",
       "    </tr>\n",
       "    <tr>\n",
       "      <th>33</th>\n",
       "      <td>Viet Nam</td>\n",
       "      <td>Q</td>\n",
       "      <td>HB</td>\n",
       "      <td>1</td>\n",
       "      <td>2890058</td>\n",
       "      <td>3.269079</td>\n",
       "    </tr>\n",
       "  </tbody>\n",
       "</table>\n",
       "<p>102 rows × 6 columns</p>\n",
       "</div>"
      ],
      "text/plain": [
       "                 country_name round beatmap_type beatmap_tag    score  \\\n",
       "0                   Argentina     Q           RC           1  2975973   \n",
       "1                   Australia     Q           RC           1  2980836   \n",
       "2                     Belgium     Q           RC           1  2983513   \n",
       "3                      Brazil     Q           RC           1  2993464   \n",
       "4                      Canada     Q           RC           1  2981094   \n",
       "..                        ...   ...          ...         ...      ...   \n",
       "29                   Thailand     Q           HB           1  2938037   \n",
       "30                     Turkey     Q           HB           1  2864382   \n",
       "31  Taiwan, Province of China     Q           HB           1  2921759   \n",
       "32              United States     Q           HB           1  2947731   \n",
       "33                   Viet Nam     Q           HB           1  2890058   \n",
       "\n",
       "    score_logit  \n",
       "0      4.819148  \n",
       "1      5.046926  \n",
       "2      5.198285  \n",
       "3      6.126861  \n",
       "4      5.060566  \n",
       "..          ...  \n",
       "29     3.858960  \n",
       "30     3.050266  \n",
       "31     3.620147  \n",
       "32     4.032388  \n",
       "33     3.269079  \n",
       "\n",
       "[102 rows x 6 columns]"
      ]
     },
     "execution_count": 4,
     "metadata": {},
     "output_type": "execute_result"
    }
   ],
   "source": [
    "qual_data"
   ]
  },
  {
   "cell_type": "markdown",
   "metadata": {},
   "source": [
    "### Dataset Transformation\n",
    "Currently, a single country's score on a single stage is populated on each row. However, this is not the format required to fit in the model - We will need the scores for each stage to be populated in a single row, for each country. This is where the 'get_table' function from the inbuilt 'utils' module comes into play; it provides a quick and easy way for us to present the data in this required format for the logistic regression model.\n",
    "\n",
    "Furthermore, an integer label was introduced to every team that made it past RO16; this is to counter the lack of a timestamp or any form of unbiased X-axis that could possibly represent the scaling of difficulty over each of the rounds."
   ]
  },
  {
   "cell_type": "code",
   "execution_count": 5,
   "metadata": {},
   "outputs": [],
   "source": [
    "team_finalrd.index = team_finalrd[\"country_name\"]\n",
    "qual_scores_table = get_table(qual_data)"
   ]
  },
  {
   "cell_type": "code",
   "execution_count": 6,
   "metadata": {},
   "outputs": [
    {
     "name": "stdout",
     "output_type": "stream",
     "text": [
      "                      Q_RC_1    Q_LN_1    Q_HB_1\n",
      "Argentina           4.819148  3.000425  3.576483\n",
      "Australia           5.046926  3.116724  3.670724\n",
      "Belgium             5.198285  3.405876  3.731808\n",
      "Brazil              6.126861  4.415284  4.713861\n",
      "Canada              5.060566  2.859818  3.384376\n",
      "Switzerland         4.239259  2.493175  2.863859\n",
      "China               5.448966  3.318993  3.629824\n",
      "Germany             5.287426  3.198382  3.615342\n",
      "Dominican Republic  4.711442  3.073595  3.143412\n",
      "Spain               4.795019  2.670776  3.289168\n"
     ]
    }
   ],
   "source": [
    "print(qual_scores_table.head(n = 10))"
   ]
  },
  {
   "cell_type": "code",
   "execution_count": 7,
   "metadata": {},
   "outputs": [
    {
     "name": "stdout",
     "output_type": "stream",
     "text": [
      "                          country_name country_code  last_rdint\n",
      "country_name                                                   \n",
      "Argentina                    Argentina           AR           1\n",
      "Australia                    Australia           AU           1\n",
      "Belgium                        Belgium           BE           3\n",
      "Brazil                          Brazil           BR           6\n",
      "Canada                          Canada           CA           1\n",
      "Switzerland                Switzerland           CH           1\n",
      "China                            China           CN           2\n",
      "Germany                        Germany           DE           3\n",
      "Dominican Republic  Dominican Republic           DO           1\n",
      "Spain                            Spain           ES           1\n"
     ]
    }
   ],
   "source": [
    "print(team_finalrd.head(n = 10))"
   ]
  },
  {
   "cell_type": "markdown",
   "metadata": {},
   "source": [
    "### Selection of Solvers for Logistic Regression:\n",
    "With all the data prepared, we can finally proceed with the data analysis. As the super uneducated student as I (Poly) am, I will first experiment with everything we can get our hands dirty with.\n",
    "\n",
    "So you might question, what is a *solver*?\n",
    "\n",
    "To put it simply, *solvers* are tools we use in logistic regression. These *solvers* use a variety of methods to solve for the coefficients with the least error in predicting whether an event happens in all observations; Loosely speaking, we will attempt to find a *solver* among the 6 introduced below that provides the highest accuracy in predicting whether each team survives the round in question, and obtain the coefficients attached to each of the team's scores. These coefficients give us an idea of whether the stage in question significantly affects the chances of a team surviving beyond a round. The higher this coefficient is, the more effect the stage has on a team surviving the specific round! \n",
    "\n",
    "Now we shall look into each of the 6 solvers. They will be covered in as little detail as required to understand the differences between the performance of each model, and a more specific explanation can be found [here](https://stackoverflow.com/questions/38640109/logistic-regression-python-solvers-definitions#:~:text=It's%20a%20linear%20classification%20that,coordinate%20directions%20or%20coordinate%20hyperplanes.).\n",
    "\n",
    "#### L1/L2 Stochastic Average Gradient (SAG), and its Alternate Model (SAGA)\n",
    "For these 3 models, the Stochastic Average Gradient (SAG) model is used. Like other Stochastic Gradient Descent (SGD) methods, this solver implements an iterative method to solve for the parameters of the model by \"smoothening\" fluctuations in data points through approximation. Additionally, it also allocates some memory to remember the previous gradient values approximated by the model, so it spends much lesser time calculating and converging to the final solution. This solver is more effective for logistic regression involving a few (sparse) dependent variables, and across a larger dataset.\n",
    "\n",
    "- It is also to be noted that our dataset for 4DM4 is rather small; this model may in fact not be as effective.\n",
    "\n",
    "The SAG model also has a variant SAGA, which supports a non-smooth penalty L1 term alongside L2. Both L1 and L2 penalty terms are used to tune and refine a function such that the final coefficients consider extreme values to a much lower extent, increasing its accuracy in predicting the correct parameters. \n",
    "\n",
    "In which case, both L1 and L2 penalty terms are attempted because I suck lol.\n",
    "\n",
    "#### L2 Newton\n",
    "Newton's Method, on the other hand, solves for the parameters by taking steps closer to the final parameters, through a method that allows the model to be approximated as a quadratic equation. This makes use of both the first and second partial derivatives, utilising the Hessian matrix. This process repeats until the minimum/maximum point is achieved, and parameters are determined.\n",
    "\n",
    "This method requires more computing power due to the implementation of the Hessian Matrix in its solver. \n",
    "\n",
    "#### L2 Limited-memory Broyden-FLetcher-Goldfarb-Shanno (L-BFGS)\n",
    "The L-BFGS model could be said to be a rehash of the Newton Method. However, the model reverses the computations made by the Hessian Matrix, by using an inverse of itself.\n",
    "\n",
    "- It is to be noted that this model will not work if the Hessian Matrix is singular (i.e. not invertible).\n",
    "\n",
    "- This model is however predicted to have the best performance compared to other methods, as it saves up lots of memory on smaller datasets. For our application, this could be the best use case.\n",
    "\n",
    "#### L2 Large Linear Classification\n",
    "This Linear Classification model applies L1 Regularization techniques along with linear support vector machines, allowing the solver to work on datasets with higher dimensions (i.e. datasets with more than 3 variables. The more, the better it performs relative to other models.)\n",
    "\n",
    "- This generally does not run efficiently with the relatively small amount of data obtained for this project."
   ]
  },
  {
   "cell_type": "markdown",
   "metadata": {},
   "source": [
    "### Implementation of Models\n",
    "The models as introduced, will be implemented into the code now.\n",
    "\n",
    "Furthermore, the hyperparameter C is introduced to the model; This *C hyperparameter* adds a penalty for each misclassified data point.\n",
    "- If C is larger, the penalty is low so a decision with a large margin for error is introduced at the expense of misclassification. In other words, the model is more forgiving towards misclassifications, but also tends to run foul. A larger C parameter would be more relevant for futureproof models, and could possibly work better if we end up having to deal with scores from participants that we have never seen in the context of a tournament like 4DM.\n",
    "\n",
    "- If C is smaller, the model is stricter, and classifies better. However, it also runs the risk of 'overtuning' itself to the data already introduced, and may not know how to react when faced with new data that causes breaks in the boundaries of the model's logic. \n",
    "\n",
    "In this iteration of the analysis, the C hyperparameter is set to a relatively high penalty value of 10."
   ]
  },
  {
   "cell_type": "code",
   "execution_count": 8,
   "metadata": {},
   "outputs": [],
   "source": [
    "#selection of models for logistic regression;\n",
    "C = 10\n",
    "classifiers = {\n",
    "    \"L1 logistic\": LogisticRegression(\n",
    "        C=C, penalty=\"l1\", solver=\"saga\", multi_class=\"ovr\", max_iter=10000\n",
    "    ),\n",
    "    \"L2 logistic (OvR)\": LogisticRegression(\n",
    "        C=C, penalty=\"l2\", solver=\"saga\", multi_class=\"ovr\", max_iter=10000\n",
    "    ),\n",
    "    \"L2 L-BFGS\": LogisticRegression(\n",
    "        C=C, penalty=\"l2\", solver=\"lbfgs\", multi_class=\"ovr\", max_iter=10000\n",
    "    ),\n",
    "    \"L2 Newton\": LogisticRegression(\n",
    "        C=C, penalty=\"l2\", solver=\"newton-cg\", multi_class=\"ovr\", max_iter=10000\n",
    "    ),\n",
    "    \"L2 Large Linear Classification\": LogisticRegression(\n",
    "        C=C, penalty=\"l2\", solver=\"liblinear\", multi_class=\"ovr\", max_iter=10000\n",
    "    ),\n",
    "    \"L2 Stochastic Average Gradient\": LogisticRegression(\n",
    "        C=C, penalty=\"l2\", solver=\"sag\", multi_class=\"ovr\", max_iter=10000\n",
    "    )\n",
    "}"
   ]
  },
  {
   "cell_type": "markdown",
   "metadata": {},
   "source": [
    "### Analysis\n",
    "The previously prepared data will now be fit into each of the 6 models.\n",
    "\n",
    "A couple of functions were implemented to better facilitate the analysis of the model parameters for each round:\n",
    "- \"rd_regression\": This takes a round and its corresponding integer. This integer is compared to the last_round integer for each of the teams, and if both integers are the same, the team is declared dead after the round has concluded. \n",
    "\n",
    "- A column \"alive_afterrd\" is also introduced to the data, which will show whether the team survived the round in question (0 for no, and 1 for yes). In which case, if both round integers are the same, a team will be marked a 0, and if the team's last round int is greater, then they are marked a 1. This forms the independent variable the model is supposed to predict.\n",
    "\n",
    "- for each classifier in the 6 classifier models, the data is fit into the classifier, and the model parameters are yielded and saved into a dataframe for easier viewing and visualization later on.\n",
    "\n",
    "- The codeline that prints the Coefficient Matrix (a comparison between correct/incorrect Positive and Negative classifications) obtained by running the obtained model across the same data used to train the model (due to very limited size of data obtained) is also included but not run; feel free to uncomment and print this!"
   ]
  },
  {
   "cell_type": "code",
   "execution_count": 9,
   "metadata": {},
   "outputs": [],
   "source": [
    "#disable warnings that will fill up the output\n",
    "pd.options.mode.chained_assignment = None\n",
    "\n",
    "#fit qualiiers scores for each team as X, whether they survived in round (binary 0/1) as Y\n",
    "def rd_regression(round):\n",
    "    team_alive = team_finalrd[team_finalrd[\"last_rdint\"] >= interested_rds[round]-1] #include all teams who advanced to the current round in iteration\n",
    "    qual_scores_team = qual_scores_table[qual_scores_table.index.isin(team_alive[\"country_name\"].unique().tolist())]\n",
    "    team_alive[\"alive_afterrd\"] = team_alive.last_rdint.apply(lambda x: 0 if int(x) == interested_rds[round] else 1)\n",
    "    team_alive.loc[team_alive[\"country_name\"] == \"Philippines\", \"alive_afterrd\"] = 1 #France is technically the only country to advance from GF as the winner of the tournament\n",
    "    X, y = qual_scores_team, team_alive[\"alive_afterrd\"].ravel()\n",
    "    X_train, X_test, y_train, y_test = X, X, y, y\n",
    "    \n",
    "    #generate table with all exponentiated coefficients for each independent variable i.e. each stage\n",
    "    fin = pd.DataFrame(columns = [\"Round\", \"Classifier\", \"Q_RC1\", \"Q_LN1\", \"Q_HB1\", \"Intercept\"])\n",
    "    for index, (name, classifier) in enumerate(classifiers.items()):\n",
    "        res = pd.DataFrame(columns = [\"Round\", \"Classifier\", \"Q_RC1\", \"Q_LN1\", \"Q_HB1\", \"Intercept\"])\n",
    "        classifier.fit(X_train, y_train)\n",
    "        y_pred = classifier.predict(X_test)\n",
    "        cnf_matrix = metrics.confusion_matrix(y_test, y_pred)\n",
    "        #print(f\"Confusion Matrix: \\n{cnf_matrix}\")\n",
    "        coefs_arr = np.exp(classifier.coef_).flatten().tolist()\n",
    "        coefs_arr.insert(0, name)\n",
    "        coefs_arr.insert(0, round)\n",
    "        coefs_arr.append(classifier.intercept_[0])\n",
    "        res.loc[len(res)] = coefs_arr\n",
    "        fin = pd.concat([fin, res], axis = 0, ignore_index = True)\n",
    "    fin.index.rename(f'{round}', inplace=True)\n",
    "    return fin"
   ]
  },
  {
   "cell_type": "markdown",
   "metadata": {},
   "source": [
    "### Analysis II\n",
    "From here, we make use of the 'rd_regression' model to obtain a table including the parameters and intercept of the final model with the least error in predicting the survival rate of each team in 4DM based off their qualifier scores. This is looped through for every round.\n",
    "\n",
    "The results are available for each of the 6 models included in the analysis; however, after checking their evaluative metrics (making use of the [Coefficient Matrix](http://scikit-learn.org/stable/modules/generated/sklearn.metrics.confusion_matrix.html)), both the Newton and L-BFGS solvers better predicted the survival rates of teams across each of the bracket rounds (starting from RO16 as no countries were eliminated before that).\n",
    "\n",
    "After a discussion with HowToPLayLN, we decided that the Newton model would be more robust in terms of calculation, thus considering the small number of data points in this dataset we decided to have the Newton solver's results be used for the final data analysis."
   ]
  },
  {
   "cell_type": "code",
   "execution_count": 10,
   "metadata": {},
   "outputs": [],
   "source": [
    "interested_rds = {\"GS\": 1, \"QF\": 3, \"SF\": 4, \"F\": 5, \"GF\": 6}    \n",
    "result = pd.DataFrame(columns = [\"Round\", \"Classifier\", \"Q_RC1\", \"Q_LN1\", \"Q_HB1\", \"Intercept\"])\n",
    "for rd in interested_rds:\n",
    "    models_rd = rd_regression(rd)\n",
    "    result = pd.concat([result, models_rd], axis = 0, ignore_index = True)\n",
    "\n",
    "newton = result[result[\"Classifier\"] == \"L2 Newton\"]"
   ]
  },
  {
   "cell_type": "markdown",
   "metadata": {},
   "source": [
    "### Data Visualization\n",
    "The parameters for each of the stages relative to each round is plotted on a line graph:\n",
    "- Q_RC1 stands for [Antihero [Stage 2: Defiance]](https://osu.ppy.sh/beatmapsets/1665428#mania/3399967),\n",
    "- Q_RC2 stands for [Fury [Stage 4: Conflagration]](https://osu.ppy.sh/beatmapsets/1665436#mania/3399979),\n",
    "- Q_LN1 stands for [Transform (Original Mix) [Stage 3: Homeomorphism]](https://osu.ppy.sh/beatmapsets/1665269#mania/3399628),\n",
    "- Q_HB1 stands for [HIVEMIND [Stage 5: Controlled Chaos]](https://osu.ppy.sh/beatmapsets/1665442#mania/3399992)"
   ]
  },
  {
   "cell_type": "code",
   "execution_count": 11,
   "metadata": {},
   "outputs": [
    {
     "name": "stdout",
     "output_type": "stream",
     "text": [
      "    Round Classifier     Q_RC1      Q_LN1     Q_HB1  Intercept\n",
      "3       1  L2 Newton  2.193943   1.475144  4.581896 -10.417435\n",
      "9       3  L2 Newton  2.494569  18.870479  1.368126 -14.677905\n",
      "15      4  L2 Newton  0.622720   1.848488  1.998744  -1.963261\n",
      "21      5  L2 Newton  1.655804   0.115672  0.367432  10.757683\n",
      "27      6  L2 Newton  0.451930   1.718874  0.767957   4.017446\n"
     ]
    },
    {
     "data": {
      "image/png": "[encoded data removed]",
      "text/plain": [
       "<Figure size 432x288 with 1 Axes>"
      ]
     },
     "metadata": {
      "needs_background": "light"
     },
     "output_type": "display_data"
    }
   ],
   "source": [
    "#re-convert rounds to their respective integers for plotting, too lazy to use actual Datetime kappa\n",
    "newton[\"Round\"] = newton[\"Round\"].map(interested_rds)\n",
    "\n",
    "print(newton)\n",
    "\n",
    "plotted_stg = [\"Q_RC1\", \"Q_LN1\", \"Q_HB1\"]\n",
    "for stage in plotted_stg:\n",
    "    x, y = newton[\"Round\"], newton[f\"{stage}\"]\n",
    "    plt.plot(x, y, label = f\"{stage}\")\n",
    "    \n",
    "plt.xlabel(\"Stage\")\n",
    "plt.ylabel(\"Exponentiated Coefficients\")\n",
    "plt.legend(loc = \"upper left\")\n",
    "plt.show()"
   ]
  },
  {
   "cell_type": "markdown",
   "metadata": {},
   "source": [
    "### Observations\n",
    "This is actually an interesting result to behold. There are a couple of reasons why this is pretty unexpected:\n",
    "- Stage 3 (Q_LN1) is an LN map that tests both versatility in early-game and mid-game density patterns; it's high significance from RO16 to QF makes lots of sense, and is validated by the model as well. Its slow increase in later rounds is slightly interesting, but a future topic for discussion.\n",
    "\n",
    "- Stage 2 does, in fact, play a huge significance in earlier rounds (highest parameter in RO16 / round int 1). It is after all meant to be the accuracy qualifier; If you had good accuracy and MA ratio on Stage 2, this would have directly translated into a good result in the earlier rounds, such as RO16 (this could have been even higher in RO32).\n",
    "\n",
    "- However, it is also pretty unexpected that Stage 2's significance in determining if a team wins the tournament is also in the 10s. It is generally expected that the set of parameters gradually decrease as the round integers increase, since qualifiers are designated to only test skillsets in the early-midgame, and play a much smaller significance at later rounds where high scores/ratios take the backseat for consistency and combo skill.\n",
    "\n",
    "- In fact, Stage 4 (Q_RC2) was expected to be the stage with the highest parameter going into the later rounds. It does peak in significance at QF, which makes some sense since the midgame pools were designated in a way to differentiate teams with players of sufficient endurance levels with decent accuracy.\n",
    "\n",
    "- On the end of Stage 5 (Q_HB1), it was expected to peak in significance and represent a difficulty between QF and SF. This does seem to be represented in the predicted model parameters, as the parameter value increases from QF to SF, and maintains a stable decrease in value over SF to GF. \n",
    "\n",
    "- It is, of course, slightly perplexing that the parameter of Stage 5 on RO16 seemed to match that of Stage 2. This stage is not accuracy-oriented, or mapped in a way for it to be accuracy-friendly. Perhaps it is because the teams who did well on this Stage also had very strong base accuracy, but this is something that could be debatable upon reconcillation with the statistics sheet from 4DM4.\n",
    "\n",
    "### Conclusions\n",
    "There are general trends that the logistic regression model with the Newton solver seemed to get right, especially the significance of the stages tallying up well with its intended difficulty initially declared by the charters.\n",
    "\n",
    "However, some fluctuations towards the later rounds were large, but not unexpected; with much lesser matches happening following each of the later stages, it is pretty difficult for the model to fit with the bigger picture. This could also mean that teams that made it to later rounds would singlehandedly spike/drop the significance of specific stages just based on the qualifier stages they did exceptionally well in. These are unfortunately limitations with the data that can be generated while in the context of a tournament; few matches at the later stages are bound to happen."
   ]
  },
  {
   "cell_type": "markdown",
   "metadata": {},
   "source": [
    "### Limitations\n",
    "\n",
    "As aforementioned, the limited amount of data pertaining to team-based tournaments (and specifically 4DM4) limits the effectiveness of the model as we advance on into later rounds.\n",
    "\n",
    "- It may be possible to tackle this with dummy data or by collecting more data from possible showmatches between 4DM4 players using each of the pools. On the other hand, a tournament condition for the human is difficult to replicate in a normal practice session (including the presence of nerves, and technical issues), which inherently still poses a problem to data that we could possibly collect to improve the predictions of the model."
   ]
  },
  {
   "cell_type": "markdown",
   "metadata": {},
   "source": [
    "### Potential areas of development\n",
    "\n",
    "This data analysis could be scaled up to no-rank limit tournaments, to expand on the player pool and thus number of scores we could possibly obtain for running the same analysis. Qualifier pools could be compared against one another on the same scale, and grouped into specific difficulty levels and skillsets.\n",
    "\n",
    "### Thoughts\n",
    "\n",
    "I hope it was interesting to see me (lowkey) suffer on this analysis. It was really a day's worth of code, with 2-3 days of puzzling about the results with HTPLN. \n",
    "\n",
    "If this analysis interests you and you are interested to know how your tournament mappools/operations could benefit from statistical analysis, contact me or HowToPlayLN on Discord for more details :))))\n",
    "\n",
    "-Poly"
   ]
  }
 ],
 "metadata": {
  "kernelspec": {
   "display_name": "Python 3.10.4 64-bit",
   "language": "python",
   "name": "python3"
  },
  "language_info": {
   "codemirror_mode": {
    "name": "ipython",
    "version": 3
   },
   "file_extension": ".py",
   "mimetype": "text/x-python",
   "name": "python",
   "nbconvert_exporter": "python",
   "pygments_lexer": "ipython3",
   "version": "3.10.4"
  },
  "orig_nbformat": 4,
  "vscode": {
   "interpreter": {
    "hash": "a9cff5a362bc38ef45d817ae74b1af54d6a076e3d773891282bce078b815ba34"
   }
  }
 },
 "nbformat": 4,
 "nbformat_minor": 2
}
