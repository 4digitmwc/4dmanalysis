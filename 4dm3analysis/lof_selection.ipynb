{
 "cells": [
  {
   "cell_type": "markdown",
   "metadata": {},
   "source": [
    "# Outlier Detection of 4 Digit MWC 4 Players using Tournament Scores"
   ]
  },
  {
   "cell_type": "code",
   "execution_count": 1,
   "metadata": {},
   "outputs": [],
   "source": [
    "import os\n",
    "\n",
    "os.chdir(\"..\")"
   ]
  },
  {
   "cell_type": "code",
   "execution_count": 2,
   "metadata": {},
   "outputs": [],
   "source": [
    "import pandas as pd\n",
    "import matplotlib.pyplot as plt\n",
    "import numpy as np"
   ]
  },
  {
   "cell_type": "code",
   "execution_count": 3,
   "metadata": {},
   "outputs": [],
   "source": [
    "from utils.lof import LOF\n",
    "from utils.metrics import nan_euclidean, elastic_nan_euclidean\n",
    "from utils import get_table_players"
   ]
  },
  {
   "cell_type": "code",
   "execution_count": 4,
   "metadata": {},
   "outputs": [],
   "source": [
    "from utils import Dataset"
   ]
  },
  {
   "cell_type": "code",
   "execution_count": 5,
   "metadata": {},
   "outputs": [],
   "source": [
    "euclidean_regularized = elastic_nan_euclidean(1, 0.5, 0.5)\n",
    "euclidean_ridge = elastic_nan_euclidean(1, 0.5, 0)\n",
    "euclidean_lasso = elastic_nan_euclidean(1, 0, 0.5)"
   ]
  },
  {
   "cell_type": "code",
   "execution_count": 6,
   "metadata": {},
   "outputs": [],
   "source": [
    "_4dm4_impute = Dataset('datasets/4dm3.db')"
   ]
  },
  {
   "cell_type": "code",
   "execution_count": 7,
   "metadata": {},
   "outputs": [],
   "source": [
    "_4dm4_data = _4dm4_impute.select('scores', columns=['player_name', 'round', 'beatmap_type', 'beatmap_tag', 'score_logit'], where={\n",
    "    'beatmap_type': ['LN', 'RC', 'HB'],\n",
    "})"
   ]
  },
  {
   "cell_type": "code",
   "execution_count": 8,
   "metadata": {},
   "outputs": [],
   "source": [
    "_4dm4_table = get_table_players(_4dm4_data)"
   ]
  },
  {
   "cell_type": "code",
   "execution_count": 9,
   "metadata": {},
   "outputs": [],
   "source": [
    "standardized_4dm = pd.DataFrame(index=_4dm4_table.index)"
   ]
  },
  {
   "cell_type": "code",
   "execution_count": 10,
   "metadata": {},
   "outputs": [],
   "source": [
    "for col in _4dm4_table.columns:\n",
    "    mu = np.nanmean(_4dm4_table[col]); sigma = np.nanstd(_4dm4_table[col], ddof=1)\n",
    "    standardized_4dm[col] = _4dm4_table[col].apply(lambda x: (x - mu) / sigma)"
   ]
  },
  {
   "cell_type": "code",
   "execution_count": 11,
   "metadata": {},
   "outputs": [
    {
     "data": {
      "text/html": [
       "<div>\n",
       "<style scoped>\n",
       "    .dataframe tbody tr th:only-of-type {\n",
       "        vertical-align: middle;\n",
       "    }\n",
       "\n",
       "    .dataframe tbody tr th {\n",
       "        vertical-align: top;\n",
       "    }\n",
       "\n",
       "    .dataframe thead th {\n",
       "        text-align: right;\n",
       "    }\n",
       "</style>\n",
       "<table border=\"1\" class=\"dataframe\">\n",
       "  <thead>\n",
       "    <tr style=\"text-align: right;\">\n",
       "      <th></th>\n",
       "      <th>Q_RC_1</th>\n",
       "      <th>Q_LN_1</th>\n",
       "      <th>Q_HB_1</th>\n",
       "      <th>GS_RC_1</th>\n",
       "      <th>GS_RC_2</th>\n",
       "      <th>GS_RC_4</th>\n",
       "      <th>GS_LN_1</th>\n",
       "      <th>GS_LN_2</th>\n",
       "      <th>GS_HB_1</th>\n",
       "      <th>RO16_RC_4</th>\n",
       "      <th>...</th>\n",
       "      <th>GF_RC_6</th>\n",
       "      <th>GF_RC_7</th>\n",
       "      <th>GF_LN_1</th>\n",
       "      <th>GF_LN_2</th>\n",
       "      <th>GF_LN_3</th>\n",
       "      <th>GF_HB_2</th>\n",
       "      <th>QF_LN_1</th>\n",
       "      <th>SF_HB_1</th>\n",
       "      <th>GF_HB_3</th>\n",
       "      <th>RO16_HB_2</th>\n",
       "    </tr>\n",
       "  </thead>\n",
       "  <tbody>\n",
       "    <tr>\n",
       "      <th>Scep</th>\n",
       "      <td>2.017505</td>\n",
       "      <td>0.218490</td>\n",
       "      <td>0.713758</td>\n",
       "      <td>2.240486</td>\n",
       "      <td>-1.315069</td>\n",
       "      <td>2.130158</td>\n",
       "      <td>0.531339</td>\n",
       "      <td>0.605757</td>\n",
       "      <td>2.026246</td>\n",
       "      <td>2.219624</td>\n",
       "      <td>...</td>\n",
       "      <td>NaN</td>\n",
       "      <td>NaN</td>\n",
       "      <td>NaN</td>\n",
       "      <td>NaN</td>\n",
       "      <td>NaN</td>\n",
       "      <td>NaN</td>\n",
       "      <td>NaN</td>\n",
       "      <td>NaN</td>\n",
       "      <td>NaN</td>\n",
       "      <td>NaN</td>\n",
       "    </tr>\n",
       "    <tr>\n",
       "      <th>Chiara</th>\n",
       "      <td>1.127118</td>\n",
       "      <td>0.243935</td>\n",
       "      <td>1.123565</td>\n",
       "      <td>0.612993</td>\n",
       "      <td>2.363380</td>\n",
       "      <td>1.193031</td>\n",
       "      <td>NaN</td>\n",
       "      <td>NaN</td>\n",
       "      <td>NaN</td>\n",
       "      <td>NaN</td>\n",
       "      <td>...</td>\n",
       "      <td>NaN</td>\n",
       "      <td>NaN</td>\n",
       "      <td>NaN</td>\n",
       "      <td>NaN</td>\n",
       "      <td>NaN</td>\n",
       "      <td>NaN</td>\n",
       "      <td>NaN</td>\n",
       "      <td>NaN</td>\n",
       "      <td>NaN</td>\n",
       "      <td>NaN</td>\n",
       "    </tr>\n",
       "    <tr>\n",
       "      <th>Paturages</th>\n",
       "      <td>2.371593</td>\n",
       "      <td>NaN</td>\n",
       "      <td>NaN</td>\n",
       "      <td>1.017415</td>\n",
       "      <td>1.030878</td>\n",
       "      <td>1.458316</td>\n",
       "      <td>NaN</td>\n",
       "      <td>NaN</td>\n",
       "      <td>NaN</td>\n",
       "      <td>NaN</td>\n",
       "      <td>...</td>\n",
       "      <td>NaN</td>\n",
       "      <td>NaN</td>\n",
       "      <td>NaN</td>\n",
       "      <td>NaN</td>\n",
       "      <td>NaN</td>\n",
       "      <td>NaN</td>\n",
       "      <td>NaN</td>\n",
       "      <td>NaN</td>\n",
       "      <td>NaN</td>\n",
       "      <td>NaN</td>\n",
       "    </tr>\n",
       "    <tr>\n",
       "      <th>2zi</th>\n",
       "      <td>2.227634</td>\n",
       "      <td>NaN</td>\n",
       "      <td>NaN</td>\n",
       "      <td>1.688407</td>\n",
       "      <td>0.869808</td>\n",
       "      <td>0.464348</td>\n",
       "      <td>NaN</td>\n",
       "      <td>NaN</td>\n",
       "      <td>NaN</td>\n",
       "      <td>NaN</td>\n",
       "      <td>...</td>\n",
       "      <td>NaN</td>\n",
       "      <td>NaN</td>\n",
       "      <td>NaN</td>\n",
       "      <td>NaN</td>\n",
       "      <td>NaN</td>\n",
       "      <td>NaN</td>\n",
       "      <td>NaN</td>\n",
       "      <td>NaN</td>\n",
       "      <td>NaN</td>\n",
       "      <td>NaN</td>\n",
       "    </tr>\n",
       "    <tr>\n",
       "      <th>ZayyKen</th>\n",
       "      <td>1.163159</td>\n",
       "      <td>0.790546</td>\n",
       "      <td>1.877259</td>\n",
       "      <td>2.346803</td>\n",
       "      <td>2.435073</td>\n",
       "      <td>1.507435</td>\n",
       "      <td>1.482213</td>\n",
       "      <td>NaN</td>\n",
       "      <td>2.449809</td>\n",
       "      <td>NaN</td>\n",
       "      <td>...</td>\n",
       "      <td>NaN</td>\n",
       "      <td>NaN</td>\n",
       "      <td>NaN</td>\n",
       "      <td>NaN</td>\n",
       "      <td>NaN</td>\n",
       "      <td>NaN</td>\n",
       "      <td>NaN</td>\n",
       "      <td>NaN</td>\n",
       "      <td>NaN</td>\n",
       "      <td>NaN</td>\n",
       "    </tr>\n",
       "  </tbody>\n",
       "</table>\n",
       "<p>5 rows × 60 columns</p>\n",
       "</div>"
      ],
      "text/plain": [
       "             Q_RC_1    Q_LN_1    Q_HB_1   GS_RC_1   GS_RC_2   GS_RC_4  \\\n",
       "Scep       2.017505  0.218490  0.713758  2.240486 -1.315069  2.130158   \n",
       "Chiara     1.127118  0.243935  1.123565  0.612993  2.363380  1.193031   \n",
       "Paturages  2.371593       NaN       NaN  1.017415  1.030878  1.458316   \n",
       "2zi        2.227634       NaN       NaN  1.688407  0.869808  0.464348   \n",
       "ZayyKen    1.163159  0.790546  1.877259  2.346803  2.435073  1.507435   \n",
       "\n",
       "            GS_LN_1   GS_LN_2   GS_HB_1  RO16_RC_4  ...  GF_RC_6  GF_RC_7  \\\n",
       "Scep       0.531339  0.605757  2.026246   2.219624  ...      NaN      NaN   \n",
       "Chiara          NaN       NaN       NaN        NaN  ...      NaN      NaN   \n",
       "Paturages       NaN       NaN       NaN        NaN  ...      NaN      NaN   \n",
       "2zi             NaN       NaN       NaN        NaN  ...      NaN      NaN   \n",
       "ZayyKen    1.482213       NaN  2.449809        NaN  ...      NaN      NaN   \n",
       "\n",
       "           GF_LN_1  GF_LN_2  GF_LN_3  GF_HB_2  QF_LN_1  SF_HB_1  GF_HB_3  \\\n",
       "Scep           NaN      NaN      NaN      NaN      NaN      NaN      NaN   \n",
       "Chiara         NaN      NaN      NaN      NaN      NaN      NaN      NaN   \n",
       "Paturages      NaN      NaN      NaN      NaN      NaN      NaN      NaN   \n",
       "2zi            NaN      NaN      NaN      NaN      NaN      NaN      NaN   \n",
       "ZayyKen        NaN      NaN      NaN      NaN      NaN      NaN      NaN   \n",
       "\n",
       "           RO16_HB_2  \n",
       "Scep             NaN  \n",
       "Chiara           NaN  \n",
       "Paturages        NaN  \n",
       "2zi              NaN  \n",
       "ZayyKen          NaN  \n",
       "\n",
       "[5 rows x 60 columns]"
      ]
     },
     "execution_count": 11,
     "metadata": {},
     "output_type": "execute_result"
    }
   ],
   "source": [
    "standardized_4dm.head()"
   ]
  },
  {
   "cell_type": "markdown",
   "metadata": {},
   "source": [
    "#### Implementing the Local Outlier Factor Model\n",
    "\n",
    "We then declare the model with n_neighbors (k) = 5 and use our defined Elastic Euclidean Distance as a Metric"
   ]
  },
  {
   "cell_type": "code",
   "execution_count": 12,
   "metadata": {},
   "outputs": [],
   "source": [
    "lof_elastic = LOF(5, euclidean_regularized)\n",
    "lof_ridge = LOF(5, euclidean_ridge)\n",
    "lof_lasso = LOF(5, euclidean_lasso)\n",
    "lof_euclidean = LOF(5, nan_euclidean)"
   ]
  },
  {
   "cell_type": "markdown",
   "metadata": {},
   "source": [
    "We then train and predict the Local Outlier Factor of each player, stored in `lof_values`"
   ]
  },
  {
   "cell_type": "code",
   "execution_count": 13,
   "metadata": {},
   "outputs": [],
   "source": [
    "lof_euclid_values = lof_euclidean.fit_predict(standardized_4dm.values)\n",
    "lof_ridge_values = lof_ridge.fit_predict(standardized_4dm.values)\n",
    "lof_lasso_values = lof_lasso.fit_predict(standardized_4dm.values)\n",
    "lof_elastic_values = lof_elastic.fit_predict(standardized_4dm.values)"
   ]
  },
  {
   "cell_type": "markdown",
   "metadata": {},
   "source": [
    "Then we map those in a `DataFrame` in order to assign players their Local Outlier Factors"
   ]
  },
  {
   "cell_type": "code",
   "execution_count": 14,
   "metadata": {},
   "outputs": [],
   "source": [
    "lof_4dm = pd.DataFrame(index=standardized_4dm.index)\n",
    "\n",
    "lof_4dm['lof_euclid'] = lof_euclid_values\n",
    "lof_4dm['lof_ridge'] = lof_ridge_values\n",
    "lof_4dm['lof_lasso'] = lof_lasso_values\n",
    "lof_4dm['lof_elastic'] = lof_elastic_values"
   ]
  },
  {
   "cell_type": "code",
   "execution_count": 15,
   "metadata": {},
   "outputs": [
    {
     "data": {
      "text/plain": [
       "Yuragi            32.442137\n",
       "ZayyKen           14.007038\n",
       "Scep              12.644152\n",
       "2fast4you98       12.474349\n",
       "[-Leon-]          11.538132\n",
       "diamondBIaze      10.268556\n",
       "-Deepdive-         7.944686\n",
       "Lenn               6.089169\n",
       "shokoha            6.056319\n",
       "palmEuEi           5.774850\n",
       "s_kolorowa         3.928856\n",
       "FastTapper         3.730110\n",
       "KamaTheCrimson     3.611701\n",
       "Zycrxd             3.489846\n",
       "Silicosis          3.459075\n",
       "Chiara             3.264232\n",
       "Name: lof_ridge, dtype: float64"
      ]
     },
     "execution_count": 15,
     "metadata": {},
     "output_type": "execute_result"
    }
   ],
   "source": [
    "lof_4dm.sort_values(by='lof_ridge', ascending=False).head(16)['lof_ridge']"
   ]
  },
  {
   "cell_type": "code",
   "execution_count": 16,
   "metadata": {},
   "outputs": [
    {
     "data": {
      "text/plain": [
       "Yuragi            11.540383\n",
       "ZayyKen            9.078184\n",
       "[-Leon-]           8.825753\n",
       "2fast4you98        8.110189\n",
       "Scep               6.982859\n",
       "diamondBIaze       6.055501\n",
       "shokoha            5.752285\n",
       "palmEuEi           5.459367\n",
       "Lenn               4.718796\n",
       "-Deepdive-         4.076386\n",
       "Expired112         3.834805\n",
       "s_kolorowa         3.815867\n",
       "Zycrxd             3.790274\n",
       "Silicosis          3.493307\n",
       "Ju1nY11            3.465471\n",
       "KamaTheCrimson     3.144138\n",
       "Name: lof_lasso, dtype: float64"
      ]
     },
     "execution_count": 16,
     "metadata": {},
     "output_type": "execute_result"
    }
   ],
   "source": [
    "lof_4dm.sort_values(by='lof_lasso', ascending=False).head(16)['lof_lasso']"
   ]
  },
  {
   "cell_type": "code",
   "execution_count": 17,
   "metadata": {},
   "outputs": [
    {
     "data": {
      "text/plain": [
       "Yuragi            21.912948\n",
       "ZayyKen           11.265944\n",
       "2fast4you98       10.105948\n",
       "[-Leon-]           9.980812\n",
       "Scep               9.750474\n",
       "diamondBIaze       8.100320\n",
       "-Deepdive-         5.956632\n",
       "shokoha            5.727935\n",
       "palmEuEi           5.527980\n",
       "Lenn               5.353600\n",
       "s_kolorowa         3.647358\n",
       "Silicosis          3.494408\n",
       "Zycrxd             3.461927\n",
       "KamaTheCrimson     3.303357\n",
       "FastTapper         3.176809\n",
       "Chiara             3.163687\n",
       "Name: lof_elastic, dtype: float64"
      ]
     },
     "execution_count": 17,
     "metadata": {},
     "output_type": "execute_result"
    }
   ],
   "source": [
    "lof_4dm.sort_values(by='lof_elastic', ascending=False).head(16)['lof_elastic']"
   ]
  },
  {
   "cell_type": "code",
   "execution_count": 18,
   "metadata": {},
   "outputs": [
    {
     "data": {
      "image/png": "[encoded data removed]",
      "text/plain": [
       "<Figure size 432x288 with 1 Axes>"
      ]
     },
     "metadata": {
      "needs_background": "light"
     },
     "output_type": "display_data"
    }
   ],
   "source": [
    "l_ridge = lof_4dm.sort_values(by='lof_ridge', ascending=False)['lof_ridge'].values\n",
    "l_lasso = lof_4dm.sort_values(by='lof_lasso', ascending=False)['lof_lasso'].values\n",
    "l_elastic = lof_4dm.sort_values(by='lof_elastic', ascending=False)['lof_elastic'].values\n",
    "l_euclid = lof_4dm.sort_values(by='lof_euclid', ascending=False)['lof_euclid'].values\n",
    "plt.plot(l_ridge, label=\"ridge\")\n",
    "plt.plot(l_lasso, label=\"lasso\")\n",
    "plt.plot(l_elastic, label=\"elastic\")\n",
    "plt.plot(l_euclid, label=\"euclidean\")\n",
    "plt.legend()\n",
    "plt.show()"
   ]
  },
  {
   "cell_type": "code",
   "execution_count": 19,
   "metadata": {},
   "outputs": [
    {
     "data": {
      "text/plain": [
       "<AxesSubplot:>"
      ]
     },
     "execution_count": 19,
     "metadata": {},
     "output_type": "execute_result"
    },
    {
     "data": {
      "image/png": "[encoded data removed]",
      "text/plain": [
       "<Figure size 432x288 with 1 Axes>"
      ]
     },
     "metadata": {
      "needs_background": "light"
     },
     "output_type": "display_data"
    }
   ],
   "source": [
    "lof_4dm.sort_values(by='lof_ridge', ascending=False).plot()"
   ]
  },
  {
   "cell_type": "code",
   "execution_count": 20,
   "metadata": {},
   "outputs": [
    {
     "data": {
      "text/plain": [
       "<AxesSubplot:>"
      ]
     },
     "execution_count": 20,
     "metadata": {},
     "output_type": "execute_result"
    },
    {
     "data": {
      "image/png": "[encoded data removed]",
      "text/plain": [
       "<Figure size 432x288 with 1 Axes>"
      ]
     },
     "metadata": {
      "needs_background": "light"
     },
     "output_type": "display_data"
    }
   ],
   "source": [
    "lof_4dm.sort_values(by='lof_lasso', ascending=False).plot()"
   ]
  },
  {
   "cell_type": "code",
   "execution_count": 21,
   "metadata": {},
   "outputs": [
    {
     "data": {
      "text/plain": [
       "<AxesSubplot:>"
      ]
     },
     "execution_count": 21,
     "metadata": {},
     "output_type": "execute_result"
    },
    {
     "data": {
      "image/png": "[encoded data removed]",
      "text/plain": [
       "<Figure size 432x288 with 1 Axes>"
      ]
     },
     "metadata": {
      "needs_background": "light"
     },
     "output_type": "display_data"
    }
   ],
   "source": [
    "lof_4dm.sort_values(by='lof_elastic', ascending=False).plot()"
   ]
  },
  {
   "cell_type": "code",
   "execution_count": 22,
   "metadata": {},
   "outputs": [
    {
     "data": {
      "text/plain": [
       "<AxesSubplot:>"
      ]
     },
     "execution_count": 22,
     "metadata": {},
     "output_type": "execute_result"
    },
    {
     "data": {
      "image/png": "[encoded data removed]",
      "text/plain": [
       "<Figure size 432x288 with 1 Axes>"
      ]
     },
     "metadata": {
      "needs_background": "light"
     },
     "output_type": "display_data"
    }
   ],
   "source": [
    "lof_4dm.sort_values(by='lof_euclid', ascending=False).plot()"
   ]
  },
  {
   "cell_type": "code",
   "execution_count": 23,
   "metadata": {},
   "outputs": [],
   "source": [
    "log_euclid = np.log(lof_4dm['lof_euclid'])\n",
    "log_ridge = np.log(lof_4dm['lof_ridge'])\n",
    "log_lasso = np.log(lof_4dm['lof_lasso'])\n",
    "log_elastic = np.log(lof_4dm['lof_elastic'])"
   ]
  },
  {
   "cell_type": "code",
   "execution_count": 24,
   "metadata": {},
   "outputs": [
    {
     "data": {
      "text/plain": [
       "(array([ 8., 26., 50., 47., 19., 17.,  4.,  4.,  3.,  2.]),\n",
       " array([-0.70678301, -0.40060066, -0.09441831,  0.21176404,  0.51794639,\n",
       "         0.82412874,  1.13031109,  1.43649345,  1.7426758 ,  2.04885815,\n",
       "         2.3550405 ]),\n",
       " <BarContainer object of 10 artists>)"
      ]
     },
     "execution_count": 24,
     "metadata": {},
     "output_type": "execute_result"
    },
    {
     "data": {
      "image/png": "[encoded data removed]",
      "text/plain": [
       "<Figure size 432x288 with 1 Axes>"
      ]
     },
     "metadata": {
      "needs_background": "light"
     },
     "output_type": "display_data"
    }
   ],
   "source": [
    "plt.hist(log_euclid)"
   ]
  },
  {
   "cell_type": "code",
   "execution_count": 25,
   "metadata": {},
   "outputs": [
    {
     "data": {
      "text/plain": [
       "(array([13., 18., 80., 34., 19.,  6.,  4.,  4.,  1.,  1.]),\n",
       " array([-1.11601513, -0.65646781, -0.19692048,  0.26262684,  0.72217417,\n",
       "         1.18172149,  1.64126881,  2.10081614,  2.56036346,  3.01991079,\n",
       "         3.47945811]),\n",
       " <BarContainer object of 10 artists>)"
      ]
     },
     "execution_count": 25,
     "metadata": {},
     "output_type": "execute_result"
    },
    {
     "data": {
      "image/png": "[encoded data removed]",
      "text/plain": [
       "<Figure size 432x288 with 1 Axes>"
      ]
     },
     "metadata": {
      "needs_background": "light"
     },
     "output_type": "display_data"
    }
   ],
   "source": [
    "plt.hist(log_ridge)"
   ]
  },
  {
   "cell_type": "code",
   "execution_count": 26,
   "metadata": {},
   "outputs": [
    {
     "data": {
      "text/plain": [
       "(array([ 4., 13., 14., 77., 32., 19.,  9.,  5.,  3.,  4.]),\n",
       " array([-1.24649568, -0.87726087, -0.50802606, -0.13879125,  0.23044356,\n",
       "         0.59967837,  0.96891317,  1.33814798,  1.70738279,  2.0766176 ,\n",
       "         2.44585241]),\n",
       " <BarContainer object of 10 artists>)"
      ]
     },
     "execution_count": 26,
     "metadata": {},
     "output_type": "execute_result"
    },
    {
     "data": {
      "image/png": "[encoded data removed]",
      "text/plain": [
       "<Figure size 432x288 with 1 Axes>"
      ]
     },
     "metadata": {
      "needs_background": "light"
     },
     "output_type": "display_data"
    }
   ],
   "source": [
    "plt.hist(log_lasso)"
   ]
  },
  {
   "cell_type": "code",
   "execution_count": 27,
   "metadata": {},
   "outputs": [
    {
     "data": {
      "text/plain": [
       "(array([ 9., 15., 66., 44., 24., 12.,  4.,  1.,  4.,  1.]),\n",
       " array([-1.15369999, -0.72962222, -0.30554445,  0.11853332,  0.54261109,\n",
       "         0.96668886,  1.39076663,  1.8148444 ,  2.23892217,  2.66299994,\n",
       "         3.08707771]),\n",
       " <BarContainer object of 10 artists>)"
      ]
     },
     "execution_count": 27,
     "metadata": {},
     "output_type": "execute_result"
    },
    {
     "data": {
      "image/png": "[encoded data removed]",
      "text/plain": [
       "<Figure size 432x288 with 1 Axes>"
      ]
     },
     "metadata": {
      "needs_background": "light"
     },
     "output_type": "display_data"
    }
   ],
   "source": [
    "plt.hist(log_elastic)"
   ]
  },
  {
   "cell_type": "code",
   "execution_count": 28,
   "metadata": {},
   "outputs": [
    {
     "name": "stdout",
     "output_type": "stream",
     "text": [
      "log euclid shapiro ShapiroResult(statistic=0.9311081171035767, pvalue=1.5042415668631293e-07)\n",
      "log ridge shapiro ShapiroResult(statistic=0.9064716696739197, pvalue=2.897222017850254e-09)\n",
      "log lasso shapiro ShapiroResult(statistic=0.9393380880355835, pvalue=6.766536557734071e-07)\n",
      "log elastic shapiro ShapiroResult(statistic=0.9196139574050903, pvalue=2.1747016631934457e-08)\n"
     ]
    }
   ],
   "source": [
    "from scipy.stats import shapiro\n",
    "\n",
    "print(\"log euclid shapiro\", shapiro(log_euclid))\n",
    "# there is no turning back, I have committed a normal distribution\n",
    "print(\"log ridge shapiro\", shapiro(log_ridge))\n",
    "print(\"log lasso shapiro\", shapiro(log_lasso))\n",
    "print(\"log elastic shapiro\", shapiro(log_elastic))"
   ]
  },
  {
   "cell_type": "code",
   "execution_count": 29,
   "metadata": {},
   "outputs": [
    {
     "data": {
      "text/plain": [
       "(1.4638301002295573, 1.3021845416261306, 1.3667200073440764)"
      ]
     },
     "execution_count": 29,
     "metadata": {},
     "output_type": "execute_result"
    }
   ],
   "source": [
    "right_ol_lof_ridge = np.mean(log_ridge) + 1.645 * np.std(log_ridge, ddof=1)\n",
    "right_ol_lof_lasso = np.mean(log_lasso) + 1.645 * np.std(log_lasso, ddof=1)\n",
    "right_ol_lof_elastic = np.mean(log_elastic) + 1.645 * np.std(log_elastic, ddof=1)\n",
    "\n",
    "right_ol_lof_ridge, right_ol_lof_lasso, right_ol_lof_elastic"
   ]
  },
  {
   "cell_type": "code",
   "execution_count": 30,
   "metadata": {},
   "outputs": [],
   "source": [
    "lof_4dm['log_ridge'] = log_ridge\n",
    "lof_4dm['log_lasso'] = log_lasso\n",
    "lof_4dm['log_elastic'] = log_elastic"
   ]
  },
  {
   "cell_type": "code",
   "execution_count": 31,
   "metadata": {},
   "outputs": [
    {
     "data": {
      "text/html": [
       "<div>\n",
       "<style scoped>\n",
       "    .dataframe tbody tr th:only-of-type {\n",
       "        vertical-align: middle;\n",
       "    }\n",
       "\n",
       "    .dataframe tbody tr th {\n",
       "        vertical-align: top;\n",
       "    }\n",
       "\n",
       "    .dataframe thead th {\n",
       "        text-align: right;\n",
       "    }\n",
       "</style>\n",
       "<table border=\"1\" class=\"dataframe\">\n",
       "  <thead>\n",
       "    <tr style=\"text-align: right;\">\n",
       "      <th></th>\n",
       "      <th>log_ridge</th>\n",
       "    </tr>\n",
       "  </thead>\n",
       "  <tbody>\n",
       "    <tr>\n",
       "      <th>Yuragi</th>\n",
       "      <td>3.479458</td>\n",
       "    </tr>\n",
       "    <tr>\n",
       "      <th>ZayyKen</th>\n",
       "      <td>2.639560</td>\n",
       "    </tr>\n",
       "    <tr>\n",
       "      <th>Scep</th>\n",
       "      <td>2.537195</td>\n",
       "    </tr>\n",
       "    <tr>\n",
       "      <th>2fast4you98</th>\n",
       "      <td>2.523674</td>\n",
       "    </tr>\n",
       "    <tr>\n",
       "      <th>[-Leon-]</th>\n",
       "      <td>2.445657</td>\n",
       "    </tr>\n",
       "    <tr>\n",
       "      <th>diamondBIaze</th>\n",
       "      <td>2.329086</td>\n",
       "    </tr>\n",
       "    <tr>\n",
       "      <th>-Deepdive-</th>\n",
       "      <td>2.072503</td>\n",
       "    </tr>\n",
       "    <tr>\n",
       "      <th>Lenn</th>\n",
       "      <td>1.806512</td>\n",
       "    </tr>\n",
       "    <tr>\n",
       "      <th>shokoha</th>\n",
       "      <td>1.801102</td>\n",
       "    </tr>\n",
       "    <tr>\n",
       "      <th>palmEuEi</th>\n",
       "      <td>1.753512</td>\n",
       "    </tr>\n",
       "  </tbody>\n",
       "</table>\n",
       "</div>"
      ],
      "text/plain": [
       "              log_ridge\n",
       "Yuragi         3.479458\n",
       "ZayyKen        2.639560\n",
       "Scep           2.537195\n",
       "2fast4you98    2.523674\n",
       "[-Leon-]       2.445657\n",
       "diamondBIaze   2.329086\n",
       "-Deepdive-     2.072503\n",
       "Lenn           1.806512\n",
       "shokoha        1.801102\n",
       "palmEuEi       1.753512"
      ]
     },
     "execution_count": 31,
     "metadata": {},
     "output_type": "execute_result"
    }
   ],
   "source": [
    "lof_4dm[['log_ridge']][lof_4dm['log_ridge'] > right_ol_lof_ridge].sort_values(by='log_ridge', ascending=False)"
   ]
  },
  {
   "cell_type": "code",
   "execution_count": 32,
   "metadata": {},
   "outputs": [
    {
     "data": {
      "text/html": [
       "<div>\n",
       "<style scoped>\n",
       "    .dataframe tbody tr th:only-of-type {\n",
       "        vertical-align: middle;\n",
       "    }\n",
       "\n",
       "    .dataframe tbody tr th {\n",
       "        vertical-align: top;\n",
       "    }\n",
       "\n",
       "    .dataframe thead th {\n",
       "        text-align: right;\n",
       "    }\n",
       "</style>\n",
       "<table border=\"1\" class=\"dataframe\">\n",
       "  <thead>\n",
       "    <tr style=\"text-align: right;\">\n",
       "      <th></th>\n",
       "      <th>log_lasso</th>\n",
       "    </tr>\n",
       "  </thead>\n",
       "  <tbody>\n",
       "    <tr>\n",
       "      <th>Yuragi</th>\n",
       "      <td>2.445852</td>\n",
       "    </tr>\n",
       "    <tr>\n",
       "      <th>ZayyKen</th>\n",
       "      <td>2.205874</td>\n",
       "    </tr>\n",
       "    <tr>\n",
       "      <th>[-Leon-]</th>\n",
       "      <td>2.177674</td>\n",
       "    </tr>\n",
       "    <tr>\n",
       "      <th>2fast4you98</th>\n",
       "      <td>2.093121</td>\n",
       "    </tr>\n",
       "    <tr>\n",
       "      <th>Scep</th>\n",
       "      <td>1.943458</td>\n",
       "    </tr>\n",
       "    <tr>\n",
       "      <th>diamondBIaze</th>\n",
       "      <td>1.800967</td>\n",
       "    </tr>\n",
       "    <tr>\n",
       "      <th>shokoha</th>\n",
       "      <td>1.749597</td>\n",
       "    </tr>\n",
       "    <tr>\n",
       "      <th>palmEuEi</th>\n",
       "      <td>1.697333</td>\n",
       "    </tr>\n",
       "    <tr>\n",
       "      <th>Lenn</th>\n",
       "      <td>1.551554</td>\n",
       "    </tr>\n",
       "    <tr>\n",
       "      <th>-Deepdive-</th>\n",
       "      <td>1.405211</td>\n",
       "    </tr>\n",
       "    <tr>\n",
       "      <th>Expired112</th>\n",
       "      <td>1.344119</td>\n",
       "    </tr>\n",
       "    <tr>\n",
       "      <th>s_kolorowa</th>\n",
       "      <td>1.339168</td>\n",
       "    </tr>\n",
       "    <tr>\n",
       "      <th>Zycrxd</th>\n",
       "      <td>1.332438</td>\n",
       "    </tr>\n",
       "  </tbody>\n",
       "</table>\n",
       "</div>"
      ],
      "text/plain": [
       "              log_lasso\n",
       "Yuragi         2.445852\n",
       "ZayyKen        2.205874\n",
       "[-Leon-]       2.177674\n",
       "2fast4you98    2.093121\n",
       "Scep           1.943458\n",
       "diamondBIaze   1.800967\n",
       "shokoha        1.749597\n",
       "palmEuEi       1.697333\n",
       "Lenn           1.551554\n",
       "-Deepdive-     1.405211\n",
       "Expired112     1.344119\n",
       "s_kolorowa     1.339168\n",
       "Zycrxd         1.332438"
      ]
     },
     "execution_count": 32,
     "metadata": {},
     "output_type": "execute_result"
    }
   ],
   "source": [
    "lof_4dm[['log_lasso']][lof_4dm['log_lasso'] > right_ol_lof_lasso].sort_values(by='log_lasso', ascending=False)"
   ]
  },
  {
   "cell_type": "code",
   "execution_count": 33,
   "metadata": {},
   "outputs": [
    {
     "data": {
      "text/html": [
       "<div>\n",
       "<style scoped>\n",
       "    .dataframe tbody tr th:only-of-type {\n",
       "        vertical-align: middle;\n",
       "    }\n",
       "\n",
       "    .dataframe tbody tr th {\n",
       "        vertical-align: top;\n",
       "    }\n",
       "\n",
       "    .dataframe thead th {\n",
       "        text-align: right;\n",
       "    }\n",
       "</style>\n",
       "<table border=\"1\" class=\"dataframe\">\n",
       "  <thead>\n",
       "    <tr style=\"text-align: right;\">\n",
       "      <th></th>\n",
       "      <th>log_elastic</th>\n",
       "    </tr>\n",
       "  </thead>\n",
       "  <tbody>\n",
       "    <tr>\n",
       "      <th>Yuragi</th>\n",
       "      <td>3.087078</td>\n",
       "    </tr>\n",
       "    <tr>\n",
       "      <th>ZayyKen</th>\n",
       "      <td>2.421784</td>\n",
       "    </tr>\n",
       "    <tr>\n",
       "      <th>2fast4you98</th>\n",
       "      <td>2.313124</td>\n",
       "    </tr>\n",
       "    <tr>\n",
       "      <th>[-Leon-]</th>\n",
       "      <td>2.300664</td>\n",
       "    </tr>\n",
       "    <tr>\n",
       "      <th>Scep</th>\n",
       "      <td>2.277316</td>\n",
       "    </tr>\n",
       "    <tr>\n",
       "      <th>diamondBIaze</th>\n",
       "      <td>2.091904</td>\n",
       "    </tr>\n",
       "    <tr>\n",
       "      <th>-Deepdive-</th>\n",
       "      <td>1.784505</td>\n",
       "    </tr>\n",
       "    <tr>\n",
       "      <th>shokoha</th>\n",
       "      <td>1.745355</td>\n",
       "    </tr>\n",
       "    <tr>\n",
       "      <th>palmEuEi</th>\n",
       "      <td>1.709823</td>\n",
       "    </tr>\n",
       "    <tr>\n",
       "      <th>Lenn</th>\n",
       "      <td>1.677769</td>\n",
       "    </tr>\n",
       "  </tbody>\n",
       "</table>\n",
       "</div>"
      ],
      "text/plain": [
       "              log_elastic\n",
       "Yuragi           3.087078\n",
       "ZayyKen          2.421784\n",
       "2fast4you98      2.313124\n",
       "[-Leon-]         2.300664\n",
       "Scep             2.277316\n",
       "diamondBIaze     2.091904\n",
       "-Deepdive-       1.784505\n",
       "shokoha          1.745355\n",
       "palmEuEi         1.709823\n",
       "Lenn             1.677769"
      ]
     },
     "execution_count": 33,
     "metadata": {},
     "output_type": "execute_result"
    }
   ],
   "source": [
    "lof_4dm[['log_elastic']][lof_4dm['log_elastic'] > right_ol_lof_elastic].sort_values(by='log_elastic', ascending=False)"
   ]
  },
  {
   "cell_type": "code",
   "execution_count": null,
   "metadata": {},
   "outputs": [],
   "source": []
  }
 ],
 "metadata": {
  "kernelspec": {
   "display_name": "Python 3.10.4 64-bit",
   "language": "python",
   "name": "python3"
  },
  "language_info": {
   "codemirror_mode": {
    "name": "ipython",
    "version": 3
   },
   "file_extension": ".py",
   "mimetype": "text/x-python",
   "name": "python",
   "nbconvert_exporter": "python",
   "pygments_lexer": "ipython3",
   "version": "3.10.4"
  },
  "orig_nbformat": 4,
  "vscode": {
   "interpreter": {
    "hash": "a9cff5a362bc38ef45d817ae74b1af54d6a076e3d773891282bce078b815ba34"
   }
  }
 },
 "nbformat": 4,
 "nbformat_minor": 2
}
