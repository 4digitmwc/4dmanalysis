{
 "cells": [
  {
   "cell_type": "markdown",
   "metadata": {},
   "source": [
    "# Outlier Detection of 4 Digit MWC 4 Players using Tournament Scores"
   ]
  },
  {
   "cell_type": "code",
   "execution_count": 1,
   "metadata": {},
   "outputs": [],
   "source": [
    "import os\n",
    "\n",
    "os.chdir(\"..\")"
   ]
  },
  {
   "cell_type": "code",
   "execution_count": 2,
   "metadata": {},
   "outputs": [],
   "source": [
    "import pandas as pd\n",
    "import matplotlib.pyplot as plt\n",
    "import numpy as np"
   ]
  },
  {
   "cell_type": "code",
   "execution_count": 3,
   "metadata": {},
   "outputs": [],
   "source": [
    "from utils.lof import LOF\n",
    "from utils.metrics import nan_euclidean, elastic_nan_euclidean\n",
    "from utils import get_table_players"
   ]
  },
  {
   "cell_type": "code",
   "execution_count": 4,
   "metadata": {},
   "outputs": [],
   "source": [
    "from utils import Dataset"
   ]
  },
  {
   "cell_type": "code",
   "execution_count": 5,
   "metadata": {},
   "outputs": [],
   "source": [
    "euclidean_regularized = elastic_nan_euclidean(1, 0.5, 0.5)\n",
    "euclidean_ridge = elastic_nan_euclidean(1, 0.5, 0)\n",
    "euclidean_lasso = elastic_nan_euclidean(1, 0, 0.5)"
   ]
  },
  {
   "cell_type": "code",
   "execution_count": 6,
   "metadata": {},
   "outputs": [],
   "source": [
    "_4dm4_impute = Dataset('datasets/4dm3.db')"
   ]
  },
  {
   "cell_type": "code",
   "execution_count": 7,
   "metadata": {},
   "outputs": [],
   "source": [
    "_4dm4_data = _4dm4_impute.select('scores', columns=['player_name', 'round', 'beatmap_type', 'beatmap_tag', 'score_logit'], where={\n",
    "    'beatmap_type': ['LN', 'RC', 'HB'],\n",
    "})"
   ]
  },
  {
   "cell_type": "code",
   "execution_count": 8,
   "metadata": {},
   "outputs": [],
   "source": [
    "_4dm4_table = get_table_players(_4dm4_data)"
   ]
  },
  {
   "cell_type": "code",
   "execution_count": 9,
   "metadata": {},
   "outputs": [],
   "source": [
    "standardized_4dm = pd.DataFrame(index=_4dm4_table.index)"
   ]
  },
  {
   "cell_type": "code",
   "execution_count": 10,
   "metadata": {},
   "outputs": [],
   "source": [
    "for col in _4dm4_table.columns:\n",
    "    mu = np.nanmean(_4dm4_table[col]); sigma = np.nanstd(_4dm4_table[col], ddof=1)\n",
    "    standardized_4dm[col] = _4dm4_table[col].apply(lambda x: (x - mu) / sigma)"
   ]
  },
  {
   "cell_type": "code",
   "execution_count": 11,
   "metadata": {},
   "outputs": [
    {
     "data": {
      "text/html": [
       "<div>\n",
       "<style scoped>\n",
       "    .dataframe tbody tr th:only-of-type {\n",
       "        vertical-align: middle;\n",
       "    }\n",
       "\n",
       "    .dataframe tbody tr th {\n",
       "        vertical-align: top;\n",
       "    }\n",
       "\n",
       "    .dataframe thead th {\n",
       "        text-align: right;\n",
       "    }\n",
       "</style>\n",
       "<table border=\"1\" class=\"dataframe\">\n",
       "  <thead>\n",
       "    <tr style=\"text-align: right;\">\n",
       "      <th></th>\n",
       "      <th>Q_RC_1</th>\n",
       "      <th>Q_RC_2</th>\n",
       "      <th>Q_LN_1</th>\n",
       "      <th>Q_HB_1</th>\n",
       "      <th>GS_RC_1</th>\n",
       "      <th>GS_RC_2</th>\n",
       "      <th>GS_RC_4</th>\n",
       "      <th>GS_LN_1</th>\n",
       "      <th>GS_LN_2</th>\n",
       "      <th>GS_HB_1</th>\n",
       "      <th>...</th>\n",
       "      <th>GF_RC_6</th>\n",
       "      <th>GF_RC_7</th>\n",
       "      <th>GF_LN_1</th>\n",
       "      <th>GF_LN_2</th>\n",
       "      <th>GF_LN_3</th>\n",
       "      <th>GF_HB_2</th>\n",
       "      <th>QF_LN_1</th>\n",
       "      <th>SF_HB_1</th>\n",
       "      <th>GF_HB_3</th>\n",
       "      <th>RO16_HB_2</th>\n",
       "    </tr>\n",
       "  </thead>\n",
       "  <tbody>\n",
       "    <tr>\n",
       "      <th>Scep</th>\n",
       "      <td>2.112750</td>\n",
       "      <td>2.462536</td>\n",
       "      <td>0.218490</td>\n",
       "      <td>0.713758</td>\n",
       "      <td>2.240486</td>\n",
       "      <td>-1.315069</td>\n",
       "      <td>2.130158</td>\n",
       "      <td>0.531339</td>\n",
       "      <td>0.605757</td>\n",
       "      <td>2.026246</td>\n",
       "      <td>...</td>\n",
       "      <td>NaN</td>\n",
       "      <td>NaN</td>\n",
       "      <td>NaN</td>\n",
       "      <td>NaN</td>\n",
       "      <td>NaN</td>\n",
       "      <td>NaN</td>\n",
       "      <td>NaN</td>\n",
       "      <td>NaN</td>\n",
       "      <td>NaN</td>\n",
       "      <td>NaN</td>\n",
       "    </tr>\n",
       "    <tr>\n",
       "      <th>Chiara</th>\n",
       "      <td>2.300720</td>\n",
       "      <td>1.480178</td>\n",
       "      <td>0.243935</td>\n",
       "      <td>1.123565</td>\n",
       "      <td>0.612993</td>\n",
       "      <td>2.363380</td>\n",
       "      <td>1.193031</td>\n",
       "      <td>NaN</td>\n",
       "      <td>NaN</td>\n",
       "      <td>NaN</td>\n",
       "      <td>...</td>\n",
       "      <td>NaN</td>\n",
       "      <td>NaN</td>\n",
       "      <td>NaN</td>\n",
       "      <td>NaN</td>\n",
       "      <td>NaN</td>\n",
       "      <td>NaN</td>\n",
       "      <td>NaN</td>\n",
       "      <td>NaN</td>\n",
       "      <td>NaN</td>\n",
       "      <td>NaN</td>\n",
       "    </tr>\n",
       "    <tr>\n",
       "      <th>Paturages</th>\n",
       "      <td>2.010649</td>\n",
       "      <td>NaN</td>\n",
       "      <td>NaN</td>\n",
       "      <td>NaN</td>\n",
       "      <td>1.017415</td>\n",
       "      <td>1.030878</td>\n",
       "      <td>1.458316</td>\n",
       "      <td>NaN</td>\n",
       "      <td>NaN</td>\n",
       "      <td>NaN</td>\n",
       "      <td>...</td>\n",
       "      <td>NaN</td>\n",
       "      <td>NaN</td>\n",
       "      <td>NaN</td>\n",
       "      <td>NaN</td>\n",
       "      <td>NaN</td>\n",
       "      <td>NaN</td>\n",
       "      <td>NaN</td>\n",
       "      <td>NaN</td>\n",
       "      <td>NaN</td>\n",
       "      <td>NaN</td>\n",
       "    </tr>\n",
       "    <tr>\n",
       "      <th>2zi</th>\n",
       "      <td>1.797106</td>\n",
       "      <td>NaN</td>\n",
       "      <td>NaN</td>\n",
       "      <td>NaN</td>\n",
       "      <td>1.688407</td>\n",
       "      <td>0.869808</td>\n",
       "      <td>0.464348</td>\n",
       "      <td>NaN</td>\n",
       "      <td>NaN</td>\n",
       "      <td>NaN</td>\n",
       "      <td>...</td>\n",
       "      <td>NaN</td>\n",
       "      <td>NaN</td>\n",
       "      <td>NaN</td>\n",
       "      <td>NaN</td>\n",
       "      <td>NaN</td>\n",
       "      <td>NaN</td>\n",
       "      <td>NaN</td>\n",
       "      <td>NaN</td>\n",
       "      <td>NaN</td>\n",
       "      <td>NaN</td>\n",
       "    </tr>\n",
       "    <tr>\n",
       "      <th>ZayyKen</th>\n",
       "      <td>1.298636</td>\n",
       "      <td>1.519942</td>\n",
       "      <td>0.790546</td>\n",
       "      <td>1.877259</td>\n",
       "      <td>2.346803</td>\n",
       "      <td>2.435073</td>\n",
       "      <td>1.507435</td>\n",
       "      <td>1.482213</td>\n",
       "      <td>NaN</td>\n",
       "      <td>2.449809</td>\n",
       "      <td>...</td>\n",
       "      <td>NaN</td>\n",
       "      <td>NaN</td>\n",
       "      <td>NaN</td>\n",
       "      <td>NaN</td>\n",
       "      <td>NaN</td>\n",
       "      <td>NaN</td>\n",
       "      <td>NaN</td>\n",
       "      <td>NaN</td>\n",
       "      <td>NaN</td>\n",
       "      <td>NaN</td>\n",
       "    </tr>\n",
       "  </tbody>\n",
       "</table>\n",
       "<p>5 rows × 61 columns</p>\n",
       "</div>"
      ],
      "text/plain": [
       "             Q_RC_1    Q_RC_2    Q_LN_1    Q_HB_1   GS_RC_1   GS_RC_2  \\\n",
       "Scep       2.112750  2.462536  0.218490  0.713758  2.240486 -1.315069   \n",
       "Chiara     2.300720  1.480178  0.243935  1.123565  0.612993  2.363380   \n",
       "Paturages  2.010649       NaN       NaN       NaN  1.017415  1.030878   \n",
       "2zi        1.797106       NaN       NaN       NaN  1.688407  0.869808   \n",
       "ZayyKen    1.298636  1.519942  0.790546  1.877259  2.346803  2.435073   \n",
       "\n",
       "            GS_RC_4   GS_LN_1   GS_LN_2   GS_HB_1  ...  GF_RC_6  GF_RC_7  \\\n",
       "Scep       2.130158  0.531339  0.605757  2.026246  ...      NaN      NaN   \n",
       "Chiara     1.193031       NaN       NaN       NaN  ...      NaN      NaN   \n",
       "Paturages  1.458316       NaN       NaN       NaN  ...      NaN      NaN   \n",
       "2zi        0.464348       NaN       NaN       NaN  ...      NaN      NaN   \n",
       "ZayyKen    1.507435  1.482213       NaN  2.449809  ...      NaN      NaN   \n",
       "\n",
       "           GF_LN_1  GF_LN_2  GF_LN_3  GF_HB_2  QF_LN_1  SF_HB_1  GF_HB_3  \\\n",
       "Scep           NaN      NaN      NaN      NaN      NaN      NaN      NaN   \n",
       "Chiara         NaN      NaN      NaN      NaN      NaN      NaN      NaN   \n",
       "Paturages      NaN      NaN      NaN      NaN      NaN      NaN      NaN   \n",
       "2zi            NaN      NaN      NaN      NaN      NaN      NaN      NaN   \n",
       "ZayyKen        NaN      NaN      NaN      NaN      NaN      NaN      NaN   \n",
       "\n",
       "           RO16_HB_2  \n",
       "Scep             NaN  \n",
       "Chiara           NaN  \n",
       "Paturages        NaN  \n",
       "2zi              NaN  \n",
       "ZayyKen          NaN  \n",
       "\n",
       "[5 rows x 61 columns]"
      ]
     },
     "execution_count": 11,
     "metadata": {},
     "output_type": "execute_result"
    }
   ],
   "source": [
    "standardized_4dm.head()"
   ]
  },
  {
   "cell_type": "markdown",
   "metadata": {},
   "source": [
    "#### Implementing the Local Outlier Factor Model\n",
    "\n",
    "We then declare the model with n_neighbors (k) = 5 and use our defined Elastic Euclidean Distance as a Metric"
   ]
  },
  {
   "cell_type": "code",
   "execution_count": 12,
   "metadata": {},
   "outputs": [],
   "source": [
    "lof_elastic = LOF(5, euclidean_regularized)\n",
    "lof_ridge = LOF(5, euclidean_ridge)\n",
    "lof_lasso = LOF(5, euclidean_lasso)\n",
    "lof_euclidean = LOF(5, nan_euclidean)"
   ]
  },
  {
   "cell_type": "markdown",
   "metadata": {},
   "source": [
    "We then train and predict the Local Outlier Factor of each player, stored in `lof_values`"
   ]
  },
  {
   "cell_type": "code",
   "execution_count": 13,
   "metadata": {},
   "outputs": [],
   "source": [
    "lof_euclid_values = lof_euclidean.fit_predict(standardized_4dm.values)\n",
    "lof_ridge_values = lof_ridge.fit_predict(standardized_4dm.values)\n",
    "lof_lasso_values = lof_lasso.fit_predict(standardized_4dm.values)\n",
    "lof_elastic_values = lof_elastic.fit_predict(standardized_4dm.values)"
   ]
  },
  {
   "cell_type": "markdown",
   "metadata": {},
   "source": [
    "Then we map those in a `DataFrame` in order to assign players their Local Outlier Factors"
   ]
  },
  {
   "cell_type": "code",
   "execution_count": 14,
   "metadata": {},
   "outputs": [],
   "source": [
    "lof_4dm = pd.DataFrame(index=standardized_4dm.index)\n",
    "\n",
    "lof_4dm['lof_euclid'] = lof_euclid_values\n",
    "lof_4dm['lof_ridge'] = lof_ridge_values\n",
    "lof_4dm['lof_lasso'] = lof_lasso_values\n",
    "lof_4dm['lof_elastic'] = lof_elastic_values"
   ]
  },
  {
   "cell_type": "code",
   "execution_count": 15,
   "metadata": {},
   "outputs": [
    {
     "data": {
      "text/plain": [
       "Yuragi            19.158322\n",
       "Scep              15.971805\n",
       "diamondBIaze       8.530337\n",
       "ZayyKen            8.509223\n",
       "[-Leon-]           7.760614\n",
       "2fast4you98        6.539114\n",
       "Lenn               5.781118\n",
       "-Deepdive-         5.359462\n",
       "Zycrxd             5.264531\n",
       "2zi                4.051843\n",
       "FastTapper         3.984379\n",
       "Chiara             3.973648\n",
       "s_kolorowa         3.709374\n",
       "NightNarumi        3.458794\n",
       "palmEuEi           3.388741\n",
       "KamaTheCrimson     3.237596\n",
       "Name: lof_ridge, dtype: float64"
      ]
     },
     "execution_count": 15,
     "metadata": {},
     "output_type": "execute_result"
    }
   ],
   "source": [
    "lof_4dm.sort_values(by='lof_ridge', ascending=False).head(16)['lof_ridge']"
   ]
  },
  {
   "cell_type": "code",
   "execution_count": 16,
   "metadata": {},
   "outputs": [
    {
     "data": {
      "text/plain": [
       "Scep            8.447126\n",
       "Yuragi          6.859503\n",
       "[-Leon-]        6.470086\n",
       "diamondBIaze    5.594109\n",
       "ZayyKen         5.386482\n",
       "Lenn            5.115319\n",
       "2fast4you98     4.977885\n",
       "Zycrxd          4.073037\n",
       "palmEuEi        4.035253\n",
       "s_kolorowa      3.420664\n",
       "Chiara          3.409332\n",
       "shokoha         3.258509\n",
       "FastTapper      3.241646\n",
       "Ju1nY11         3.217208\n",
       "Silicosis       3.144054\n",
       "2zi             3.094205\n",
       "Name: lof_lasso, dtype: float64"
      ]
     },
     "execution_count": 16,
     "metadata": {},
     "output_type": "execute_result"
    }
   ],
   "source": [
    "lof_4dm.sort_values(by='lof_lasso', ascending=False).head(16)['lof_lasso']"
   ]
  },
  {
   "cell_type": "code",
   "execution_count": 17,
   "metadata": {},
   "outputs": [
    {
     "data": {
      "text/plain": [
       "Yuragi            13.046493\n",
       "Scep              12.122661\n",
       "diamondBIaze       7.013562\n",
       "[-Leon-]           7.006151\n",
       "ZayyKen            6.701084\n",
       "2fast4you98        5.673555\n",
       "Lenn               5.296673\n",
       "Zycrxd             4.640061\n",
       "-Deepdive-         4.150494\n",
       "Chiara             3.680769\n",
       "FastTapper         3.615011\n",
       "2zi                3.601434\n",
       "palmEuEi           3.591022\n",
       "s_kolorowa         3.344116\n",
       "KamaTheCrimson     3.114720\n",
       "shokoha            3.101066\n",
       "Name: lof_elastic, dtype: float64"
      ]
     },
     "execution_count": 17,
     "metadata": {},
     "output_type": "execute_result"
    }
   ],
   "source": [
    "lof_4dm.sort_values(by='lof_elastic', ascending=False).head(16)['lof_elastic']"
   ]
  },
  {
   "cell_type": "code",
   "execution_count": 18,
   "metadata": {},
   "outputs": [
    {
     "data": {
      "image/png": "[encoded data removed]",
      "text/plain": [
       "<Figure size 432x288 with 1 Axes>"
      ]
     },
     "metadata": {
      "needs_background": "light"
     },
     "output_type": "display_data"
    }
   ],
   "source": [
    "l_ridge = lof_4dm.sort_values(by='lof_ridge', ascending=False)['lof_ridge'].values\n",
    "l_lasso = lof_4dm.sort_values(by='lof_lasso', ascending=False)['lof_lasso'].values\n",
    "l_elastic = lof_4dm.sort_values(by='lof_elastic', ascending=False)['lof_elastic'].values\n",
    "l_euclid = lof_4dm.sort_values(by='lof_euclid', ascending=False)['lof_euclid'].values\n",
    "plt.plot(l_ridge, label=\"ridge\")\n",
    "plt.plot(l_lasso, label=\"lasso\")\n",
    "plt.plot(l_elastic, label=\"elastic\")\n",
    "plt.plot(l_euclid, label=\"euclidean\")\n",
    "plt.legend()\n",
    "plt.show()"
   ]
  },
  {
   "cell_type": "code",
   "execution_count": 19,
   "metadata": {},
   "outputs": [
    {
     "data": {
      "text/plain": [
       "<AxesSubplot:>"
      ]
     },
     "execution_count": 19,
     "metadata": {},
     "output_type": "execute_result"
    },
    {
     "data": {
      "image/png": "[encoded data removed]",
      "text/plain": [
       "<Figure size 432x288 with 1 Axes>"
      ]
     },
     "metadata": {
      "needs_background": "light"
     },
     "output_type": "display_data"
    }
   ],
   "source": [
    "lof_4dm.sort_values(by='lof_ridge', ascending=False).plot()"
   ]
  },
  {
   "cell_type": "code",
   "execution_count": 20,
   "metadata": {},
   "outputs": [
    {
     "data": {
      "text/plain": [
       "<AxesSubplot:>"
      ]
     },
     "execution_count": 20,
     "metadata": {},
     "output_type": "execute_result"
    },
    {
     "data": {
      "image/png": "[encoded data removed]",
      "text/plain": [
       "<Figure size 432x288 with 1 Axes>"
      ]
     },
     "metadata": {
      "needs_background": "light"
     },
     "output_type": "display_data"
    }
   ],
   "source": [
    "lof_4dm.sort_values(by='lof_lasso', ascending=False).plot()"
   ]
  },
  {
   "cell_type": "code",
   "execution_count": 21,
   "metadata": {},
   "outputs": [
    {
     "data": {
      "text/plain": [
       "<AxesSubplot:>"
      ]
     },
     "execution_count": 21,
     "metadata": {},
     "output_type": "execute_result"
    },
    {
     "data": {
      "image/png": "[encoded data removed]",
      "text/plain": [
       "<Figure size 432x288 with 1 Axes>"
      ]
     },
     "metadata": {
      "needs_background": "light"
     },
     "output_type": "display_data"
    }
   ],
   "source": [
    "lof_4dm.sort_values(by='lof_elastic', ascending=False).plot()"
   ]
  },
  {
   "cell_type": "code",
   "execution_count": 22,
   "metadata": {},
   "outputs": [
    {
     "data": {
      "text/plain": [
       "<AxesSubplot:>"
      ]
     },
     "execution_count": 22,
     "metadata": {},
     "output_type": "execute_result"
    },
    {
     "data": {
      "image/png": "[encoded data removed]",
      "text/plain": [
       "<Figure size 432x288 with 1 Axes>"
      ]
     },
     "metadata": {
      "needs_background": "light"
     },
     "output_type": "display_data"
    }
   ],
   "source": [
    "lof_4dm.sort_values(by='lof_euclid', ascending=False).plot()"
   ]
  },
  {
   "cell_type": "code",
   "execution_count": 23,
   "metadata": {},
   "outputs": [],
   "source": [
    "log_euclid = np.log(lof_4dm['lof_euclid'])\n",
    "log_ridge = np.log(lof_4dm['lof_ridge'])\n",
    "log_lasso = np.log(lof_4dm['lof_lasso'])\n",
    "log_elastic = np.log(lof_4dm['lof_elastic'])"
   ]
  },
  {
   "cell_type": "code",
   "execution_count": 24,
   "metadata": {},
   "outputs": [
    {
     "data": {
      "text/plain": [
       "(array([ 4., 11., 40., 57., 36., 11.,  8.,  4.,  6.,  3.]),\n",
       " array([-0.83872093, -0.55037418, -0.26202742,  0.02631933,  0.31466608,\n",
       "         0.60301284,  0.89135959,  1.17970634,  1.4680531 ,  1.75639985,\n",
       "         2.04474661]),\n",
       " <BarContainer object of 10 artists>)"
      ]
     },
     "execution_count": 24,
     "metadata": {},
     "output_type": "execute_result"
    },
    {
     "data": {
      "image/png": "[encoded data removed]",
      "text/plain": [
       "<Figure size 432x288 with 1 Axes>"
      ]
     },
     "metadata": {
      "needs_background": "light"
     },
     "output_type": "display_data"
    }
   ],
   "source": [
    "plt.hist(log_euclid)"
   ]
  },
  {
   "cell_type": "code",
   "execution_count": 25,
   "metadata": {},
   "outputs": [
    {
     "data": {
      "text/plain": [
       "(array([ 8., 15., 49., 55., 31.,  9.,  6.,  3.,  2.,  2.]),\n",
       " array([-1.28286641, -0.85930605, -0.43574569, -0.01218533,  0.41137503,\n",
       "         0.83493539,  1.25849575,  1.68205611,  2.10561647,  2.52917683,\n",
       "         2.95273719]),\n",
       " <BarContainer object of 10 artists>)"
      ]
     },
     "execution_count": 25,
     "metadata": {},
     "output_type": "execute_result"
    },
    {
     "data": {
      "image/png": "[encoded data removed]",
      "text/plain": [
       "<Figure size 432x288 with 1 Axes>"
      ]
     },
     "metadata": {
      "needs_background": "light"
     },
     "output_type": "display_data"
    }
   ],
   "source": [
    "plt.hist(log_ridge)"
   ]
  },
  {
   "cell_type": "code",
   "execution_count": 26,
   "metadata": {},
   "outputs": [
    {
     "data": {
      "text/plain": [
       "(array([ 5., 10., 27., 56., 41., 17., 10.,  7.,  4.,  3.]),\n",
       " array([-1.14030345, -0.81289048, -0.48547751, -0.15806454,  0.16934843,\n",
       "         0.49676141,  0.82417438,  1.15158735,  1.47900032,  1.8064133 ,\n",
       "         2.13382627]),\n",
       " <BarContainer object of 10 artists>)"
      ]
     },
     "execution_count": 26,
     "metadata": {},
     "output_type": "execute_result"
    },
    {
     "data": {
      "image/png": "[encoded data removed]",
      "text/plain": [
       "<Figure size 432x288 with 1 Axes>"
      ]
     },
     "metadata": {
      "needs_background": "light"
     },
     "output_type": "display_data"
    }
   ],
   "source": [
    "plt.hist(log_lasso)"
   ]
  },
  {
   "cell_type": "code",
   "execution_count": 27,
   "metadata": {},
   "outputs": [
    {
     "data": {
      "text/plain": [
       "(array([ 6., 17., 35., 58., 38.,  8., 10.,  3.,  3.,  2.]),\n",
       " array([-1.21637185, -0.83788273, -0.45939361, -0.08090449,  0.29758463,\n",
       "         0.67607375,  1.05456287,  1.43305199,  1.81154111,  2.19003023,\n",
       "         2.56851935]),\n",
       " <BarContainer object of 10 artists>)"
      ]
     },
     "execution_count": 27,
     "metadata": {},
     "output_type": "execute_result"
    },
    {
     "data": {
      "image/png": "[encoded data removed]",
      "text/plain": [
       "<Figure size 432x288 with 1 Axes>"
      ]
     },
     "metadata": {
      "needs_background": "light"
     },
     "output_type": "display_data"
    }
   ],
   "source": [
    "plt.hist(log_elastic)"
   ]
  },
  {
   "cell_type": "code",
   "execution_count": 28,
   "metadata": {},
   "outputs": [
    {
     "name": "stdout",
     "output_type": "stream",
     "text": [
      "log euclid shapiro ShapiroResult(statistic=0.9273519515991211, pvalue=7.83917926128197e-08)\n",
      "log ridge shapiro ShapiroResult(statistic=0.9357234835624695, pvalue=3.448927543558966e-07)\n",
      "log lasso shapiro ShapiroResult(statistic=0.954898476600647, pvalue=1.6376150597352535e-05)\n",
      "log elastic shapiro ShapiroResult(statistic=0.9432051181793213, pvalue=1.427293454980827e-06)\n"
     ]
    }
   ],
   "source": [
    "from scipy.stats import shapiro\n",
    "\n",
    "print(\"log euclid shapiro\", shapiro(log_euclid))\n",
    "# there is no turning back, I have committed a normal distribution\n",
    "print(\"log ridge shapiro\", shapiro(log_ridge))\n",
    "print(\"log lasso shapiro\", shapiro(log_lasso))\n",
    "print(\"log elastic shapiro\", shapiro(log_elastic))"
   ]
  },
  {
   "cell_type": "code",
   "execution_count": 29,
   "metadata": {},
   "outputs": [
    {
     "data": {
      "text/plain": [
       "(1.3212216857005865, 1.162050414756787, 1.231184445838811)"
      ]
     },
     "execution_count": 29,
     "metadata": {},
     "output_type": "execute_result"
    }
   ],
   "source": [
    "right_ol_lof_ridge = np.mean(log_ridge) + 1.645 * np.std(log_ridge, ddof=1)\n",
    "right_ol_lof_lasso = np.mean(log_lasso) + 1.645 * np.std(log_lasso, ddof=1)\n",
    "right_ol_lof_elastic = np.mean(log_elastic) + 1.645 * np.std(log_elastic, ddof=1)\n",
    "\n",
    "right_ol_lof_ridge, right_ol_lof_lasso, right_ol_lof_elastic"
   ]
  },
  {
   "cell_type": "code",
   "execution_count": 30,
   "metadata": {},
   "outputs": [],
   "source": [
    "lof_4dm['log_ridge'] = log_ridge\n",
    "lof_4dm['log_lasso'] = log_lasso\n",
    "lof_4dm['log_elastic'] = log_elastic"
   ]
  },
  {
   "cell_type": "code",
   "execution_count": 31,
   "metadata": {},
   "outputs": [
    {
     "data": {
      "text/html": [
       "<div>\n",
       "<style scoped>\n",
       "    .dataframe tbody tr th:only-of-type {\n",
       "        vertical-align: middle;\n",
       "    }\n",
       "\n",
       "    .dataframe tbody tr th {\n",
       "        vertical-align: top;\n",
       "    }\n",
       "\n",
       "    .dataframe thead th {\n",
       "        text-align: right;\n",
       "    }\n",
       "</style>\n",
       "<table border=\"1\" class=\"dataframe\">\n",
       "  <thead>\n",
       "    <tr style=\"text-align: right;\">\n",
       "      <th></th>\n",
       "      <th>log_ridge</th>\n",
       "    </tr>\n",
       "  </thead>\n",
       "  <tbody>\n",
       "    <tr>\n",
       "      <th>Yuragi</th>\n",
       "      <td>2.952737</td>\n",
       "    </tr>\n",
       "    <tr>\n",
       "      <th>Scep</th>\n",
       "      <td>2.770825</td>\n",
       "    </tr>\n",
       "    <tr>\n",
       "      <th>diamondBIaze</th>\n",
       "      <td>2.143629</td>\n",
       "    </tr>\n",
       "    <tr>\n",
       "      <th>ZayyKen</th>\n",
       "      <td>2.141151</td>\n",
       "    </tr>\n",
       "    <tr>\n",
       "      <th>[-Leon-]</th>\n",
       "      <td>2.049061</td>\n",
       "    </tr>\n",
       "    <tr>\n",
       "      <th>2fast4you98</th>\n",
       "      <td>1.877802</td>\n",
       "    </tr>\n",
       "    <tr>\n",
       "      <th>Lenn</th>\n",
       "      <td>1.754597</td>\n",
       "    </tr>\n",
       "    <tr>\n",
       "      <th>-Deepdive-</th>\n",
       "      <td>1.678864</td>\n",
       "    </tr>\n",
       "    <tr>\n",
       "      <th>Zycrxd</th>\n",
       "      <td>1.660992</td>\n",
       "    </tr>\n",
       "    <tr>\n",
       "      <th>2zi</th>\n",
       "      <td>1.399172</td>\n",
       "    </tr>\n",
       "    <tr>\n",
       "      <th>FastTapper</th>\n",
       "      <td>1.382381</td>\n",
       "    </tr>\n",
       "    <tr>\n",
       "      <th>Chiara</th>\n",
       "      <td>1.379685</td>\n",
       "    </tr>\n",
       "  </tbody>\n",
       "</table>\n",
       "</div>"
      ],
      "text/plain": [
       "              log_ridge\n",
       "Yuragi         2.952737\n",
       "Scep           2.770825\n",
       "diamondBIaze   2.143629\n",
       "ZayyKen        2.141151\n",
       "[-Leon-]       2.049061\n",
       "2fast4you98    1.877802\n",
       "Lenn           1.754597\n",
       "-Deepdive-     1.678864\n",
       "Zycrxd         1.660992\n",
       "2zi            1.399172\n",
       "FastTapper     1.382381\n",
       "Chiara         1.379685"
      ]
     },
     "execution_count": 31,
     "metadata": {},
     "output_type": "execute_result"
    }
   ],
   "source": [
    "lof_4dm[['log_ridge']][lof_4dm['log_ridge'] > right_ol_lof_ridge].sort_values(by='log_ridge', ascending=False)"
   ]
  },
  {
   "cell_type": "code",
   "execution_count": 32,
   "metadata": {},
   "outputs": [
    {
     "data": {
      "text/html": [
       "<div>\n",
       "<style scoped>\n",
       "    .dataframe tbody tr th:only-of-type {\n",
       "        vertical-align: middle;\n",
       "    }\n",
       "\n",
       "    .dataframe tbody tr th {\n",
       "        vertical-align: top;\n",
       "    }\n",
       "\n",
       "    .dataframe thead th {\n",
       "        text-align: right;\n",
       "    }\n",
       "</style>\n",
       "<table border=\"1\" class=\"dataframe\">\n",
       "  <thead>\n",
       "    <tr style=\"text-align: right;\">\n",
       "      <th></th>\n",
       "      <th>log_lasso</th>\n",
       "    </tr>\n",
       "  </thead>\n",
       "  <tbody>\n",
       "    <tr>\n",
       "      <th>Scep</th>\n",
       "      <td>2.133826</td>\n",
       "    </tr>\n",
       "    <tr>\n",
       "      <th>Yuragi</th>\n",
       "      <td>1.925635</td>\n",
       "    </tr>\n",
       "    <tr>\n",
       "      <th>[-Leon-]</th>\n",
       "      <td>1.867189</td>\n",
       "    </tr>\n",
       "    <tr>\n",
       "      <th>diamondBIaze</th>\n",
       "      <td>1.721714</td>\n",
       "    </tr>\n",
       "    <tr>\n",
       "      <th>ZayyKen</th>\n",
       "      <td>1.683893</td>\n",
       "    </tr>\n",
       "    <tr>\n",
       "      <th>Lenn</th>\n",
       "      <td>1.632240</td>\n",
       "    </tr>\n",
       "    <tr>\n",
       "      <th>2fast4you98</th>\n",
       "      <td>1.605005</td>\n",
       "    </tr>\n",
       "    <tr>\n",
       "      <th>Zycrxd</th>\n",
       "      <td>1.404389</td>\n",
       "    </tr>\n",
       "    <tr>\n",
       "      <th>palmEuEi</th>\n",
       "      <td>1.395069</td>\n",
       "    </tr>\n",
       "    <tr>\n",
       "      <th>s_kolorowa</th>\n",
       "      <td>1.229835</td>\n",
       "    </tr>\n",
       "    <tr>\n",
       "      <th>Chiara</th>\n",
       "      <td>1.226516</td>\n",
       "    </tr>\n",
       "    <tr>\n",
       "      <th>shokoha</th>\n",
       "      <td>1.181270</td>\n",
       "    </tr>\n",
       "    <tr>\n",
       "      <th>FastTapper</th>\n",
       "      <td>1.176081</td>\n",
       "    </tr>\n",
       "    <tr>\n",
       "      <th>Ju1nY11</th>\n",
       "      <td>1.168514</td>\n",
       "    </tr>\n",
       "  </tbody>\n",
       "</table>\n",
       "</div>"
      ],
      "text/plain": [
       "              log_lasso\n",
       "Scep           2.133826\n",
       "Yuragi         1.925635\n",
       "[-Leon-]       1.867189\n",
       "diamondBIaze   1.721714\n",
       "ZayyKen        1.683893\n",
       "Lenn           1.632240\n",
       "2fast4you98    1.605005\n",
       "Zycrxd         1.404389\n",
       "palmEuEi       1.395069\n",
       "s_kolorowa     1.229835\n",
       "Chiara         1.226516\n",
       "shokoha        1.181270\n",
       "FastTapper     1.176081\n",
       "Ju1nY11        1.168514"
      ]
     },
     "execution_count": 32,
     "metadata": {},
     "output_type": "execute_result"
    }
   ],
   "source": [
    "lof_4dm[['log_lasso']][lof_4dm['log_lasso'] > right_ol_lof_lasso].sort_values(by='log_lasso', ascending=False)"
   ]
  },
  {
   "cell_type": "code",
   "execution_count": 33,
   "metadata": {},
   "outputs": [
    {
     "data": {
      "text/html": [
       "<div>\n",
       "<style scoped>\n",
       "    .dataframe tbody tr th:only-of-type {\n",
       "        vertical-align: middle;\n",
       "    }\n",
       "\n",
       "    .dataframe tbody tr th {\n",
       "        vertical-align: top;\n",
       "    }\n",
       "\n",
       "    .dataframe thead th {\n",
       "        text-align: right;\n",
       "    }\n",
       "</style>\n",
       "<table border=\"1\" class=\"dataframe\">\n",
       "  <thead>\n",
       "    <tr style=\"text-align: right;\">\n",
       "      <th></th>\n",
       "      <th>log_elastic</th>\n",
       "    </tr>\n",
       "  </thead>\n",
       "  <tbody>\n",
       "    <tr>\n",
       "      <th>Yuragi</th>\n",
       "      <td>2.568519</td>\n",
       "    </tr>\n",
       "    <tr>\n",
       "      <th>Scep</th>\n",
       "      <td>2.495077</td>\n",
       "    </tr>\n",
       "    <tr>\n",
       "      <th>diamondBIaze</th>\n",
       "      <td>1.947846</td>\n",
       "    </tr>\n",
       "    <tr>\n",
       "      <th>[-Leon-]</th>\n",
       "      <td>1.946788</td>\n",
       "    </tr>\n",
       "    <tr>\n",
       "      <th>ZayyKen</th>\n",
       "      <td>1.902269</td>\n",
       "    </tr>\n",
       "    <tr>\n",
       "      <th>2fast4you98</th>\n",
       "      <td>1.735816</td>\n",
       "    </tr>\n",
       "    <tr>\n",
       "      <th>Lenn</th>\n",
       "      <td>1.667079</td>\n",
       "    </tr>\n",
       "    <tr>\n",
       "      <th>Zycrxd</th>\n",
       "      <td>1.534727</td>\n",
       "    </tr>\n",
       "    <tr>\n",
       "      <th>-Deepdive-</th>\n",
       "      <td>1.423227</td>\n",
       "    </tr>\n",
       "    <tr>\n",
       "      <th>Chiara</th>\n",
       "      <td>1.303122</td>\n",
       "    </tr>\n",
       "    <tr>\n",
       "      <th>FastTapper</th>\n",
       "      <td>1.285095</td>\n",
       "    </tr>\n",
       "    <tr>\n",
       "      <th>2zi</th>\n",
       "      <td>1.281332</td>\n",
       "    </tr>\n",
       "    <tr>\n",
       "      <th>palmEuEi</th>\n",
       "      <td>1.278437</td>\n",
       "    </tr>\n",
       "  </tbody>\n",
       "</table>\n",
       "</div>"
      ],
      "text/plain": [
       "              log_elastic\n",
       "Yuragi           2.568519\n",
       "Scep             2.495077\n",
       "diamondBIaze     1.947846\n",
       "[-Leon-]         1.946788\n",
       "ZayyKen          1.902269\n",
       "2fast4you98      1.735816\n",
       "Lenn             1.667079\n",
       "Zycrxd           1.534727\n",
       "-Deepdive-       1.423227\n",
       "Chiara           1.303122\n",
       "FastTapper       1.285095\n",
       "2zi              1.281332\n",
       "palmEuEi         1.278437"
      ]
     },
     "execution_count": 33,
     "metadata": {},
     "output_type": "execute_result"
    }
   ],
   "source": [
    "lof_4dm[['log_elastic']][lof_4dm['log_elastic'] > right_ol_lof_elastic].sort_values(by='log_elastic', ascending=False)"
   ]
  },
  {
   "cell_type": "code",
   "execution_count": null,
   "metadata": {},
   "outputs": [],
   "source": []
  }
 ],
 "metadata": {
  "kernelspec": {
   "display_name": "Python 3.10.4 64-bit",
   "language": "python",
   "name": "python3"
  },
  "language_info": {
   "codemirror_mode": {
    "name": "ipython",
    "version": 3
   },
   "file_extension": ".py",
   "mimetype": "text/x-python",
   "name": "python",
   "nbconvert_exporter": "python",
   "pygments_lexer": "ipython3",
   "version": "3.10.4"
  },
  "orig_nbformat": 4,
  "vscode": {
   "interpreter": {
    "hash": "a9cff5a362bc38ef45d817ae74b1af54d6a076e3d773891282bce078b815ba34"
   }
  }
 },
 "nbformat": 4,
 "nbformat_minor": 2
}
